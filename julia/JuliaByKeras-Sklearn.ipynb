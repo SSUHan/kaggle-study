{
 "cells": [
  {
   "cell_type": "markdown",
   "metadata": {},
   "source": [
    "## Keras cross validation with Sklearn\n",
    "\n",
    "http://machinelearningmastery.com/multi-class-classification-tutorial-keras-deep-learning-library/"
   ]
  },
  {
   "cell_type": "code",
   "execution_count": 1,
   "metadata": {
    "collapsed": false
   },
   "outputs": [
    {
     "name": "stderr",
     "output_type": "stream",
     "text": [
      "Using TensorFlow backend.\n"
     ]
    }
   ],
   "source": [
    "%matplotlib inline\n",
    "\n",
    "import pandas as pd\n",
    "import numpy as np\n",
    "import matplotlib.pyplot as plt\n",
    "import glob\n",
    "from PIL import Image\n",
    "from skimage.transform import resize\n",
    "from skimage.io import imread, imsave\n",
    "from sklearn.preprocessing import LabelEncoder\n",
    "import keras.utils.np_utils as kutils"
   ]
  },
  {
   "cell_type": "code",
   "execution_count": 2,
   "metadata": {
    "collapsed": false
   },
   "outputs": [
    {
     "data": {
      "text/html": [
       "<div>\n",
       "<table border=\"1\" class=\"dataframe\">\n",
       "  <thead>\n",
       "    <tr style=\"text-align: right;\">\n",
       "      <th></th>\n",
       "      <th>ID</th>\n",
       "      <th>Class</th>\n",
       "    </tr>\n",
       "  </thead>\n",
       "  <tbody>\n",
       "    <tr>\n",
       "      <th>0</th>\n",
       "      <td>1</td>\n",
       "      <td>n</td>\n",
       "    </tr>\n",
       "    <tr>\n",
       "      <th>1</th>\n",
       "      <td>2</td>\n",
       "      <td>8</td>\n",
       "    </tr>\n",
       "    <tr>\n",
       "      <th>2</th>\n",
       "      <td>3</td>\n",
       "      <td>T</td>\n",
       "    </tr>\n",
       "    <tr>\n",
       "      <th>3</th>\n",
       "      <td>4</td>\n",
       "      <td>I</td>\n",
       "    </tr>\n",
       "    <tr>\n",
       "      <th>4</th>\n",
       "      <td>5</td>\n",
       "      <td>R</td>\n",
       "    </tr>\n",
       "  </tbody>\n",
       "</table>\n",
       "</div>"
      ],
      "text/plain": [
       "   ID Class\n",
       "0   1     n\n",
       "1   2     8\n",
       "2   3     T\n",
       "3   4     I\n",
       "4   5     R"
      ]
     },
     "execution_count": 2,
     "metadata": {},
     "output_type": "execute_result"
    }
   ],
   "source": [
    "trainLabels = pd.read_csv('trainLabels.csv')\n",
    "trainLabels.head(5)"
   ]
  },
  {
   "cell_type": "code",
   "execution_count": 3,
   "metadata": {
    "collapsed": true
   },
   "outputs": [],
   "source": [
    "def plot_sample(x, axis, title):\n",
    "    # img = x.reshape(96,96)\n",
    "    axis.imshow(x, cmap='gray')\n",
    "    axis.axis('off')\n",
    "    axis.set_title(title)\n",
    "\n",
    "def draw_multi_plot(X, row_num=4, col_num=4, fig_size=(15,10)):\n",
    "    fig, axes = plt.subplots(nrows=row_num, ncols=col_num, figsize=fig_size)\n",
    "    i=0\n",
    "    for row in axes:\n",
    "        for each_ax in row:\n",
    "            plot_sample(X[i], each_ax, i)\n",
    "            i += 1\n",
    "    plt.tight_layout()"
   ]
  },
  {
   "cell_type": "code",
   "execution_count": 4,
   "metadata": {
    "collapsed": false
   },
   "outputs": [
    {
     "name": "stdout",
     "output_type": "stream",
     "text": [
      "trainX.shape (6283, 20, 20, 3)\n",
      "dummy_Y.shape (6283, 62)\n"
     ]
    }
   ],
   "source": [
    "trainX = []\n",
    "trainY_array = []\n",
    "trainFiles = glob.glob(\"myTrainResized/*\")\n",
    "for i, nameFile in enumerate(trainFiles):\n",
    "    # print(nameFile)\n",
    "    id_col = int(nameFile.split('/')[-1].split('.')[0])\n",
    "    trainY_array.append(trainLabels[trainLabels['ID'] == id_col]['Class'].item())\n",
    "    image = imread(nameFile)\n",
    "    trainX.append(image)\n",
    "trainX = np.array(trainX)\n",
    "print(\"trainX.shape\", trainX.shape)\n",
    "trainY = np.array(trainY_array)\n",
    "encoder = LabelEncoder()\n",
    "encoded_Y = encoder.fit_transform(trainY)\n",
    "dummy_Y = kutils.to_categorical(encoded_Y)\n",
    "print(\"dummy_Y.shape\", dummy_Y.shape)"
   ]
  },
  {
   "cell_type": "code",
   "execution_count": 5,
   "metadata": {
    "collapsed": false
   },
   "outputs": [
    {
     "data": {
      "text/plain": [
       "{'batch_size': 128,\n",
       " 'epoch': 1,\n",
       " 'filter1': 64,\n",
       " 'filter2': 128,\n",
       " 'filter3': 128,\n",
       " 'filter_size': 3,\n",
       " 'img_col': 20,\n",
       " 'img_row': 20}"
      ]
     },
     "execution_count": 5,
     "metadata": {},
     "output_type": "execute_result"
    }
   ],
   "source": [
    "def make_config(img_row, img_col, filter_size=3, epoch=1, batch_size=128, layer_filter1=32, layer_filter2=64, layer_filter3=128):\n",
    "    config_dict = {\n",
    "        \"epoch\":epoch,\n",
    "        \"batch_size\":batch_size,\n",
    "        \"img_row\":img_row,\n",
    "        \"img_col\":img_col,\n",
    "        \"filter_size\":filter_size,\n",
    "        \"filter1\":layer_filter1,\n",
    "        \"filter2\":layer_filter2,\n",
    "        \"filter3\":layer_filter3,\n",
    "    }\n",
    "    return config_dict\n",
    "config = make_config(20, 20, layer_filter1=64, layer_filter2=128)\n",
    "config"
   ]
  },
  {
   "cell_type": "code",
   "execution_count": 6,
   "metadata": {
    "collapsed": false
   },
   "outputs": [
    {
     "data": {
      "text/plain": [
       "62"
      ]
     },
     "execution_count": 6,
     "metadata": {},
     "output_type": "execute_result"
    }
   ],
   "source": [
    "class_size = dummy_Y.shape[1]\n",
    "class_size"
   ]
  },
  {
   "cell_type": "code",
   "execution_count": 7,
   "metadata": {
    "collapsed": true
   },
   "outputs": [],
   "source": [
    "import keras.models as kmodel\n",
    "import keras.layers.convolutional as conv\n",
    "import keras.layers.core as core\n",
    "from keras.wrappers.scikit_learn import KerasClassifier"
   ]
  },
  {
   "cell_type": "code",
   "execution_count": 8,
   "metadata": {
    "collapsed": false
   },
   "outputs": [],
   "source": [
    "# fix random seed for reproducibility\n",
    "seed = 7\n",
    "np.random.seed(seed)"
   ]
  },
  {
   "cell_type": "code",
   "execution_count": 9,
   "metadata": {
    "collapsed": true
   },
   "outputs": [],
   "source": [
    "def baseline_model():\n",
    "    cnn1 = kmodel.Sequential()\n",
    "    cnn1.add(conv.Convolution2D(config['filter1'], config['filter_size'], config['filter_size'], \n",
    "                                activation='relu', input_shape=(config['img_row'], config['img_col'], 3), border_mode='same'))\n",
    "    cnn1.add(conv.Convolution2D(config['filter1'], config['filter_size'], config['filter_size'], activation='relu', border_mode='same'))\n",
    "    cnn1.add(conv.MaxPooling2D(strides=(2,2))) # 2*2칸중 가장 큰 값으로 정한다\n",
    "\n",
    "    # L2\n",
    "    cnn1.add(conv.Convolution2D(config['filter2'], config['filter_size'], config['filter_size'], activation='relu', border_mode='same'))\n",
    "    cnn1.add(conv.Convolution2D(config['filter2'], config['filter_size'], config['filter_size'], activation='relu', border_mode='same'))\n",
    "    cnn1.add(conv.MaxPooling2D(strides=(2,2)))\n",
    "\n",
    "    cnn1.add(core.Flatten()) # 내용물을 1차원으로 쭉 피는 역할을 한다\n",
    "    cnn1.add(core.Dense(500, activation='relu')) # Fully Connected Layer. 뉴런의 갯수는 500로 한다.\n",
    "    cnn1.add(core.Dense(class_size, activation='softmax')) # Fully Connected Softmax 로 마지막에 클래스별 확률값을 구해낸다.\n",
    "    \n",
    "    cnn1.compile(loss='categorical_crossentropy', optimizer='adam', metrics=['accuracy'])\n",
    "    return cnn1"
   ]
  },
  {
   "cell_type": "code",
   "execution_count": 10,
   "metadata": {
    "collapsed": false
   },
   "outputs": [
    {
     "data": {
      "text/plain": [
       "<keras.wrappers.scikit_learn.KerasClassifier at 0x117104a90>"
      ]
     },
     "execution_count": 10,
     "metadata": {},
     "output_type": "execute_result"
    }
   ],
   "source": [
    "clf = KerasClassifier(build_fn=baseline_model, nb_epoch=5, batch_size=config['batch_size'], verbose=1)\n",
    "clf"
   ]
  },
  {
   "cell_type": "code",
   "execution_count": 11,
   "metadata": {
    "collapsed": false
   },
   "outputs": [],
   "source": [
    "#from sklearn.model_selection import cross_val_score 0.18 버전 이상\n",
    "from sklearn.cross_validation import cross_val_score\n",
    "from sklearn.cross_validation import KFold"
   ]
  },
  {
   "cell_type": "markdown",
   "metadata": {},
   "source": [
    "https://github.com/scikit-learn/scikit-learn/issues/6161"
   ]
  },
  {
   "cell_type": "code",
   "execution_count": 12,
   "metadata": {
    "collapsed": false
   },
   "outputs": [
    {
     "data": {
      "text/plain": [
       "sklearn.cross_validation.KFold(n=6283, n_folds=3, shuffle=True, random_state=7)"
      ]
     },
     "execution_count": 12,
     "metadata": {},
     "output_type": "execute_result"
    }
   ],
   "source": [
    "kfold = KFold(n=trainX.shape[0], n_folds=3, shuffle=True, random_state=seed)\n",
    "kfold"
   ]
  },
  {
   "cell_type": "markdown",
   "metadata": {},
   "source": [
    "* http://scikit-learn.org/stable/modules/generated/sklearn.model_selection.KFold.html v0.18\n",
    "* http://lijiancheng0614.github.io/scikit-learn/modules/generated/sklearn.cross_validation.KFold.html v0.17"
   ]
  },
  {
   "cell_type": "code",
   "execution_count": 13,
   "metadata": {
    "collapsed": false
   },
   "outputs": [
    {
     "name": "stdout",
     "output_type": "stream",
     "text": [
      "Epoch 1/5\n",
      "4188/4188 [==============================] - 35s - loss: 4.5379 - acc: 0.0659    \n",
      "Epoch 2/5\n",
      "4188/4188 [==============================] - 34s - loss: 3.8029 - acc: 0.0743    \n",
      "Epoch 3/5\n",
      "4188/4188 [==============================] - 33s - loss: 3.7892 - acc: 0.0678    \n",
      "Epoch 4/5\n",
      "4188/4188 [==============================] - 34s - loss: 3.7686 - acc: 0.0745    \n",
      "Epoch 5/5\n",
      "4188/4188 [==============================] - 43s - loss: 3.6910 - acc: 0.1060    \n",
      "2095/2095 [==============================] - 7s     \n",
      "Epoch 1/5\n",
      "4189/4189 [==============================] - 44s - loss: 4.1548 - acc: 0.0635    \n",
      "Epoch 2/5\n",
      "4189/4189 [==============================] - 46s - loss: 3.8013 - acc: 0.0654    \n",
      "Epoch 3/5\n",
      "4189/4189 [==============================] - 45s - loss: 3.7796 - acc: 0.0819    \n",
      "Epoch 4/5\n",
      "4189/4189 [==============================] - 41s - loss: 3.3382 - acc: 0.2285    \n",
      "Epoch 5/5\n",
      "4189/4189 [==============================] - 45s - loss: 2.3111 - acc: 0.4161    \n",
      "2094/2094 [==============================] - 5s     \n",
      "Epoch 1/5\n",
      "4189/4189 [==============================] - 42s - loss: 4.1438 - acc: 0.0520    \n",
      "Epoch 2/5\n",
      "4189/4189 [==============================] - 44s - loss: 3.8016 - acc: 0.0599    \n",
      "Epoch 3/5\n",
      "4189/4189 [==============================] - 37s - loss: 3.7881 - acc: 0.0628    \n",
      "Epoch 4/5\n",
      "4189/4189 [==============================] - 49s - loss: 3.7283 - acc: 0.0907    \n",
      "Epoch 5/5\n",
      "4189/4189 [==============================] - 41s - loss: 3.2464 - acc: 0.2280    \n",
      "2094/2094 [==============================] - 7s     \n",
      "Baseline: 31.63% (12.37%)\n"
     ]
    }
   ],
   "source": [
    "results = cross_val_score(clf, trainX, dummy_Y, cv=kfold)\n",
    "print(\"Baseline: %.2f%% (%.2f%%)\" % (results.mean()*100, results.std()*100))"
   ]
  },
  {
   "cell_type": "code",
   "execution_count": null,
   "metadata": {
    "collapsed": true
   },
   "outputs": [],
   "source": []
  }
 ],
 "metadata": {
  "kernelspec": {
   "display_name": "Python 3",
   "language": "python",
   "name": "python3"
  },
  "language_info": {
   "codemirror_mode": {
    "name": "ipython",
    "version": 3
   },
   "file_extension": ".py",
   "mimetype": "text/x-python",
   "name": "python",
   "nbconvert_exporter": "python",
   "pygments_lexer": "ipython3",
   "version": "3.5.1"
  }
 },
 "nbformat": 4,
 "nbformat_minor": 0
}
