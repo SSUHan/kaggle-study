{
 "cells": [
  {
   "cell_type": "code",
   "execution_count": null,
   "metadata": {
    "collapsed": true
   },
   "outputs": [],
   "source": [
    "%matplotlib inline\n",
    "\n",
    "import pandas as pd\n",
    "import numpy as np\n",
    "from sklearn.utils import shuffle\n",
    "import matplotlib.pyplot as plt"
   ]
  },
  {
   "cell_type": "code",
   "execution_count": null,
   "metadata": {
    "collapsed": true
   },
   "outputs": [],
   "source": [
    "TRAIN_PATH = './training.csv'\n",
    "TEST_PATH = './test.csv'\n",
    "\n",
    "def load_data(is_test=False, cols=None):\n",
    "    \"\"\"\n",
    "    기본적으로는 Training 데이터를 로드하되, 테스트 데이터를 로드할 경우에는 is_test 옵션을 준다\n",
    "    기본적으로 Image 칼럼만 가져오는데, 원하는 칼럼의 경우 cols 에 리스트를 넘긴다\n",
    "    \"\"\"\n",
    "    file_path = TEST_PATH if is_test else TRAIN_PATH\n",
    "    df = pd.read_csv(file_path)\n",
    "    print(df.info())\n",
    "    df['Image'] = df['Image'].apply(lambda im: np.fromstring(im, sep=' '))\n",
    "    \n",
    "    if cols:\n",
    "        # 만약 더 담을 칼럼이 있다면, 추가해준다\n",
    "        df = df[list(cols)+['Image']]\n",
    "    print(df.count()) # print the number of values for each columns\n",
    "    df.dropna(inplace=True)\n",
    "    \n",
    "    X = np.vstack(df['Image'].values) / 255 # scale pixel values to [0, 1]\n",
    "    X = X.astype(np.float32)\n",
    "    \n",
    "    if not is_test:\n",
    "        # only training data processing\n",
    "        y = df[df.columns[:-1]].values\n",
    "        y = (y-48)/48 # scale target coordinates to [-1, 1]\n",
    "        X, y = shuffle(X, y, random_state=42) # shuffle train data\n",
    "        y = y.astype(np.float32)\n",
    "    else:\n",
    "        y = None\n",
    "    return X, y"
   ]
  },
  {
   "cell_type": "code",
   "execution_count": null,
   "metadata": {
    "collapsed": true
   },
   "outputs": [],
   "source": [
    "def load_2d_shape(is_test=False, cols=None):\n",
    "    X, y = load_data(is_test=is_test)\n",
    "    X = X.reshape(-1, 1, 96, 96)\n",
    "    return X, y"
   ]
  },
  {
   "cell_type": "code",
   "execution_count": null,
   "metadata": {
    "collapsed": true
   },
   "outputs": [],
   "source": [
    "def plot_sample(x, y, axis):\n",
    "    img = x.reshape(96,96)\n",
    "    axis.imshow(img, cmap='gray')\n",
    "    axis.scatter(y[0::2]*48 + 48, y[1::2]*48 + 48, marker='x', s=10)\n",
    "    axis.axis('off')\n",
    "\n",
    "def draw_multi_plot(X, y, row_num=4, col_num=4, fig_size=(15,10)):\n",
    "    fig, axes = plt.subplots(nrows=row_num, ncols=col_num, figsize=fig_size)\n",
    "    i=0\n",
    "    for row in axes:\n",
    "        for each_ax in row:\n",
    "            plot_sample(X[i], y[i], each_ax)\n",
    "            i += 1\n",
    "    plt.tight_layout()"
   ]
  },
  {
   "cell_type": "code",
   "execution_count": null,
   "metadata": {
    "collapsed": false
   },
   "outputs": [],
   "source": [
    "from lasagne import layers\n",
    "from lasagne.updates import nesterov_momentum\n",
    "from nolearn.lasagne import NeuralNet"
   ]
  },
  {
   "cell_type": "code",
   "execution_count": null,
   "metadata": {
    "collapsed": false
   },
   "outputs": [],
   "source": [
    "net2 = NeuralNet(\n",
    "    layers=[\n",
    "        ('input', layers.InputLayer),\n",
    "        ('conv1', layers.Conv2DLayer),\n",
    "        ('pool1', layers.MaxPool2DLayer),\n",
    "        ('conv2', layers.Conv2DLayer),\n",
    "        ('pool2', layers.MaxPool2DLayer),\n",
    "        ('conv3', layers.Conv2DLayer),\n",
    "        ('pool3', layers.MaxPool2DLayer),\n",
    "        ('hidden4', layers.DenseLayer),\n",
    "        ('hidden5', layers.DenseLayer),\n",
    "        ('output', layers.DenseLayer)\n",
    "    ],\n",
    "    \n",
    "    input_shape=(None, 1, 96, 96),\n",
    "    conv1_num_filters=32, conv1_filter_size=(3, 3), pool1_pool_size=(2, 2),\n",
    "    conv2_num_filters=32, conv2_filter_size=(3, 3), pool2_pool_size=(2, 2),\n",
    "    conv3_num_filters=32, conv3_filter_size=(3, 3), pool3_pool_size=(2, 2),\n",
    "    hidden4_num_units=500, hidden5_num_units=500,\n",
    "    output_num_units=30, output_nonlinearity=None,\n",
    "    \n",
    "    update_learning_rate=0.01,\n",
    "    update_momentum=0.9,\n",
    "    regression=True,\n",
    "    max_epochs=10,\n",
    "    verbose=1\n",
    ")\n",
    "net2"
   ]
  },
  {
   "cell_type": "code",
   "execution_count": null,
   "metadata": {
    "collapsed": false
   },
   "outputs": [],
   "source": [
    "X, y = load_2d_shape()"
   ]
  },
  {
   "cell_type": "code",
   "execution_count": null,
   "metadata": {
    "collapsed": false
   },
   "outputs": [],
   "source": [
    "net2.fit(X, y)"
   ]
  },
  {
   "cell_type": "code",
   "execution_count": null,
   "metadata": {
    "collapsed": true
   },
   "outputs": [],
   "source": []
  }
 ],
 "metadata": {
  "kernelspec": {
   "display_name": "Python 3",
   "language": "python",
   "name": "python3"
  }
 },
 "nbformat": 4,
 "nbformat_minor": 0
}
