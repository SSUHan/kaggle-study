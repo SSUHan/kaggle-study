{
 "cells": [
  {
   "cell_type": "code",
   "execution_count": 1,
   "metadata": {
    "collapsed": true
   },
   "outputs": [],
   "source": [
    "%matplotlib inline\n",
    "\n",
    "import pandas as pd\n",
    "import numpy as np\n",
    "from sklearn.utils import shuffle\n",
    "import matplotlib.pyplot as plt"
   ]
  },
  {
   "cell_type": "code",
   "execution_count": 2,
   "metadata": {
    "collapsed": true
   },
   "outputs": [],
   "source": [
    "TRAIN_PATH = './training.csv'\n",
    "TEST_PATH = './test.csv'\n",
    "\n",
    "def load_data(is_test=False, cols=None):\n",
    "    \"\"\"\n",
    "    기본적으로는 Training 데이터를 로드하되, 테스트 데이터를 로드할 경우에는 is_test 옵션을 준다\n",
    "    기본적으로 Image 칼럼만 가져오는데, 원하는 칼럼의 경우 cols 에 리스트를 넘긴다\n",
    "    \"\"\"\n",
    "    file_path = TEST_PATH if is_test else TRAIN_PATH\n",
    "    df = pd.read_csv(file_path)\n",
    "    print(df.info())\n",
    "    df['Image'] = df['Image'].apply(lambda im: np.fromstring(im, sep=' '))\n",
    "    \n",
    "    if cols:\n",
    "        # 만약 더 담을 칼럼이 있다면, 추가해준다\n",
    "        df = df[list(cols)+['Image']]\n",
    "    print(df.count()) # print the number of values for each columns\n",
    "    df.dropna(inplace=True)\n",
    "    \n",
    "    X = np.vstack(df['Image'].values) / 255 # scale pixel values to [0, 1]\n",
    "    X = X.astype(np.float32)\n",
    "    \n",
    "    if not is_test:\n",
    "        # only training data processing\n",
    "        y = df[df.columns[:-1]].values\n",
    "        y = (y-48)/48 # scale target coordinates to [-1, 1]\n",
    "        X, y = shuffle(X, y, random_state=42) # shuffle train data\n",
    "        y = y.astype(np.float32)\n",
    "    else:\n",
    "        y = None\n",
    "    return X, y"
   ]
  },
  {
   "cell_type": "code",
   "execution_count": 3,
   "metadata": {
    "collapsed": true
   },
   "outputs": [],
   "source": [
    "def load_2d_shape(is_test=False, cols=None):\n",
    "    X, y = load_data(is_test=is_test)\n",
    "    X = X.reshape(-1, 1, 96, 96)\n",
    "    return X, y"
   ]
  },
  {
   "cell_type": "code",
   "execution_count": 4,
   "metadata": {
    "collapsed": true
   },
   "outputs": [],
   "source": [
    "def plot_sample(x, y, axis):\n",
    "    img = x.reshape(96,96)\n",
    "    axis.imshow(img, cmap='gray')\n",
    "    axis.scatter(y[0::2]*48 + 48, y[1::2]*48 + 48, marker='x', s=10)\n",
    "    axis.axis('off')\n",
    "\n",
    "def draw_multi_plot(X, y, row_num=4, col_num=4, fig_size=(15,10)):\n",
    "    fig, axes = plt.subplots(nrows=row_num, ncols=col_num, figsize=fig_size)\n",
    "    i=0\n",
    "    for row in axes:\n",
    "        for each_ax in row:\n",
    "            plot_sample(X[i], y[i], each_ax)\n",
    "            i += 1\n",
    "    plt.tight_layout()"
   ]
  },
  {
   "cell_type": "code",
   "execution_count": 5,
   "metadata": {
    "collapsed": false
   },
   "outputs": [
    {
     "name": "stderr",
     "output_type": "stream",
     "text": [
      "WARNING (theano.configdefaults): g++ not detected ! Theano will be unable to execute optimized C-implementations (for both CPU and GPU) and will default to Python implementations. Performance will be severely degraded. To remove this warning, set Theano flags cxx to an empty string.\n",
      "/Users/myZZUNG/myworkspace/kaggle-study/jupyter/lib/python3.5/site-packages/theano/tensor/signal/downsample.py:6: UserWarning: downsample module has been moved to the theano.tensor.signal.pool module.\n",
      "  \"downsample module has been moved to the theano.tensor.signal.pool module.\")\n"
     ]
    }
   ],
   "source": [
    "from lasagne import layers\n",
    "from lasagne.updates import nesterov_momentum\n",
    "from nolearn.lasagne import NeuralNet"
   ]
  },
  {
   "cell_type": "code",
   "execution_count": 6,
   "metadata": {
    "collapsed": false
   },
   "outputs": [
    {
     "data": {
      "text/plain": [
       "NeuralNet(X_tensor_type=None,\n",
       "     batch_iterator_test=<nolearn.lasagne.base.BatchIterator object at 0x114895470>,\n",
       "     batch_iterator_train=<nolearn.lasagne.base.BatchIterator object at 0x114895438>,\n",
       "     check_input=True, conv1_filter_size=(3, 3), conv1_num_filters=32,\n",
       "     conv2_filter_size=(3, 3), conv2_num_filters=32,\n",
       "     conv3_filter_size=(3, 3), conv3_num_filters=32, custom_scores=None,\n",
       "     hidden4_num_units=500, hidden5_num_units=500,\n",
       "     input_shape=(None, 1, 96, 96),\n",
       "     layers=[('input', <class 'lasagne.layers.input.InputLayer'>), ('conv1', <class 'lasagne.layers.conv.Conv2DLayer'>), ('pool1', <class 'lasagne.layers.pool.MaxPool2DLayer'>), ('conv2', <class 'lasagne.layers.conv.Conv2DLayer'>), ('pool2', <class 'lasagne.layers.pool.MaxPool2DLayer'>), ('conv3', <class..., <class 'lasagne.layers.dense.DenseLayer'>), ('output', <class 'lasagne.layers.dense.DenseLayer'>)],\n",
       "     loss=None, max_epochs=10, more_params={},\n",
       "     objective=<function objective at 0x1149b6620>,\n",
       "     objective_loss_function=<function squared_error at 0x1147bc2f0>,\n",
       "     on_batch_finished=[],\n",
       "     on_epoch_finished=[<nolearn.lasagne.handlers.PrintLog object at 0x1149be7f0>],\n",
       "     on_training_finished=[],\n",
       "     on_training_started=[<nolearn.lasagne.handlers.PrintLayerInfo object at 0x1149be828>],\n",
       "     output_nonlinearity=None, output_num_units=30, pool1_pool_size=(2, 2),\n",
       "     pool2_pool_size=(2, 2), pool3_pool_size=(2, 2), regression=True,\n",
       "     scores_train=[], scores_valid=[],\n",
       "     train_split=<nolearn.lasagne.base.TrainSplit object at 0x114895518>,\n",
       "     update=<function nesterov_momentum at 0x1147bcae8>,\n",
       "     update_learning_rate=0.01, update_momentum=0.9,\n",
       "     use_label_encoder=False, verbose=1,\n",
       "     y_tensor_type=TensorType(float64, matrix))"
      ]
     },
     "execution_count": 6,
     "metadata": {},
     "output_type": "execute_result"
    }
   ],
   "source": [
    "net2 = NeuralNet(\n",
    "    layers=[\n",
    "        ('input', layers.InputLayer),\n",
    "        ('conv1', layers.Conv2DLayer),\n",
    "        ('pool1', layers.MaxPool2DLayer),\n",
    "        ('conv2', layers.Conv2DLayer),\n",
    "        ('pool2', layers.MaxPool2DLayer),\n",
    "        ('conv3', layers.Conv2DLayer),\n",
    "        ('pool3', layers.MaxPool2DLayer),\n",
    "        ('hidden4', layers.DenseLayer),\n",
    "        ('hidden5', layers.DenseLayer),\n",
    "        ('output', layers.DenseLayer)\n",
    "    ],\n",
    "    \n",
    "    input_shape=(None, 1, 96, 96),\n",
    "    conv1_num_filters=32, conv1_filter_size=(3, 3), pool1_pool_size=(2, 2),\n",
    "    conv2_num_filters=32, conv2_filter_size=(3, 3), pool2_pool_size=(2, 2),\n",
    "    conv3_num_filters=32, conv3_filter_size=(3, 3), pool3_pool_size=(2, 2),\n",
    "    hidden4_num_units=500, hidden5_num_units=500,\n",
    "    output_num_units=30, output_nonlinearity=None,\n",
    "    \n",
    "    update_learning_rate=0.01,\n",
    "    update_momentum=0.9,\n",
    "    regression=True,\n",
    "    max_epochs=10,\n",
    "    verbose=1\n",
    ")\n",
    "net2"
   ]
  },
  {
   "cell_type": "code",
   "execution_count": null,
   "metadata": {
    "collapsed": false
   },
   "outputs": [
    {
     "name": "stdout",
     "output_type": "stream",
     "text": [
      "<class 'pandas.core.frame.DataFrame'>\n",
      "RangeIndex: 7049 entries, 0 to 7048\n",
      "Data columns (total 31 columns):\n",
      "left_eye_center_x            7039 non-null float64\n",
      "left_eye_center_y            7039 non-null float64\n",
      "right_eye_center_x           7036 non-null float64\n",
      "right_eye_center_y           7036 non-null float64\n",
      "left_eye_inner_corner_x      2271 non-null float64\n",
      "left_eye_inner_corner_y      2271 non-null float64\n",
      "left_eye_outer_corner_x      2267 non-null float64\n",
      "left_eye_outer_corner_y      2267 non-null float64\n",
      "right_eye_inner_corner_x     2268 non-null float64\n",
      "right_eye_inner_corner_y     2268 non-null float64\n",
      "right_eye_outer_corner_x     2268 non-null float64\n",
      "right_eye_outer_corner_y     2268 non-null float64\n",
      "left_eyebrow_inner_end_x     2270 non-null float64\n",
      "left_eyebrow_inner_end_y     2270 non-null float64\n",
      "left_eyebrow_outer_end_x     2225 non-null float64\n",
      "left_eyebrow_outer_end_y     2225 non-null float64\n",
      "right_eyebrow_inner_end_x    2270 non-null float64\n",
      "right_eyebrow_inner_end_y    2270 non-null float64\n",
      "right_eyebrow_outer_end_x    2236 non-null float64\n",
      "right_eyebrow_outer_end_y    2236 non-null float64\n",
      "nose_tip_x                   7049 non-null float64\n",
      "nose_tip_y                   7049 non-null float64\n",
      "mouth_left_corner_x          2269 non-null float64\n",
      "mouth_left_corner_y          2269 non-null float64\n",
      "mouth_right_corner_x         2270 non-null float64\n",
      "mouth_right_corner_y         2270 non-null float64\n",
      "mouth_center_top_lip_x       2275 non-null float64\n",
      "mouth_center_top_lip_y       2275 non-null float64\n",
      "mouth_center_bottom_lip_x    7016 non-null float64\n",
      "mouth_center_bottom_lip_y    7016 non-null float64\n",
      "Image                        7049 non-null object\n",
      "dtypes: float64(30), object(1)\n",
      "memory usage: 1.7+ MB\n",
      "None\n",
      "left_eye_center_x            7039\n",
      "left_eye_center_y            7039\n",
      "right_eye_center_x           7036\n",
      "right_eye_center_y           7036\n",
      "left_eye_inner_corner_x      2271\n",
      "left_eye_inner_corner_y      2271\n",
      "left_eye_outer_corner_x      2267\n",
      "left_eye_outer_corner_y      2267\n",
      "right_eye_inner_corner_x     2268\n",
      "right_eye_inner_corner_y     2268\n",
      "right_eye_outer_corner_x     2268\n",
      "right_eye_outer_corner_y     2268\n",
      "left_eyebrow_inner_end_x     2270\n",
      "left_eyebrow_inner_end_y     2270\n",
      "left_eyebrow_outer_end_x     2225\n",
      "left_eyebrow_outer_end_y     2225\n",
      "right_eyebrow_inner_end_x    2270\n",
      "right_eyebrow_inner_end_y    2270\n",
      "right_eyebrow_outer_end_x    2236\n",
      "right_eyebrow_outer_end_y    2236\n",
      "nose_tip_x                   7049\n",
      "nose_tip_y                   7049\n",
      "mouth_left_corner_x          2269\n",
      "mouth_left_corner_y          2269\n",
      "mouth_right_corner_x         2270\n",
      "mouth_right_corner_y         2270\n",
      "mouth_center_top_lip_x       2275\n",
      "mouth_center_top_lip_y       2275\n",
      "mouth_center_bottom_lip_x    7016\n",
      "mouth_center_bottom_lip_y    7016\n",
      "Image                        7049\n",
      "dtype: int64\n"
     ]
    }
   ],
   "source": [
    "X, y = load_2d_shape()"
   ]
  },
  {
   "cell_type": "code",
   "execution_count": null,
   "metadata": {
    "collapsed": false
   },
   "outputs": [
    {
     "name": "stderr",
     "output_type": "stream",
     "text": [
      "/Users/myZZUNG/myworkspace/kaggle-study/jupyter/lib/python3.5/site-packages/lasagne/layers/conv.py:489: UserWarning: The `image_shape` keyword argument to `tensor.nnet.conv2d` is deprecated, it has been renamed to `input_shape`.\n",
      "  border_mode=border_mode)\n"
     ]
    },
    {
     "name": "stdout",
     "output_type": "stream",
     "text": [
      "# Neural Network with 1884846 learnable parameters\n",
      "\n",
      "## Layer information\n",
      "\n",
      "  #  name     size\n",
      "---  -------  --------\n",
      "  0  input    1x96x96\n",
      "  1  conv1    32x94x94\n",
      "  2  pool1    32x47x47\n",
      "  3  conv2    32x45x45\n",
      "  4  pool2    32x22x22\n",
      "  5  conv3    32x20x20\n",
      "  6  pool3    32x10x10\n",
      "  7  hidden4  500\n",
      "  8  hidden5  500\n",
      "  9  output   30\n",
      "\n"
     ]
    }
   ],
   "source": [
    "net2.fit(X, y)"
   ]
  },
  {
   "cell_type": "code",
   "execution_count": null,
   "metadata": {
    "collapsed": true
   },
   "outputs": [],
   "source": []
  }
 ],
 "metadata": {
  "kernelspec": {
   "display_name": "Python 3",
   "language": "python",
   "name": "python3"
  },
  "language_info": {
   "codemirror_mode": {
    "name": "ipython",
    "version": 3
   },
   "file_extension": ".py",
   "mimetype": "text/x-python",
   "name": "python",
   "nbconvert_exporter": "python",
   "pygments_lexer": "ipython3",
   "version": "3.5.1"
  }
 },
 "nbformat": 4,
 "nbformat_minor": 0
}
