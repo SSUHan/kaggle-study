{
 "cells": [
  {
   "cell_type": "markdown",
   "metadata": {},
   "source": [
    "# Tutorial About Save and Restore with Tensorflow Saver()\n",
    "from https://www.tensorflow.org/programmers_guide/variables"
   ]
  },
  {
   "cell_type": "code",
   "execution_count": 1,
   "metadata": {
    "collapsed": true
   },
   "outputs": [],
   "source": [
    "import numpy as np\n",
    "import tensorflow as tf"
   ]
  },
  {
   "cell_type": "code",
   "execution_count": 2,
   "metadata": {
    "collapsed": true
   },
   "outputs": [],
   "source": [
    "# Create two variables.\n",
    "weights = tf.Variable(tf.random_normal([784, 200], stddev=0.35),\n",
    "                      name=\"weights\")\n",
    "biases = tf.Variable(tf.zeros([200]), name=\"biases\")"
   ]
  },
  {
   "cell_type": "code",
   "execution_count": 4,
   "metadata": {
    "collapsed": false
   },
   "outputs": [],
   "source": [
    "# Add an op to initialize the variables.\n",
    "init_op = tf.initialize_all_variables()\n",
    "\n",
    "# Later, when launching the model\n",
    "with tf.Session() as sess:\n",
    "    # Run the init operation.\n",
    "    sess.run(init_op)\n",
    "    # Use the model"
   ]
  },
  {
   "cell_type": "code",
   "execution_count": 9,
   "metadata": {
    "collapsed": true
   },
   "outputs": [],
   "source": [
    "# Create a variable with a random value.\n",
    "weights = tf.Variable(tf.random_normal([784, 200], stddev=0.35),\n",
    "                      name=\"weights\")\n",
    "# Create another variable with the same value as 'weights'.\n",
    "weights_init = tf.Variable(weights.initialized_value(), name=\"w2\")\n",
    "# Create another variable with twice the value of 'weights'\n",
    "w_twice = tf.Variable(weights.initialized_value() * 2.0, name=\"w_twice\")"
   ]
  },
  {
   "cell_type": "markdown",
   "metadata": {},
   "source": [
    "## Saver "
   ]
  },
  {
   "cell_type": "code",
   "execution_count": 11,
   "metadata": {
    "collapsed": false
   },
   "outputs": [
    {
     "name": "stdout",
     "output_type": "stream",
     "text": [
      "[[-0.02607405 -0.8149938   0.10063411 ..., -0.4176535  -0.03540445\n",
      "  -0.31216037]\n",
      " [-0.20535493  0.12040442  0.07949867 ...,  0.69044161 -0.37374189\n",
      "  -0.1925754 ]\n",
      " [ 0.7917546  -0.43105766 -0.03044968 ..., -0.77524662  0.16410586\n",
      "  -0.18063748]\n",
      " ..., \n",
      " [-0.03387383 -0.12770799  0.00215239 ...,  0.10082322  0.04041461\n",
      "  -0.30061215]\n",
      " [ 0.21424717 -0.02364667  0.43027675 ...,  0.40900603  0.12284601\n",
      "  -0.24118085]\n",
      " [ 0.22648194 -0.00327322 -0.25457919 ...,  0.04834778  0.43765628\n",
      "  -0.16334584]]\n",
      "[[-0.02607405 -0.8149938   0.10063411 ..., -0.4176535  -0.03540445\n",
      "  -0.31216037]\n",
      " [-0.20535493  0.12040442  0.07949867 ...,  0.69044161 -0.37374189\n",
      "  -0.1925754 ]\n",
      " [ 0.7917546  -0.43105766 -0.03044968 ..., -0.77524662  0.16410586\n",
      "  -0.18063748]\n",
      " ..., \n",
      " [-0.03387383 -0.12770799  0.00215239 ...,  0.10082322  0.04041461\n",
      "  -0.30061215]\n",
      " [ 0.21424717 -0.02364667  0.43027675 ...,  0.40900603  0.12284601\n",
      "  -0.24118085]\n",
      " [ 0.22648194 -0.00327322 -0.25457919 ...,  0.04834778  0.43765628\n",
      "  -0.16334584]]\n",
      "[[-0.0521481  -1.6299876   0.20126823 ..., -0.835307   -0.0708089\n",
      "  -0.62432075]\n",
      " [-0.41070986  0.24080884  0.15899734 ...,  1.38088322 -0.74748379\n",
      "  -0.38515079]\n",
      " [ 1.58350921 -0.86211532 -0.06089936 ..., -1.55049324  0.32821172\n",
      "  -0.36127496]\n",
      " ..., \n",
      " [-0.06774767 -0.25541598  0.00430477 ...,  0.20164645  0.08082922\n",
      "  -0.6012243 ]\n",
      " [ 0.42849433 -0.04729333  0.8605535  ...,  0.81801206  0.24569203\n",
      "  -0.4823617 ]\n",
      " [ 0.45296389 -0.00654643 -0.50915837 ...,  0.09669556  0.87531257\n",
      "  -0.32669169]]\n",
      "Model saved in file: first_saver_model.ckpt\n"
     ]
    }
   ],
   "source": [
    "init_op = tf.initialize_all_variables()\n",
    "# Add ops to save and restore all the variables.\n",
    "saver = tf.train.Saver()\n",
    "\n",
    "with tf.Session() as sess:\n",
    "    sess.run(init_op)\n",
    "    w = sess.run(weights)\n",
    "    print(w)\n",
    "    w2 = sess.run(weights_init)\n",
    "    print(w2)\n",
    "    w3 = sess.run(w_twice)\n",
    "    print(w3)\n",
    "    save_path = saver.save(sess, \"first_saver_model.ckpt\")\n",
    "    print(\"Model saved in file: %s\" % save_path)"
   ]
  },
  {
   "cell_type": "markdown",
   "metadata": {},
   "source": [
    "## Restore"
   ]
  },
  {
   "cell_type": "code",
   "execution_count": 12,
   "metadata": {
    "collapsed": false
   },
   "outputs": [
    {
     "name": "stdout",
     "output_type": "stream",
     "text": [
      "Model loaded..\n",
      "<tensorflow.python.training.saver.Saver object at 0x11783e5c0>\n"
     ]
    }
   ],
   "source": [
    "saver = tf.train.Saver()\n",
    "\n",
    "with tf.Session() as sess:\n",
    "    saver.restore(sess, 'first_saver_model.ckpt')\n",
    "    print(\"Model loaded..\")\n",
    "    print(saver)"
   ]
  },
  {
   "cell_type": "code",
   "execution_count": null,
   "metadata": {
    "collapsed": true
   },
   "outputs": [],
   "source": []
  }
 ],
 "metadata": {
  "kernelspec": {
   "display_name": "Python 3",
   "language": "python",
   "name": "python3"
  },
  "language_info": {
   "codemirror_mode": {
    "name": "ipython",
    "version": 3
   },
   "file_extension": ".py",
   "mimetype": "text/x-python",
   "name": "python",
   "nbconvert_exporter": "python",
   "pygments_lexer": "ipython3",
   "version": "3.5.1"
  }
 },
 "nbformat": 4,
 "nbformat_minor": 0
}
