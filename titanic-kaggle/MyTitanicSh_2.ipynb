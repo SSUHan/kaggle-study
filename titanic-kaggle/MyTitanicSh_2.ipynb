{
 "cells": [
  {
   "cell_type": "code",
   "execution_count": 3,
   "metadata": {
    "collapsed": false,
    "scrolled": false
   },
   "outputs": [
    {
     "name": "stdout",
     "output_type": "stream",
     "text": [
      "<class 'pandas.core.frame.DataFrame'>\n",
      "RangeIndex: 891 entries, 0 to 890\n",
      "Data columns (total 12 columns):\n",
      "PassengerId    891 non-null int64\n",
      "Survived       891 non-null int64\n",
      "Pclass         891 non-null int64\n",
      "Name           891 non-null object\n",
      "Sex            891 non-null object\n",
      "Age            714 non-null float64\n",
      "SibSp          891 non-null int64\n",
      "Parch          891 non-null int64\n",
      "Ticket         891 non-null object\n",
      "Fare           891 non-null float64\n",
      "Cabin          204 non-null object\n",
      "Embarked       889 non-null object\n",
      "dtypes: float64(2), int64(5), object(5)\n",
      "memory usage: 83.6+ KB\n"
     ]
    }
   ],
   "source": [
    "import pandas as pd\n",
    "test = pd.read_csv('test.csv')\n",
    "train = pd.read_csv('train.csv')\n",
    "train.info()"
   ]
  },
  {
   "cell_type": "code",
   "execution_count": 4,
   "metadata": {
    "collapsed": false
   },
   "outputs": [
    {
     "name": "stdout",
     "output_type": "stream",
     "text": [
      "<class 'pandas.core.frame.DataFrame'>\n",
      "RangeIndex: 891 entries, 0 to 890\n",
      "Data columns (total 9 columns):\n",
      "PassengerId    891 non-null int64\n",
      "Survived       891 non-null int64\n",
      "Pclass         891 non-null int64\n",
      "Sex            891 non-null object\n",
      "Age            714 non-null float64\n",
      "SibSp          891 non-null int64\n",
      "Parch          891 non-null int64\n",
      "Fare           891 non-null float64\n",
      "Embarked       889 non-null object\n",
      "dtypes: float64(2), int64(5), object(2)\n",
      "memory usage: 62.7+ KB\n"
     ]
    }
   ],
   "source": [
    "cols = ['Name', 'Ticket', 'Cabin']\n",
    "train = train.drop(cols, axis=1)\n",
    "train.info()"
   ]
  },
  {
   "cell_type": "code",
   "execution_count": 5,
   "metadata": {
    "collapsed": true
   },
   "outputs": [],
   "source": [
    "def pandas_drop_columns(pandas_object):\n",
    "    cols = ['Name', 'Ticket', 'Cabin']\n",
    "    pandas_object = pandas_object.drop(cols, axis=1)\n",
    "    #pandas_object = pandas_object.dropna()\n",
    "    return pandas_object\n",
    "\n",
    "def pandas_convert_columns(pandas_object):\n",
    "    dummies = []\n",
    "    cols = ['Pclass', 'Sex', 'Embarked']\n",
    "    for col in cols:\n",
    "        dummies.append(pd.get_dummies(pandas_object[col]))\n",
    "    temp_dummies = pd.concat(dummies, axis=1)\n",
    "    pandas_object = pd.concat((pandas_object, temp_dummies), axis=1)\n",
    "    pandas_object = pandas_object.drop(['Pclass', 'Sex', 'Embarked'], axis=1)\n",
    "    return pandas_object"
   ]
  },
  {
   "cell_type": "code",
   "execution_count": 6,
   "metadata": {
    "collapsed": false
   },
   "outputs": [
    {
     "name": "stdout",
     "output_type": "stream",
     "text": [
      "<class 'pandas.core.frame.DataFrame'>\n",
      "RangeIndex: 891 entries, 0 to 890\n",
      "Data columns (total 14 columns):\n",
      "PassengerId    891 non-null int64\n",
      "Survived       891 non-null int64\n",
      "Age            714 non-null float64\n",
      "SibSp          891 non-null int64\n",
      "Parch          891 non-null int64\n",
      "Fare           891 non-null float64\n",
      "1              891 non-null float64\n",
      "2              891 non-null float64\n",
      "3              891 non-null float64\n",
      "female         891 non-null float64\n",
      "male           891 non-null float64\n",
      "C              891 non-null float64\n",
      "Q              891 non-null float64\n",
      "S              891 non-null float64\n",
      "dtypes: float64(10), int64(4)\n",
      "memory usage: 97.5 KB\n"
     ]
    }
   ],
   "source": [
    "pandas_convert_columns(train).info()"
   ]
  },
  {
   "cell_type": "code",
   "execution_count": 7,
   "metadata": {
    "collapsed": false
   },
   "outputs": [
    {
     "name": "stdout",
     "output_type": "stream",
     "text": [
      "       1    2    3\n",
      "0    0.0  0.0  1.0\n",
      "1    1.0  0.0  0.0\n",
      "2    0.0  0.0  1.0\n",
      "3    1.0  0.0  0.0\n",
      "4    0.0  0.0  1.0\n",
      "5    0.0  0.0  1.0\n",
      "6    1.0  0.0  0.0\n",
      "7    0.0  0.0  1.0\n",
      "8    0.0  0.0  1.0\n",
      "9    0.0  1.0  0.0\n",
      "10   0.0  0.0  1.0\n",
      "11   1.0  0.0  0.0\n",
      "12   0.0  0.0  1.0\n",
      "13   0.0  0.0  1.0\n",
      "14   0.0  0.0  1.0\n",
      "15   0.0  1.0  0.0\n",
      "16   0.0  0.0  1.0\n",
      "17   0.0  1.0  0.0\n",
      "18   0.0  0.0  1.0\n",
      "19   0.0  0.0  1.0\n",
      "20   0.0  1.0  0.0\n",
      "21   0.0  1.0  0.0\n",
      "22   0.0  0.0  1.0\n",
      "23   1.0  0.0  0.0\n",
      "24   0.0  0.0  1.0\n",
      "25   0.0  0.0  1.0\n",
      "26   0.0  0.0  1.0\n",
      "27   1.0  0.0  0.0\n",
      "28   0.0  0.0  1.0\n",
      "29   0.0  0.0  1.0\n",
      "..   ...  ...  ...\n",
      "861  0.0  1.0  0.0\n",
      "862  1.0  0.0  0.0\n",
      "863  0.0  0.0  1.0\n",
      "864  0.0  1.0  0.0\n",
      "865  0.0  1.0  0.0\n",
      "866  0.0  1.0  0.0\n",
      "867  1.0  0.0  0.0\n",
      "868  0.0  0.0  1.0\n",
      "869  0.0  0.0  1.0\n",
      "870  0.0  0.0  1.0\n",
      "871  1.0  0.0  0.0\n",
      "872  1.0  0.0  0.0\n",
      "873  0.0  0.0  1.0\n",
      "874  0.0  1.0  0.0\n",
      "875  0.0  0.0  1.0\n",
      "876  0.0  0.0  1.0\n",
      "877  0.0  0.0  1.0\n",
      "878  0.0  0.0  1.0\n",
      "879  1.0  0.0  0.0\n",
      "880  0.0  1.0  0.0\n",
      "881  0.0  0.0  1.0\n",
      "882  0.0  0.0  1.0\n",
      "883  0.0  1.0  0.0\n",
      "884  0.0  0.0  1.0\n",
      "885  0.0  0.0  1.0\n",
      "886  0.0  1.0  0.0\n",
      "887  1.0  0.0  0.0\n",
      "888  0.0  0.0  1.0\n",
      "889  1.0  0.0  0.0\n",
      "890  0.0  0.0  1.0\n",
      "\n",
      "[891 rows x 3 columns]\n",
      "     female  male\n",
      "0       0.0   1.0\n",
      "1       1.0   0.0\n",
      "2       1.0   0.0\n",
      "3       1.0   0.0\n",
      "4       0.0   1.0\n",
      "5       0.0   1.0\n",
      "6       0.0   1.0\n",
      "7       0.0   1.0\n",
      "8       1.0   0.0\n",
      "9       1.0   0.0\n",
      "10      1.0   0.0\n",
      "11      1.0   0.0\n",
      "12      0.0   1.0\n",
      "13      0.0   1.0\n",
      "14      1.0   0.0\n",
      "15      1.0   0.0\n",
      "16      0.0   1.0\n",
      "17      0.0   1.0\n",
      "18      1.0   0.0\n",
      "19      1.0   0.0\n",
      "20      0.0   1.0\n",
      "21      0.0   1.0\n",
      "22      1.0   0.0\n",
      "23      0.0   1.0\n",
      "24      1.0   0.0\n",
      "25      1.0   0.0\n",
      "26      0.0   1.0\n",
      "27      0.0   1.0\n",
      "28      1.0   0.0\n",
      "29      0.0   1.0\n",
      "..      ...   ...\n",
      "861     0.0   1.0\n",
      "862     1.0   0.0\n",
      "863     1.0   0.0\n",
      "864     0.0   1.0\n",
      "865     1.0   0.0\n",
      "866     1.0   0.0\n",
      "867     0.0   1.0\n",
      "868     0.0   1.0\n",
      "869     0.0   1.0\n",
      "870     0.0   1.0\n",
      "871     1.0   0.0\n",
      "872     0.0   1.0\n",
      "873     0.0   1.0\n",
      "874     1.0   0.0\n",
      "875     1.0   0.0\n",
      "876     0.0   1.0\n",
      "877     0.0   1.0\n",
      "878     0.0   1.0\n",
      "879     1.0   0.0\n",
      "880     1.0   0.0\n",
      "881     0.0   1.0\n",
      "882     1.0   0.0\n",
      "883     0.0   1.0\n",
      "884     0.0   1.0\n",
      "885     1.0   0.0\n",
      "886     0.0   1.0\n",
      "887     1.0   0.0\n",
      "888     1.0   0.0\n",
      "889     0.0   1.0\n",
      "890     0.0   1.0\n",
      "\n",
      "[891 rows x 2 columns]\n",
      "       C    Q    S\n",
      "0    0.0  0.0  1.0\n",
      "1    1.0  0.0  0.0\n",
      "2    0.0  0.0  1.0\n",
      "3    0.0  0.0  1.0\n",
      "4    0.0  0.0  1.0\n",
      "5    0.0  1.0  0.0\n",
      "6    0.0  0.0  1.0\n",
      "7    0.0  0.0  1.0\n",
      "8    0.0  0.0  1.0\n",
      "9    1.0  0.0  0.0\n",
      "10   0.0  0.0  1.0\n",
      "11   0.0  0.0  1.0\n",
      "12   0.0  0.0  1.0\n",
      "13   0.0  0.0  1.0\n",
      "14   0.0  0.0  1.0\n",
      "15   0.0  0.0  1.0\n",
      "16   0.0  1.0  0.0\n",
      "17   0.0  0.0  1.0\n",
      "18   0.0  0.0  1.0\n",
      "19   1.0  0.0  0.0\n",
      "20   0.0  0.0  1.0\n",
      "21   0.0  0.0  1.0\n",
      "22   0.0  1.0  0.0\n",
      "23   0.0  0.0  1.0\n",
      "24   0.0  0.0  1.0\n",
      "25   0.0  0.0  1.0\n",
      "26   1.0  0.0  0.0\n",
      "27   0.0  0.0  1.0\n",
      "28   0.0  1.0  0.0\n",
      "29   0.0  0.0  1.0\n",
      "..   ...  ...  ...\n",
      "861  0.0  0.0  1.0\n",
      "862  0.0  0.0  1.0\n",
      "863  0.0  0.0  1.0\n",
      "864  0.0  0.0  1.0\n",
      "865  0.0  0.0  1.0\n",
      "866  1.0  0.0  0.0\n",
      "867  0.0  0.0  1.0\n",
      "868  0.0  0.0  1.0\n",
      "869  0.0  0.0  1.0\n",
      "870  0.0  0.0  1.0\n",
      "871  0.0  0.0  1.0\n",
      "872  0.0  0.0  1.0\n",
      "873  0.0  0.0  1.0\n",
      "874  1.0  0.0  0.0\n",
      "875  1.0  0.0  0.0\n",
      "876  0.0  0.0  1.0\n",
      "877  0.0  0.0  1.0\n",
      "878  0.0  0.0  1.0\n",
      "879  1.0  0.0  0.0\n",
      "880  0.0  0.0  1.0\n",
      "881  0.0  0.0  1.0\n",
      "882  0.0  0.0  1.0\n",
      "883  0.0  0.0  1.0\n",
      "884  0.0  0.0  1.0\n",
      "885  0.0  1.0  0.0\n",
      "886  0.0  0.0  1.0\n",
      "887  0.0  0.0  1.0\n",
      "888  0.0  0.0  1.0\n",
      "889  1.0  0.0  0.0\n",
      "890  0.0  1.0  0.0\n",
      "\n",
      "[891 rows x 3 columns]\n"
     ]
    }
   ],
   "source": [
    "dummies = []\n",
    "cols = ['Pclass','Sex','Embarked']\n",
    "for col in cols:\n",
    "    print(pd.get_dummies(train[col]))\n",
    "    dummies.append(pd.get_dummies(train[col]))"
   ]
  },
  {
   "cell_type": "code",
   "execution_count": 8,
   "metadata": {
    "collapsed": false
   },
   "outputs": [
    {
     "name": "stdout",
     "output_type": "stream",
     "text": [
      "<class 'pandas.core.frame.DataFrame'>\n",
      "RangeIndex: 891 entries, 0 to 890\n",
      "Data columns (total 8 columns):\n",
      "1         891 non-null float64\n",
      "2         891 non-null float64\n",
      "3         891 non-null float64\n",
      "female    891 non-null float64\n",
      "male      891 non-null float64\n",
      "C         891 non-null float64\n",
      "Q         891 non-null float64\n",
      "S         891 non-null float64\n",
      "dtypes: float64(8)\n",
      "memory usage: 55.8 KB\n"
     ]
    }
   ],
   "source": [
    "titanic_dummies = pd.concat(dummies,axis=1)\n",
    "titanic_dummies.info()"
   ]
  },
  {
   "cell_type": "code",
   "execution_count": 9,
   "metadata": {
    "collapsed": false
   },
   "outputs": [
    {
     "name": "stdout",
     "output_type": "stream",
     "text": [
      "<class 'pandas.core.frame.DataFrame'>\n",
      "RangeIndex: 891 entries, 0 to 890\n",
      "Data columns (total 17 columns):\n",
      "PassengerId    891 non-null int64\n",
      "Survived       891 non-null int64\n",
      "Pclass         891 non-null int64\n",
      "Sex            891 non-null object\n",
      "Age            714 non-null float64\n",
      "SibSp          891 non-null int64\n",
      "Parch          891 non-null int64\n",
      "Fare           891 non-null float64\n",
      "Embarked       889 non-null object\n",
      "1              891 non-null float64\n",
      "2              891 non-null float64\n",
      "3              891 non-null float64\n",
      "female         891 non-null float64\n",
      "male           891 non-null float64\n",
      "C              891 non-null float64\n",
      "Q              891 non-null float64\n",
      "S              891 non-null float64\n",
      "dtypes: float64(10), int64(5), object(2)\n",
      "memory usage: 118.4+ KB\n"
     ]
    }
   ],
   "source": [
    "train = pd.concat((train, titanic_dummies), axis=1)\n",
    "train.info()"
   ]
  },
  {
   "cell_type": "code",
   "execution_count": 10,
   "metadata": {
    "collapsed": false,
    "scrolled": true
   },
   "outputs": [
    {
     "name": "stdout",
     "output_type": "stream",
     "text": [
      "<class 'pandas.core.frame.DataFrame'>\n",
      "RangeIndex: 891 entries, 0 to 890\n",
      "Data columns (total 14 columns):\n",
      "PassengerId    891 non-null int64\n",
      "Survived       891 non-null int64\n",
      "Age            714 non-null float64\n",
      "SibSp          891 non-null int64\n",
      "Parch          891 non-null int64\n",
      "Fare           891 non-null float64\n",
      "1              891 non-null float64\n",
      "2              891 non-null float64\n",
      "3              891 non-null float64\n",
      "female         891 non-null float64\n",
      "male           891 non-null float64\n",
      "C              891 non-null float64\n",
      "Q              891 non-null float64\n",
      "S              891 non-null float64\n",
      "dtypes: float64(10), int64(4)\n",
      "memory usage: 97.5 KB\n"
     ]
    }
   ],
   "source": [
    "train = train.drop(['Pclass', 'Sex', 'Embarked'], axis=1)\n",
    "train.info()"
   ]
  },
  {
   "cell_type": "code",
   "execution_count": null,
   "metadata": {
    "collapsed": true
   },
   "outputs": [],
   "source": []
  },
  {
   "cell_type": "code",
   "execution_count": 11,
   "metadata": {
    "collapsed": false,
    "scrolled": true
   },
   "outputs": [
    {
     "name": "stdout",
     "output_type": "stream",
     "text": [
      "<class 'pandas.core.frame.DataFrame'>\n",
      "RangeIndex: 891 entries, 0 to 890\n",
      "Data columns (total 14 columns):\n",
      "PassengerId    891 non-null int64\n",
      "Survived       891 non-null int64\n",
      "Age            891 non-null float64\n",
      "SibSp          891 non-null int64\n",
      "Parch          891 non-null int64\n",
      "Fare           891 non-null float64\n",
      "1              891 non-null float64\n",
      "2              891 non-null float64\n",
      "3              891 non-null float64\n",
      "female         891 non-null float64\n",
      "male           891 non-null float64\n",
      "C              891 non-null float64\n",
      "Q              891 non-null float64\n",
      "S              891 non-null float64\n",
      "dtypes: float64(10), int64(4)\n",
      "memory usage: 97.5 KB\n"
     ]
    }
   ],
   "source": [
    "train['Age'] = train['Age'].interpolate()\n",
    "train.info()"
   ]
  },
  {
   "cell_type": "code",
   "execution_count": 12,
   "metadata": {
    "collapsed": false,
    "scrolled": true
   },
   "outputs": [
    {
     "name": "stdout",
     "output_type": "stream",
     "text": [
      "<class 'pandas.core.frame.DataFrame'>\n",
      "Int64Index: 891 entries, 0 to 890\n",
      "Data columns (total 14 columns):\n",
      "PassengerId    891 non-null int64\n",
      "Survived       891 non-null int64\n",
      "Age            891 non-null float64\n",
      "SibSp          891 non-null int64\n",
      "Parch          891 non-null int64\n",
      "Fare           891 non-null float64\n",
      "1              891 non-null float64\n",
      "2              891 non-null float64\n",
      "3              891 non-null float64\n",
      "female         891 non-null float64\n",
      "male           891 non-null float64\n",
      "C              891 non-null float64\n",
      "Q              891 non-null float64\n",
      "S              891 non-null float64\n",
      "dtypes: float64(10), int64(4)\n",
      "memory usage: 104.4 KB\n"
     ]
    }
   ],
   "source": [
    "train = train.dropna()\n",
    "train.info()"
   ]
  },
  {
   "cell_type": "code",
   "execution_count": 13,
   "metadata": {
    "collapsed": false
   },
   "outputs": [],
   "source": [
    "#test['Survived'] = test['Sex'].map({'female':1, 'male':0}).astype(int)\n",
    "# test['Survived'] = 0\n",
    "# for index, row in test.iterrows():\n",
    "#     if row['Sex'] == 'female':\n",
    "#         test['Survived'][index] = 1\n",
    "#     else:\n",
    "#         # male\n",
    "#         if row['Pclass'] == 1:\n",
    "#             test['Survived'][index] = 1\n",
    "#         else:\n",
    "#             test['Survived'][index] = 0\n",
    "\n",
    "from sklearn import cross_validation\n",
    "import numpy as np\n",
    "y = train['Survived'].values\n",
    "X = train.values\n",
    "X = np.delete(X,1,axis=1)"
   ]
  },
  {
   "cell_type": "code",
   "execution_count": 14,
   "metadata": {
    "collapsed": false
   },
   "outputs": [
    {
     "data": {
      "text/plain": [
       "numpy.ndarray"
      ]
     },
     "execution_count": 14,
     "metadata": {},
     "output_type": "execute_result"
    }
   ],
   "source": [
    "X_train, X_test, y_train, y_test = cross_validation.train_test_split(X, y, test_size=0.3, random_state=1)\n",
    "type(X_train)"
   ]
  },
  {
   "cell_type": "code",
   "execution_count": 15,
   "metadata": {
    "collapsed": false
   },
   "outputs": [
    {
     "data": {
      "text/plain": [
       "0.76865671641791045"
      ]
     },
     "execution_count": 15,
     "metadata": {},
     "output_type": "execute_result"
    }
   ],
   "source": [
    "from sklearn import tree\n",
    "dt = tree.DecisionTreeClassifier(max_depth=6)\n",
    "dt.fit(X_train, y_train)\n",
    "dt.score(X_test, y_test)"
   ]
  },
  {
   "cell_type": "code",
   "execution_count": 16,
   "metadata": {
    "collapsed": false
   },
   "outputs": [
    {
     "name": "stdout",
     "output_type": "stream",
     "text": [
      "<class 'pandas.core.frame.DataFrame'>\n",
      "<class 'pandas.core.frame.DataFrame'>\n",
      "RangeIndex: 418 entries, 0 to 417\n",
      "Data columns (total 13 columns):\n",
      "PassengerId    418 non-null int64\n",
      "Age            332 non-null float64\n",
      "SibSp          418 non-null int64\n",
      "Parch          418 non-null int64\n",
      "Fare           417 non-null float64\n",
      "1              418 non-null float64\n",
      "2              418 non-null float64\n",
      "3              418 non-null float64\n",
      "female         418 non-null float64\n",
      "male           418 non-null float64\n",
      "C              418 non-null float64\n",
      "Q              418 non-null float64\n",
      "S              418 non-null float64\n",
      "dtypes: float64(10), int64(3)\n",
      "memory usage: 42.5 KB\n",
      "None\n",
      "<class 'pandas.core.frame.DataFrame'>\n",
      "<class 'numpy.ndarray'>\n"
     ]
    },
    {
     "ename": "ValueError",
     "evalue": "Input contains NaN, infinity or a value too large for dtype('float32').",
     "output_type": "error",
     "traceback": [
      "\u001b[0;31m---------------------------------------------------------------------------\u001b[0m",
      "\u001b[0;31mValueError\u001b[0m                                Traceback (most recent call last)",
      "\u001b[0;32m<ipython-input-16-12350c467a76>\u001b[0m in \u001b[0;36m<module>\u001b[0;34m()\u001b[0m\n\u001b[1;32m      6\u001b[0m \u001b[0mprint\u001b[0m\u001b[0;34m(\u001b[0m\u001b[0mtype\u001b[0m\u001b[0;34m(\u001b[0m\u001b[0mX_result_pandas\u001b[0m\u001b[0;34m)\u001b[0m\u001b[0;34m)\u001b[0m\u001b[0;34m\u001b[0m\u001b[0m\n\u001b[1;32m      7\u001b[0m \u001b[0mprint\u001b[0m\u001b[0;34m(\u001b[0m\u001b[0mtype\u001b[0m\u001b[0;34m(\u001b[0m\u001b[0mX_result_pandas\u001b[0m\u001b[0;34m.\u001b[0m\u001b[0mvalues\u001b[0m\u001b[0;34m)\u001b[0m\u001b[0;34m)\u001b[0m\u001b[0;34m\u001b[0m\u001b[0m\n\u001b[0;32m----> 8\u001b[0;31m \u001b[0my_result\u001b[0m \u001b[0;34m=\u001b[0m \u001b[0mdt\u001b[0m\u001b[0;34m.\u001b[0m\u001b[0mpredict\u001b[0m\u001b[0;34m(\u001b[0m\u001b[0mX_result_pandas\u001b[0m\u001b[0;34m.\u001b[0m\u001b[0mvalues\u001b[0m\u001b[0;34m)\u001b[0m\u001b[0;34m\u001b[0m\u001b[0m\n\u001b[0m\u001b[1;32m      9\u001b[0m \u001b[0mprint\u001b[0m\u001b[0;34m(\u001b[0m\u001b[0mtype\u001b[0m\u001b[0;34m(\u001b[0m\u001b[0my_result\u001b[0m\u001b[0;34m)\u001b[0m\u001b[0;34m)\u001b[0m\u001b[0;34m\u001b[0m\u001b[0m\n",
      "\u001b[0;32m/Users/myZZUNG/myworkspace/kaggle-study/jupyter/lib/python3.5/site-packages/sklearn/tree/tree.py\u001b[0m in \u001b[0;36mpredict\u001b[0;34m(self, X, check_input)\u001b[0m\n\u001b[1;32m    402\u001b[0m         \"\"\"\n\u001b[1;32m    403\u001b[0m \u001b[0;34m\u001b[0m\u001b[0m\n\u001b[0;32m--> 404\u001b[0;31m         \u001b[0mX\u001b[0m \u001b[0;34m=\u001b[0m \u001b[0mself\u001b[0m\u001b[0;34m.\u001b[0m\u001b[0m_validate_X_predict\u001b[0m\u001b[0;34m(\u001b[0m\u001b[0mX\u001b[0m\u001b[0;34m,\u001b[0m \u001b[0mcheck_input\u001b[0m\u001b[0;34m)\u001b[0m\u001b[0;34m\u001b[0m\u001b[0m\n\u001b[0m\u001b[1;32m    405\u001b[0m         \u001b[0mproba\u001b[0m \u001b[0;34m=\u001b[0m \u001b[0mself\u001b[0m\u001b[0;34m.\u001b[0m\u001b[0mtree_\u001b[0m\u001b[0;34m.\u001b[0m\u001b[0mpredict\u001b[0m\u001b[0;34m(\u001b[0m\u001b[0mX\u001b[0m\u001b[0;34m)\u001b[0m\u001b[0;34m\u001b[0m\u001b[0m\n\u001b[1;32m    406\u001b[0m         \u001b[0mn_samples\u001b[0m \u001b[0;34m=\u001b[0m \u001b[0mX\u001b[0m\u001b[0;34m.\u001b[0m\u001b[0mshape\u001b[0m\u001b[0;34m[\u001b[0m\u001b[0;36m0\u001b[0m\u001b[0;34m]\u001b[0m\u001b[0;34m\u001b[0m\u001b[0m\n",
      "\u001b[0;32m/Users/myZZUNG/myworkspace/kaggle-study/jupyter/lib/python3.5/site-packages/sklearn/tree/tree.py\u001b[0m in \u001b[0;36m_validate_X_predict\u001b[0;34m(self, X, check_input)\u001b[0m\n\u001b[1;32m    363\u001b[0m \u001b[0;34m\u001b[0m\u001b[0m\n\u001b[1;32m    364\u001b[0m         \u001b[0;32mif\u001b[0m \u001b[0mcheck_input\u001b[0m\u001b[0;34m:\u001b[0m\u001b[0;34m\u001b[0m\u001b[0m\n\u001b[0;32m--> 365\u001b[0;31m             \u001b[0mX\u001b[0m \u001b[0;34m=\u001b[0m \u001b[0mcheck_array\u001b[0m\u001b[0;34m(\u001b[0m\u001b[0mX\u001b[0m\u001b[0;34m,\u001b[0m \u001b[0mdtype\u001b[0m\u001b[0;34m=\u001b[0m\u001b[0mDTYPE\u001b[0m\u001b[0;34m,\u001b[0m \u001b[0maccept_sparse\u001b[0m\u001b[0;34m=\u001b[0m\u001b[0;34m\"csr\"\u001b[0m\u001b[0;34m)\u001b[0m\u001b[0;34m\u001b[0m\u001b[0m\n\u001b[0m\u001b[1;32m    366\u001b[0m             if issparse(X) and (X.indices.dtype != np.intc or\n\u001b[1;32m    367\u001b[0m                                 X.indptr.dtype != np.intc):\n",
      "\u001b[0;32m/Users/myZZUNG/myworkspace/kaggle-study/jupyter/lib/python3.5/site-packages/sklearn/utils/validation.py\u001b[0m in \u001b[0;36mcheck_array\u001b[0;34m(array, accept_sparse, dtype, order, copy, force_all_finite, ensure_2d, allow_nd, ensure_min_samples, ensure_min_features, warn_on_dtype, estimator)\u001b[0m\n\u001b[1;32m    396\u001b[0m                              % (array.ndim, estimator_name))\n\u001b[1;32m    397\u001b[0m         \u001b[0;32mif\u001b[0m \u001b[0mforce_all_finite\u001b[0m\u001b[0;34m:\u001b[0m\u001b[0;34m\u001b[0m\u001b[0m\n\u001b[0;32m--> 398\u001b[0;31m             \u001b[0m_assert_all_finite\u001b[0m\u001b[0;34m(\u001b[0m\u001b[0marray\u001b[0m\u001b[0;34m)\u001b[0m\u001b[0;34m\u001b[0m\u001b[0m\n\u001b[0m\u001b[1;32m    399\u001b[0m \u001b[0;34m\u001b[0m\u001b[0m\n\u001b[1;32m    400\u001b[0m     \u001b[0mshape_repr\u001b[0m \u001b[0;34m=\u001b[0m \u001b[0m_shape_repr\u001b[0m\u001b[0;34m(\u001b[0m\u001b[0marray\u001b[0m\u001b[0;34m.\u001b[0m\u001b[0mshape\u001b[0m\u001b[0;34m)\u001b[0m\u001b[0;34m\u001b[0m\u001b[0m\n",
      "\u001b[0;32m/Users/myZZUNG/myworkspace/kaggle-study/jupyter/lib/python3.5/site-packages/sklearn/utils/validation.py\u001b[0m in \u001b[0;36m_assert_all_finite\u001b[0;34m(X)\u001b[0m\n\u001b[1;32m     52\u001b[0m             and not np.isfinite(X).all()):\n\u001b[1;32m     53\u001b[0m         raise ValueError(\"Input contains NaN, infinity\"\n\u001b[0;32m---> 54\u001b[0;31m                          \" or a value too large for %r.\" % X.dtype)\n\u001b[0m\u001b[1;32m     55\u001b[0m \u001b[0;34m\u001b[0m\u001b[0m\n\u001b[1;32m     56\u001b[0m \u001b[0;34m\u001b[0m\u001b[0m\n",
      "\u001b[0;31mValueError\u001b[0m: Input contains NaN, infinity or a value too large for dtype('float32')."
     ]
    }
   ],
   "source": [
    "test = pd.read_csv('test.csv')\n",
    "test = pandas_drop_columns(test)\n",
    "print(type(test))\n",
    "X_result_pandas = pandas_convert_columns(test)\n",
    "print(X_result_pandas.info())\n",
    "print(type(X_result_pandas))\n",
    "print(type(X_result_pandas.values))\n",
    "y_result = dt.predict(X_result_pandas.values)\n",
    "print(type(y_result))"
   ]
  },
  {
   "cell_type": "code",
   "execution_count": null,
   "metadata": {
    "collapsed": false
   },
   "outputs": [],
   "source": [
    "X_result_np = X_result_pandas.values\n",
    "# print(X_result_np)\n",
    "output = np.column_stack((X_result_np[:,0], y_result))\n",
    "submission_format = pd.DataFrame(output.astype('int'), columns=['PassengerID', 'Survived'])\n",
    "submission_format.info()"
   ]
  },
  {
   "cell_type": "code",
   "execution_count": null,
   "metadata": {
    "collapsed": true
   },
   "outputs": [],
   "source": [
    "submission_format.to_csv('discisoin_tree_depth6.csv', index=False)"
   ]
  }
 ],
 "metadata": {
  "kernelspec": {
   "display_name": "Python 3",
   "language": "python",
   "name": "python3"
  },
  "language_info": {
   "codemirror_mode": {
    "name": "ipython",
    "version": 3
   },
   "file_extension": ".py",
   "mimetype": "text/x-python",
   "name": "python",
   "nbconvert_exporter": "python",
   "pygments_lexer": "ipython3",
   "version": "3.5.1"
  }
 },
 "nbformat": 4,
 "nbformat_minor": 0
}
