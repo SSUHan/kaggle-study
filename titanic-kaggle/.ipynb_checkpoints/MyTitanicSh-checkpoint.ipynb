{
 "cells": [
  {
   "cell_type": "markdown",
   "metadata": {},
   "source": [
    "# 타이타닉 sklearn 으로 풀어내기 과정\n",
    "## 과정의 단계를 하나하나 진행\n",
    "### 1. csv 파일 읽어오기"
   ]
  },
  {
   "cell_type": "code",
   "execution_count": 227,
   "metadata": {
    "collapsed": false
   },
   "outputs": [
    {
     "name": "stdout",
     "output_type": "stream",
     "text": [
      "<class 'pandas.core.frame.DataFrame'>\n",
      "RangeIndex: 891 entries, 0 to 890\n",
      "Data columns (total 12 columns):\n",
      "PassengerId    891 non-null int64\n",
      "Survived       891 non-null int64\n",
      "Pclass         891 non-null int64\n",
      "Name           891 non-null object\n",
      "Sex            891 non-null object\n",
      "Age            714 non-null float64\n",
      "SibSp          891 non-null int64\n",
      "Parch          891 non-null int64\n",
      "Ticket         891 non-null object\n",
      "Fare           891 non-null float64\n",
      "Cabin          204 non-null object\n",
      "Embarked       889 non-null object\n",
      "dtypes: float64(2), int64(5), object(5)\n",
      "memory usage: 83.6+ KB\n"
     ]
    }
   ],
   "source": [
    "import pandas as pd\n",
    "test = pd.read_csv('test.csv')\n",
    "train = pd.read_csv('train.csv')\n",
    "# test['Survived'] = test['Sex'].map({'female':1, 'male':0}).astype(int)\n",
    "train.info()"
   ]
  },
  {
   "cell_type": "markdown",
   "metadata": {
    "collapsed": true
   },
   "source": [
    "### 2. 관여하고싶지 않은 칼럼은 잘라내기"
   ]
  },
  {
   "cell_type": "code",
   "execution_count": 228,
   "metadata": {
    "collapsed": false
   },
   "outputs": [
    {
     "name": "stdout",
     "output_type": "stream",
     "text": [
      "<class 'pandas.core.frame.DataFrame'>\n",
      "RangeIndex: 891 entries, 0 to 890\n",
      "Data columns (total 9 columns):\n",
      "PassengerId    891 non-null int64\n",
      "Survived       891 non-null int64\n",
      "Pclass         891 non-null int64\n",
      "Sex            891 non-null object\n",
      "Age            714 non-null float64\n",
      "SibSp          891 non-null int64\n",
      "Parch          891 non-null int64\n",
      "Fare           891 non-null float64\n",
      "Embarked       889 non-null object\n",
      "dtypes: float64(2), int64(5), object(2)\n",
      "memory usage: 62.7+ KB\n"
     ]
    }
   ],
   "source": [
    "cols = ['Name', 'Ticket', 'Cabin']\n",
    "train = train.drop(cols, axis=1)\n",
    "train.info()"
   ]
  },
  {
   "cell_type": "markdown",
   "metadata": {},
   "source": [
    "### 3. 관여할 칼럼들을 이진법으로 찢기"
   ]
  },
  {
   "cell_type": "code",
   "execution_count": 229,
   "metadata": {
    "collapsed": false
   },
   "outputs": [
    {
     "name": "stdout",
     "output_type": "stream",
     "text": [
      "       1    2    3\n",
      "0    0.0  0.0  1.0\n",
      "1    1.0  0.0  0.0\n",
      "2    0.0  0.0  1.0\n",
      "3    1.0  0.0  0.0\n",
      "4    0.0  0.0  1.0\n",
      "5    0.0  0.0  1.0\n",
      "6    1.0  0.0  0.0\n",
      "7    0.0  0.0  1.0\n",
      "8    0.0  0.0  1.0\n",
      "9    0.0  1.0  0.0\n",
      "10   0.0  0.0  1.0\n",
      "11   1.0  0.0  0.0\n",
      "12   0.0  0.0  1.0\n",
      "13   0.0  0.0  1.0\n",
      "14   0.0  0.0  1.0\n",
      "15   0.0  1.0  0.0\n",
      "16   0.0  0.0  1.0\n",
      "17   0.0  1.0  0.0\n",
      "18   0.0  0.0  1.0\n",
      "19   0.0  0.0  1.0\n",
      "20   0.0  1.0  0.0\n",
      "21   0.0  1.0  0.0\n",
      "22   0.0  0.0  1.0\n",
      "23   1.0  0.0  0.0\n",
      "24   0.0  0.0  1.0\n",
      "25   0.0  0.0  1.0\n",
      "26   0.0  0.0  1.0\n",
      "27   1.0  0.0  0.0\n",
      "28   0.0  0.0  1.0\n",
      "29   0.0  0.0  1.0\n",
      "..   ...  ...  ...\n",
      "861  0.0  1.0  0.0\n",
      "862  1.0  0.0  0.0\n",
      "863  0.0  0.0  1.0\n",
      "864  0.0  1.0  0.0\n",
      "865  0.0  1.0  0.0\n",
      "866  0.0  1.0  0.0\n",
      "867  1.0  0.0  0.0\n",
      "868  0.0  0.0  1.0\n",
      "869  0.0  0.0  1.0\n",
      "870  0.0  0.0  1.0\n",
      "871  1.0  0.0  0.0\n",
      "872  1.0  0.0  0.0\n",
      "873  0.0  0.0  1.0\n",
      "874  0.0  1.0  0.0\n",
      "875  0.0  0.0  1.0\n",
      "876  0.0  0.0  1.0\n",
      "877  0.0  0.0  1.0\n",
      "878  0.0  0.0  1.0\n",
      "879  1.0  0.0  0.0\n",
      "880  0.0  1.0  0.0\n",
      "881  0.0  0.0  1.0\n",
      "882  0.0  0.0  1.0\n",
      "883  0.0  1.0  0.0\n",
      "884  0.0  0.0  1.0\n",
      "885  0.0  0.0  1.0\n",
      "886  0.0  1.0  0.0\n",
      "887  1.0  0.0  0.0\n",
      "888  0.0  0.0  1.0\n",
      "889  1.0  0.0  0.0\n",
      "890  0.0  0.0  1.0\n",
      "\n",
      "[891 rows x 3 columns]\n",
      "     female  male\n",
      "0       0.0   1.0\n",
      "1       1.0   0.0\n",
      "2       1.0   0.0\n",
      "3       1.0   0.0\n",
      "4       0.0   1.0\n",
      "5       0.0   1.0\n",
      "6       0.0   1.0\n",
      "7       0.0   1.0\n",
      "8       1.0   0.0\n",
      "9       1.0   0.0\n",
      "10      1.0   0.0\n",
      "11      1.0   0.0\n",
      "12      0.0   1.0\n",
      "13      0.0   1.0\n",
      "14      1.0   0.0\n",
      "15      1.0   0.0\n",
      "16      0.0   1.0\n",
      "17      0.0   1.0\n",
      "18      1.0   0.0\n",
      "19      1.0   0.0\n",
      "20      0.0   1.0\n",
      "21      0.0   1.0\n",
      "22      1.0   0.0\n",
      "23      0.0   1.0\n",
      "24      1.0   0.0\n",
      "25      1.0   0.0\n",
      "26      0.0   1.0\n",
      "27      0.0   1.0\n",
      "28      1.0   0.0\n",
      "29      0.0   1.0\n",
      "..      ...   ...\n",
      "861     0.0   1.0\n",
      "862     1.0   0.0\n",
      "863     1.0   0.0\n",
      "864     0.0   1.0\n",
      "865     1.0   0.0\n",
      "866     1.0   0.0\n",
      "867     0.0   1.0\n",
      "868     0.0   1.0\n",
      "869     0.0   1.0\n",
      "870     0.0   1.0\n",
      "871     1.0   0.0\n",
      "872     0.0   1.0\n",
      "873     0.0   1.0\n",
      "874     1.0   0.0\n",
      "875     1.0   0.0\n",
      "876     0.0   1.0\n",
      "877     0.0   1.0\n",
      "878     0.0   1.0\n",
      "879     1.0   0.0\n",
      "880     1.0   0.0\n",
      "881     0.0   1.0\n",
      "882     1.0   0.0\n",
      "883     0.0   1.0\n",
      "884     0.0   1.0\n",
      "885     1.0   0.0\n",
      "886     0.0   1.0\n",
      "887     1.0   0.0\n",
      "888     1.0   0.0\n",
      "889     0.0   1.0\n",
      "890     0.0   1.0\n",
      "\n",
      "[891 rows x 2 columns]\n",
      "       C    Q    S\n",
      "0    0.0  0.0  1.0\n",
      "1    1.0  0.0  0.0\n",
      "2    0.0  0.0  1.0\n",
      "3    0.0  0.0  1.0\n",
      "4    0.0  0.0  1.0\n",
      "5    0.0  1.0  0.0\n",
      "6    0.0  0.0  1.0\n",
      "7    0.0  0.0  1.0\n",
      "8    0.0  0.0  1.0\n",
      "9    1.0  0.0  0.0\n",
      "10   0.0  0.0  1.0\n",
      "11   0.0  0.0  1.0\n",
      "12   0.0  0.0  1.0\n",
      "13   0.0  0.0  1.0\n",
      "14   0.0  0.0  1.0\n",
      "15   0.0  0.0  1.0\n",
      "16   0.0  1.0  0.0\n",
      "17   0.0  0.0  1.0\n",
      "18   0.0  0.0  1.0\n",
      "19   1.0  0.0  0.0\n",
      "20   0.0  0.0  1.0\n",
      "21   0.0  0.0  1.0\n",
      "22   0.0  1.0  0.0\n",
      "23   0.0  0.0  1.0\n",
      "24   0.0  0.0  1.0\n",
      "25   0.0  0.0  1.0\n",
      "26   1.0  0.0  0.0\n",
      "27   0.0  0.0  1.0\n",
      "28   0.0  1.0  0.0\n",
      "29   0.0  0.0  1.0\n",
      "..   ...  ...  ...\n",
      "861  0.0  0.0  1.0\n",
      "862  0.0  0.0  1.0\n",
      "863  0.0  0.0  1.0\n",
      "864  0.0  0.0  1.0\n",
      "865  0.0  0.0  1.0\n",
      "866  1.0  0.0  0.0\n",
      "867  0.0  0.0  1.0\n",
      "868  0.0  0.0  1.0\n",
      "869  0.0  0.0  1.0\n",
      "870  0.0  0.0  1.0\n",
      "871  0.0  0.0  1.0\n",
      "872  0.0  0.0  1.0\n",
      "873  0.0  0.0  1.0\n",
      "874  1.0  0.0  0.0\n",
      "875  1.0  0.0  0.0\n",
      "876  0.0  0.0  1.0\n",
      "877  0.0  0.0  1.0\n",
      "878  0.0  0.0  1.0\n",
      "879  1.0  0.0  0.0\n",
      "880  0.0  0.0  1.0\n",
      "881  0.0  0.0  1.0\n",
      "882  0.0  0.0  1.0\n",
      "883  0.0  0.0  1.0\n",
      "884  0.0  0.0  1.0\n",
      "885  0.0  1.0  0.0\n",
      "886  0.0  0.0  1.0\n",
      "887  0.0  0.0  1.0\n",
      "888  0.0  0.0  1.0\n",
      "889  1.0  0.0  0.0\n",
      "890  0.0  1.0  0.0\n",
      "\n",
      "[891 rows x 3 columns]\n"
     ]
    }
   ],
   "source": [
    "dummies = []\n",
    "cols = ['Pclass','Sex','Embarked']\n",
    "for col in cols:\n",
    "    print(pd.get_dummies(train[col]))\n",
    "    dummies.append(pd.get_dummies(train[col]))"
   ]
  },
  {
   "cell_type": "code",
   "execution_count": 230,
   "metadata": {
    "collapsed": false
   },
   "outputs": [
    {
     "name": "stdout",
     "output_type": "stream",
     "text": [
      "<class 'pandas.core.frame.DataFrame'>\n",
      "RangeIndex: 891 entries, 0 to 890\n",
      "Data columns (total 8 columns):\n",
      "1         891 non-null float64\n",
      "2         891 non-null float64\n",
      "3         891 non-null float64\n",
      "female    891 non-null float64\n",
      "male      891 non-null float64\n",
      "C         891 non-null float64\n",
      "Q         891 non-null float64\n",
      "S         891 non-null float64\n",
      "dtypes: float64(8)\n",
      "memory usage: 55.8 KB\n"
     ]
    }
   ],
   "source": [
    "titanic_dummies = pd.concat(dummies,axis=1)\n",
    "titanic_dummies.info()"
   ]
  },
  {
   "cell_type": "markdown",
   "metadata": {},
   "source": [
    "### 4. 메인 pandas 객체에게 연결하기"
   ]
  },
  {
   "cell_type": "code",
   "execution_count": 231,
   "metadata": {
    "collapsed": false
   },
   "outputs": [
    {
     "name": "stdout",
     "output_type": "stream",
     "text": [
      "<class 'pandas.core.frame.DataFrame'>\n",
      "RangeIndex: 891 entries, 0 to 890\n",
      "Data columns (total 17 columns):\n",
      "PassengerId    891 non-null int64\n",
      "Survived       891 non-null int64\n",
      "Pclass         891 non-null int64\n",
      "Sex            891 non-null object\n",
      "Age            714 non-null float64\n",
      "SibSp          891 non-null int64\n",
      "Parch          891 non-null int64\n",
      "Fare           891 non-null float64\n",
      "Embarked       889 non-null object\n",
      "1              891 non-null float64\n",
      "2              891 non-null float64\n",
      "3              891 non-null float64\n",
      "female         891 non-null float64\n",
      "male           891 non-null float64\n",
      "C              891 non-null float64\n",
      "Q              891 non-null float64\n",
      "S              891 non-null float64\n",
      "dtypes: float64(10), int64(5), object(2)\n",
      "memory usage: 118.4+ KB\n"
     ]
    }
   ],
   "source": [
    "train = pd.concat((train, titanic_dummies), axis=1)\n",
    "train.info()"
   ]
  },
  {
   "cell_type": "markdown",
   "metadata": {},
   "source": [
    "### 5. 찢었다 이어붙인 칼럼은 원본에서 떨어뜨리기"
   ]
  },
  {
   "cell_type": "code",
   "execution_count": 232,
   "metadata": {
    "collapsed": false
   },
   "outputs": [
    {
     "name": "stdout",
     "output_type": "stream",
     "text": [
      "<class 'pandas.core.frame.DataFrame'>\n",
      "RangeIndex: 891 entries, 0 to 890\n",
      "Data columns (total 14 columns):\n",
      "PassengerId    891 non-null int64\n",
      "Survived       891 non-null int64\n",
      "Age            714 non-null float64\n",
      "SibSp          891 non-null int64\n",
      "Parch          891 non-null int64\n",
      "Fare           891 non-null float64\n",
      "1              891 non-null float64\n",
      "2              891 non-null float64\n",
      "3              891 non-null float64\n",
      "female         891 non-null float64\n",
      "male           891 non-null float64\n",
      "C              891 non-null float64\n",
      "Q              891 non-null float64\n",
      "S              891 non-null float64\n",
      "dtypes: float64(10), int64(4)\n",
      "memory usage: 97.5 KB\n"
     ]
    }
   ],
   "source": [
    "train = train.drop(['Pclass', 'Sex', 'Embarked'], axis=1)\n",
    "train.info()"
   ]
  },
  {
   "cell_type": "markdown",
   "metadata": {},
   "source": [
    "### 6. Age 칼럼의 빈 칸을 적절한 평균값으로 채우기"
   ]
  },
  {
   "cell_type": "code",
   "execution_count": 233,
   "metadata": {
    "collapsed": false
   },
   "outputs": [
    {
     "name": "stdout",
     "output_type": "stream",
     "text": [
      "<class 'pandas.core.frame.DataFrame'>\n",
      "RangeIndex: 891 entries, 0 to 890\n",
      "Data columns (total 14 columns):\n",
      "PassengerId    891 non-null int64\n",
      "Survived       891 non-null int64\n",
      "Age            891 non-null float64\n",
      "SibSp          891 non-null int64\n",
      "Parch          891 non-null int64\n",
      "Fare           891 non-null float64\n",
      "1              891 non-null float64\n",
      "2              891 non-null float64\n",
      "3              891 non-null float64\n",
      "female         891 non-null float64\n",
      "male           891 non-null float64\n",
      "C              891 non-null float64\n",
      "Q              891 non-null float64\n",
      "S              891 non-null float64\n",
      "dtypes: float64(10), int64(4)\n",
      "memory usage: 97.5 KB\n"
     ]
    }
   ],
   "source": [
    "train['Age'] = train['Age'].interpolate()\n",
    "train.info()"
   ]
  },
  {
   "cell_type": "markdown",
   "metadata": {},
   "source": [
    "### 7. NaN 내용물은 모두 떨어뜨려내기"
   ]
  },
  {
   "cell_type": "code",
   "execution_count": 234,
   "metadata": {
    "collapsed": false
   },
   "outputs": [
    {
     "name": "stdout",
     "output_type": "stream",
     "text": [
      "<class 'pandas.core.frame.DataFrame'>\n",
      "Int64Index: 891 entries, 0 to 890\n",
      "Data columns (total 14 columns):\n",
      "PassengerId    891 non-null int64\n",
      "Survived       891 non-null int64\n",
      "Age            891 non-null float64\n",
      "SibSp          891 non-null int64\n",
      "Parch          891 non-null int64\n",
      "Fare           891 non-null float64\n",
      "1              891 non-null float64\n",
      "2              891 non-null float64\n",
      "3              891 non-null float64\n",
      "female         891 non-null float64\n",
      "male           891 non-null float64\n",
      "C              891 non-null float64\n",
      "Q              891 non-null float64\n",
      "S              891 non-null float64\n",
      "dtypes: float64(10), int64(4)\n",
      "memory usage: 104.4 KB\n"
     ]
    }
   ],
   "source": [
    "train = train.dropna()\n",
    "train.info()"
   ]
  },
  {
   "cell_type": "markdown",
   "metadata": {},
   "source": [
    "## sklearn 적용하기\n",
    "### 8. 데이터 리펙토링하기\n",
    "#### X에는 Survived 칼럼만 없애고, y에는  Survived 칼럼만 남긴다"
   ]
  },
  {
   "cell_type": "code",
   "execution_count": 235,
   "metadata": {
    "collapsed": false
   },
   "outputs": [],
   "source": [
    "from sklearn import cross_validation\n",
    "import numpy as np\n",
    "y = train['Survived'].values\n",
    "X = train.values\n",
    "X = np.delete(X,1,axis=1)"
   ]
  },
  {
   "cell_type": "markdown",
   "metadata": {},
   "source": [
    "### 9. train data -> train, test 로 자동으로 찢어주는 함수"
   ]
  },
  {
   "cell_type": "code",
   "execution_count": 236,
   "metadata": {
    "collapsed": false
   },
   "outputs": [
    {
     "data": {
      "text/plain": [
       "numpy.ndarray"
      ]
     },
     "execution_count": 236,
     "metadata": {},
     "output_type": "execute_result"
    }
   ],
   "source": [
    "X_train, X_test, y_train, y_test = cross_validation.train_test_split(X, y, test_size=0.3, random_state=0)\n",
    "type(X_train)"
   ]
  },
  {
   "cell_type": "markdown",
   "metadata": {},
   "source": [
    "### 10. DecisionTree 구축, score 도 뽑아보기"
   ]
  },
  {
   "cell_type": "code",
   "execution_count": 237,
   "metadata": {
    "collapsed": false
   },
   "outputs": [
    {
     "data": {
      "text/plain": [
       "0.79104477611940294"
      ]
     },
     "execution_count": 237,
     "metadata": {},
     "output_type": "execute_result"
    }
   ],
   "source": [
    "from sklearn import tree\n",
    "dt = tree.DecisionTreeClassifier(max_depth=5)\n",
    "dt.fit(X_train, y_train)\n",
    "dt.score(X_test, y_test)"
   ]
  },
  {
   "cell_type": "markdown",
   "metadata": {},
   "source": [
    "#### 여기서 decisiontree 로부터 결과값을 predict 하여 제출하기 위해서는 test.csv 로 부터 읽은 내용도 \n",
    "#### 위와 동일한 작업을 그대로 거쳐야 함. 따라서 일련의 과정을 함수로 정의"
   ]
  },
  {
   "cell_type": "markdown",
   "metadata": {},
   "source": [
    "### 11. 모듈 정의"
   ]
  },
  {
   "cell_type": "code",
   "execution_count": 238,
   "metadata": {
    "collapsed": true
   },
   "outputs": [],
   "source": [
    "def pandas_drop_columns(pandas_object):\n",
    "    cols = ['Name', 'Ticket', 'Cabin']\n",
    "    pandas_object = pandas_object.drop(cols, axis=1)\n",
    "    # pandas_object = pandas_object.dropna()\n",
    "    return pandas_object\n",
    "\n",
    "def pandas_convert_columns(pandas_object):\n",
    "    dummies = []\n",
    "    cols = ['Pclass', 'Sex', 'Embarked']\n",
    "    for col in cols:\n",
    "        dummies.append(pd.get_dummies(pandas_object[col]))\n",
    "    temp_dummies = pd.concat(dummies, axis=1)\n",
    "    pandas_object = pd.concat((pandas_object, temp_dummies), axis=1)\n",
    "    pandas_object = pandas_object.drop(['Pclass', 'Sex', 'Embarked'], axis=1)\n",
    "    pandas_object['Age'] = pandas_object['Age'].interpolate()\n",
    "    pandas_object['Fare'] = pandas_object['Fare'].interpolate()\n",
    "    pandas_object = pandas_object.dropna()\n",
    "    return pandas_object"
   ]
  },
  {
   "cell_type": "markdown",
   "metadata": {},
   "source": [
    "### 12. 모듈이 제대로 동작하는지 테스트"
   ]
  },
  {
   "cell_type": "code",
   "execution_count": 239,
   "metadata": {
    "collapsed": true
   },
   "outputs": [],
   "source": [
    "function_train = pd.read_csv('train.csv')"
   ]
  },
  {
   "cell_type": "code",
   "execution_count": 240,
   "metadata": {
    "collapsed": false
   },
   "outputs": [
    {
     "name": "stdout",
     "output_type": "stream",
     "text": [
      "<class 'pandas.core.frame.DataFrame'>\n",
      "Int64Index: 891 entries, 0 to 890\n",
      "Data columns (total 14 columns):\n",
      "PassengerId    891 non-null int64\n",
      "Survived       891 non-null int64\n",
      "Age            891 non-null float64\n",
      "SibSp          891 non-null int64\n",
      "Parch          891 non-null int64\n",
      "Fare           891 non-null float64\n",
      "1              891 non-null float64\n",
      "2              891 non-null float64\n",
      "3              891 non-null float64\n",
      "female         891 non-null float64\n",
      "male           891 non-null float64\n",
      "C              891 non-null float64\n",
      "Q              891 non-null float64\n",
      "S              891 non-null float64\n",
      "dtypes: float64(10), int64(4)\n",
      "memory usage: 104.4 KB\n"
     ]
    }
   ],
   "source": [
    "function_train = pandas_drop_columns(function_train)\n",
    "function_train = pandas_convert_columns(function_train)\n",
    "function_train.info()"
   ]
  },
  {
   "cell_type": "code",
   "execution_count": 241,
   "metadata": {
    "collapsed": true
   },
   "outputs": [],
   "source": [
    "from sklearn import cross_validation\n",
    "import numpy as np\n",
    "y = function_train['Survived'].values\n",
    "X = function_train.values\n",
    "X = np.delete(X,1,axis=1)"
   ]
  },
  {
   "cell_type": "code",
   "execution_count": 242,
   "metadata": {
    "collapsed": false
   },
   "outputs": [
    {
     "data": {
      "text/plain": [
       "numpy.ndarray"
      ]
     },
     "execution_count": 242,
     "metadata": {},
     "output_type": "execute_result"
    }
   ],
   "source": [
    "X_train, X_test, y_train, y_test = cross_validation.train_test_split(X, y, test_size=0.3, random_state=0)\n",
    "type(X_train)"
   ]
  },
  {
   "cell_type": "code",
   "execution_count": 243,
   "metadata": {
    "collapsed": false
   },
   "outputs": [
    {
     "data": {
      "text/plain": [
       "0.78358208955223885"
      ]
     },
     "execution_count": 243,
     "metadata": {},
     "output_type": "execute_result"
    }
   ],
   "source": [
    "from sklearn import tree\n",
    "dt = tree.DecisionTreeClassifier(max_depth=6)\n",
    "dt.fit(X_train, y_train)\n",
    "dt.score(X_test, y_test)"
   ]
  },
  {
   "cell_type": "code",
   "execution_count": null,
   "metadata": {
    "collapsed": true
   },
   "outputs": [],
   "source": []
  },
  {
   "cell_type": "code",
   "execution_count": null,
   "metadata": {
    "collapsed": true
   },
   "outputs": [],
   "source": []
  },
  {
   "cell_type": "markdown",
   "metadata": {},
   "source": [
    "### 13. test.csv 에 대해서도 모듈일 적용"
   ]
  },
  {
   "cell_type": "code",
   "execution_count": 244,
   "metadata": {
    "collapsed": false
   },
   "outputs": [
    {
     "name": "stdout",
     "output_type": "stream",
     "text": [
      "<class 'pandas.core.frame.DataFrame'>\n",
      "Int64Index: 418 entries, 0 to 417\n",
      "Data columns (total 13 columns):\n",
      "PassengerId    418 non-null int64\n",
      "Age            418 non-null float64\n",
      "SibSp          418 non-null int64\n",
      "Parch          418 non-null int64\n",
      "Fare           418 non-null float64\n",
      "1              418 non-null float64\n",
      "2              418 non-null float64\n",
      "3              418 non-null float64\n",
      "female         418 non-null float64\n",
      "male           418 non-null float64\n",
      "C              418 non-null float64\n",
      "Q              418 non-null float64\n",
      "S              418 non-null float64\n",
      "dtypes: float64(10), int64(3)\n",
      "memory usage: 45.7 KB\n",
      "None\n",
      "<class 'pandas.core.frame.DataFrame'>\n",
      "<class 'numpy.ndarray'>\n",
      "<class 'numpy.ndarray'>\n"
     ]
    }
   ],
   "source": [
    "test = pd.read_csv('test.csv')\n",
    "test = pandas_drop_columns(test)\n",
    "test = pandas_convert_columns(test)\n",
    "print(test.info())\n",
    "print(type(test))        # DataFrame\n",
    "print(type(test.values)) # ndarray\n",
    "y_result = dt.predict(test.values) \n",
    "print(type(y_result))    # ndarray"
   ]
  },
  {
   "cell_type": "markdown",
   "metadata": {},
   "source": [
    "### 14. test 에 대해서 numpy 형태로 만들고 제출형식에 맞도록 이어 붙이기"
   ]
  },
  {
   "cell_type": "code",
   "execution_count": 245,
   "metadata": {
    "collapsed": false
   },
   "outputs": [],
   "source": [
    "X_result_np = test.values\n",
    "# print(X_result_np)\n",
    "output = np.column_stack((X_result_np[:,0], y_result))\n",
    "# x_result 에서는 PassengerId 만 가져와야하고\n",
    "# y_result 에서는 Survived 칼럼을 가져와야함\n",
    "# 그리고 이 두개를 이어 붙인다"
   ]
  },
  {
   "cell_type": "markdown",
   "metadata": {},
   "source": [
    "### 15. 제출형식에 맞게 만들어서"
   ]
  },
  {
   "cell_type": "code",
   "execution_count": 246,
   "metadata": {
    "collapsed": false
   },
   "outputs": [
    {
     "name": "stdout",
     "output_type": "stream",
     "text": [
      "<class 'pandas.core.frame.DataFrame'>\n",
      "RangeIndex: 418 entries, 0 to 417\n",
      "Data columns (total 2 columns):\n",
      "PassengerID    418 non-null int64\n",
      "Survived       418 non-null int64\n",
      "dtypes: int64(2)\n",
      "memory usage: 6.6 KB\n"
     ]
    }
   ],
   "source": [
    "submission_format = pd.DataFrame(output.astype('int'), columns=['PassengerID', 'Survived'])\n",
    "submission_format.info()"
   ]
  },
  {
   "cell_type": "markdown",
   "metadata": {},
   "source": [
    "### 16. 제출"
   ]
  },
  {
   "cell_type": "code",
   "execution_count": 247,
   "metadata": {
    "collapsed": true
   },
   "outputs": [],
   "source": [
    "submission_format.to_csv('discisoin_tree_depth6.csv', index=False)"
   ]
  },
  {
   "cell_type": "markdown",
   "metadata": {},
   "source": [
    "# 더 예측률을 높이고자 한다면"
   ]
  },
  {
   "cell_type": "markdown",
   "metadata": {},
   "source": [
    "##  RandomForeset 와 GradientBoosting을 이용하기"
   ]
  },
  {
   "cell_type": "markdown",
   "metadata": {},
   "source": [
    "### 17. RandomForest "
   ]
  },
  {
   "cell_type": "code",
   "execution_count": 248,
   "metadata": {
    "collapsed": false
   },
   "outputs": [
    {
     "data": {
      "text/plain": [
       "0.80597014925373134"
      ]
     },
     "execution_count": 248,
     "metadata": {},
     "output_type": "execute_result"
    }
   ],
   "source": [
    "from sklearn import ensemble\n",
    "dt = ensemble.RandomForestClassifier(n_estimators=100)\n",
    "dt.fit(X_train, y_train)\n",
    "dt.score(X_test, y_test)"
   ]
  },
  {
   "cell_type": "markdown",
   "metadata": {},
   "source": [
    "### 18 GradientBoosting"
   ]
  },
  {
   "cell_type": "code",
   "execution_count": 249,
   "metadata": {
    "collapsed": false
   },
   "outputs": [],
   "source": [
    "# dt = ensemble.GradientBoostingClassifier()\n",
    "# dt.fit(X_train, y_train)\n",
    "# dt.score(X_test, y_test)"
   ]
  },
  {
   "cell_type": "code",
   "execution_count": 250,
   "metadata": {
    "collapsed": false
   },
   "outputs": [
    {
     "name": "stdout",
     "output_type": "stream",
     "text": [
      "<class 'pandas.core.frame.DataFrame'>\n",
      "Int64Index: 418 entries, 0 to 417\n",
      "Data columns (total 13 columns):\n",
      "PassengerId    418 non-null int64\n",
      "Age            418 non-null float64\n",
      "SibSp          418 non-null int64\n",
      "Parch          418 non-null int64\n",
      "Fare           418 non-null float64\n",
      "1              418 non-null float64\n",
      "2              418 non-null float64\n",
      "3              418 non-null float64\n",
      "female         418 non-null float64\n",
      "male           418 non-null float64\n",
      "C              418 non-null float64\n",
      "Q              418 non-null float64\n",
      "S              418 non-null float64\n",
      "dtypes: float64(10), int64(3)\n",
      "memory usage: 45.7 KB\n",
      "None\n",
      "<class 'pandas.core.frame.DataFrame'>\n",
      "<class 'numpy.ndarray'>\n"
     ]
    }
   ],
   "source": [
    "test = pd.read_csv('test.csv')\n",
    "test = pandas_drop_columns(test)\n",
    "test = pandas_convert_columns(test)\n",
    "print(test.info())\n",
    "print(type(test))        # DataFrame\n",
    "print(type(test.values)) # ndarray\n",
    "y_result = dt.predict(test.values) "
   ]
  },
  {
   "cell_type": "markdown",
   "metadata": {},
   "source": [
    "### 19. 새 결과물 제출"
   ]
  },
  {
   "cell_type": "code",
   "execution_count": 251,
   "metadata": {
    "collapsed": false
   },
   "outputs": [
    {
     "name": "stdout",
     "output_type": "stream",
     "text": [
      "<class 'pandas.core.frame.DataFrame'>\n",
      "RangeIndex: 418 entries, 0 to 417\n",
      "Data columns (total 2 columns):\n",
      "PassengerID    418 non-null int64\n",
      "Survived       418 non-null int64\n",
      "dtypes: int64(2)\n",
      "memory usage: 6.6 KB\n"
     ]
    }
   ],
   "source": [
    "X_result_np = test.values\n",
    "# print(X_result_np)\n",
    "output = np.column_stack((X_result_np[:,0], y_result))\n",
    "\n",
    "submission_format = pd.DataFrame(output.astype('int'), columns=['PassengerID', 'Survived'])\n",
    "submission_format.info()\n",
    "\n",
    "submission_format.to_csv('random_tree_depth6.csv', index=False)"
   ]
  },
  {
   "cell_type": "code",
   "execution_count": null,
   "metadata": {
    "collapsed": true
   },
   "outputs": [],
   "source": []
  }
 ],
 "metadata": {
  "kernelspec": {
   "display_name": "Python 3",
   "language": "python",
   "name": "python3"
  },
  "language_info": {
   "codemirror_mode": {
    "name": "ipython",
    "version": 3
   },
   "file_extension": ".py",
   "mimetype": "text/x-python",
   "name": "python",
   "nbconvert_exporter": "python",
   "pygments_lexer": "ipython3",
   "version": "3.5.1"
  }
 },
 "nbformat": 4,
 "nbformat_minor": 0
}
