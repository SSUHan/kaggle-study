{
 "cells": [
  {
   "cell_type": "markdown",
   "metadata": {},
   "source": [
    "# read csv"
   ]
  },
  {
   "cell_type": "code",
   "execution_count": 1,
   "metadata": {
    "collapsed": true
   },
   "outputs": [],
   "source": [
    "import pandas as pd\n",
    "\n",
    "import numpy as np\n",
    "\n",
    "df = pd.read_csv('train.csv')"
   ]
  },
  {
   "cell_type": "markdown",
   "metadata": {},
   "source": [
    "# clean data"
   ]
  },
  {
   "cell_type": "code",
   "execution_count": 2,
   "metadata": {
    "collapsed": true
   },
   "outputs": [],
   "source": [
    "df = pd.concat([df, pd.get_dummies(df['DayOfWeek'], prefix='DayOfWeek')], axis=1)\n",
    "\n",
    "df = pd.concat([df, pd.get_dummies(df['PdDistrict'], prefix='PdDistrict')], axis=1)"
   ]
  },
  {
   "cell_type": "code",
   "execution_count": 3,
   "metadata": {
    "collapsed": true
   },
   "outputs": [],
   "source": [
    "df = pd.concat([df, pd.get_dummies(df.Dates.map(lambda x: pd.to_datetime(x).hour), prefix=\"hour\")], axis=1)\n",
    "\n",
    "df = pd.concat([df, pd.get_dummies(df.Dates.map(lambda x: pd.to_datetime(x).month), prefix=\"month\")], axis=1)\n",
    "\n",
    "df = pd.concat([df, pd.get_dummies(df.Dates.map(lambda x: pd.to_datetime(x).year), prefix=\"year\")], axis=1)"
   ]
  },
  {
   "cell_type": "code",
   "execution_count": 4,
   "metadata": {
    "collapsed": true
   },
   "outputs": [],
   "source": [
    "columns = df.columns.values[7:]\n",
    "\n",
    "x = df[columns]\n",
    "y = df['Category']"
   ]
  },
  {
   "cell_type": "markdown",
   "metadata": {},
   "source": [
    "#  grid search"
   ]
  },
  {
   "cell_type": "code",
   "execution_count": 5,
   "metadata": {
    "collapsed": true
   },
   "outputs": [],
   "source": [
    "from sklearn.tree import DecisionTreeClassifier\n",
    "from sklearn.grid_search import GridSearchCV\n",
    "\n",
    "parameter_grid = {\n",
    "    'max_depth': [1,2,3,4,5,6,7,8,9]\n",
    "}\n",
    "\n",
    "grid_search = GridSearchCV(DecisionTreeClassifier(), parameter_grid, cv=3, verbose=3)"
   ]
  },
  {
   "cell_type": "code",
   "execution_count": 6,
   "metadata": {
    "collapsed": false
   },
   "outputs": [
    {
     "name": "stdout",
     "output_type": "stream",
     "text": [
      "Fitting 3 folds for each of 9 candidates, totalling 27 fits\n",
      "[CV] max_depth=1 .....................................................\n",
      "[CV] ............................ max_depth=1, score=0.199181 -   3.2s\n",
      "[CV] max_depth=1 .....................................................\n",
      "[CV] ............................ max_depth=1, score=0.157861 -   3.2s\n",
      "[CV] max_depth=1 .....................................................\n",
      "[CV] ............................ max_depth=1, score=0.162245 -   3.2s\n",
      "[CV] max_depth=2 .....................................................\n",
      "[CV] ............................ max_depth=2, score=0.202847 -   3.6s\n",
      "[CV] max_depth=2 .....................................................\n",
      "[CV] ............................ max_depth=2, score=0.116044 -   3.6s\n",
      "[CV] max_depth=2 .....................................................\n",
      "[CV] ............................ max_depth=2, score=0.166082 -   3.6s\n",
      "[CV] max_depth=3 .....................................................\n",
      "[CV] ............................ max_depth=3, score=0.205747 -   4.0s\n",
      "[CV] max_depth=3 .....................................................\n",
      "[CV] ............................ max_depth=3, score=0.130552 -   4.1s\n",
      "[CV] max_depth=3 .....................................................\n",
      "[CV] ............................ max_depth=3, score=0.179517 -   4.0s\n",
      "[CV] max_depth=4 .....................................................\n",
      "[CV] ............................ max_depth=4, score=0.207982 -   4.5s\n",
      "[CV] max_depth=4 .....................................................\n",
      "[CV] ............................ max_depth=4, score=0.131744 -   4.6s\n",
      "[CV] max_depth=4 .....................................................\n",
      "[CV] ............................ max_depth=4, score=0.131873 -   4.6s\n",
      "[CV] max_depth=5 .....................................................\n",
      "[CV] ............................ max_depth=5, score=0.209218 -   5.0s\n",
      "[CV] max_depth=5 .....................................................\n",
      "[CV] ............................ max_depth=5, score=0.107004 -   4.8s\n",
      "[CV] max_depth=5 .....................................................\n",
      "[CV] ............................ max_depth=5, score=0.137046 -   5.0s\n",
      "[CV] max_depth=6 .....................................................\n",
      "[CV] ............................ max_depth=6, score=0.207052 -   5.7s\n",
      "[CV] max_depth=6 .....................................................\n",
      "[CV] ............................ max_depth=6, score=0.101865 -   6.4s\n",
      "[CV] max_depth=6 .....................................................\n",
      "[CV] ............................ max_depth=6, score=0.137896 -   5.5s\n",
      "[CV] max_depth=7 .....................................................\n",
      "[CV] ............................ max_depth=7, score=0.202505 -   6.1s\n",
      "[CV] max_depth=7 .....................................................\n",
      "[CV] ............................ max_depth=7, score=0.100194 -   6.4s\n",
      "[CV] max_depth=7 .....................................................\n",
      "[CV] ............................ max_depth=7, score=0.134876 -   6.5s\n",
      "[CV] max_depth=8 .....................................................\n",
      "[CV] ............................ max_depth=8, score=0.205535 -   6.8s\n",
      "[CV] max_depth=8 .....................................................\n",
      "[CV] ............................ max_depth=8, score=0.100567 -   7.6s\n",
      "[CV] max_depth=8 .....................................................\n",
      "[CV] ............................ max_depth=8, score=0.136342 -   7.4s\n",
      "[CV] max_depth=9 .....................................................\n",
      "[CV] ............................ max_depth=9, score=0.210397 -   6.7s\n",
      "[CV] max_depth=9 .....................................................\n",
      "[CV] ............................ max_depth=9, score=0.102091 -   7.9s\n",
      "[CV] max_depth=9 .....................................................\n",
      "[CV] ............................ max_depth=9, score=0.135235 -   6.8s\n"
     ]
    },
    {
     "name": "stderr",
     "output_type": "stream",
     "text": [
      "[Parallel(n_jobs=1)]: Done  27 out of  27 | elapsed:  2.4min finished\n"
     ]
    },
    {
     "data": {
      "text/plain": [
       "GridSearchCV(cv=3, error_score='raise',\n",
       "       estimator=DecisionTreeClassifier(class_weight=None, criterion='gini', max_depth=None,\n",
       "            max_features=None, max_leaf_nodes=None, min_samples_leaf=1,\n",
       "            min_samples_split=2, min_weight_fraction_leaf=0.0,\n",
       "            presort=False, random_state=None, splitter='best'),\n",
       "       fit_params={}, iid=True, n_jobs=1,\n",
       "       param_grid={'max_depth': [1, 2, 3, 4, 5, 6, 7, 8, 9]},\n",
       "       pre_dispatch='2*n_jobs', refit=True, scoring=None, verbose=3)"
      ]
     },
     "execution_count": 6,
     "metadata": {},
     "output_type": "execute_result"
    }
   ],
   "source": [
    "grid_search.fit(x, y)"
   ]
  },
  {
   "cell_type": "code",
   "execution_count": 7,
   "metadata": {
    "collapsed": false
   },
   "outputs": [
    {
     "data": {
      "text/plain": [
       "[mean: 0.14586, std: 0.04248, params: {'max_depth': 7},\n",
       " mean: 0.14748, std: 0.04357, params: {'max_depth': 8},\n",
       " mean: 0.14894, std: 0.04365, params: {'max_depth': 6},\n",
       " mean: 0.14924, std: 0.04531, params: {'max_depth': 9},\n",
       " mean: 0.15109, std: 0.04289, params: {'max_depth': 5},\n",
       " mean: 0.15720, std: 0.03591, params: {'max_depth': 4},\n",
       " mean: 0.16166, std: 0.03557, params: {'max_depth': 2},\n",
       " mean: 0.17194, std: 0.03116, params: {'max_depth': 3},\n",
       " mean: 0.17310, std: 0.01853, params: {'max_depth': 1}]"
      ]
     },
     "execution_count": 7,
     "metadata": {},
     "output_type": "execute_result"
    }
   ],
   "source": [
    "sorted(grid_search.grid_scores_, key=lambda x: x.mean_validation_score)"
   ]
  },
  {
   "cell_type": "markdown",
   "metadata": {},
   "source": [
    "# decision tree model fit"
   ]
  },
  {
   "cell_type": "code",
   "execution_count": 8,
   "metadata": {
    "collapsed": true
   },
   "outputs": [],
   "source": [
    "x_data = x.values\n",
    "y_data = y.values"
   ]
  },
  {
   "cell_type": "code",
   "execution_count": 9,
   "metadata": {
    "collapsed": false
   },
   "outputs": [
    {
     "data": {
      "text/plain": [
       "DecisionTreeClassifier(class_weight=None, criterion='gini', max_depth=7,\n",
       "            max_features=None, max_leaf_nodes=None, min_samples_leaf=1,\n",
       "            min_samples_split=2, min_weight_fraction_leaf=0.0,\n",
       "            presort=False, random_state=None, splitter='best')"
      ]
     },
     "execution_count": 9,
     "metadata": {},
     "output_type": "execute_result"
    }
   ],
   "source": [
    "model = DecisionTreeClassifier(max_depth=7)\n",
    "model.fit(x_data, y_data)"
   ]
  },
  {
   "cell_type": "markdown",
   "metadata": {},
   "source": [
    "# make result"
   ]
  },
  {
   "cell_type": "code",
   "execution_count": 10,
   "metadata": {
    "collapsed": false
   },
   "outputs": [],
   "source": [
    "test_df = pd.read_csv('test.csv')"
   ]
  },
  {
   "cell_type": "code",
   "execution_count": 11,
   "metadata": {
    "collapsed": false
   },
   "outputs": [],
   "source": [
    "test_df = pd.concat([test_df, pd.get_dummies(test_df['DayOfWeek'], prefix='DayOfWeek')], axis=1)\n",
    "test_df = pd.concat([test_df, pd.get_dummies(test_df['PdDistrict'], prefix='PdDistrict')], axis=1)\n",
    "test_df = pd.concat([test_df, pd.get_dummies(test_df.Dates.map(lambda x: pd.to_datetime(x).hour), prefix=\"hour\")], axis=1)\n",
    "test_df = pd.concat([test_df, pd.get_dummies(test_df.Dates.map(lambda x: pd.to_datetime(x).month), prefix=\"month\")], axis=1)\n",
    "test_df = pd.concat([test_df, pd.get_dummies(test_df.Dates.map(lambda x: pd.to_datetime(x).year), prefix=\"year\")], axis=1)"
   ]
  },
  {
   "cell_type": "code",
   "execution_count": 12,
   "metadata": {
    "collapsed": false
   },
   "outputs": [],
   "source": [
    "test_values = test_df[test_df.columns.values[5:]].values"
   ]
  },
  {
   "cell_type": "code",
   "execution_count": 13,
   "metadata": {
    "collapsed": false
   },
   "outputs": [],
   "source": [
    "output = model.predict_proba(test_values)"
   ]
  },
  {
   "cell_type": "code",
   "execution_count": 14,
   "metadata": {
    "collapsed": false
   },
   "outputs": [],
   "source": [
    "b = model.classes_\n",
    "columns = np.append(['Id'], b)\n",
    "\n",
    "test_data = test_df.values\n",
    "\n",
    "result = np.c_[test_data[:,0].astype(int), output.astype(float)]\n",
    "\n",
    "\n",
    "df_result = pd.DataFrame(result[:,:],columns=columns)\n",
    "\n",
    "df_result['Id'] = df_result['Id'].astype(int)\n",
    "\n",
    "df_result.to_csv('first.csv', index=False)"
   ]
  }
 ],
 "metadata": {
  "anaconda-cloud": {},
  "kernelspec": {
   "display_name": "Python [Root]",
   "language": "python",
   "name": "Python [Root]"
  },
  "language_info": {
   "codemirror_mode": {
    "name": "ipython",
    "version": 3
   },
   "file_extension": ".py",
   "mimetype": "text/x-python",
   "name": "python",
   "nbconvert_exporter": "python",
   "pygments_lexer": "ipython3",
   "version": "3.5.2"
  }
 },
 "nbformat": 4,
 "nbformat_minor": 0
}
