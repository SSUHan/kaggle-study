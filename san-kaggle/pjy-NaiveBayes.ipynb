{
 "cells": [
  {
   "cell_type": "code",
   "execution_count": null,
   "metadata": {
    "collapsed": false,
    "scrolled": false
   },
   "outputs": [],
   "source": [
    "import numpy as np\n",
    "import pandas as pd\n",
    "from sklearn.naive_bayes import MultinomialNB, BernoulliNB, GaussianNB\n",
    "import gzip, csv\n",
    "\n",
    "train = pd.read_csv(\"../input/train.csv\")\n",
    "y = train.Category.values\n",
    "train = train.drop(['Address', 'Category', 'Dates', 'Descript', 'X', 'Y', 'Resolution'], axis=1)\n",
    "print(\"get datasets\")"
   ]
  },
  {
   "cell_type": "code",
   "execution_count": null,
   "metadata": {
    "collapsed": false
   },
   "outputs": [],
   "source": [
    "days = {}\n",
    "cnt=0\n",
    "for i in np.unique(train.DayOfWeek.values):\n",
    "    days[i] = cnt\n",
    "    cnt+=1\n",
    "\n",
    "dict ={'DayOfWeek' : days}\n",
    "\n",
    "PdDis = {}\n",
    "cnt=0\n",
    "for i in np.unique(train.PdDistrict.values):\n",
    "    PdDis[i] = cnt\n",
    "    cnt+=1\n",
    "\n",
    "dict['PdDistrict'] = PdDis\n",
    "train.head()"
   ]
  },
  {
   "cell_type": "code",
   "execution_count": null,
   "metadata": {
    "collapsed": false,
    "scrolled": true
   },
   "outputs": [],
   "source": [
    "train = train.replace(dict)\n",
    "\n",
    "model = BernoulliNB()\n",
    "# model = GaussianNB()\n",
    "# model = MultinomialNB()\n",
    "model.fit(train,y)"
   ]
  },
  {
   "cell_type": "code",
   "execution_count": null,
   "metadata": {
    "collapsed": true
   },
   "outputs": [],
   "source": [
    "test = pd.read_csv(r'../input/test.csv')\n",
    "idx = test.Id.values\n",
    "test = test.drop(['Id','Dates','Address','X','Y'],axis=1)\n",
    "\n",
    "test = test.replace(dict)"
   ]
  },
  {
   "cell_type": "code",
   "execution_count": null,
   "metadata": {
    "collapsed": false
   },
   "outputs": [],
   "source": [
    "predicted = np.array(model.predict_proba(test))\n",
    "labels = ['Id']\n",
    "for i in model.classes_:\n",
    "    labels.append(i)\n",
    "with gzip.open('bernoulinb2.csv.gz', 'wt') as outf:\n",
    "  fo = csv.writer(outf, lineterminator='\\n')\n",
    "  fo.writerow(labels)\n",
    "\n",
    "  for i, pred in enumerate(predicted):\n",
    "    fo.writerow([i] + list(pred))"
   ]
  }
 ],
 "metadata": {
  "anaconda-cloud": {},
  "kernelspec": {
   "display_name": "Python 3",
   "language": "python",
   "name": "python3"
  },
  "language_info": {
   "codemirror_mode": {
    "name": "ipython",
    "version": 3
   },
   "file_extension": ".py",
   "mimetype": "text/x-python",
   "name": "python",
   "nbconvert_exporter": "python",
   "pygments_lexer": "ipython3",
   "version": "3.5.1"
  }
 },
 "nbformat": 4,
 "nbformat_minor": 0
}
