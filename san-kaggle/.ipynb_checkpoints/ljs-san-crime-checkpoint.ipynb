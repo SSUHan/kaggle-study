{
 "cells": [
  {
   "cell_type": "markdown",
   "metadata": {},
   "source": [
    "# san-crime exercise author ljs93kr\n",
    "### Read train data"
   ]
  },
  {
   "cell_type": "code",
   "execution_count": 27,
   "metadata": {
    "collapsed": false
   },
   "outputs": [
    {
     "name": "stdout",
     "output_type": "stream",
     "text": [
      "<class 'pandas.core.frame.DataFrame'>\n",
      "RangeIndex: 878049 entries, 0 to 878048\n",
      "Data columns (total 9 columns):\n",
      "Dates         878049 non-null datetime64[ns]\n",
      "Category      878049 non-null object\n",
      "Descript      878049 non-null object\n",
      "DayOfWeek     878049 non-null object\n",
      "PdDistrict    878049 non-null object\n",
      "Resolution    878049 non-null object\n",
      "Address       878049 non-null object\n",
      "X             878049 non-null float64\n",
      "Y             878049 non-null float64\n",
      "dtypes: datetime64[ns](1), float64(2), object(6)\n",
      "memory usage: 60.3+ MB\n"
     ]
    }
   ],
   "source": [
    "import pandas as pd\n",
    "import numpy as np\n",
    "\n",
    "train = pd.read_csv('train.csv', parse_dates=['Dates'])\n",
    "train.info()"
   ]
  },
  {
   "cell_type": "markdown",
   "metadata": {},
   "source": [
    "### Read test data"
   ]
  },
  {
   "cell_type": "code",
   "execution_count": 28,
   "metadata": {
    "collapsed": false
   },
   "outputs": [
    {
     "name": "stdout",
     "output_type": "stream",
     "text": [
      "<class 'pandas.core.frame.DataFrame'>\n",
      "RangeIndex: 884262 entries, 0 to 884261\n",
      "Data columns (total 7 columns):\n",
      "Id            884262 non-null int64\n",
      "Dates         884262 non-null datetime64[ns]\n",
      "DayOfWeek     884262 non-null object\n",
      "PdDistrict    884262 non-null object\n",
      "Address       884262 non-null object\n",
      "X             884262 non-null float64\n",
      "Y             884262 non-null float64\n",
      "dtypes: datetime64[ns](1), float64(2), int64(1), object(3)\n",
      "memory usage: 47.2+ MB\n"
     ]
    }
   ],
   "source": [
    "test = pd.read_csv('test.csv', parse_dates=['Dates'])\n",
    "test.info()"
   ]
  },
  {
   "cell_type": "markdown",
   "metadata": {},
   "source": [
    "### test data 에서 사용하지 않는 칼럼 잘라내기"
   ]
  },
  {
   "cell_type": "code",
   "execution_count": 29,
   "metadata": {
    "collapsed": false
   },
   "outputs": [
    {
     "name": "stdout",
     "output_type": "stream",
     "text": [
      "<class 'pandas.core.frame.DataFrame'>\n",
      "RangeIndex: 878049 entries, 0 to 878048\n",
      "Data columns (total 7 columns):\n",
      "Dates         878049 non-null datetime64[ns]\n",
      "Category      878049 non-null object\n",
      "DayOfWeek     878049 non-null object\n",
      "PdDistrict    878049 non-null object\n",
      "Address       878049 non-null object\n",
      "X             878049 non-null float64\n",
      "Y             878049 non-null float64\n",
      "dtypes: datetime64[ns](1), float64(2), object(4)\n",
      "memory usage: 46.9+ MB\n"
     ]
    }
   ],
   "source": [
    "drop_col = ['Descript', 'Resolution']\n",
    "train = train.drop(drop_col, axis=1)\n",
    "train.info()"
   ]
  },
  {
   "cell_type": "code",
   "execution_count": 30,
   "metadata": {
    "collapsed": false
   },
   "outputs": [
    {
     "data": {
      "text/html": [
       "<div>\n",
       "<table border=\"1\" class=\"dataframe\">\n",
       "  <thead>\n",
       "    <tr style=\"text-align: right;\">\n",
       "      <th></th>\n",
       "      <th>Dates</th>\n",
       "      <th>Category</th>\n",
       "      <th>DayOfWeek</th>\n",
       "      <th>PdDistrict</th>\n",
       "      <th>Address</th>\n",
       "      <th>X</th>\n",
       "      <th>Y</th>\n",
       "    </tr>\n",
       "  </thead>\n",
       "  <tbody>\n",
       "    <tr>\n",
       "      <th>0</th>\n",
       "      <td>2015-05-13 23:53:00</td>\n",
       "      <td>WARRANTS</td>\n",
       "      <td>Wednesday</td>\n",
       "      <td>NORTHERN</td>\n",
       "      <td>OAK ST / LAGUNA ST</td>\n",
       "      <td>-122.425892</td>\n",
       "      <td>37.774599</td>\n",
       "    </tr>\n",
       "    <tr>\n",
       "      <th>1</th>\n",
       "      <td>2015-05-13 23:53:00</td>\n",
       "      <td>OTHER OFFENSES</td>\n",
       "      <td>Wednesday</td>\n",
       "      <td>NORTHERN</td>\n",
       "      <td>OAK ST / LAGUNA ST</td>\n",
       "      <td>-122.425892</td>\n",
       "      <td>37.774599</td>\n",
       "    </tr>\n",
       "    <tr>\n",
       "      <th>2</th>\n",
       "      <td>2015-05-13 23:33:00</td>\n",
       "      <td>OTHER OFFENSES</td>\n",
       "      <td>Wednesday</td>\n",
       "      <td>NORTHERN</td>\n",
       "      <td>VANNESS AV / GREENWICH ST</td>\n",
       "      <td>-122.424363</td>\n",
       "      <td>37.800414</td>\n",
       "    </tr>\n",
       "    <tr>\n",
       "      <th>3</th>\n",
       "      <td>2015-05-13 23:30:00</td>\n",
       "      <td>LARCENY/THEFT</td>\n",
       "      <td>Wednesday</td>\n",
       "      <td>NORTHERN</td>\n",
       "      <td>1500 Block of LOMBARD ST</td>\n",
       "      <td>-122.426995</td>\n",
       "      <td>37.800873</td>\n",
       "    </tr>\n",
       "    <tr>\n",
       "      <th>4</th>\n",
       "      <td>2015-05-13 23:30:00</td>\n",
       "      <td>LARCENY/THEFT</td>\n",
       "      <td>Wednesday</td>\n",
       "      <td>PARK</td>\n",
       "      <td>100 Block of BRODERICK ST</td>\n",
       "      <td>-122.438738</td>\n",
       "      <td>37.771541</td>\n",
       "    </tr>\n",
       "  </tbody>\n",
       "</table>\n",
       "</div>"
      ],
      "text/plain": [
       "                Dates        Category  DayOfWeek PdDistrict  \\\n",
       "0 2015-05-13 23:53:00        WARRANTS  Wednesday   NORTHERN   \n",
       "1 2015-05-13 23:53:00  OTHER OFFENSES  Wednesday   NORTHERN   \n",
       "2 2015-05-13 23:33:00  OTHER OFFENSES  Wednesday   NORTHERN   \n",
       "3 2015-05-13 23:30:00   LARCENY/THEFT  Wednesday   NORTHERN   \n",
       "4 2015-05-13 23:30:00   LARCENY/THEFT  Wednesday       PARK   \n",
       "\n",
       "                     Address           X          Y  \n",
       "0         OAK ST / LAGUNA ST -122.425892  37.774599  \n",
       "1         OAK ST / LAGUNA ST -122.425892  37.774599  \n",
       "2  VANNESS AV / GREENWICH ST -122.424363  37.800414  \n",
       "3   1500 Block of LOMBARD ST -122.426995  37.800873  \n",
       "4  100 Block of BRODERICK ST -122.438738  37.771541  "
      ]
     },
     "execution_count": 30,
     "metadata": {},
     "output_type": "execute_result"
    }
   ],
   "source": [
    "train.head(5)"
   ]
  },
  {
   "cell_type": "markdown",
   "metadata": {},
   "source": [
    "### Text -> Binary Array converting"
   ]
  },
  {
   "cell_type": "code",
   "execution_count": 31,
   "metadata": {
    "collapsed": true
   },
   "outputs": [],
   "source": [
    "from sklearn import preprocessing"
   ]
  },
  {
   "cell_type": "code",
   "execution_count": 32,
   "metadata": {
    "collapsed": false
   },
   "outputs": [
    {
     "name": "stdout",
     "output_type": "stream",
     "text": [
      "class:  ndarray\n",
      "shape:  (878049,)\n",
      "strides:  (8,)\n",
      "itemsize:  8\n",
      "aligned:  True\n",
      "contiguous:  True\n",
      "fortran:  True\n",
      "data pointer: 0x146120000\n",
      "byteorder:  little\n",
      "byteswap:  False\n",
      "type: int64\n"
     ]
    }
   ],
   "source": [
    "# Convert crime labels to numbers\n",
    "label_crime = preprocessing.LabelEncoder()\n",
    "crime = label_crime.fit_transform(train.Category)\n",
    "np.info(crime)"
   ]
  },
  {
   "cell_type": "code",
   "execution_count": 33,
   "metadata": {
    "collapsed": false
   },
   "outputs": [
    {
     "name": "stdout",
     "output_type": "stream",
     "text": [
      "<class 'pandas.core.frame.DataFrame'>\n",
      "RangeIndex: 878049 entries, 0 to 878048\n",
      "Data columns (total 7 columns):\n",
      "Friday       878049 non-null float64\n",
      "Monday       878049 non-null float64\n",
      "Saturday     878049 non-null float64\n",
      "Sunday       878049 non-null float64\n",
      "Thursday     878049 non-null float64\n",
      "Tuesday      878049 non-null float64\n",
      "Wednesday    878049 non-null float64\n",
      "dtypes: float64(7)\n",
      "memory usage: 46.9 MB\n"
     ]
    }
   ],
   "source": [
    "#Get binaried weekdays, districts, and hours\n",
    "days = pd.get_dummies(train.DayOfWeek)\n",
    "district = pd.get_dummies(train.PdDistrict)\n",
    "days.info()"
   ]
  },
  {
   "cell_type": "code",
   "execution_count": 38,
   "metadata": {
    "collapsed": false
   },
   "outputs": [
    {
     "name": "stdout",
     "output_type": "stream",
     "text": [
      "<class 'pandas.core.frame.DataFrame'>\n",
      "RangeIndex: 878049 entries, 0 to 878048\n",
      "Data columns (total 24 columns):\n",
      "0     878049 non-null float64\n",
      "1     878049 non-null float64\n",
      "2     878049 non-null float64\n",
      "3     878049 non-null float64\n",
      "4     878049 non-null float64\n",
      "5     878049 non-null float64\n",
      "6     878049 non-null float64\n",
      "7     878049 non-null float64\n",
      "8     878049 non-null float64\n",
      "9     878049 non-null float64\n",
      "10    878049 non-null float64\n",
      "11    878049 non-null float64\n",
      "12    878049 non-null float64\n",
      "13    878049 non-null float64\n",
      "14    878049 non-null float64\n",
      "15    878049 non-null float64\n",
      "16    878049 non-null float64\n",
      "17    878049 non-null float64\n",
      "18    878049 non-null float64\n",
      "19    878049 non-null float64\n",
      "20    878049 non-null float64\n",
      "21    878049 non-null float64\n",
      "22    878049 non-null float64\n",
      "23    878049 non-null float64\n",
      "dtypes: float64(24)\n",
      "memory usage: 160.8 MB\n"
     ]
    }
   ],
   "source": [
    "hour = train.Dates.dt.hour\n",
    "hour = pd.get_dummies(hour)\n",
    "hour.info()"
   ]
  },
  {
   "cell_type": "code",
   "execution_count": 41,
   "metadata": {
    "collapsed": false
   },
   "outputs": [
    {
     "name": "stdout",
     "output_type": "stream",
     "text": [
      "<class 'pandas.core.frame.DataFrame'>\n",
      "RangeIndex: 878049 entries, 0 to 878048\n",
      "Data columns (total 42 columns):\n",
      "0             878049 non-null float64\n",
      "1             878049 non-null float64\n",
      "2             878049 non-null float64\n",
      "3             878049 non-null float64\n",
      "4             878049 non-null float64\n",
      "5             878049 non-null float64\n",
      "6             878049 non-null float64\n",
      "7             878049 non-null float64\n",
      "8             878049 non-null float64\n",
      "9             878049 non-null float64\n",
      "10            878049 non-null float64\n",
      "11            878049 non-null float64\n",
      "12            878049 non-null float64\n",
      "13            878049 non-null float64\n",
      "14            878049 non-null float64\n",
      "15            878049 non-null float64\n",
      "16            878049 non-null float64\n",
      "17            878049 non-null float64\n",
      "18            878049 non-null float64\n",
      "19            878049 non-null float64\n",
      "20            878049 non-null float64\n",
      "21            878049 non-null float64\n",
      "22            878049 non-null float64\n",
      "23            878049 non-null float64\n",
      "Friday        878049 non-null float64\n",
      "Monday        878049 non-null float64\n",
      "Saturday      878049 non-null float64\n",
      "Sunday        878049 non-null float64\n",
      "Thursday      878049 non-null float64\n",
      "Tuesday       878049 non-null float64\n",
      "Wednesday     878049 non-null float64\n",
      "BAYVIEW       878049 non-null float64\n",
      "CENTRAL       878049 non-null float64\n",
      "INGLESIDE     878049 non-null float64\n",
      "MISSION       878049 non-null float64\n",
      "NORTHERN      878049 non-null float64\n",
      "PARK          878049 non-null float64\n",
      "RICHMOND      878049 non-null float64\n",
      "SOUTHERN      878049 non-null float64\n",
      "TARAVAL       878049 non-null float64\n",
      "TENDERLOIN    878049 non-null float64\n",
      "crime         878049 non-null int64\n",
      "dtypes: float64(41), int64(1)\n",
      "memory usage: 281.4 MB\n"
     ]
    }
   ],
   "source": [
    "# Concat new array\n",
    "train_data = pd.concat([hour, days, district], axis=1)\n",
    "train_data['crime'] = crime\n",
    "train_data.info()"
   ]
  },
  {
   "cell_type": "markdown",
   "metadata": {},
   "source": [
    "### Define Same Process Function for test data"
   ]
  },
  {
   "cell_type": "code",
   "execution_count": 43,
   "metadata": {
    "collapsed": false
   },
   "outputs": [],
   "source": [
    "def convert_to_vector(pandas_object):\n",
    "    days = pd.get_dummies(pandas_object.DayOfWeek)\n",
    "    district = pd.get_dummies(pandas_object.PdDistrict)\n",
    "    hour = pandas_object.Dates.dt.hour\n",
    "    hour = pd.get_dummies(hour)\n",
    "    \n",
    "    pandas_data = pd.concat([hour, days, district], axis=1)\n",
    "    return pandas_data"
   ]
  },
  {
   "cell_type": "code",
   "execution_count": 46,
   "metadata": {
    "collapsed": false
   },
   "outputs": [
    {
     "name": "stdout",
     "output_type": "stream",
     "text": [
      "<class 'pandas.core.frame.DataFrame'>\n",
      "RangeIndex: 878049 entries, 0 to 878048\n",
      "Data columns (total 42 columns):\n",
      "0             878049 non-null float64\n",
      "1             878049 non-null float64\n",
      "2             878049 non-null float64\n",
      "3             878049 non-null float64\n",
      "4             878049 non-null float64\n",
      "5             878049 non-null float64\n",
      "6             878049 non-null float64\n",
      "7             878049 non-null float64\n",
      "8             878049 non-null float64\n",
      "9             878049 non-null float64\n",
      "10            878049 non-null float64\n",
      "11            878049 non-null float64\n",
      "12            878049 non-null float64\n",
      "13            878049 non-null float64\n",
      "14            878049 non-null float64\n",
      "15            878049 non-null float64\n",
      "16            878049 non-null float64\n",
      "17            878049 non-null float64\n",
      "18            878049 non-null float64\n",
      "19            878049 non-null float64\n",
      "20            878049 non-null float64\n",
      "21            878049 non-null float64\n",
      "22            878049 non-null float64\n",
      "23            878049 non-null float64\n",
      "Friday        878049 non-null float64\n",
      "Monday        878049 non-null float64\n",
      "Saturday      878049 non-null float64\n",
      "Sunday        878049 non-null float64\n",
      "Thursday      878049 non-null float64\n",
      "Tuesday       878049 non-null float64\n",
      "Wednesday     878049 non-null float64\n",
      "BAYVIEW       878049 non-null float64\n",
      "CENTRAL       878049 non-null float64\n",
      "INGLESIDE     878049 non-null float64\n",
      "MISSION       878049 non-null float64\n",
      "NORTHERN      878049 non-null float64\n",
      "PARK          878049 non-null float64\n",
      "RICHMOND      878049 non-null float64\n",
      "SOUTHERN      878049 non-null float64\n",
      "TARAVAL       878049 non-null float64\n",
      "TENDERLOIN    878049 non-null float64\n",
      "crime         878049 non-null int64\n",
      "dtypes: float64(41), int64(1)\n",
      "memory usage: 281.4 MB\n"
     ]
    }
   ],
   "source": [
    "train_data = convert_to_vector(train)\n",
    "train_data['crime'] = crime\n",
    "train_data.info()"
   ]
  },
  {
   "cell_type": "code",
   "execution_count": 47,
   "metadata": {
    "collapsed": false
   },
   "outputs": [
    {
     "name": "stdout",
     "output_type": "stream",
     "text": [
      "<class 'pandas.core.frame.DataFrame'>\n",
      "RangeIndex: 884262 entries, 0 to 884261\n",
      "Data columns (total 41 columns):\n",
      "0             884262 non-null float64\n",
      "1             884262 non-null float64\n",
      "2             884262 non-null float64\n",
      "3             884262 non-null float64\n",
      "4             884262 non-null float64\n",
      "5             884262 non-null float64\n",
      "6             884262 non-null float64\n",
      "7             884262 non-null float64\n",
      "8             884262 non-null float64\n",
      "9             884262 non-null float64\n",
      "10            884262 non-null float64\n",
      "11            884262 non-null float64\n",
      "12            884262 non-null float64\n",
      "13            884262 non-null float64\n",
      "14            884262 non-null float64\n",
      "15            884262 non-null float64\n",
      "16            884262 non-null float64\n",
      "17            884262 non-null float64\n",
      "18            884262 non-null float64\n",
      "19            884262 non-null float64\n",
      "20            884262 non-null float64\n",
      "21            884262 non-null float64\n",
      "22            884262 non-null float64\n",
      "23            884262 non-null float64\n",
      "Friday        884262 non-null float64\n",
      "Monday        884262 non-null float64\n",
      "Saturday      884262 non-null float64\n",
      "Sunday        884262 non-null float64\n",
      "Thursday      884262 non-null float64\n",
      "Tuesday       884262 non-null float64\n",
      "Wednesday     884262 non-null float64\n",
      "BAYVIEW       884262 non-null float64\n",
      "CENTRAL       884262 non-null float64\n",
      "INGLESIDE     884262 non-null float64\n",
      "MISSION       884262 non-null float64\n",
      "NORTHERN      884262 non-null float64\n",
      "PARK          884262 non-null float64\n",
      "RICHMOND      884262 non-null float64\n",
      "SOUTHERN      884262 non-null float64\n",
      "TARAVAL       884262 non-null float64\n",
      "TENDERLOIN    884262 non-null float64\n",
      "dtypes: float64(41)\n",
      "memory usage: 276.6 MB\n"
     ]
    }
   ],
   "source": [
    "# do same process for test data\n",
    "test_data = convert_to_vector(test)\n",
    "test_data.info()"
   ]
  },
  {
   "cell_type": "code",
   "execution_count": 51,
   "metadata": {
    "collapsed": false
   },
   "outputs": [
    {
     "name": "stdout",
     "output_type": "stream",
     "text": [
      "<class 'pandas.core.frame.DataFrame'>\n",
      "Int64Index: 526829 entries, 210798 to 851144\n",
      "Data columns (total 42 columns):\n",
      "0             526829 non-null float64\n",
      "1             526829 non-null float64\n",
      "2             526829 non-null float64\n",
      "3             526829 non-null float64\n",
      "4             526829 non-null float64\n",
      "5             526829 non-null float64\n",
      "6             526829 non-null float64\n",
      "7             526829 non-null float64\n",
      "8             526829 non-null float64\n",
      "9             526829 non-null float64\n",
      "10            526829 non-null float64\n",
      "11            526829 non-null float64\n",
      "12            526829 non-null float64\n",
      "13            526829 non-null float64\n",
      "14            526829 non-null float64\n",
      "15            526829 non-null float64\n",
      "16            526829 non-null float64\n",
      "17            526829 non-null float64\n",
      "18            526829 non-null float64\n",
      "19            526829 non-null float64\n",
      "20            526829 non-null float64\n",
      "21            526829 non-null float64\n",
      "22            526829 non-null float64\n",
      "23            526829 non-null float64\n",
      "Friday        526829 non-null float64\n",
      "Monday        526829 non-null float64\n",
      "Saturday      526829 non-null float64\n",
      "Sunday        526829 non-null float64\n",
      "Thursday      526829 non-null float64\n",
      "Tuesday       526829 non-null float64\n",
      "Wednesday     526829 non-null float64\n",
      "BAYVIEW       526829 non-null float64\n",
      "CENTRAL       526829 non-null float64\n",
      "INGLESIDE     526829 non-null float64\n",
      "MISSION       526829 non-null float64\n",
      "NORTHERN      526829 non-null float64\n",
      "PARK          526829 non-null float64\n",
      "RICHMOND      526829 non-null float64\n",
      "SOUTHERN      526829 non-null float64\n",
      "TARAVAL       526829 non-null float64\n",
      "TENDERLOIN    526829 non-null float64\n",
      "crime         526829 non-null int64\n",
      "dtypes: float64(41), int64(1)\n",
      "memory usage: 172.8 MB\n"
     ]
    }
   ],
   "source": [
    "from sklearn.cross_validation import train_test_split\n",
    "training, validation = train_test_split(train_data, train_size=.60)\n",
    "training.info()"
   ]
  },
  {
   "cell_type": "code",
   "execution_count": 55,
   "metadata": {
    "collapsed": false
   },
   "outputs": [],
   "source": [
    "features = ['Friday', 'Monday', 'Saturday', 'Sunday', 'Thursday', 'Tuesday',\n",
    " 'Wednesday', 'BAYVIEW', 'CENTRAL', 'INGLESIDE', 'MISSION',\n",
    " 'NORTHERN', 'PARK', 'RICHMOND', 'SOUTHERN', 'TARAVAL', 'TENDERLOIN']"
   ]
  },
  {
   "cell_type": "markdown",
   "metadata": {},
   "source": [
    "### Using Naive Bayes -> BernoulliNB"
   ]
  },
  {
   "cell_type": "code",
   "execution_count": 61,
   "metadata": {
    "collapsed": false
   },
   "outputs": [
    {
     "data": {
      "text/plain": [
       "2.6150507649187906"
      ]
     },
     "execution_count": 61,
     "metadata": {},
     "output_type": "execute_result"
    }
   ],
   "source": [
    "from sklearn.naive_bayes import BernoulliNB\n",
    "from sklearn.metrics import log_loss\n",
    "\n",
    "NB_model= BernoulliNB()\n",
    "NB_model.fit(training[features], training['crime'])\n",
    "predicted = np.array(NB_model.predict_proba(validation[features]))\n",
    "log_loss(validation['crime'], predicted)"
   ]
  },
  {
   "cell_type": "markdown",
   "metadata": {},
   "source": [
    "### if using Logistic Regression"
   ]
  },
  {
   "cell_type": "code",
   "execution_count": null,
   "metadata": {
    "collapsed": true
   },
   "outputs": [],
   "source": [
    "from sklearn.linear_model import "
   ]
  },
  {
   "cell_type": "code",
   "execution_count": 2,
   "metadata": {
    "collapsed": false
   },
   "outputs": [
    {
     "data": {
      "text/plain": [
       "39"
      ]
     },
     "execution_count": 2,
     "metadata": {},
     "output_type": "execute_result"
    }
   ],
   "source": [
    "category_list = train['Category'].values.tolist()\n",
    "category_dict = dict((item, 0) for item in category_list)\n",
    "len(category_dict)"
   ]
  },
  {
   "cell_type": "code",
   "execution_count": 22,
   "metadata": {
    "collapsed": false
   },
   "outputs": [
    {
     "data": {
      "text/plain": [
       "{'ARSON': 1513,\n",
       " 'ASSAULT': 76876,\n",
       " 'BAD CHECKS': 406,\n",
       " 'BRIBERY': 289,\n",
       " 'BURGLARY': 36755,\n",
       " 'DISORDERLY CONDUCT': 4320,\n",
       " 'DRIVING UNDER THE INFLUENCE': 2268,\n",
       " 'DRUG/NARCOTIC': 53971,\n",
       " 'DRUNKENNESS': 4280,\n",
       " 'EMBEZZLEMENT': 1166,\n",
       " 'EXTORTION': 256,\n",
       " 'FAMILY OFFENSES': 491,\n",
       " 'FORGERY/COUNTERFEITING': 10609,\n",
       " 'FRAUD': 16679,\n",
       " 'GAMBLING': 146,\n",
       " 'KIDNAPPING': 2341,\n",
       " 'LARCENY/THEFT': 174900,\n",
       " 'LIQUOR LAWS': 1903,\n",
       " 'LOITERING': 1225,\n",
       " 'MISSING PERSON': 25989,\n",
       " 'NON-CRIMINAL': 92304,\n",
       " 'OTHER OFFENSES': 126182,\n",
       " 'PORNOGRAPHY/OBSCENE MAT': 22,\n",
       " 'PROSTITUTION': 7484,\n",
       " 'RECOVERED VEHICLE': 3138,\n",
       " 'ROBBERY': 23000,\n",
       " 'RUNAWAY': 1946,\n",
       " 'SECONDARY CODES': 9985,\n",
       " 'SEX OFFENSES FORCIBLE': 4388,\n",
       " 'SEX OFFENSES NON FORCIBLE': 148,\n",
       " 'STOLEN PROPERTY': 4540,\n",
       " 'SUICIDE': 508,\n",
       " 'SUSPICIOUS OCC': 31414,\n",
       " 'TREA': 6,\n",
       " 'TRESPASS': 7326,\n",
       " 'VANDALISM': 44725,\n",
       " 'VEHICLE THEFT': 53781,\n",
       " 'WARRANTS': 42214,\n",
       " 'WEAPON LAWS': 8555}"
      ]
     },
     "execution_count": 22,
     "metadata": {},
     "output_type": "execute_result"
    }
   ],
   "source": [
    "for item in category_list:\n",
    "    category_dict[item] = category_dict[item] + 1\n",
    "category_dict"
   ]
  },
  {
   "cell_type": "code",
   "execution_count": 6,
   "metadata": {
    "collapsed": false
   },
   "outputs": [
    {
     "data": {
      "text/plain": [
       "Category\n",
       "ARSON                            1513\n",
       "ASSAULT                         76876\n",
       "BAD CHECKS                        406\n",
       "BRIBERY                           289\n",
       "BURGLARY                        36755\n",
       "DISORDERLY CONDUCT               4320\n",
       "DRIVING UNDER THE INFLUENCE      2268\n",
       "DRUG/NARCOTIC                   53971\n",
       "DRUNKENNESS                      4280\n",
       "EMBEZZLEMENT                     1166\n",
       "EXTORTION                         256\n",
       "FAMILY OFFENSES                   491\n",
       "FORGERY/COUNTERFEITING          10609\n",
       "FRAUD                           16679\n",
       "GAMBLING                          146\n",
       "KIDNAPPING                       2341\n",
       "LARCENY/THEFT                  174900\n",
       "LIQUOR LAWS                      1903\n",
       "LOITERING                        1225\n",
       "MISSING PERSON                  25989\n",
       "NON-CRIMINAL                    92304\n",
       "OTHER OFFENSES                 126182\n",
       "PORNOGRAPHY/OBSCENE MAT            22\n",
       "PROSTITUTION                     7484\n",
       "RECOVERED VEHICLE                3138\n",
       "ROBBERY                         23000\n",
       "RUNAWAY                          1946\n",
       "SECONDARY CODES                  9985\n",
       "SEX OFFENSES FORCIBLE            4388\n",
       "SEX OFFENSES NON FORCIBLE         148\n",
       "STOLEN PROPERTY                  4540\n",
       "SUICIDE                           508\n",
       "SUSPICIOUS OCC                  31414\n",
       "TREA                                6\n",
       "TRESPASS                         7326\n",
       "VANDALISM                       44725\n",
       "VEHICLE THEFT                   53781\n",
       "WARRANTS                        42214\n",
       "WEAPON LAWS                      8555\n",
       "Name: count, dtype: int64"
      ]
     },
     "execution_count": 6,
     "metadata": {},
     "output_type": "execute_result"
    }
   ],
   "source": [
    "category_tab = pd.crosstab(index=train['Category'], columns='count')\n",
    "category_tab['count']"
   ]
  },
  {
   "cell_type": "code",
   "execution_count": 7,
   "metadata": {
    "collapsed": false
   },
   "outputs": [
    {
     "data": {
      "text/plain": [
       "Category\n",
       "ARSON                           0.172314\n",
       "ASSAULT                         8.755320\n",
       "BAD CHECKS                      0.046239\n",
       "BRIBERY                         0.032914\n",
       "BURGLARY                        4.185985\n",
       "DISORDERLY CONDUCT              0.492000\n",
       "DRIVING UNDER THE INFLUENCE     0.258300\n",
       "DRUG/NARCOTIC                   6.146696\n",
       "DRUNKENNESS                     0.487444\n",
       "EMBEZZLEMENT                    0.132794\n",
       "EXTORTION                       0.029156\n",
       "FAMILY OFFENSES                 0.055919\n",
       "FORGERY/COUNTERFEITING          1.208247\n",
       "FRAUD                           1.899552\n",
       "GAMBLING                        0.016628\n",
       "KIDNAPPING                      0.266614\n",
       "LARCENY/THEFT                  19.919162\n",
       "LIQUOR LAWS                     0.216731\n",
       "LOITERING                       0.139514\n",
       "MISSING PERSON                  2.959858\n",
       "NON-CRIMINAL                   10.512397\n",
       "OTHER OFFENSES                 14.370724\n",
       "PORNOGRAPHY/OBSCENE MAT         0.002506\n",
       "PROSTITUTION                    0.852344\n",
       "RECOVERED VEHICLE               0.357383\n",
       "ROBBERY                         2.619444\n",
       "RUNAWAY                         0.221628\n",
       "SECONDARY CODES                 1.137180\n",
       "SEX OFFENSES FORCIBLE           0.499744\n",
       "SEX OFFENSES NON FORCIBLE       0.016856\n",
       "STOLEN PROPERTY                 0.517055\n",
       "SUICIDE                         0.057856\n",
       "SUSPICIOUS OCC                  3.577705\n",
       "TREA                            0.000683\n",
       "TRESPASS                        0.834350\n",
       "VANDALISM                       5.093679\n",
       "VEHICLE THEFT                   6.125057\n",
       "WARRANTS                        4.807704\n",
       "WEAPON LAWS                     0.974319\n",
       "Name: count, dtype: float64"
      ]
     },
     "execution_count": 7,
     "metadata": {},
     "output_type": "execute_result"
    }
   ],
   "source": [
    "category_tab['count'] / len(train['Category']) * 100"
   ]
  },
  {
   "cell_type": "code",
   "execution_count": 20,
   "metadata": {
    "collapsed": false
   },
   "outputs": [
    {
     "data": {
      "text/html": [
       "<div>\n",
       "<table border=\"1\" class=\"dataframe\">\n",
       "  <thead>\n",
       "    <tr style=\"text-align: right;\">\n",
       "      <th>col_0</th>\n",
       "      <th>count</th>\n",
       "    </tr>\n",
       "    <tr>\n",
       "      <th>PdDistrict</th>\n",
       "      <th></th>\n",
       "    </tr>\n",
       "  </thead>\n",
       "  <tbody>\n",
       "    <tr>\n",
       "      <th>BAYVIEW</th>\n",
       "      <td>89431</td>\n",
       "    </tr>\n",
       "    <tr>\n",
       "      <th>CENTRAL</th>\n",
       "      <td>85460</td>\n",
       "    </tr>\n",
       "    <tr>\n",
       "      <th>INGLESIDE</th>\n",
       "      <td>78845</td>\n",
       "    </tr>\n",
       "    <tr>\n",
       "      <th>MISSION</th>\n",
       "      <td>119908</td>\n",
       "    </tr>\n",
       "    <tr>\n",
       "      <th>NORTHERN</th>\n",
       "      <td>105296</td>\n",
       "    </tr>\n",
       "    <tr>\n",
       "      <th>PARK</th>\n",
       "      <td>49313</td>\n",
       "    </tr>\n",
       "    <tr>\n",
       "      <th>RICHMOND</th>\n",
       "      <td>45209</td>\n",
       "    </tr>\n",
       "    <tr>\n",
       "      <th>SOUTHERN</th>\n",
       "      <td>157182</td>\n",
       "    </tr>\n",
       "    <tr>\n",
       "      <th>TARAVAL</th>\n",
       "      <td>65596</td>\n",
       "    </tr>\n",
       "    <tr>\n",
       "      <th>TENDERLOIN</th>\n",
       "      <td>81809</td>\n",
       "    </tr>\n",
       "  </tbody>\n",
       "</table>\n",
       "</div>"
      ],
      "text/plain": [
       "col_0        count\n",
       "PdDistrict        \n",
       "BAYVIEW      89431\n",
       "CENTRAL      85460\n",
       "INGLESIDE    78845\n",
       "MISSION     119908\n",
       "NORTHERN    105296\n",
       "PARK         49313\n",
       "RICHMOND     45209\n",
       "SOUTHERN    157182\n",
       "TARAVAL      65596\n",
       "TENDERLOIN   81809"
      ]
     },
     "execution_count": 20,
     "metadata": {},
     "output_type": "execute_result"
    }
   ],
   "source": [
    "pd_tab = pd.crosstab(index=train['PdDistrict'], columns='count')\n",
    "pd_tab"
   ]
  },
  {
   "cell_type": "code",
   "execution_count": 21,
   "metadata": {
    "collapsed": false
   },
   "outputs": [
    {
     "data": {
      "text/html": [
       "<div>\n",
       "<table border=\"1\" class=\"dataframe\">\n",
       "  <thead>\n",
       "    <tr style=\"text-align: right;\">\n",
       "      <th>col_0</th>\n",
       "      <th>count</th>\n",
       "    </tr>\n",
       "    <tr>\n",
       "      <th>Address</th>\n",
       "      <th></th>\n",
       "    </tr>\n",
       "  </thead>\n",
       "  <tbody>\n",
       "    <tr>\n",
       "      <th>0 Block of  HARRISON ST</th>\n",
       "      <td>1</td>\n",
       "    </tr>\n",
       "    <tr>\n",
       "      <th>0 Block of 10TH AV</th>\n",
       "      <td>5</td>\n",
       "    </tr>\n",
       "    <tr>\n",
       "      <th>0 Block of 10TH ST</th>\n",
       "      <td>49</td>\n",
       "    </tr>\n",
       "    <tr>\n",
       "      <th>0 Block of 11TH ST</th>\n",
       "      <td>48</td>\n",
       "    </tr>\n",
       "    <tr>\n",
       "      <th>0 Block of 12TH AV</th>\n",
       "      <td>7</td>\n",
       "    </tr>\n",
       "    <tr>\n",
       "      <th>0 Block of 12TH ST</th>\n",
       "      <td>436</td>\n",
       "    </tr>\n",
       "    <tr>\n",
       "      <th>0 Block of 13TH ST</th>\n",
       "      <td>46</td>\n",
       "    </tr>\n",
       "    <tr>\n",
       "      <th>0 Block of 14TH AV</th>\n",
       "      <td>6</td>\n",
       "    </tr>\n",
       "    <tr>\n",
       "      <th>0 Block of 14TH ST</th>\n",
       "      <td>59</td>\n",
       "    </tr>\n",
       "    <tr>\n",
       "      <th>0 Block of 15TH AV</th>\n",
       "      <td>6</td>\n",
       "    </tr>\n",
       "    <tr>\n",
       "      <th>0 Block of 15TH ST</th>\n",
       "      <td>7</td>\n",
       "    </tr>\n",
       "    <tr>\n",
       "      <th>0 Block of 16TH AV</th>\n",
       "      <td>5</td>\n",
       "    </tr>\n",
       "    <tr>\n",
       "      <th>0 Block of 17TH AV</th>\n",
       "      <td>6</td>\n",
       "    </tr>\n",
       "    <tr>\n",
       "      <th>0 Block of 18TH AV</th>\n",
       "      <td>17</td>\n",
       "    </tr>\n",
       "    <tr>\n",
       "      <th>0 Block of 19TH AV</th>\n",
       "      <td>7</td>\n",
       "    </tr>\n",
       "    <tr>\n",
       "      <th>0 Block of 1ST ST</th>\n",
       "      <td>153</td>\n",
       "    </tr>\n",
       "    <tr>\n",
       "      <th>0 Block of 20TH AV</th>\n",
       "      <td>7</td>\n",
       "    </tr>\n",
       "    <tr>\n",
       "      <th>0 Block of 21ST AV</th>\n",
       "      <td>20</td>\n",
       "    </tr>\n",
       "    <tr>\n",
       "      <th>0 Block of 22ND AV</th>\n",
       "      <td>9</td>\n",
       "    </tr>\n",
       "    <tr>\n",
       "      <th>0 Block of 25TH AV</th>\n",
       "      <td>18</td>\n",
       "    </tr>\n",
       "    <tr>\n",
       "      <th>0 Block of 26TH AV</th>\n",
       "      <td>7</td>\n",
       "    </tr>\n",
       "    <tr>\n",
       "      <th>0 Block of 27TH AV</th>\n",
       "      <td>3</td>\n",
       "    </tr>\n",
       "    <tr>\n",
       "      <th>0 Block of 27TH ST</th>\n",
       "      <td>8</td>\n",
       "    </tr>\n",
       "    <tr>\n",
       "      <th>0 Block of 28TH ST</th>\n",
       "      <td>48</td>\n",
       "    </tr>\n",
       "    <tr>\n",
       "      <th>0 Block of 29TH ST</th>\n",
       "      <td>55</td>\n",
       "    </tr>\n",
       "    <tr>\n",
       "      <th>0 Block of 2ND AV</th>\n",
       "      <td>2</td>\n",
       "    </tr>\n",
       "    <tr>\n",
       "      <th>0 Block of 2ND ST</th>\n",
       "      <td>147</td>\n",
       "    </tr>\n",
       "    <tr>\n",
       "      <th>0 Block of 30TH ST</th>\n",
       "      <td>65</td>\n",
       "    </tr>\n",
       "    <tr>\n",
       "      <th>0 Block of 36TH AV</th>\n",
       "      <td>4</td>\n",
       "    </tr>\n",
       "    <tr>\n",
       "      <th>0 Block of 3RD AV</th>\n",
       "      <td>4</td>\n",
       "    </tr>\n",
       "    <tr>\n",
       "      <th>...</th>\n",
       "      <td>...</td>\n",
       "    </tr>\n",
       "    <tr>\n",
       "      <th>YORBA ST / 39TH AV</th>\n",
       "      <td>1</td>\n",
       "    </tr>\n",
       "    <tr>\n",
       "      <th>YORK ST / 17TH ST</th>\n",
       "      <td>1</td>\n",
       "    </tr>\n",
       "    <tr>\n",
       "      <th>YORK ST / 18TH ST</th>\n",
       "      <td>17</td>\n",
       "    </tr>\n",
       "    <tr>\n",
       "      <th>YORK ST / 19TH ST</th>\n",
       "      <td>24</td>\n",
       "    </tr>\n",
       "    <tr>\n",
       "      <th>YORK ST / 20TH ST</th>\n",
       "      <td>15</td>\n",
       "    </tr>\n",
       "    <tr>\n",
       "      <th>YORK ST / 21ST ST</th>\n",
       "      <td>6</td>\n",
       "    </tr>\n",
       "    <tr>\n",
       "      <th>YORK ST / 22ND ST</th>\n",
       "      <td>15</td>\n",
       "    </tr>\n",
       "    <tr>\n",
       "      <th>YORK ST / 23RD ST</th>\n",
       "      <td>11</td>\n",
       "    </tr>\n",
       "    <tr>\n",
       "      <th>YORK ST / 24TH ST</th>\n",
       "      <td>38</td>\n",
       "    </tr>\n",
       "    <tr>\n",
       "      <th>YORK ST / 25TH ST</th>\n",
       "      <td>9</td>\n",
       "    </tr>\n",
       "    <tr>\n",
       "      <th>YORK ST / 26TH ST</th>\n",
       "      <td>5</td>\n",
       "    </tr>\n",
       "    <tr>\n",
       "      <th>YORK ST / CESAR CHAVEZ ST</th>\n",
       "      <td>7</td>\n",
       "    </tr>\n",
       "    <tr>\n",
       "      <th>YORK ST / HOLLADAY AV</th>\n",
       "      <td>1</td>\n",
       "    </tr>\n",
       "    <tr>\n",
       "      <th>YORK ST / MARIPOSA ST</th>\n",
       "      <td>4</td>\n",
       "    </tr>\n",
       "    <tr>\n",
       "      <th>YOSEMITE AV / 3RD ST</th>\n",
       "      <td>18</td>\n",
       "    </tr>\n",
       "    <tr>\n",
       "      <th>YOSEMITE AV / HAWES ST</th>\n",
       "      <td>2</td>\n",
       "    </tr>\n",
       "    <tr>\n",
       "      <th>YOSEMITE AV / INGALLS ST</th>\n",
       "      <td>10</td>\n",
       "    </tr>\n",
       "    <tr>\n",
       "      <th>YOSEMITE AV / JENNINGS ST</th>\n",
       "      <td>4</td>\n",
       "    </tr>\n",
       "    <tr>\n",
       "      <th>YOSEMITE AV / KEITH ST</th>\n",
       "      <td>6</td>\n",
       "    </tr>\n",
       "    <tr>\n",
       "      <th>YOSEMITE AV / LANE ST</th>\n",
       "      <td>4</td>\n",
       "    </tr>\n",
       "    <tr>\n",
       "      <th>YOSEMITE AV / MENDELL ST</th>\n",
       "      <td>1</td>\n",
       "    </tr>\n",
       "    <tr>\n",
       "      <th>YOSEMITE AV / WILLIAMS AV</th>\n",
       "      <td>1</td>\n",
       "    </tr>\n",
       "    <tr>\n",
       "      <th>YUKON ST / 19TH ST</th>\n",
       "      <td>1</td>\n",
       "    </tr>\n",
       "    <tr>\n",
       "      <th>YUKON ST / EAGLE ST</th>\n",
       "      <td>2</td>\n",
       "    </tr>\n",
       "    <tr>\n",
       "      <th>ZAMPA LN / GEARY BL</th>\n",
       "      <td>5</td>\n",
       "    </tr>\n",
       "    <tr>\n",
       "      <th>ZENO PL / FOLSOM ST</th>\n",
       "      <td>3</td>\n",
       "    </tr>\n",
       "    <tr>\n",
       "      <th>ZOE ST / BRANNAN ST</th>\n",
       "      <td>10</td>\n",
       "    </tr>\n",
       "    <tr>\n",
       "      <th>ZOE ST / BRYANT ST</th>\n",
       "      <td>10</td>\n",
       "    </tr>\n",
       "    <tr>\n",
       "      <th>ZOE ST / FREELON ST</th>\n",
       "      <td>4</td>\n",
       "    </tr>\n",
       "    <tr>\n",
       "      <th>ZOE ST / WELSH ST</th>\n",
       "      <td>3</td>\n",
       "    </tr>\n",
       "  </tbody>\n",
       "</table>\n",
       "<p>23228 rows × 1 columns</p>\n",
       "</div>"
      ],
      "text/plain": [
       "col_0                      count\n",
       "Address                         \n",
       "0 Block of  HARRISON ST        1\n",
       "0 Block of 10TH AV             5\n",
       "0 Block of 10TH ST            49\n",
       "0 Block of 11TH ST            48\n",
       "0 Block of 12TH AV             7\n",
       "0 Block of 12TH ST           436\n",
       "0 Block of 13TH ST            46\n",
       "0 Block of 14TH AV             6\n",
       "0 Block of 14TH ST            59\n",
       "0 Block of 15TH AV             6\n",
       "0 Block of 15TH ST             7\n",
       "0 Block of 16TH AV             5\n",
       "0 Block of 17TH AV             6\n",
       "0 Block of 18TH AV            17\n",
       "0 Block of 19TH AV             7\n",
       "0 Block of 1ST ST            153\n",
       "0 Block of 20TH AV             7\n",
       "0 Block of 21ST AV            20\n",
       "0 Block of 22ND AV             9\n",
       "0 Block of 25TH AV            18\n",
       "0 Block of 26TH AV             7\n",
       "0 Block of 27TH AV             3\n",
       "0 Block of 27TH ST             8\n",
       "0 Block of 28TH ST            48\n",
       "0 Block of 29TH ST            55\n",
       "0 Block of 2ND AV              2\n",
       "0 Block of 2ND ST            147\n",
       "0 Block of 30TH ST            65\n",
       "0 Block of 36TH AV             4\n",
       "0 Block of 3RD AV              4\n",
       "...                          ...\n",
       "YORBA ST / 39TH AV             1\n",
       "YORK ST / 17TH ST              1\n",
       "YORK ST / 18TH ST             17\n",
       "YORK ST / 19TH ST             24\n",
       "YORK ST / 20TH ST             15\n",
       "YORK ST / 21ST ST              6\n",
       "YORK ST / 22ND ST             15\n",
       "YORK ST / 23RD ST             11\n",
       "YORK ST / 24TH ST             38\n",
       "YORK ST / 25TH ST              9\n",
       "YORK ST / 26TH ST              5\n",
       "YORK ST / CESAR CHAVEZ ST      7\n",
       "YORK ST / HOLLADAY AV          1\n",
       "YORK ST / MARIPOSA ST          4\n",
       "YOSEMITE AV / 3RD ST          18\n",
       "YOSEMITE AV / HAWES ST         2\n",
       "YOSEMITE AV / INGALLS ST      10\n",
       "YOSEMITE AV / JENNINGS ST      4\n",
       "YOSEMITE AV / KEITH ST         6\n",
       "YOSEMITE AV / LANE ST          4\n",
       "YOSEMITE AV / MENDELL ST       1\n",
       "YOSEMITE AV / WILLIAMS AV      1\n",
       "YUKON ST / 19TH ST             1\n",
       "YUKON ST / EAGLE ST            2\n",
       "ZAMPA LN / GEARY BL            5\n",
       "ZENO PL / FOLSOM ST            3\n",
       "ZOE ST / BRANNAN ST           10\n",
       "ZOE ST / BRYANT ST            10\n",
       "ZOE ST / FREELON ST            4\n",
       "ZOE ST / WELSH ST              3\n",
       "\n",
       "[23228 rows x 1 columns]"
      ]
     },
     "execution_count": 21,
     "metadata": {},
     "output_type": "execute_result"
    }
   ],
   "source": [
    "addr_tab = pd.crosstab(index=train['Address'], columns='count')\n",
    "addr_tab"
   ]
  },
  {
   "cell_type": "code",
   "execution_count": null,
   "metadata": {
    "collapsed": true
   },
   "outputs": [],
   "source": []
  }
 ],
 "metadata": {
  "kernelspec": {
   "display_name": "Python 3",
   "language": "python",
   "name": "python3"
  },
  "language_info": {
   "codemirror_mode": {
    "name": "ipython",
    "version": 3
   },
   "file_extension": ".py",
   "mimetype": "text/x-python",
   "name": "python",
   "nbconvert_exporter": "python",
   "pygments_lexer": "ipython3",
   "version": "3.5.1"
  }
 },
 "nbformat": 4,
 "nbformat_minor": 0
}
