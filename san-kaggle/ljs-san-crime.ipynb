{
 "cells": [
  {
   "cell_type": "markdown",
   "metadata": {},
   "source": [
    "# San-Crime Exercise author by ljs93kr\n",
    "### Read train data"
   ]
  },
  {
   "cell_type": "code",
   "execution_count": 2,
   "metadata": {
    "collapsed": false
   },
   "outputs": [],
   "source": [
    "import pandas as pd\n",
    "import numpy as np\n",
    "import xgboost as xgb\n",
    "from sklearn.cross_validation import train_test_split"
   ]
  },
  {
   "cell_type": "code",
   "execution_count": 3,
   "metadata": {
    "collapsed": false
   },
   "outputs": [],
   "source": [
    "train = pd.read_csv('train.csv', parse_dates=['Dates'])\n",
    "test = pd.read_csv('test.csv', parse_dates=['Dates'])"
   ]
  },
  {
   "cell_type": "code",
   "execution_count": 4,
   "metadata": {
    "collapsed": false
   },
   "outputs": [
    {
     "data": {
      "text/html": [
       "<div>\n",
       "<table border=\"1\" class=\"dataframe\">\n",
       "  <thead>\n",
       "    <tr style=\"text-align: right;\">\n",
       "      <th></th>\n",
       "      <th>Dates</th>\n",
       "      <th>Category</th>\n",
       "      <th>Descript</th>\n",
       "      <th>DayOfWeek</th>\n",
       "      <th>PdDistrict</th>\n",
       "      <th>Resolution</th>\n",
       "      <th>Address</th>\n",
       "      <th>X</th>\n",
       "      <th>Y</th>\n",
       "    </tr>\n",
       "  </thead>\n",
       "  <tbody>\n",
       "    <tr>\n",
       "      <th>0</th>\n",
       "      <td>2015-05-13 23:53:00</td>\n",
       "      <td>WARRANTS</td>\n",
       "      <td>WARRANT ARREST</td>\n",
       "      <td>Wednesday</td>\n",
       "      <td>NORTHERN</td>\n",
       "      <td>ARREST, BOOKED</td>\n",
       "      <td>OAK ST / LAGUNA ST</td>\n",
       "      <td>-122.425892</td>\n",
       "      <td>37.774599</td>\n",
       "    </tr>\n",
       "    <tr>\n",
       "      <th>1</th>\n",
       "      <td>2015-05-13 23:53:00</td>\n",
       "      <td>OTHER OFFENSES</td>\n",
       "      <td>TRAFFIC VIOLATION ARREST</td>\n",
       "      <td>Wednesday</td>\n",
       "      <td>NORTHERN</td>\n",
       "      <td>ARREST, BOOKED</td>\n",
       "      <td>OAK ST / LAGUNA ST</td>\n",
       "      <td>-122.425892</td>\n",
       "      <td>37.774599</td>\n",
       "    </tr>\n",
       "    <tr>\n",
       "      <th>2</th>\n",
       "      <td>2015-05-13 23:33:00</td>\n",
       "      <td>OTHER OFFENSES</td>\n",
       "      <td>TRAFFIC VIOLATION ARREST</td>\n",
       "      <td>Wednesday</td>\n",
       "      <td>NORTHERN</td>\n",
       "      <td>ARREST, BOOKED</td>\n",
       "      <td>VANNESS AV / GREENWICH ST</td>\n",
       "      <td>-122.424363</td>\n",
       "      <td>37.800414</td>\n",
       "    </tr>\n",
       "  </tbody>\n",
       "</table>\n",
       "</div>"
      ],
      "text/plain": [
       "                Dates        Category                  Descript  DayOfWeek  \\\n",
       "0 2015-05-13 23:53:00        WARRANTS            WARRANT ARREST  Wednesday   \n",
       "1 2015-05-13 23:53:00  OTHER OFFENSES  TRAFFIC VIOLATION ARREST  Wednesday   \n",
       "2 2015-05-13 23:33:00  OTHER OFFENSES  TRAFFIC VIOLATION ARREST  Wednesday   \n",
       "\n",
       "  PdDistrict      Resolution                    Address           X          Y  \n",
       "0   NORTHERN  ARREST, BOOKED         OAK ST / LAGUNA ST -122.425892  37.774599  \n",
       "1   NORTHERN  ARREST, BOOKED         OAK ST / LAGUNA ST -122.425892  37.774599  \n",
       "2   NORTHERN  ARREST, BOOKED  VANNESS AV / GREENWICH ST -122.424363  37.800414  "
      ]
     },
     "execution_count": 4,
     "metadata": {},
     "output_type": "execute_result"
    }
   ],
   "source": [
    "train.head(3)"
   ]
  },
  {
   "cell_type": "markdown",
   "metadata": {},
   "source": [
    "### test data 에서 사용하지 않는 칼럼 잘라내기"
   ]
  },
  {
   "cell_type": "code",
   "execution_count": 5,
   "metadata": {
    "collapsed": false
   },
   "outputs": [
    {
     "data": {
      "text/html": [
       "<div>\n",
       "<table border=\"1\" class=\"dataframe\">\n",
       "  <thead>\n",
       "    <tr style=\"text-align: right;\">\n",
       "      <th></th>\n",
       "      <th>Dates</th>\n",
       "      <th>Category</th>\n",
       "      <th>DayOfWeek</th>\n",
       "      <th>PdDistrict</th>\n",
       "      <th>Address</th>\n",
       "      <th>X</th>\n",
       "      <th>Y</th>\n",
       "    </tr>\n",
       "  </thead>\n",
       "  <tbody>\n",
       "    <tr>\n",
       "      <th>0</th>\n",
       "      <td>2015-05-13 23:53:00</td>\n",
       "      <td>WARRANTS</td>\n",
       "      <td>Wednesday</td>\n",
       "      <td>NORTHERN</td>\n",
       "      <td>OAK ST / LAGUNA ST</td>\n",
       "      <td>-122.425892</td>\n",
       "      <td>37.774599</td>\n",
       "    </tr>\n",
       "    <tr>\n",
       "      <th>1</th>\n",
       "      <td>2015-05-13 23:53:00</td>\n",
       "      <td>OTHER OFFENSES</td>\n",
       "      <td>Wednesday</td>\n",
       "      <td>NORTHERN</td>\n",
       "      <td>OAK ST / LAGUNA ST</td>\n",
       "      <td>-122.425892</td>\n",
       "      <td>37.774599</td>\n",
       "    </tr>\n",
       "    <tr>\n",
       "      <th>2</th>\n",
       "      <td>2015-05-13 23:33:00</td>\n",
       "      <td>OTHER OFFENSES</td>\n",
       "      <td>Wednesday</td>\n",
       "      <td>NORTHERN</td>\n",
       "      <td>VANNESS AV / GREENWICH ST</td>\n",
       "      <td>-122.424363</td>\n",
       "      <td>37.800414</td>\n",
       "    </tr>\n",
       "  </tbody>\n",
       "</table>\n",
       "</div>"
      ],
      "text/plain": [
       "                Dates        Category  DayOfWeek PdDistrict  \\\n",
       "0 2015-05-13 23:53:00        WARRANTS  Wednesday   NORTHERN   \n",
       "1 2015-05-13 23:53:00  OTHER OFFENSES  Wednesday   NORTHERN   \n",
       "2 2015-05-13 23:33:00  OTHER OFFENSES  Wednesday   NORTHERN   \n",
       "\n",
       "                     Address           X          Y  \n",
       "0         OAK ST / LAGUNA ST -122.425892  37.774599  \n",
       "1         OAK ST / LAGUNA ST -122.425892  37.774599  \n",
       "2  VANNESS AV / GREENWICH ST -122.424363  37.800414  "
      ]
     },
     "execution_count": 5,
     "metadata": {},
     "output_type": "execute_result"
    }
   ],
   "source": [
    "drop_col = ['Descript', 'Resolution']\n",
    "train = train.drop(drop_col, axis=1)\n",
    "train.head(3)"
   ]
  },
  {
   "cell_type": "markdown",
   "metadata": {},
   "source": [
    "### Text -> Binary Array converting"
   ]
  },
  {
   "cell_type": "code",
   "execution_count": 6,
   "metadata": {
    "collapsed": true
   },
   "outputs": [],
   "source": [
    "from sklearn import preprocessing"
   ]
  },
  {
   "cell_type": "code",
   "execution_count": 7,
   "metadata": {
    "collapsed": false
   },
   "outputs": [
    {
     "name": "stdout",
     "output_type": "stream",
     "text": [
      "class:  ndarray\n",
      "shape:  (878049,)\n",
      "strides:  (8,)\n",
      "itemsize:  8\n",
      "aligned:  True\n",
      "contiguous:  True\n",
      "fortran:  True\n",
      "data pointer: 0x1178ec000\n",
      "byteorder:  little\n",
      "byteswap:  False\n",
      "type: int64\n"
     ]
    }
   ],
   "source": [
    "# Convert crime labels to numbers\n",
    "label_crime = preprocessing.LabelEncoder()\n",
    "crime = label_crime.fit_transform(train.Category)\n",
    "np.info(crime)"
   ]
  },
  {
   "cell_type": "code",
   "execution_count": 8,
   "metadata": {
    "collapsed": false
   },
   "outputs": [
    {
     "name": "stdout",
     "output_type": "stream",
     "text": [
      "<class 'pandas.core.frame.DataFrame'>\n",
      "RangeIndex: 878049 entries, 0 to 878048\n",
      "Data columns (total 7 columns):\n",
      "Friday       878049 non-null float64\n",
      "Monday       878049 non-null float64\n",
      "Saturday     878049 non-null float64\n",
      "Sunday       878049 non-null float64\n",
      "Thursday     878049 non-null float64\n",
      "Tuesday      878049 non-null float64\n",
      "Wednesday    878049 non-null float64\n",
      "dtypes: float64(7)\n",
      "memory usage: 46.9 MB\n"
     ]
    }
   ],
   "source": [
    "#Get binaried weekdays, districts, and hours\n",
    "days = pd.get_dummies(train.DayOfWeek)\n",
    "district = pd.get_dummies(train.PdDistrict)\n",
    "days.info()"
   ]
  },
  {
   "cell_type": "code",
   "execution_count": 9,
   "metadata": {
    "collapsed": false
   },
   "outputs": [
    {
     "name": "stdout",
     "output_type": "stream",
     "text": [
      "<class 'pandas.core.frame.DataFrame'>\n",
      "RangeIndex: 878049 entries, 0 to 878048\n",
      "Data columns (total 24 columns):\n",
      "0     878049 non-null float64\n",
      "1     878049 non-null float64\n",
      "2     878049 non-null float64\n",
      "3     878049 non-null float64\n",
      "4     878049 non-null float64\n",
      "5     878049 non-null float64\n",
      "6     878049 non-null float64\n",
      "7     878049 non-null float64\n",
      "8     878049 non-null float64\n",
      "9     878049 non-null float64\n",
      "10    878049 non-null float64\n",
      "11    878049 non-null float64\n",
      "12    878049 non-null float64\n",
      "13    878049 non-null float64\n",
      "14    878049 non-null float64\n",
      "15    878049 non-null float64\n",
      "16    878049 non-null float64\n",
      "17    878049 non-null float64\n",
      "18    878049 non-null float64\n",
      "19    878049 non-null float64\n",
      "20    878049 non-null float64\n",
      "21    878049 non-null float64\n",
      "22    878049 non-null float64\n",
      "23    878049 non-null float64\n",
      "dtypes: float64(24)\n",
      "memory usage: 160.8 MB\n"
     ]
    }
   ],
   "source": [
    "hour = train.Dates.dt.hour\n",
    "hour = pd.get_dummies(hour)\n",
    "hour.info()"
   ]
  },
  {
   "cell_type": "code",
   "execution_count": 10,
   "metadata": {
    "collapsed": false
   },
   "outputs": [
    {
     "name": "stdout",
     "output_type": "stream",
     "text": [
      "<class 'pandas.core.frame.DataFrame'>\n",
      "RangeIndex: 878049 entries, 0 to 878048\n",
      "Data columns (total 42 columns):\n",
      "0             878049 non-null float64\n",
      "1             878049 non-null float64\n",
      "2             878049 non-null float64\n",
      "3             878049 non-null float64\n",
      "4             878049 non-null float64\n",
      "5             878049 non-null float64\n",
      "6             878049 non-null float64\n",
      "7             878049 non-null float64\n",
      "8             878049 non-null float64\n",
      "9             878049 non-null float64\n",
      "10            878049 non-null float64\n",
      "11            878049 non-null float64\n",
      "12            878049 non-null float64\n",
      "13            878049 non-null float64\n",
      "14            878049 non-null float64\n",
      "15            878049 non-null float64\n",
      "16            878049 non-null float64\n",
      "17            878049 non-null float64\n",
      "18            878049 non-null float64\n",
      "19            878049 non-null float64\n",
      "20            878049 non-null float64\n",
      "21            878049 non-null float64\n",
      "22            878049 non-null float64\n",
      "23            878049 non-null float64\n",
      "Friday        878049 non-null float64\n",
      "Monday        878049 non-null float64\n",
      "Saturday      878049 non-null float64\n",
      "Sunday        878049 non-null float64\n",
      "Thursday      878049 non-null float64\n",
      "Tuesday       878049 non-null float64\n",
      "Wednesday     878049 non-null float64\n",
      "BAYVIEW       878049 non-null float64\n",
      "CENTRAL       878049 non-null float64\n",
      "INGLESIDE     878049 non-null float64\n",
      "MISSION       878049 non-null float64\n",
      "NORTHERN      878049 non-null float64\n",
      "PARK          878049 non-null float64\n",
      "RICHMOND      878049 non-null float64\n",
      "SOUTHERN      878049 non-null float64\n",
      "TARAVAL       878049 non-null float64\n",
      "TENDERLOIN    878049 non-null float64\n",
      "crime         878049 non-null int64\n",
      "dtypes: float64(41), int64(1)\n",
      "memory usage: 281.4 MB\n"
     ]
    }
   ],
   "source": [
    "# Concat new array\n",
    "train_data = pd.concat([hour, days, district], axis=1)\n",
    "train_data['crime'] = crime\n",
    "train_data.info()"
   ]
  },
  {
   "cell_type": "markdown",
   "metadata": {},
   "source": [
    "### Define Same Process Function for test data"
   ]
  },
  {
   "cell_type": "code",
   "execution_count": 11,
   "metadata": {
    "collapsed": false
   },
   "outputs": [],
   "source": [
    "def convert_to_vector(pandas_object):\n",
    "    days = pd.get_dummies(pandas_object.DayOfWeek)\n",
    "    district = pd.get_dummies(pandas_object.PdDistrict)\n",
    "    hour = pandas_object.Dates.dt.hour\n",
    "    hour = pd.get_dummies(hour)\n",
    "    \n",
    "    pandas_data = pd.concat([hour, days, district], axis=1)\n",
    "    return pandas_data"
   ]
  },
  {
   "cell_type": "code",
   "execution_count": 12,
   "metadata": {
    "collapsed": false
   },
   "outputs": [
    {
     "name": "stdout",
     "output_type": "stream",
     "text": [
      "<class 'pandas.core.frame.DataFrame'>\n",
      "RangeIndex: 878049 entries, 0 to 878048\n",
      "Data columns (total 42 columns):\n",
      "0             878049 non-null float64\n",
      "1             878049 non-null float64\n",
      "2             878049 non-null float64\n",
      "3             878049 non-null float64\n",
      "4             878049 non-null float64\n",
      "5             878049 non-null float64\n",
      "6             878049 non-null float64\n",
      "7             878049 non-null float64\n",
      "8             878049 non-null float64\n",
      "9             878049 non-null float64\n",
      "10            878049 non-null float64\n",
      "11            878049 non-null float64\n",
      "12            878049 non-null float64\n",
      "13            878049 non-null float64\n",
      "14            878049 non-null float64\n",
      "15            878049 non-null float64\n",
      "16            878049 non-null float64\n",
      "17            878049 non-null float64\n",
      "18            878049 non-null float64\n",
      "19            878049 non-null float64\n",
      "20            878049 non-null float64\n",
      "21            878049 non-null float64\n",
      "22            878049 non-null float64\n",
      "23            878049 non-null float64\n",
      "Friday        878049 non-null float64\n",
      "Monday        878049 non-null float64\n",
      "Saturday      878049 non-null float64\n",
      "Sunday        878049 non-null float64\n",
      "Thursday      878049 non-null float64\n",
      "Tuesday       878049 non-null float64\n",
      "Wednesday     878049 non-null float64\n",
      "BAYVIEW       878049 non-null float64\n",
      "CENTRAL       878049 non-null float64\n",
      "INGLESIDE     878049 non-null float64\n",
      "MISSION       878049 non-null float64\n",
      "NORTHERN      878049 non-null float64\n",
      "PARK          878049 non-null float64\n",
      "RICHMOND      878049 non-null float64\n",
      "SOUTHERN      878049 non-null float64\n",
      "TARAVAL       878049 non-null float64\n",
      "TENDERLOIN    878049 non-null float64\n",
      "crime         878049 non-null int64\n",
      "dtypes: float64(41), int64(1)\n",
      "memory usage: 281.4 MB\n"
     ]
    }
   ],
   "source": [
    "train_data = convert_to_vector(train)\n",
    "train_data['crime'] = crime\n",
    "train_data.info()"
   ]
  },
  {
   "cell_type": "code",
   "execution_count": 13,
   "metadata": {
    "collapsed": false
   },
   "outputs": [
    {
     "name": "stdout",
     "output_type": "stream",
     "text": [
      "<class 'pandas.core.frame.DataFrame'>\n",
      "RangeIndex: 884262 entries, 0 to 884261\n",
      "Data columns (total 41 columns):\n",
      "0             884262 non-null float64\n",
      "1             884262 non-null float64\n",
      "2             884262 non-null float64\n",
      "3             884262 non-null float64\n",
      "4             884262 non-null float64\n",
      "5             884262 non-null float64\n",
      "6             884262 non-null float64\n",
      "7             884262 non-null float64\n",
      "8             884262 non-null float64\n",
      "9             884262 non-null float64\n",
      "10            884262 non-null float64\n",
      "11            884262 non-null float64\n",
      "12            884262 non-null float64\n",
      "13            884262 non-null float64\n",
      "14            884262 non-null float64\n",
      "15            884262 non-null float64\n",
      "16            884262 non-null float64\n",
      "17            884262 non-null float64\n",
      "18            884262 non-null float64\n",
      "19            884262 non-null float64\n",
      "20            884262 non-null float64\n",
      "21            884262 non-null float64\n",
      "22            884262 non-null float64\n",
      "23            884262 non-null float64\n",
      "Friday        884262 non-null float64\n",
      "Monday        884262 non-null float64\n",
      "Saturday      884262 non-null float64\n",
      "Sunday        884262 non-null float64\n",
      "Thursday      884262 non-null float64\n",
      "Tuesday       884262 non-null float64\n",
      "Wednesday     884262 non-null float64\n",
      "BAYVIEW       884262 non-null float64\n",
      "CENTRAL       884262 non-null float64\n",
      "INGLESIDE     884262 non-null float64\n",
      "MISSION       884262 non-null float64\n",
      "NORTHERN      884262 non-null float64\n",
      "PARK          884262 non-null float64\n",
      "RICHMOND      884262 non-null float64\n",
      "SOUTHERN      884262 non-null float64\n",
      "TARAVAL       884262 non-null float64\n",
      "TENDERLOIN    884262 non-null float64\n",
      "dtypes: float64(41)\n",
      "memory usage: 276.6 MB\n"
     ]
    }
   ],
   "source": [
    "# do same process for test data\n",
    "test_data = convert_to_vector(test)\n",
    "test_data.info()"
   ]
  },
  {
   "cell_type": "code",
   "execution_count": 15,
   "metadata": {
    "collapsed": false
   },
   "outputs": [
    {
     "name": "stdout",
     "output_type": "stream",
     "text": [
      "<class 'pandas.core.frame.DataFrame'>\n",
      "Int64Index: 526829 entries, 62117 to 861182\n",
      "Data columns (total 42 columns):\n",
      "0             526829 non-null float64\n",
      "1             526829 non-null float64\n",
      "2             526829 non-null float64\n",
      "3             526829 non-null float64\n",
      "4             526829 non-null float64\n",
      "5             526829 non-null float64\n",
      "6             526829 non-null float64\n",
      "7             526829 non-null float64\n",
      "8             526829 non-null float64\n",
      "9             526829 non-null float64\n",
      "10            526829 non-null float64\n",
      "11            526829 non-null float64\n",
      "12            526829 non-null float64\n",
      "13            526829 non-null float64\n",
      "14            526829 non-null float64\n",
      "15            526829 non-null float64\n",
      "16            526829 non-null float64\n",
      "17            526829 non-null float64\n",
      "18            526829 non-null float64\n",
      "19            526829 non-null float64\n",
      "20            526829 non-null float64\n",
      "21            526829 non-null float64\n",
      "22            526829 non-null float64\n",
      "23            526829 non-null float64\n",
      "Friday        526829 non-null float64\n",
      "Monday        526829 non-null float64\n",
      "Saturday      526829 non-null float64\n",
      "Sunday        526829 non-null float64\n",
      "Thursday      526829 non-null float64\n",
      "Tuesday       526829 non-null float64\n",
      "Wednesday     526829 non-null float64\n",
      "BAYVIEW       526829 non-null float64\n",
      "CENTRAL       526829 non-null float64\n",
      "INGLESIDE     526829 non-null float64\n",
      "MISSION       526829 non-null float64\n",
      "NORTHERN      526829 non-null float64\n",
      "PARK          526829 non-null float64\n",
      "RICHMOND      526829 non-null float64\n",
      "SOUTHERN      526829 non-null float64\n",
      "TARAVAL       526829 non-null float64\n",
      "TENDERLOIN    526829 non-null float64\n",
      "crime         526829 non-null int64\n",
      "dtypes: float64(41), int64(1)\n",
      "memory usage: 172.8 MB\n"
     ]
    }
   ],
   "source": [
    "training, validation = train_test_split(train_data, train_size=.60)\n",
    "training.info()"
   ]
  },
  {
   "cell_type": "code",
   "execution_count": 16,
   "metadata": {
    "collapsed": false
   },
   "outputs": [],
   "source": [
    "features = ['Friday', 'Monday', 'Saturday', 'Sunday', 'Thursday', 'Tuesday',\n",
    " 'Wednesday', 'BAYVIEW', 'CENTRAL', 'INGLESIDE', 'MISSION',\n",
    " 'NORTHERN', 'PARK', 'RICHMOND', 'SOUTHERN', 'TARAVAL', 'TENDERLOIN']"
   ]
  },
  {
   "cell_type": "markdown",
   "metadata": {},
   "source": [
    "### Using Naive Bayes -> BernoulliNB"
   ]
  },
  {
   "cell_type": "code",
   "execution_count": 16,
   "metadata": {
    "collapsed": false
   },
   "outputs": [
    {
     "data": {
      "text/plain": [
       "2.6140311810420531"
      ]
     },
     "execution_count": 16,
     "metadata": {},
     "output_type": "execute_result"
    }
   ],
   "source": [
    "from sklearn.naive_bayes import BernoulliNB\n",
    "from sklearn.metrics import log_loss\n",
    "\n",
    "NB_model= BernoulliNB()\n",
    "NB_model.fit(training[features], training['crime'])\n",
    "predicted = np.array(NB_model.predict_proba(validation[features]))\n",
    "log_loss(validation['crime'], predicted)"
   ]
  },
  {
   "cell_type": "markdown",
   "metadata": {},
   "source": [
    "### if using Logistic Regression"
   ]
  },
  {
   "cell_type": "code",
   "execution_count": 63,
   "metadata": {
    "collapsed": false
   },
   "outputs": [
    {
     "data": {
      "text/plain": [
       "LogisticRegression(C=0.01, class_weight=None, dual=False, fit_intercept=True,\n",
       "          intercept_scaling=1, max_iter=100, multi_class='ovr', n_jobs=1,\n",
       "          penalty='l2', random_state=None, solver='liblinear', tol=0.0001,\n",
       "          verbose=0, warm_start=False)"
      ]
     },
     "execution_count": 63,
     "metadata": {},
     "output_type": "execute_result"
    }
   ],
   "source": [
    "from sklearn.linear_model import LogisticRegression\n",
    "LR_model = LogisticRegression(C=.01)\n",
    "LR_model"
   ]
  },
  {
   "cell_type": "markdown",
   "metadata": {},
   "source": [
    "### BernoulliNB 모델에 비해서 계산 시간이 엄청나게 걸린다... 거의 30초쯤?"
   ]
  },
  {
   "cell_type": "code",
   "execution_count": 64,
   "metadata": {
    "collapsed": false
   },
   "outputs": [
    {
     "data": {
      "text/plain": [
       "LogisticRegression(C=0.01, class_weight=None, dual=False, fit_intercept=True,\n",
       "          intercept_scaling=1, max_iter=100, multi_class='ovr', n_jobs=1,\n",
       "          penalty='l2', random_state=None, solver='liblinear', tol=0.0001,\n",
       "          verbose=0, warm_start=False)"
      ]
     },
     "execution_count": 64,
     "metadata": {},
     "output_type": "execute_result"
    }
   ],
   "source": [
    "LR_model.fit(training[features], training['crime'])"
   ]
  },
  {
   "cell_type": "code",
   "execution_count": 67,
   "metadata": {
    "collapsed": false
   },
   "outputs": [
    {
     "data": {
      "text/plain": [
       "2.6221642109377497"
      ]
     },
     "execution_count": 67,
     "metadata": {},
     "output_type": "execute_result"
    }
   ],
   "source": [
    "predicted = np.array(LR_model.predict_proba(validation[features]))\n",
    "log_loss(validation['crime'], predicted)"
   ]
  },
  {
   "cell_type": "code",
   "execution_count": 6,
   "metadata": {
    "collapsed": false
   },
   "outputs": [
    {
     "data": {
      "text/plain": [
       "Category\n",
       "ARSON                            1513\n",
       "ASSAULT                         76876\n",
       "BAD CHECKS                        406\n",
       "BRIBERY                           289\n",
       "BURGLARY                        36755\n",
       "DISORDERLY CONDUCT               4320\n",
       "DRIVING UNDER THE INFLUENCE      2268\n",
       "DRUG/NARCOTIC                   53971\n",
       "DRUNKENNESS                      4280\n",
       "EMBEZZLEMENT                     1166\n",
       "EXTORTION                         256\n",
       "FAMILY OFFENSES                   491\n",
       "FORGERY/COUNTERFEITING          10609\n",
       "FRAUD                           16679\n",
       "GAMBLING                          146\n",
       "KIDNAPPING                       2341\n",
       "LARCENY/THEFT                  174900\n",
       "LIQUOR LAWS                      1903\n",
       "LOITERING                        1225\n",
       "MISSING PERSON                  25989\n",
       "NON-CRIMINAL                    92304\n",
       "OTHER OFFENSES                 126182\n",
       "PORNOGRAPHY/OBSCENE MAT            22\n",
       "PROSTITUTION                     7484\n",
       "RECOVERED VEHICLE                3138\n",
       "ROBBERY                         23000\n",
       "RUNAWAY                          1946\n",
       "SECONDARY CODES                  9985\n",
       "SEX OFFENSES FORCIBLE            4388\n",
       "SEX OFFENSES NON FORCIBLE         148\n",
       "STOLEN PROPERTY                  4540\n",
       "SUICIDE                           508\n",
       "SUSPICIOUS OCC                  31414\n",
       "TREA                                6\n",
       "TRESPASS                         7326\n",
       "VANDALISM                       44725\n",
       "VEHICLE THEFT                   53781\n",
       "WARRANTS                        42214\n",
       "WEAPON LAWS                      8555\n",
       "Name: count, dtype: int64"
      ]
     },
     "execution_count": 6,
     "metadata": {},
     "output_type": "execute_result"
    }
   ],
   "source": [
    "# category_tab = pd.crosstab(index=train['Category'], columns='count')\n",
    "# category_tab['count']"
   ]
  },
  {
   "cell_type": "code",
   "execution_count": 7,
   "metadata": {
    "collapsed": false
   },
   "outputs": [
    {
     "data": {
      "text/plain": [
       "Category\n",
       "ARSON                           0.172314\n",
       "ASSAULT                         8.755320\n",
       "BAD CHECKS                      0.046239\n",
       "BRIBERY                         0.032914\n",
       "BURGLARY                        4.185985\n",
       "DISORDERLY CONDUCT              0.492000\n",
       "DRIVING UNDER THE INFLUENCE     0.258300\n",
       "DRUG/NARCOTIC                   6.146696\n",
       "DRUNKENNESS                     0.487444\n",
       "EMBEZZLEMENT                    0.132794\n",
       "EXTORTION                       0.029156\n",
       "FAMILY OFFENSES                 0.055919\n",
       "FORGERY/COUNTERFEITING          1.208247\n",
       "FRAUD                           1.899552\n",
       "GAMBLING                        0.016628\n",
       "KIDNAPPING                      0.266614\n",
       "LARCENY/THEFT                  19.919162\n",
       "LIQUOR LAWS                     0.216731\n",
       "LOITERING                       0.139514\n",
       "MISSING PERSON                  2.959858\n",
       "NON-CRIMINAL                   10.512397\n",
       "OTHER OFFENSES                 14.370724\n",
       "PORNOGRAPHY/OBSCENE MAT         0.002506\n",
       "PROSTITUTION                    0.852344\n",
       "RECOVERED VEHICLE               0.357383\n",
       "ROBBERY                         2.619444\n",
       "RUNAWAY                         0.221628\n",
       "SECONDARY CODES                 1.137180\n",
       "SEX OFFENSES FORCIBLE           0.499744\n",
       "SEX OFFENSES NON FORCIBLE       0.016856\n",
       "STOLEN PROPERTY                 0.517055\n",
       "SUICIDE                         0.057856\n",
       "SUSPICIOUS OCC                  3.577705\n",
       "TREA                            0.000683\n",
       "TRESPASS                        0.834350\n",
       "VANDALISM                       5.093679\n",
       "VEHICLE THEFT                   6.125057\n",
       "WARRANTS                        4.807704\n",
       "WEAPON LAWS                     0.974319\n",
       "Name: count, dtype: float64"
      ]
     },
     "execution_count": 7,
     "metadata": {},
     "output_type": "execute_result"
    }
   ],
   "source": [
    "# category_tab['count'] / len(train['Category']) * 100"
   ]
  },
  {
   "cell_type": "markdown",
   "metadata": {
    "collapsed": true
   },
   "source": [
    "### Submission Code"
   ]
  },
  {
   "cell_type": "code",
   "execution_count": 70,
   "metadata": {
    "collapsed": false
   },
   "outputs": [],
   "source": [
    "model = BernoulliNB()\n",
    "model.fit(train_data[features], train_data['crime'])\n",
    "predicted = model.predict_proba(test_data[features])"
   ]
  },
  {
   "cell_type": "code",
   "execution_count": 71,
   "metadata": {
    "collapsed": false
   },
   "outputs": [
    {
     "data": {
      "text/plain": [
       "array(['ARSON', 'ASSAULT', 'BAD CHECKS', 'BRIBERY', 'BURGLARY',\n",
       "       'DISORDERLY CONDUCT', 'DRIVING UNDER THE INFLUENCE',\n",
       "       'DRUG/NARCOTIC', 'DRUNKENNESS', 'EMBEZZLEMENT', 'EXTORTION',\n",
       "       'FAMILY OFFENSES', 'FORGERY/COUNTERFEITING', 'FRAUD', 'GAMBLING',\n",
       "       'KIDNAPPING', 'LARCENY/THEFT', 'LIQUOR LAWS', 'LOITERING',\n",
       "       'MISSING PERSON', 'NON-CRIMINAL', 'OTHER OFFENSES',\n",
       "       'PORNOGRAPHY/OBSCENE MAT', 'PROSTITUTION', 'RECOVERED VEHICLE',\n",
       "       'ROBBERY', 'RUNAWAY', 'SECONDARY CODES', 'SEX OFFENSES FORCIBLE',\n",
       "       'SEX OFFENSES NON FORCIBLE', 'STOLEN PROPERTY', 'SUICIDE',\n",
       "       'SUSPICIOUS OCC', 'TREA', 'TRESPASS', 'VANDALISM', 'VEHICLE THEFT',\n",
       "       'WARRANTS', 'WEAPON LAWS'], dtype=object)"
      ]
     },
     "execution_count": 71,
     "metadata": {},
     "output_type": "execute_result"
    }
   ],
   "source": [
    "label_crime.classes_\n"
   ]
  },
  {
   "cell_type": "code",
   "execution_count": 72,
   "metadata": {
    "collapsed": true
   },
   "outputs": [],
   "source": [
    "# 이 과정 진짜 오래걸림..\n",
    "result = pd.DataFrame(predicted, columns=label_crime.classes_)\n",
    "result.to_csv('using-bernoulliNB.csv', index=True, index_label = 'Id')"
   ]
  },
  {
   "cell_type": "code",
   "execution_count": 73,
   "metadata": {
    "collapsed": false
   },
   "outputs": [
    {
     "data": {
      "text/html": [
       "<div>\n",
       "<table border=\"1\" class=\"dataframe\">\n",
       "  <thead>\n",
       "    <tr style=\"text-align: right;\">\n",
       "      <th></th>\n",
       "      <th>ARSON</th>\n",
       "      <th>ASSAULT</th>\n",
       "      <th>BAD CHECKS</th>\n",
       "      <th>BRIBERY</th>\n",
       "      <th>BURGLARY</th>\n",
       "      <th>DISORDERLY CONDUCT</th>\n",
       "      <th>DRIVING UNDER THE INFLUENCE</th>\n",
       "      <th>DRUG/NARCOTIC</th>\n",
       "      <th>DRUNKENNESS</th>\n",
       "      <th>EMBEZZLEMENT</th>\n",
       "      <th>...</th>\n",
       "      <th>SEX OFFENSES NON FORCIBLE</th>\n",
       "      <th>STOLEN PROPERTY</th>\n",
       "      <th>SUICIDE</th>\n",
       "      <th>SUSPICIOUS OCC</th>\n",
       "      <th>TREA</th>\n",
       "      <th>TRESPASS</th>\n",
       "      <th>VANDALISM</th>\n",
       "      <th>VEHICLE THEFT</th>\n",
       "      <th>WARRANTS</th>\n",
       "      <th>WEAPON LAWS</th>\n",
       "    </tr>\n",
       "  </thead>\n",
       "  <tbody>\n",
       "    <tr>\n",
       "      <th>0</th>\n",
       "      <td>0.005451</td>\n",
       "      <td>0.136201</td>\n",
       "      <td>0.000127</td>\n",
       "      <td>0.000711</td>\n",
       "      <td>0.037038</td>\n",
       "      <td>0.002288</td>\n",
       "      <td>0.003024</td>\n",
       "      <td>0.038701</td>\n",
       "      <td>0.003837</td>\n",
       "      <td>0.000713</td>\n",
       "      <td>...</td>\n",
       "      <td>0.000197</td>\n",
       "      <td>0.004098</td>\n",
       "      <td>0.000395</td>\n",
       "      <td>0.042298</td>\n",
       "      <td>0.000007</td>\n",
       "      <td>0.006365</td>\n",
       "      <td>0.068189</td>\n",
       "      <td>0.087251</td>\n",
       "      <td>0.043807</td>\n",
       "      <td>0.019875</td>\n",
       "    </tr>\n",
       "    <tr>\n",
       "      <th>1</th>\n",
       "      <td>0.005451</td>\n",
       "      <td>0.136201</td>\n",
       "      <td>0.000127</td>\n",
       "      <td>0.000711</td>\n",
       "      <td>0.037038</td>\n",
       "      <td>0.002288</td>\n",
       "      <td>0.003024</td>\n",
       "      <td>0.038701</td>\n",
       "      <td>0.003837</td>\n",
       "      <td>0.000713</td>\n",
       "      <td>...</td>\n",
       "      <td>0.000197</td>\n",
       "      <td>0.004098</td>\n",
       "      <td>0.000395</td>\n",
       "      <td>0.042298</td>\n",
       "      <td>0.000007</td>\n",
       "      <td>0.006365</td>\n",
       "      <td>0.068189</td>\n",
       "      <td>0.087251</td>\n",
       "      <td>0.043807</td>\n",
       "      <td>0.019875</td>\n",
       "    </tr>\n",
       "    <tr>\n",
       "      <th>2</th>\n",
       "      <td>0.001434</td>\n",
       "      <td>0.094518</td>\n",
       "      <td>0.000178</td>\n",
       "      <td>0.000171</td>\n",
       "      <td>0.049296</td>\n",
       "      <td>0.004202</td>\n",
       "      <td>0.003837</td>\n",
       "      <td>0.032659</td>\n",
       "      <td>0.005038</td>\n",
       "      <td>0.000807</td>\n",
       "      <td>...</td>\n",
       "      <td>0.000065</td>\n",
       "      <td>0.006550</td>\n",
       "      <td>0.000635</td>\n",
       "      <td>0.029117</td>\n",
       "      <td>0.000002</td>\n",
       "      <td>0.006709</td>\n",
       "      <td>0.057947</td>\n",
       "      <td>0.062714</td>\n",
       "      <td>0.039502</td>\n",
       "      <td>0.007129</td>\n",
       "    </tr>\n",
       "    <tr>\n",
       "      <th>3</th>\n",
       "      <td>0.002421</td>\n",
       "      <td>0.131360</td>\n",
       "      <td>0.000136</td>\n",
       "      <td>0.000755</td>\n",
       "      <td>0.035027</td>\n",
       "      <td>0.002009</td>\n",
       "      <td>0.004002</td>\n",
       "      <td>0.022246</td>\n",
       "      <td>0.003368</td>\n",
       "      <td>0.000621</td>\n",
       "      <td>...</td>\n",
       "      <td>0.000224</td>\n",
       "      <td>0.004022</td>\n",
       "      <td>0.000829</td>\n",
       "      <td>0.037946</td>\n",
       "      <td>0.000001</td>\n",
       "      <td>0.004583</td>\n",
       "      <td>0.077765</td>\n",
       "      <td>0.127807</td>\n",
       "      <td>0.027799</td>\n",
       "      <td>0.014417</td>\n",
       "    </tr>\n",
       "    <tr>\n",
       "      <th>4</th>\n",
       "      <td>0.002421</td>\n",
       "      <td>0.131360</td>\n",
       "      <td>0.000136</td>\n",
       "      <td>0.000755</td>\n",
       "      <td>0.035027</td>\n",
       "      <td>0.002009</td>\n",
       "      <td>0.004002</td>\n",
       "      <td>0.022246</td>\n",
       "      <td>0.003368</td>\n",
       "      <td>0.000621</td>\n",
       "      <td>...</td>\n",
       "      <td>0.000224</td>\n",
       "      <td>0.004022</td>\n",
       "      <td>0.000829</td>\n",
       "      <td>0.037946</td>\n",
       "      <td>0.000001</td>\n",
       "      <td>0.004583</td>\n",
       "      <td>0.077765</td>\n",
       "      <td>0.127807</td>\n",
       "      <td>0.027799</td>\n",
       "      <td>0.014417</td>\n",
       "    </tr>\n",
       "    <tr>\n",
       "      <th>5</th>\n",
       "      <td>0.001893</td>\n",
       "      <td>0.099612</td>\n",
       "      <td>0.000190</td>\n",
       "      <td>0.000271</td>\n",
       "      <td>0.045245</td>\n",
       "      <td>0.002351</td>\n",
       "      <td>0.004848</td>\n",
       "      <td>0.017481</td>\n",
       "      <td>0.005772</td>\n",
       "      <td>0.000938</td>\n",
       "      <td>...</td>\n",
       "      <td>0.000183</td>\n",
       "      <td>0.003229</td>\n",
       "      <td>0.000920</td>\n",
       "      <td>0.044159</td>\n",
       "      <td>0.000001</td>\n",
       "      <td>0.005241</td>\n",
       "      <td>0.086093</td>\n",
       "      <td>0.102017</td>\n",
       "      <td>0.021517</td>\n",
       "      <td>0.008329</td>\n",
       "    </tr>\n",
       "    <tr>\n",
       "      <th>6</th>\n",
       "      <td>0.002421</td>\n",
       "      <td>0.131360</td>\n",
       "      <td>0.000136</td>\n",
       "      <td>0.000755</td>\n",
       "      <td>0.035027</td>\n",
       "      <td>0.002009</td>\n",
       "      <td>0.004002</td>\n",
       "      <td>0.022246</td>\n",
       "      <td>0.003368</td>\n",
       "      <td>0.000621</td>\n",
       "      <td>...</td>\n",
       "      <td>0.000224</td>\n",
       "      <td>0.004022</td>\n",
       "      <td>0.000829</td>\n",
       "      <td>0.037946</td>\n",
       "      <td>0.000001</td>\n",
       "      <td>0.004583</td>\n",
       "      <td>0.077765</td>\n",
       "      <td>0.127807</td>\n",
       "      <td>0.027799</td>\n",
       "      <td>0.014417</td>\n",
       "    </tr>\n",
       "    <tr>\n",
       "      <th>7</th>\n",
       "      <td>0.002421</td>\n",
       "      <td>0.131360</td>\n",
       "      <td>0.000136</td>\n",
       "      <td>0.000755</td>\n",
       "      <td>0.035027</td>\n",
       "      <td>0.002009</td>\n",
       "      <td>0.004002</td>\n",
       "      <td>0.022246</td>\n",
       "      <td>0.003368</td>\n",
       "      <td>0.000621</td>\n",
       "      <td>...</td>\n",
       "      <td>0.000224</td>\n",
       "      <td>0.004022</td>\n",
       "      <td>0.000829</td>\n",
       "      <td>0.037946</td>\n",
       "      <td>0.000001</td>\n",
       "      <td>0.004583</td>\n",
       "      <td>0.077765</td>\n",
       "      <td>0.127807</td>\n",
       "      <td>0.027799</td>\n",
       "      <td>0.014417</td>\n",
       "    </tr>\n",
       "    <tr>\n",
       "      <th>8</th>\n",
       "      <td>0.001211</td>\n",
       "      <td>0.115019</td>\n",
       "      <td>0.000129</td>\n",
       "      <td>0.000639</td>\n",
       "      <td>0.025699</td>\n",
       "      <td>0.010666</td>\n",
       "      <td>0.004813</td>\n",
       "      <td>0.060362</td>\n",
       "      <td>0.010406</td>\n",
       "      <td>0.000661</td>\n",
       "      <td>...</td>\n",
       "      <td>0.000251</td>\n",
       "      <td>0.005050</td>\n",
       "      <td>0.000601</td>\n",
       "      <td>0.030088</td>\n",
       "      <td>0.000002</td>\n",
       "      <td>0.007934</td>\n",
       "      <td>0.049275</td>\n",
       "      <td>0.063164</td>\n",
       "      <td>0.052253</td>\n",
       "      <td>0.011228</td>\n",
       "    </tr>\n",
       "    <tr>\n",
       "      <th>9</th>\n",
       "      <td>0.001293</td>\n",
       "      <td>0.096548</td>\n",
       "      <td>0.000273</td>\n",
       "      <td>0.000143</td>\n",
       "      <td>0.045293</td>\n",
       "      <td>0.005764</td>\n",
       "      <td>0.002799</td>\n",
       "      <td>0.015389</td>\n",
       "      <td>0.009128</td>\n",
       "      <td>0.001443</td>\n",
       "      <td>...</td>\n",
       "      <td>0.000064</td>\n",
       "      <td>0.005649</td>\n",
       "      <td>0.000697</td>\n",
       "      <td>0.030950</td>\n",
       "      <td>0.000002</td>\n",
       "      <td>0.009838</td>\n",
       "      <td>0.058118</td>\n",
       "      <td>0.049925</td>\n",
       "      <td>0.028250</td>\n",
       "      <td>0.005263</td>\n",
       "    </tr>\n",
       "  </tbody>\n",
       "</table>\n",
       "<p>10 rows × 39 columns</p>\n",
       "</div>"
      ],
      "text/plain": [
       "      ARSON   ASSAULT  BAD CHECKS   BRIBERY  BURGLARY  DISORDERLY CONDUCT  \\\n",
       "0  0.005451  0.136201    0.000127  0.000711  0.037038            0.002288   \n",
       "1  0.005451  0.136201    0.000127  0.000711  0.037038            0.002288   \n",
       "2  0.001434  0.094518    0.000178  0.000171  0.049296            0.004202   \n",
       "3  0.002421  0.131360    0.000136  0.000755  0.035027            0.002009   \n",
       "4  0.002421  0.131360    0.000136  0.000755  0.035027            0.002009   \n",
       "5  0.001893  0.099612    0.000190  0.000271  0.045245            0.002351   \n",
       "6  0.002421  0.131360    0.000136  0.000755  0.035027            0.002009   \n",
       "7  0.002421  0.131360    0.000136  0.000755  0.035027            0.002009   \n",
       "8  0.001211  0.115019    0.000129  0.000639  0.025699            0.010666   \n",
       "9  0.001293  0.096548    0.000273  0.000143  0.045293            0.005764   \n",
       "\n",
       "   DRIVING UNDER THE INFLUENCE  DRUG/NARCOTIC  DRUNKENNESS  EMBEZZLEMENT  \\\n",
       "0                     0.003024       0.038701     0.003837      0.000713   \n",
       "1                     0.003024       0.038701     0.003837      0.000713   \n",
       "2                     0.003837       0.032659     0.005038      0.000807   \n",
       "3                     0.004002       0.022246     0.003368      0.000621   \n",
       "4                     0.004002       0.022246     0.003368      0.000621   \n",
       "5                     0.004848       0.017481     0.005772      0.000938   \n",
       "6                     0.004002       0.022246     0.003368      0.000621   \n",
       "7                     0.004002       0.022246     0.003368      0.000621   \n",
       "8                     0.004813       0.060362     0.010406      0.000661   \n",
       "9                     0.002799       0.015389     0.009128      0.001443   \n",
       "\n",
       "      ...       SEX OFFENSES NON FORCIBLE  STOLEN PROPERTY   SUICIDE  \\\n",
       "0     ...                        0.000197         0.004098  0.000395   \n",
       "1     ...                        0.000197         0.004098  0.000395   \n",
       "2     ...                        0.000065         0.006550  0.000635   \n",
       "3     ...                        0.000224         0.004022  0.000829   \n",
       "4     ...                        0.000224         0.004022  0.000829   \n",
       "5     ...                        0.000183         0.003229  0.000920   \n",
       "6     ...                        0.000224         0.004022  0.000829   \n",
       "7     ...                        0.000224         0.004022  0.000829   \n",
       "8     ...                        0.000251         0.005050  0.000601   \n",
       "9     ...                        0.000064         0.005649  0.000697   \n",
       "\n",
       "   SUSPICIOUS OCC      TREA  TRESPASS  VANDALISM  VEHICLE THEFT  WARRANTS  \\\n",
       "0        0.042298  0.000007  0.006365   0.068189       0.087251  0.043807   \n",
       "1        0.042298  0.000007  0.006365   0.068189       0.087251  0.043807   \n",
       "2        0.029117  0.000002  0.006709   0.057947       0.062714  0.039502   \n",
       "3        0.037946  0.000001  0.004583   0.077765       0.127807  0.027799   \n",
       "4        0.037946  0.000001  0.004583   0.077765       0.127807  0.027799   \n",
       "5        0.044159  0.000001  0.005241   0.086093       0.102017  0.021517   \n",
       "6        0.037946  0.000001  0.004583   0.077765       0.127807  0.027799   \n",
       "7        0.037946  0.000001  0.004583   0.077765       0.127807  0.027799   \n",
       "8        0.030088  0.000002  0.007934   0.049275       0.063164  0.052253   \n",
       "9        0.030950  0.000002  0.009838   0.058118       0.049925  0.028250   \n",
       "\n",
       "   WEAPON LAWS  \n",
       "0     0.019875  \n",
       "1     0.019875  \n",
       "2     0.007129  \n",
       "3     0.014417  \n",
       "4     0.014417  \n",
       "5     0.008329  \n",
       "6     0.014417  \n",
       "7     0.014417  \n",
       "8     0.011228  \n",
       "9     0.005263  \n",
       "\n",
       "[10 rows x 39 columns]"
      ]
     },
     "execution_count": 73,
     "metadata": {},
     "output_type": "execute_result"
    }
   ],
   "source": [
    "result.head(10)"
   ]
  },
  {
   "cell_type": "markdown",
   "metadata": {
    "collapsed": true
   },
   "source": [
    "### For more improve the score, Using hour data"
   ]
  },
  {
   "cell_type": "code",
   "execution_count": 1,
   "metadata": {
    "collapsed": true
   },
   "outputs": [],
   "source": [
    "feature2 = [x for x in range(0, 24)]"
   ]
  },
  {
   "cell_type": "code",
   "execution_count": 17,
   "metadata": {
    "collapsed": false
   },
   "outputs": [
    {
     "data": {
      "text/plain": [
       "['Friday',\n",
       " 'Monday',\n",
       " 'Saturday',\n",
       " 'Sunday',\n",
       " 'Thursday',\n",
       " 'Tuesday',\n",
       " 'Wednesday',\n",
       " 'BAYVIEW',\n",
       " 'CENTRAL',\n",
       " 'INGLESIDE',\n",
       " 'MISSION',\n",
       " 'NORTHERN',\n",
       " 'PARK',\n",
       " 'RICHMOND',\n",
       " 'SOUTHERN',\n",
       " 'TARAVAL',\n",
       " 'TENDERLOIN',\n",
       " 0,\n",
       " 1,\n",
       " 2,\n",
       " 3,\n",
       " 4,\n",
       " 5,\n",
       " 6,\n",
       " 7,\n",
       " 8,\n",
       " 9,\n",
       " 10,\n",
       " 11,\n",
       " 12,\n",
       " 13,\n",
       " 14,\n",
       " 15,\n",
       " 16,\n",
       " 17,\n",
       " 18,\n",
       " 19,\n",
       " 20,\n",
       " 21,\n",
       " 22,\n",
       " 23]"
      ]
     },
     "execution_count": 17,
     "metadata": {},
     "output_type": "execute_result"
    }
   ],
   "source": [
    "features = features + feature2\n",
    "features"
   ]
  },
  {
   "cell_type": "code",
   "execution_count": 18,
   "metadata": {
    "collapsed": false
   },
   "outputs": [
    {
     "data": {
      "text/plain": [
       "BernoulliNB(alpha=1.0, binarize=0.0, class_prior=None, fit_prior=True)"
      ]
     },
     "execution_count": 18,
     "metadata": {},
     "output_type": "execute_result"
    }
   ],
   "source": [
    "model = BernoulliNB()\n",
    "model.fit(train_data[features], train_data['crime'])"
   ]
  },
  {
   "cell_type": "code",
   "execution_count": 20,
   "metadata": {
    "collapsed": false
   },
   "outputs": [
    {
     "data": {
      "text/plain": [
       "array([[  6.92099782e-03,   1.30650586e-01,   2.23360616e-05, ...,\n",
       "          1.19041100e-01,   3.91560944e-02,   2.27862556e-02],\n",
       "       [  6.92099782e-03,   1.30650586e-01,   2.23360616e-05, ...,\n",
       "          1.19041100e-01,   3.91560944e-02,   2.27862556e-02],\n",
       "       [  1.81097001e-03,   9.02003393e-02,   3.10391571e-05, ...,\n",
       "          8.51241197e-02,   3.51263391e-02,   8.13166137e-03],\n",
       "       ..., \n",
       "       [  2.68025950e-03,   1.09806573e-01,   1.57461372e-03, ...,\n",
       "          8.17980664e-02,   2.66547665e-02,   1.35902789e-02],\n",
       "       [  6.04465553e-03,   1.14027985e-01,   1.48013572e-03, ...,\n",
       "          5.59274482e-02,   4.20679684e-02,   1.87634931e-02],\n",
       "       [  2.06397585e-03,   8.20078563e-02,   2.17505984e-03, ...,\n",
       "          6.43040891e-02,   2.03189022e-02,   7.73265547e-03]])"
      ]
     },
     "execution_count": 20,
     "metadata": {},
     "output_type": "execute_result"
    }
   ],
   "source": [
    "predicted = model.predict_proba(test_data[features])\n",
    "predicted"
   ]
  },
  {
   "cell_type": "code",
   "execution_count": 21,
   "metadata": {
    "collapsed": true
   },
   "outputs": [],
   "source": [
    "result = pd.DataFrame(predicted, columns=label_crime.classes_)\n",
    "result.to_csv('bernoulliNB-usingHour.csv', index=True, index_label = 'Id')"
   ]
  },
  {
   "cell_type": "markdown",
   "metadata": {},
   "source": [
    "### 정말 2.58로 점수가 향상되었다 ㅎㅎ"
   ]
  },
  {
   "cell_type": "code",
   "execution_count": null,
   "metadata": {
    "collapsed": true
   },
   "outputs": [],
   "source": []
  }
 ],
 "metadata": {
  "kernelspec": {
   "display_name": "Python 3",
   "language": "python",
   "name": "python3"
  },
  "language_info": {
   "codemirror_mode": {
    "name": "ipython",
    "version": 3
   },
   "file_extension": ".py",
   "mimetype": "text/x-python",
   "name": "python",
   "nbconvert_exporter": "python",
   "pygments_lexer": "ipython3",
   "version": "3.5.1"
  }
 },
 "nbformat": 4,
 "nbformat_minor": 0
}
