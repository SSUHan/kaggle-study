{
 "cells": [
  {
   "cell_type": "code",
   "execution_count": 17,
   "metadata": {
    "collapsed": true
   },
   "outputs": [],
   "source": [
    "import pandas as pd\n",
    "import numpy as np\n",
    "import xgboost as xgb\n",
    "from sklearn import cross_validation, metrics\n",
    "from sklearn.grid_search import GridSearchCV\n",
    "from sklearn import preprocessing\n",
    "from xgboost.sklearn import XGBClassifier\n",
    "\n",
    "import matplotlib.pylab as plt\n",
    "%matplotlib inline\n",
    "from matplotlib.pylab import rcParams"
   ]
  },
  {
   "cell_type": "code",
   "execution_count": 6,
   "metadata": {
    "collapsed": true
   },
   "outputs": [],
   "source": [
    "rcParams['figure.figsize'] = 12,4"
   ]
  },
  {
   "cell_type": "code",
   "execution_count": 7,
   "metadata": {
    "collapsed": true
   },
   "outputs": [],
   "source": [
    "train_df = pd.read_csv('train.csv', parse_dates=['Dates'])\n",
    "test_df = pd.read_csv('test.csv', parse_dates=['Dates'])"
   ]
  },
  {
   "cell_type": "code",
   "execution_count": 8,
   "metadata": {
    "collapsed": false
   },
   "outputs": [
    {
     "name": "stdout",
     "output_type": "stream",
     "text": [
      "(878049, 9)\n",
      "(884262, 7)\n"
     ]
    },
    {
     "data": {
      "text/plain": [
       "Index(['Dates', 'Category', 'Descript', 'DayOfWeek', 'PdDistrict',\n",
       "       'Resolution', 'Address', 'X', 'Y'],\n",
       "      dtype='object')"
      ]
     },
     "execution_count": 8,
     "metadata": {},
     "output_type": "execute_result"
    }
   ],
   "source": [
    "print(train_df.shape)\n",
    "print(test_df.shape)\n",
    "train_df.columns"
   ]
  },
  {
   "cell_type": "code",
   "execution_count": 9,
   "metadata": {
    "collapsed": false
   },
   "outputs": [
    {
     "name": "stdout",
     "output_type": "stream",
     "text": [
      "class:  ndarray\n",
      "shape:  (878049,)\n",
      "strides:  (8,)\n",
      "itemsize:  8\n",
      "aligned:  True\n",
      "contiguous:  True\n",
      "fortran:  True\n",
      "data pointer: 0x11c76e000\n",
      "byteorder:  little\n",
      "byteswap:  False\n",
      "type: int64\n"
     ]
    }
   ],
   "source": [
    "# Convert crime labels to numbers\n",
    "label_crime = preprocessing.LabelEncoder()\n",
    "crime = label_crime.fit_transform(train_df.Category)\n",
    "np.info(crime)"
   ]
  },
  {
   "cell_type": "code",
   "execution_count": 10,
   "metadata": {
    "collapsed": true
   },
   "outputs": [],
   "source": [
    "def convert_to_vector(pandas_object):\n",
    "    days = pd.get_dummies(pandas_object.DayOfWeek)\n",
    "    district = pd.get_dummies(pandas_object.PdDistrict)\n",
    "    hour = pandas_object.Dates.dt.hour\n",
    "    hour = pd.get_dummies(hour)\n",
    "    \n",
    "    pandas_data = pd.concat([hour, days, district], axis=1)\n",
    "    return pandas_data"
   ]
  },
  {
   "cell_type": "code",
   "execution_count": 11,
   "metadata": {
    "collapsed": false
   },
   "outputs": [
    {
     "name": "stdout",
     "output_type": "stream",
     "text": [
      "<class 'pandas.core.frame.DataFrame'>\n",
      "RangeIndex: 878049 entries, 0 to 878048\n",
      "Data columns (total 42 columns):\n",
      "0             878049 non-null float64\n",
      "1             878049 non-null float64\n",
      "2             878049 non-null float64\n",
      "3             878049 non-null float64\n",
      "4             878049 non-null float64\n",
      "5             878049 non-null float64\n",
      "6             878049 non-null float64\n",
      "7             878049 non-null float64\n",
      "8             878049 non-null float64\n",
      "9             878049 non-null float64\n",
      "10            878049 non-null float64\n",
      "11            878049 non-null float64\n",
      "12            878049 non-null float64\n",
      "13            878049 non-null float64\n",
      "14            878049 non-null float64\n",
      "15            878049 non-null float64\n",
      "16            878049 non-null float64\n",
      "17            878049 non-null float64\n",
      "18            878049 non-null float64\n",
      "19            878049 non-null float64\n",
      "20            878049 non-null float64\n",
      "21            878049 non-null float64\n",
      "22            878049 non-null float64\n",
      "23            878049 non-null float64\n",
      "Friday        878049 non-null float64\n",
      "Monday        878049 non-null float64\n",
      "Saturday      878049 non-null float64\n",
      "Sunday        878049 non-null float64\n",
      "Thursday      878049 non-null float64\n",
      "Tuesday       878049 non-null float64\n",
      "Wednesday     878049 non-null float64\n",
      "BAYVIEW       878049 non-null float64\n",
      "CENTRAL       878049 non-null float64\n",
      "INGLESIDE     878049 non-null float64\n",
      "MISSION       878049 non-null float64\n",
      "NORTHERN      878049 non-null float64\n",
      "PARK          878049 non-null float64\n",
      "RICHMOND      878049 non-null float64\n",
      "SOUTHERN      878049 non-null float64\n",
      "TARAVAL       878049 non-null float64\n",
      "TENDERLOIN    878049 non-null float64\n",
      "crime         878049 non-null int64\n",
      "dtypes: float64(41), int64(1)\n",
      "memory usage: 281.4 MB\n"
     ]
    }
   ],
   "source": [
    "train_data = convert_to_vector(train_df)\n",
    "train_data['crime'] = crime\n",
    "train_data.info()"
   ]
  },
  {
   "cell_type": "code",
   "execution_count": 12,
   "metadata": {
    "collapsed": false
   },
   "outputs": [
    {
     "data": {
      "text/plain": [
       "(884262, 41)"
      ]
     },
     "execution_count": 12,
     "metadata": {},
     "output_type": "execute_result"
    }
   ],
   "source": [
    "# do same process for test data\n",
    "test_data = convert_to_vector(test_df)\n",
    "test_data.shape"
   ]
  },
  {
   "cell_type": "code",
   "execution_count": 25,
   "metadata": {
    "collapsed": true
   },
   "outputs": [],
   "source": [
    "target = 'crime'"
   ]
  },
  {
   "cell_type": "code",
   "execution_count": 60,
   "metadata": {
    "collapsed": false
   },
   "outputs": [],
   "source": [
    "# def modelfit(alg, train, predictors, useTrainCV=True, cv_folds=5, early_stopping_rounds=50):\n",
    "#     if useTrainCV:\n",
    "#         xgb_param = alg.get_xgb_params()\n",
    "# #         xgtrain = xgb.DMatrix(train[predictors].values, label=train[target].values)\n",
    "#         xgtrain = xgb.DMatrix(train[predictors], label=train[target])\n",
    "#         cv_result = xgb.cv(xgb_param, xgtrain, \n",
    "#                            num_boost_round=alg.get_params()['n_estimators'], \n",
    "#                            nfold=cv_folds,\n",
    "#                           metrics='auc',\n",
    "#                           early_stopping_rounds=early_stopping_rounds)\n",
    "#         alg.set_params(n_estimators=cv_result.shape[0])\n",
    "    \n",
    "#     # Fit the algorithm on the data\n",
    "#     alg.fit(dtrain[predictors], dtrain['crime'], eval_metric='auc')\n",
    "    \n",
    "#     dtrain_predictions = alg.predict(dtrain[predictors])\n",
    "#     dtrain_predprob = alg.predict_proba(dtrain[predictors])[:, 1]\n",
    "    \n",
    "#     # Print model report\n",
    "#     print(\"\\nModel Report\")\n",
    "#     print(\"Accuracy : %.4g\" % metrics.accuracy_score(dtrain['crime'].values, dtrain_predictions))\n",
    "#     print(\"AUC Score (Train): %f\" % metrics.roc_auc_score(dtrain['crime'], dtrain_predprob))"
   ]
  },
  {
   "cell_type": "code",
   "execution_count": 53,
   "metadata": {
    "collapsed": false
   },
   "outputs": [],
   "source": [
    "predictors = [x for x in train_data.columns if x not in ['crime']]"
   ]
  },
  {
   "cell_type": "code",
   "execution_count": 54,
   "metadata": {
    "collapsed": false
   },
   "outputs": [
    {
     "data": {
      "text/plain": [
       "[0,\n",
       " 1,\n",
       " 2,\n",
       " 3,\n",
       " 4,\n",
       " 5,\n",
       " 6,\n",
       " 7,\n",
       " 8,\n",
       " 9,\n",
       " 10,\n",
       " 11,\n",
       " 12,\n",
       " 13,\n",
       " 14,\n",
       " 15,\n",
       " 16,\n",
       " 17,\n",
       " 18,\n",
       " 19,\n",
       " 20,\n",
       " 21,\n",
       " 22,\n",
       " 23,\n",
       " 'Friday',\n",
       " 'Monday',\n",
       " 'Saturday',\n",
       " 'Sunday',\n",
       " 'Thursday',\n",
       " 'Tuesday',\n",
       " 'Wednesday',\n",
       " 'BAYVIEW',\n",
       " 'CENTRAL',\n",
       " 'INGLESIDE',\n",
       " 'MISSION',\n",
       " 'NORTHERN',\n",
       " 'PARK',\n",
       " 'RICHMOND',\n",
       " 'SOUTHERN',\n",
       " 'TARAVAL',\n",
       " 'TENDERLOIN']"
      ]
     },
     "execution_count": 54,
     "metadata": {},
     "output_type": "execute_result"
    }
   ],
   "source": [
    "predictors"
   ]
  },
  {
   "cell_type": "code",
   "execution_count": 58,
   "metadata": {
    "collapsed": false
   },
   "outputs": [
    {
     "ename": "TypeError",
     "evalue": "__init__() got an unexpected keyword argument 'num_class'",
     "output_type": "error",
     "traceback": [
      "\u001b[0;31m---------------------------------------------------------------------------\u001b[0m",
      "\u001b[0;31mTypeError\u001b[0m                                 Traceback (most recent call last)",
      "\u001b[0;32m<ipython-input-58-c9e3db1be72a>\u001b[0m in \u001b[0;36m<module>\u001b[0;34m()\u001b[0m\n\u001b[1;32m     10\u001b[0m                     \u001b[0mscale_pos_weight\u001b[0m\u001b[0;34m=\u001b[0m\u001b[0;36m1\u001b[0m\u001b[0;34m,\u001b[0m\u001b[0;34m\u001b[0m\u001b[0m\n\u001b[1;32m     11\u001b[0m                     \u001b[0mnum_class\u001b[0m\u001b[0;34m=\u001b[0m\u001b[0;36m39\u001b[0m\u001b[0;34m,\u001b[0m\u001b[0;34m\u001b[0m\u001b[0m\n\u001b[0;32m---> 12\u001b[0;31m                     seed=27)\n\u001b[0m",
      "\u001b[0;31mTypeError\u001b[0m: __init__() got an unexpected keyword argument 'num_class'"
     ]
    }
   ],
   "source": [
    "# xgb1 = XGBClassifier(learning_rate=0.1,\n",
    "#                     n_estimators=10,\n",
    "#                     max_depth=5,\n",
    "#                     min_child_weight=1,\n",
    "#                     gamma=0,\n",
    "#                     subsample=0.8,\n",
    "#                     colsample_bytree=0.8,\n",
    "#                     objective='multi:softprob',\n",
    "#                     nthread=4,\n",
    "#                     scale_pos_weight=1,\n",
    "#                     num_class=39,\n",
    "#                     seed=27)"
   ]
  },
  {
   "cell_type": "code",
   "execution_count": 66,
   "metadata": {
    "collapsed": false
   },
   "outputs": [],
   "source": [
    "model = XGBClassifier(learning_rate=0.1,\n",
    "                      n_estimators=10,\n",
    "                      max_depth=5,\n",
    "                      min_child_weight=1,\n",
    "                      gamma=0,\n",
    "                      subsample=0.8,\n",
    "                      colsample_bytree=0.8,\n",
    "                      objective='multi:softprob',\n",
    "                      nthread=4,\n",
    "                      scale_pos_weight=1,\n",
    "                      seed=27)"
   ]
  },
  {
   "cell_type": "code",
   "execution_count": 69,
   "metadata": {
    "collapsed": false
   },
   "outputs": [
    {
     "name": "stdout",
     "output_type": "stream",
     "text": [
      "score = 0.223318\n"
     ]
    }
   ],
   "source": [
    "from sklearn.cross_validation import cross_val_score\n",
    "\n",
    "X_train, y_train = train_data[predictors], train_data[\"crime\"]\n",
    "\n",
    "score = cross_val_score(model, X_train, y_train, cv=5).mean()\n",
    "\n",
    "print(\"score = {0:.6f}\".format(score))"
   ]
  },
  {
   "cell_type": "code",
   "execution_count": 71,
   "metadata": {
    "collapsed": false
   },
   "outputs": [
    {
     "data": {
      "text/plain": [
       "<matplotlib.text.Text at 0x1172d7710>"
      ]
     },
     "execution_count": 71,
     "metadata": {},
     "output_type": "execute_result"
    },
    {
     "data": {
      "image/png": "[encoded data removed]",
      "text/plain": [
       "<matplotlib.figure.Figure at 0x1172e3c50>"
      ]
     },
     "metadata": {},
     "output_type": "display_data"
    }
   ],
   "source": [
    "%matplotlib inline\n",
    "from matplotlib import pyplot as plt\n",
    "\n",
    "model.fit(X_train, y_train)\n",
    "\n",
    "feature_importance = pd.Series(model.booster().get_fscore()).sort_values(ascending=False)\n",
    "\n",
    "feature_importance.plot(kind='bar', title='Feature Importances')\n",
    "plt.ylabel('Feature Importance Score')"
   ]
  },
  {
   "cell_type": "code",
   "execution_count": null,
   "metadata": {
    "collapsed": true
   },
   "outputs": [],
   "source": []
  }
 ],
 "metadata": {
  "kernelspec": {
   "display_name": "Python 3",
   "language": "python",
   "name": "python3"
  },
  "language_info": {
   "codemirror_mode": {
    "name": "ipython",
    "version": 3
   },
   "file_extension": ".py",
   "mimetype": "text/x-python",
   "name": "python",
   "nbconvert_exporter": "python",
   "pygments_lexer": "ipython3",
   "version": "3.5.1"
  }
 },
 "nbformat": 4,
 "nbformat_minor": 0
}
