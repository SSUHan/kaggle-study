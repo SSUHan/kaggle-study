{
 "cells": [
  {
   "cell_type": "code",
   "execution_count": 1,
   "metadata": {
    "collapsed": true
   },
   "outputs": [],
   "source": [
    "import pandas as pd\n",
    "import numpy as np\n",
    "import matplotlib.pyplot as plt\n",
    "%matplotlib inline"
   ]
  },
  {
   "cell_type": "markdown",
   "metadata": {},
   "source": [
    "## Download Data Set\n",
    "https://datamarket.com/data/set/22u3/international-airline-passengers-monthly-totals-in-thousands-jan-49-dec-60#!ds=22u3&display=line"
   ]
  },
  {
   "cell_type": "code",
   "execution_count": 2,
   "metadata": {
    "collapsed": true
   },
   "outputs": [],
   "source": [
    "data_df = pd.read_csv('international-airline-passengers.csv', index_col='Month')"
   ]
  },
  {
   "cell_type": "code",
   "execution_count": 3,
   "metadata": {
    "collapsed": false
   },
   "outputs": [
    {
     "data": {
      "text/html": [
       "<div>\n",
       "<table border=\"1\" class=\"dataframe\">\n",
       "  <thead>\n",
       "    <tr style=\"text-align: right;\">\n",
       "      <th></th>\n",
       "      <th>International airline passengers: monthly totals in thousands. Jan 49 ? Dec 60</th>\n",
       "    </tr>\n",
       "    <tr>\n",
       "      <th>Month</th>\n",
       "      <th></th>\n",
       "    </tr>\n",
       "  </thead>\n",
       "  <tbody>\n",
       "    <tr>\n",
       "      <th>1949-01</th>\n",
       "      <td>112.0</td>\n",
       "    </tr>\n",
       "    <tr>\n",
       "      <th>1949-02</th>\n",
       "      <td>118.0</td>\n",
       "    </tr>\n",
       "    <tr>\n",
       "      <th>1949-03</th>\n",
       "      <td>132.0</td>\n",
       "    </tr>\n",
       "    <tr>\n",
       "      <th>1949-04</th>\n",
       "      <td>129.0</td>\n",
       "    </tr>\n",
       "    <tr>\n",
       "      <th>1949-05</th>\n",
       "      <td>121.0</td>\n",
       "    </tr>\n",
       "    <tr>\n",
       "      <th>1949-06</th>\n",
       "      <td>135.0</td>\n",
       "    </tr>\n",
       "    <tr>\n",
       "      <th>1949-07</th>\n",
       "      <td>148.0</td>\n",
       "    </tr>\n",
       "    <tr>\n",
       "      <th>1949-08</th>\n",
       "      <td>148.0</td>\n",
       "    </tr>\n",
       "    <tr>\n",
       "      <th>1949-09</th>\n",
       "      <td>136.0</td>\n",
       "    </tr>\n",
       "    <tr>\n",
       "      <th>1949-10</th>\n",
       "      <td>119.0</td>\n",
       "    </tr>\n",
       "  </tbody>\n",
       "</table>\n",
       "</div>"
      ],
      "text/plain": [
       "         International airline passengers: monthly totals in thousands. Jan 49 ? Dec 60\n",
       "Month                                                                                  \n",
       "1949-01                                              112.0                             \n",
       "1949-02                                              118.0                             \n",
       "1949-03                                              132.0                             \n",
       "1949-04                                              129.0                             \n",
       "1949-05                                              121.0                             \n",
       "1949-06                                              135.0                             \n",
       "1949-07                                              148.0                             \n",
       "1949-08                                              148.0                             \n",
       "1949-09                                              136.0                             \n",
       "1949-10                                              119.0                             "
      ]
     },
     "execution_count": 3,
     "metadata": {},
     "output_type": "execute_result"
    }
   ],
   "source": [
    "data_df.head(10)"
   ]
  },
  {
   "cell_type": "code",
   "execution_count": 4,
   "metadata": {
    "collapsed": false
   },
   "outputs": [
    {
     "data": {
      "image/png": "[encoded data removed]",
      "text/plain": [
       "<matplotlib.figure.Figure at 0x1075bbe10>"
      ]
     },
     "metadata": {},
     "output_type": "display_data"
    }
   ],
   "source": [
    "data_df.plot()\n",
    "plt.show()"
   ]
  },
  {
   "cell_type": "markdown",
   "metadata": {},
   "source": [
    "## 날짜 데이터는 제외하고, 값만 얻어오는 방법"
   ]
  },
  {
   "cell_type": "code",
   "execution_count": 5,
   "metadata": {
    "collapsed": false
   },
   "outputs": [
    {
     "data": {
      "image/png": "[encoded data removed]",
      "text/plain": [
       "<matplotlib.figure.Figure at 0x107efcb70>"
      ]
     },
     "metadata": {},
     "output_type": "display_data"
    }
   ],
   "source": [
    "data_df = pd.read_csv('international-airline-passengers.csv', usecols=[1])\n",
    "data_df.dropna(inplace=True)\n",
    "plt.plot(data_df)\n",
    "plt.show()"
   ]
  },
  {
   "cell_type": "code",
   "execution_count": 6,
   "metadata": {
    "collapsed": false
   },
   "outputs": [],
   "source": [
    "dataset = data_df.values\n",
    "dataset = dataset.astype('float32')"
   ]
  },
  {
   "cell_type": "markdown",
   "metadata": {},
   "source": [
    "## LSTMs are sensitive to the scale of the input data, specifically when the sigmoid (default) or tanh activation functions are used.\n",
    "\n",
    "### We can easily normalize the dataset using the MinMaxScaler preprocessing class from the scikit-learn library."
   ]
  },
  {
   "cell_type": "code",
   "execution_count": 7,
   "metadata": {
    "collapsed": false
   },
   "outputs": [],
   "source": [
    "from sklearn.preprocessing import MinMaxScaler\n",
    "scaler = MinMaxScaler(feature_range=(0,1))\n",
    "dataset = scaler.fit_transform(dataset)"
   ]
  },
  {
   "cell_type": "markdown",
   "metadata": {},
   "source": [
    "## With time series data, the sequence of values is important.\n",
    "\n",
    "### The code below calculates the index of the split point and separates the data into the training datasets with 67% of the observations that we can use to train our model, leaving the remaining 33% for testing the model."
   ]
  },
  {
   "cell_type": "code",
   "execution_count": 8,
   "metadata": {
    "collapsed": false
   },
   "outputs": [
    {
     "name": "stdout",
     "output_type": "stream",
     "text": [
      "96 48\n"
     ]
    }
   ],
   "source": [
    "# split into train and test sets\n",
    "train_size = int(len(dataset)*0.67)\n",
    "test_size = len(dataset) - train_size\n",
    "train, test = dataset[0:train_size, :], dataset[train_size:len(dataset), :]\n",
    "print(len(train), len(test))"
   ]
  },
  {
   "cell_type": "markdown",
   "metadata": {},
   "source": [
    "## the look_back, which is the number of previous time steps to use as input variables to predict the next time period — in this case defaulted to 1."
   ]
  },
  {
   "cell_type": "code",
   "execution_count": 9,
   "metadata": {
    "collapsed": true
   },
   "outputs": [],
   "source": [
    "def create_dataset(dataset, look_back=1):\n",
    "    dataX, dataY = [], []\n",
    "    for i in range(len(dataset) - look_back - 1):\n",
    "        a = dataset[i:(i+look_back) , 0]\n",
    "        dataX.append(a)\n",
    "        dataY.append(dataset[i+look_back, 0])\n",
    "    return np.array(dataX), np.array(dataY)"
   ]
  },
  {
   "cell_type": "code",
   "execution_count": 10,
   "metadata": {
    "collapsed": true
   },
   "outputs": [],
   "source": [
    "look_back = 1\n",
    "trainX, trainY = create_dataset(train, look_back)\n",
    "testX, testY = create_dataset(test, look_back)"
   ]
  },
  {
   "cell_type": "markdown",
   "metadata": {},
   "source": [
    "## current input data shape is [samples, features]"
   ]
  },
  {
   "cell_type": "code",
   "execution_count": 11,
   "metadata": {
    "collapsed": false
   },
   "outputs": [
    {
     "data": {
      "text/plain": [
       "(94, 1)"
      ]
     },
     "execution_count": 11,
     "metadata": {},
     "output_type": "execute_result"
    }
   ],
   "source": [
    "trainX.shape"
   ]
  },
  {
   "cell_type": "markdown",
   "metadata": {},
   "source": [
    "## The LSTM network expects the input data (X) to be provided with a specific array structure in the form of: [samples, time steps, features]."
   ]
  },
  {
   "cell_type": "code",
   "execution_count": 12,
   "metadata": {
    "collapsed": true
   },
   "outputs": [],
   "source": [
    "# reshape input to be [samples, time_steps, features] by using reshape function\n",
    "trainX = np.reshape(trainX, (trainX.shape[0], 1, trainX.shape[1]))\n",
    "testX = np.reshape(testX, (testX.shape[0], 1, testX.shape[1]))"
   ]
  },
  {
   "cell_type": "code",
   "execution_count": 13,
   "metadata": {
    "collapsed": false
   },
   "outputs": [
    {
     "name": "stderr",
     "output_type": "stream",
     "text": [
      "Using TensorFlow backend.\n"
     ]
    }
   ],
   "source": [
    "import keras.models as model\n",
    "from keras.layers import LSTM, Dense"
   ]
  },
  {
   "cell_type": "markdown",
   "metadata": {},
   "source": [
    "## The network has a visible layer with 1 input, a hidden layer with 4 LSTM blocks or neurons, and an output layer that makes a single value prediction."
   ]
  },
  {
   "cell_type": "code",
   "execution_count": 14,
   "metadata": {
    "collapsed": true
   },
   "outputs": [],
   "source": [
    "lstm_net = model.Sequential()\n",
    "lstm_net.add(LSTM(4, input_dim=look_back))\n",
    "lstm_net.add(Dense(1)) # Fully Connected\n",
    "lstm_net.compile(loss='mean_squared_error', optimizer='adam')"
   ]
  },
  {
   "cell_type": "code",
   "execution_count": 15,
   "metadata": {
    "collapsed": false
   },
   "outputs": [
    {
     "name": "stdout",
     "output_type": "stream",
     "text": [
      "____________________________________________________________________________________________________\n",
      "Layer (type)                     Output Shape          Param #     Connected to                     \n",
      "====================================================================================================\n",
      "lstm_1 (LSTM)                    (None, 4)             96          lstm_input_1[0][0]               \n",
      "____________________________________________________________________________________________________\n",
      "dense_1 (Dense)                  (None, 1)             5           lstm_1[0][0]                     \n",
      "====================================================================================================\n",
      "Total params: 101\n",
      "____________________________________________________________________________________________________\n"
     ]
    }
   ],
   "source": [
    "lstm_net.summary()"
   ]
  },
  {
   "cell_type": "code",
   "execution_count": 16,
   "metadata": {
    "collapsed": false
   },
   "outputs": [
    {
     "name": "stdout",
     "output_type": "stream",
     "text": [
      "Epoch 1/100\n",
      "94/94 [==============================] - 2s - loss: 0.0706     \n",
      "Epoch 2/100\n",
      "94/94 [==============================] - 1s - loss: 0.0367     \n",
      "Epoch 3/100\n",
      "94/94 [==============================] - 1s - loss: 0.0245     \n",
      "Epoch 4/100\n",
      "94/94 [==============================] - 1s - loss: 0.0204     \n",
      "Epoch 5/100\n",
      "94/94 [==============================] - 1s - loss: 0.0184     \n",
      "Epoch 6/100\n",
      "94/94 [==============================] - 1s - loss: 0.0169     \n",
      "Epoch 7/100\n",
      "94/94 [==============================] - 1s - loss: 0.0158     \n",
      "Epoch 8/100\n",
      "94/94 [==============================] - 1s - loss: 0.0145     \n",
      "Epoch 9/100\n",
      "94/94 [==============================] - 1s - loss: 0.0132     \n",
      "Epoch 10/100\n",
      "94/94 [==============================] - 1s - loss: 0.0118     \n",
      "Epoch 11/100\n",
      "94/94 [==============================] - 1s - loss: 0.0105     \n",
      "Epoch 12/100\n",
      "94/94 [==============================] - 1s - loss: 0.0092     \n",
      "Epoch 13/100\n",
      "94/94 [==============================] - 1s - loss: 0.0080     \n",
      "Epoch 14/100\n",
      "94/94 [==============================] - 1s - loss: 0.0067     \n",
      "Epoch 15/100\n",
      "94/94 [==============================] - 1s - loss: 0.0056     \n",
      "Epoch 16/100\n",
      "94/94 [==============================] - 1s - loss: 0.0046     \n",
      "Epoch 17/100\n",
      "94/94 [==============================] - 1s - loss: 0.0039     \n",
      "Epoch 18/100\n",
      "94/94 [==============================] - 1s - loss: 0.0032     \n",
      "Epoch 19/100\n",
      "94/94 [==============================] - 1s - loss: 0.0028     \n",
      "Epoch 20/100\n",
      "94/94 [==============================] - 1s - loss: 0.0024     \n",
      "Epoch 21/100\n",
      "94/94 [==============================] - 1s - loss: 0.0022     \n",
      "Epoch 22/100\n",
      "94/94 [==============================] - 1s - loss: 0.0021     \n",
      "Epoch 23/100\n",
      "94/94 [==============================] - 1s - loss: 0.0020     \n",
      "Epoch 24/100\n",
      "94/94 [==============================] - 1s - loss: 0.0020     \n",
      "Epoch 25/100\n",
      "94/94 [==============================] - 1s - loss: 0.0020     \n",
      "Epoch 26/100\n",
      "94/94 [==============================] - 1s - loss: 0.0020     \n",
      "Epoch 27/100\n",
      "94/94 [==============================] - 1s - loss: 0.0019     \n",
      "Epoch 28/100\n",
      "94/94 [==============================] - 1s - loss: 0.0020     \n",
      "Epoch 29/100\n",
      "94/94 [==============================] - 1s - loss: 0.0020     \n",
      "Epoch 30/100\n",
      "94/94 [==============================] - 1s - loss: 0.0020     \n",
      "Epoch 31/100\n",
      "94/94 [==============================] - 1s - loss: 0.0020     \n",
      "Epoch 32/100\n",
      "94/94 [==============================] - 1s - loss: 0.0020     \n",
      "Epoch 33/100\n",
      "94/94 [==============================] - 1s - loss: 0.0019     \n",
      "Epoch 34/100\n",
      "94/94 [==============================] - 1s - loss: 0.0020     \n",
      "Epoch 35/100\n",
      "94/94 [==============================] - 1s - loss: 0.0020     \n",
      "Epoch 36/100\n",
      "94/94 [==============================] - 1s - loss: 0.0020     \n",
      "Epoch 37/100\n",
      "94/94 [==============================] - 1s - loss: 0.0020     \n",
      "Epoch 38/100\n",
      "94/94 [==============================] - 1s - loss: 0.0020     \n",
      "Epoch 39/100\n",
      "94/94 [==============================] - 1s - loss: 0.0019     \n",
      "Epoch 40/100\n",
      "94/94 [==============================] - 1s - loss: 0.0020     \n",
      "Epoch 41/100\n",
      "94/94 [==============================] - 1s - loss: 0.0020     \n",
      "Epoch 42/100\n",
      "94/94 [==============================] - 1s - loss: 0.0020     \n",
      "Epoch 43/100\n",
      "94/94 [==============================] - 1s - loss: 0.0020     \n",
      "Epoch 44/100\n",
      "94/94 [==============================] - 1s - loss: 0.0020     \n",
      "Epoch 45/100\n",
      "94/94 [==============================] - 1s - loss: 0.0020     \n",
      "Epoch 46/100\n",
      "94/94 [==============================] - 1s - loss: 0.0019     \n",
      "Epoch 47/100\n",
      "94/94 [==============================] - 0s - loss: 0.0020     \n",
      "Epoch 48/100\n",
      "94/94 [==============================] - 0s - loss: 0.0020     \n",
      "Epoch 49/100\n",
      "94/94 [==============================] - 0s - loss: 0.0020     \n",
      "Epoch 50/100\n",
      "94/94 [==============================] - 0s - loss: 0.0020     \n",
      "Epoch 51/100\n",
      "94/94 [==============================] - 1s - loss: 0.0020     \n",
      "Epoch 52/100\n",
      "94/94 [==============================] - 1s - loss: 0.0020     \n",
      "Epoch 53/100\n",
      "94/94 [==============================] - 1s - loss: 0.0020     \n",
      "Epoch 54/100\n",
      "94/94 [==============================] - 1s - loss: 0.0020     \n",
      "Epoch 55/100\n",
      "94/94 [==============================] - 1s - loss: 0.0019     \n",
      "Epoch 56/100\n",
      "94/94 [==============================] - 0s - loss: 0.0020     \n",
      "Epoch 57/100\n",
      "94/94 [==============================] - 1s - loss: 0.0020     \n",
      "Epoch 58/100\n",
      "94/94 [==============================] - 1s - loss: 0.0020     \n",
      "Epoch 59/100\n",
      "94/94 [==============================] - 1s - loss: 0.0020     \n",
      "Epoch 60/100\n",
      "94/94 [==============================] - 1s - loss: 0.0020     \n",
      "Epoch 61/100\n",
      "94/94 [==============================] - 1s - loss: 0.0019     \n",
      "Epoch 62/100\n",
      "94/94 [==============================] - 1s - loss: 0.0020     \n",
      "Epoch 63/100\n",
      "94/94 [==============================] - 1s - loss: 0.0020     \n",
      "Epoch 64/100\n",
      "94/94 [==============================] - 1s - loss: 0.0020     \n",
      "Epoch 65/100\n",
      "94/94 [==============================] - 1s - loss: 0.0020     \n",
      "Epoch 66/100\n",
      "94/94 [==============================] - 1s - loss: 0.0020     \n",
      "Epoch 67/100\n",
      "94/94 [==============================] - 1s - loss: 0.0020     \n",
      "Epoch 68/100\n",
      "94/94 [==============================] - 1s - loss: 0.0020     \n",
      "Epoch 69/100\n",
      "94/94 [==============================] - 1s - loss: 0.0019     \n",
      "Epoch 70/100\n",
      "94/94 [==============================] - 1s - loss: 0.0020     \n",
      "Epoch 71/100\n",
      "94/94 [==============================] - 1s - loss: 0.0020     \n",
      "Epoch 72/100\n",
      "94/94 [==============================] - 1s - loss: 0.0020     \n",
      "Epoch 73/100\n",
      "94/94 [==============================] - 1s - loss: 0.0020     \n",
      "Epoch 74/100\n",
      "94/94 [==============================] - 1s - loss: 0.0020     \n",
      "Epoch 75/100\n",
      "94/94 [==============================] - 1s - loss: 0.0020     \n",
      "Epoch 76/100\n",
      "94/94 [==============================] - 1s - loss: 0.0020     \n",
      "Epoch 77/100\n",
      "94/94 [==============================] - 1s - loss: 0.0020     \n",
      "Epoch 78/100\n",
      "94/94 [==============================] - 0s - loss: 0.0020     \n",
      "Epoch 79/100\n",
      "94/94 [==============================] - 1s - loss: 0.0020     \n",
      "Epoch 80/100\n",
      "94/94 [==============================] - 0s - loss: 0.0020     \n",
      "Epoch 81/100\n",
      "94/94 [==============================] - 1s - loss: 0.0020     \n",
      "Epoch 82/100\n",
      "94/94 [==============================] - 1s - loss: 0.0020     \n",
      "Epoch 83/100\n",
      "94/94 [==============================] - 0s - loss: 0.0020     \n",
      "Epoch 84/100\n",
      "94/94 [==============================] - 1s - loss: 0.0020     \n",
      "Epoch 85/100\n",
      "94/94 [==============================] - 1s - loss: 0.0020     \n",
      "Epoch 86/100\n",
      "94/94 [==============================] - 0s - loss: 0.0020     \n",
      "Epoch 87/100\n",
      "94/94 [==============================] - 1s - loss: 0.0020     \n",
      "Epoch 88/100\n",
      "94/94 [==============================] - 1s - loss: 0.0019     \n",
      "Epoch 89/100\n",
      "94/94 [==============================] - 1s - loss: 0.0020     \n",
      "Epoch 90/100\n",
      "94/94 [==============================] - 1s - loss: 0.0020     \n",
      "Epoch 91/100\n",
      "94/94 [==============================] - 1s - loss: 0.0020     \n",
      "Epoch 92/100\n",
      "94/94 [==============================] - 1s - loss: 0.0020     \n",
      "Epoch 93/100\n",
      "94/94 [==============================] - 1s - loss: 0.0020     \n",
      "Epoch 94/100\n",
      "94/94 [==============================] - 1s - loss: 0.0020     \n",
      "Epoch 95/100\n",
      "94/94 [==============================] - 1s - loss: 0.0020     \n",
      "Epoch 96/100\n",
      "94/94 [==============================] - 0s - loss: 0.0019     \n",
      "Epoch 97/100\n",
      "94/94 [==============================] - 0s - loss: 0.0020     \n",
      "Epoch 98/100\n",
      "94/94 [==============================] - 0s - loss: 0.0020     \n",
      "Epoch 99/100\n",
      "94/94 [==============================] - 1s - loss: 0.0019     \n",
      "Epoch 100/100\n",
      "94/94 [==============================] - 1s - loss: 0.0020     \n"
     ]
    },
    {
     "data": {
      "text/plain": [
       "<keras.callbacks.History at 0x10f471b38>"
      ]
     },
     "execution_count": 16,
     "metadata": {},
     "output_type": "execute_result"
    }
   ],
   "source": [
    "lstm_net.fit(trainX, trainY, nb_epoch=100, batch_size=1, verbose=1)"
   ]
  },
  {
   "cell_type": "markdown",
   "metadata": {},
   "source": [
    "## Once the model is fit, we can estimate the performance of the model on the train and test datasets. This will give us a point of comparison for new models."
   ]
  },
  {
   "cell_type": "code",
   "execution_count": 17,
   "metadata": {
    "collapsed": true
   },
   "outputs": [],
   "source": [
    "# make predictins\n",
    "trainPredict = lstm_net.predict(trainX)\n",
    "testPredict = lstm_net.predict(testX)"
   ]
  },
  {
   "cell_type": "code",
   "execution_count": 18,
   "metadata": {
    "collapsed": false
   },
   "outputs": [
    {
     "data": {
      "text/plain": [
       "array([[ 0.02500852],\n",
       "       [ 0.03489423],\n",
       "       [ 0.05857591],\n",
       "       [ 0.05343226],\n",
       "       [ 0.0398982 ],\n",
       "       [ 0.06375524],\n",
       "       [ 0.08658417],\n",
       "       [ 0.08658417],\n",
       "       [ 0.06548944],\n",
       "       [ 0.03655778],\n",
       "       [ 0.01209184],\n",
       "       [ 0.03489423],\n",
       "       [ 0.0299307 ],\n",
       "       [ 0.04832532],\n",
       "       [ 0.07421654],\n",
       "       [ 0.06375524],\n",
       "       [ 0.04663136],\n",
       "       [ 0.0883645 ],\n",
       "       [ 0.1264323 ],\n",
       "       [ 0.1264323 ],\n",
       "       [ 0.1045282 ],\n",
       "       [ 0.06029845],\n",
       "       [ 0.02828534],\n",
       "       [ 0.07246375],\n",
       "       [ 0.08126314],\n",
       "       [ 0.09014806],\n",
       "       [ 0.14122307],\n",
       "       [ 0.11360972],\n",
       "       [ 0.13011721],\n",
       "       [ 0.14122307],\n",
       "       [ 0.1805681 ],\n",
       "       [ 0.1805681 ],\n",
       "       [ 0.15239772],\n",
       "       [ 0.111788  ],\n",
       "       [ 0.08303346],\n",
       "       [ 0.11909033],\n",
       "       [ 0.12827365],\n",
       "       [ 0.14494082],\n",
       "       [ 0.16926628],\n",
       "       [ 0.14680246],\n",
       "       [ 0.15053093],\n",
       "       [ 0.21652785],\n",
       "       [ 0.23926893],\n",
       "       [ 0.26194385],\n",
       "       [ 0.19947299],\n",
       "       [ 0.16550808],\n",
       "       [ 0.13011721],\n",
       "       [ 0.17114717],\n",
       "       [ 0.17491239],\n",
       "       [ 0.17491239],\n",
       "       [ 0.25061914],\n",
       "       [ 0.24872896],\n",
       "       [ 0.23737538],\n",
       "       [ 0.26382825],\n",
       "       [ 0.30311665],\n",
       "       [ 0.31790081],\n",
       "       [ 0.25250855],\n",
       "       [ 0.20326093],\n",
       "       [ 0.14494082],\n",
       "       [ 0.18434322],\n",
       "       [ 0.19001195],\n",
       "       [ 0.15988064],\n",
       "       [ 0.24872896],\n",
       "       [ 0.23358703],\n",
       "       [ 0.24683809],\n",
       "       [ 0.30311665],\n",
       "       [ 0.37210417],\n",
       "       [ 0.35607228],\n",
       "       [ 0.29381949],\n",
       "       [ 0.23737538],\n",
       "       [ 0.18812165],\n",
       "       [ 0.23737538],\n",
       "       [ 0.26194385],\n",
       "       [ 0.24494666],\n",
       "       [ 0.30867448],\n",
       "       [ 0.31237066],\n",
       "       [ 0.31421599],\n",
       "       [ 0.39486879],\n",
       "       [ 0.47594905],\n",
       "       [ 0.44871315],\n",
       "       [ 0.38965836],\n",
       "       [ 0.32157776],\n",
       "       [ 0.25250855],\n",
       "       [ 0.32890695],\n",
       "       [ 0.33983597],\n",
       "       [ 0.32707781],\n",
       "       [ 0.39832759],\n",
       "       [ 0.39139813],\n",
       "       [ 0.40005249],\n",
       "       [ 0.49150723],\n",
       "       [ 0.54885948],\n",
       "       [ 0.53752595],\n",
       "       [ 0.4616524 ],\n",
       "       [ 0.37915957]], dtype=float32)"
      ]
     },
     "execution_count": 18,
     "metadata": {},
     "output_type": "execute_result"
    }
   ],
   "source": [
    "trainPredict"
   ]
  },
  {
   "cell_type": "markdown",
   "metadata": {},
   "source": [
    "## Note that we invert the predictions before calculating error scores to ensure that performance is reported in the same units as the original data (thousands of passengers per month)."
   ]
  },
  {
   "cell_type": "code",
   "execution_count": 19,
   "metadata": {
    "collapsed": false
   },
   "outputs": [],
   "source": [
    "# invert predictions\n",
    "trainPredict = scaler.inverse_transform(trainPredict)\n",
    "trainY = scaler.inverse_transform([trainY])\n",
    "testPredcit = scaler.inverse_transform(testPredict)\n",
    "testY = scaler.inverse_transform([testY])"
   ]
  },
  {
   "cell_type": "code",
   "execution_count": 20,
   "metadata": {
    "collapsed": false
   },
   "outputs": [
    {
     "data": {
      "text/plain": [
       "array([[ 116.95441437],\n",
       "       [ 122.07521057],\n",
       "       [ 134.34231567],\n",
       "       [ 131.67790222],\n",
       "       [ 124.66726685],\n",
       "       [ 137.02522278],\n",
       "       [ 148.8506012 ],\n",
       "       [ 148.8506012 ],\n",
       "       [ 137.92353821],\n",
       "       [ 122.9369278 ],\n",
       "       [ 110.26357269],\n",
       "       [ 122.07521057],\n",
       "       [ 119.50410461],\n",
       "       [ 129.03251648],\n",
       "       [ 142.44416809],\n",
       "       [ 137.02522278],\n",
       "       [ 128.15504456],\n",
       "       [ 149.77281189],\n",
       "       [ 169.4919281 ],\n",
       "       [ 169.4919281 ],\n",
       "       [ 158.14561462],\n",
       "       [ 135.23458862],\n",
       "       [ 118.65180206],\n",
       "       [ 141.53622437],\n",
       "       [ 146.09431458],\n",
       "       [ 150.69670105],\n",
       "       [ 177.15354919],\n",
       "       [ 162.849823  ],\n",
       "       [ 171.40071106],\n",
       "       [ 177.15354919],\n",
       "       [ 197.53427124],\n",
       "       [ 197.53427124],\n",
       "       [ 182.9420166 ],\n",
       "       [ 161.90618896],\n",
       "       [ 147.01133728],\n",
       "       [ 165.688797  ],\n",
       "       [ 170.44573975],\n",
       "       [ 179.0793457 ],\n",
       "       [ 191.67993164],\n",
       "       [ 180.04367065],\n",
       "       [ 181.97502136],\n",
       "       [ 216.16142273],\n",
       "       [ 227.94129944],\n",
       "       [ 239.68692017],\n",
       "       [ 207.32701111],\n",
       "       [ 189.73316956],\n",
       "       [ 171.40071106],\n",
       "       [ 192.65423584],\n",
       "       [ 194.60461426],\n",
       "       [ 194.60461426],\n",
       "       [ 233.82072449],\n",
       "       [ 232.84159851],\n",
       "       [ 226.96044922],\n",
       "       [ 240.66304016],\n",
       "       [ 261.01443481],\n",
       "       [ 268.67260742],\n",
       "       [ 234.79943848],\n",
       "       [ 209.28916931],\n",
       "       [ 179.0793457 ],\n",
       "       [ 199.48979187],\n",
       "       [ 202.42619324],\n",
       "       [ 186.81817627],\n",
       "       [ 232.84159851],\n",
       "       [ 224.99807739],\n",
       "       [ 231.86213684],\n",
       "       [ 261.01443481],\n",
       "       [ 296.74993896],\n",
       "       [ 288.44543457],\n",
       "       [ 256.19848633],\n",
       "       [ 226.96044922],\n",
       "       [ 201.44702148],\n",
       "       [ 226.96044922],\n",
       "       [ 239.68692017],\n",
       "       [ 230.88237   ],\n",
       "       [ 263.89337158],\n",
       "       [ 265.8079834 ],\n",
       "       [ 266.7638855 ],\n",
       "       [ 308.54205322],\n",
       "       [ 350.54159546],\n",
       "       [ 336.43341064],\n",
       "       [ 305.8430481 ],\n",
       "       [ 270.57727051],\n",
       "       [ 234.79943848],\n",
       "       [ 274.37380981],\n",
       "       [ 280.03503418],\n",
       "       [ 273.42633057],\n",
       "       [ 310.3336792 ],\n",
       "       [ 306.7442627 ],\n",
       "       [ 311.22720337],\n",
       "       [ 358.60076904],\n",
       "       [ 388.3092041 ],\n",
       "       [ 382.43847656],\n",
       "       [ 343.13592529],\n",
       "       [ 300.40463257]], dtype=float32)"
      ]
     },
     "execution_count": 20,
     "metadata": {},
     "output_type": "execute_result"
    }
   ],
   "source": [
    "trainPredict"
   ]
  },
  {
   "cell_type": "code",
   "execution_count": 27,
   "metadata": {
    "collapsed": true
   },
   "outputs": [],
   "source": [
    "from sklearn.metrics import accuracy_score, mean_squared_error\n",
    "import math"
   ]
  },
  {
   "cell_type": "code",
   "execution_count": 25,
   "metadata": {
    "collapsed": false
   },
   "outputs": [
    {
     "data": {
      "text/plain": [
       "array([[ 117.99999916,  131.99999879,  129.00000163,  120.99999632,\n",
       "         135.00000368,  147.99999397,  147.99999397,  136.00000531,\n",
       "         119.00000078,  103.99999952,  117.99999916,  115.00000199,\n",
       "         125.99999674,  140.99999801,  135.00000368,  125.00000283,\n",
       "         148.9999956 ,  169.99999891,  169.99999891,  157.99999481,\n",
       "         133.00000042,  114.00000036,  139.99999638,  145.00000452,\n",
       "         149.99999723,  177.9999965 ,  163.00000295,  172.00000217,\n",
       "         177.9999965 ,  198.99999982,  198.99999982,  184.00000627,\n",
       "         162.00000133,  146.00000615,  165.9999924 ,  171.00000054,\n",
       "         179.99999976,  193.00000549,  181.00000139,  183.00000464,\n",
       "         217.99999988,  230.00000398,  241.99999264,  209.00000066,\n",
       "         191.00000223,  172.00000217,  194.00000712,  195.99999493,\n",
       "         195.99999493,  235.99999831,  234.99999668,  229.00000235,\n",
       "         242.99999427,  263.99999759,  272.00001061,  236.99999994,\n",
       "         211.00000392,  179.99999976,  201.00000308,  203.99999252,\n",
       "         187.99999735,  234.99999668,  226.9999991 ,  233.99999506,\n",
       "         263.99999759,  301.99999771,  292.99999849,  259.00000488,\n",
       "         229.00000235,  203.00000633,  229.00000235,  241.99999264,\n",
       "         232.99999343,  266.99998703,  268.99999029,  270.00000736,\n",
       "         315.00000344,  363.99999059,  346.99999379,  312.00001399,\n",
       "         274.00001387,  236.99999994,  277.99998951,  283.99999928,\n",
       "         277.00000332,  317.00000669,  313.00000018,  317.99999288,\n",
       "         373.999976  ,  412.99999319,  404.99998016,  355.00000681,\n",
       "         306.00000422,  270.99999355]])"
      ]
     },
     "execution_count": 25,
     "metadata": {},
     "output_type": "execute_result"
    }
   ],
   "source": [
    "trainY"
   ]
  },
  {
   "cell_type": "code",
   "execution_count": 29,
   "metadata": {
    "collapsed": false
   },
   "outputs": [
    {
     "name": "stdout",
     "output_type": "stream",
     "text": [
      "Train Score : 22.87 RMSE\n",
      "Test Score : 56.60 RMSE\n"
     ]
    }
   ],
   "source": [
    "# 일단 accuracy_score 는 클래스에 얼마나 해당하는지를 확인할때 사용하게 된다. 지금과 같이 얼마나 떨어진 정도를 확인할때는 사용하지 않는 듯 하다\n",
    "# trainScore1 = accuracy_score(trainY, trainPredict[:,0])\n",
    "trainScore = math.sqrt(mean_squared_error(trainY[0], trainPredict[:, 0]))\n",
    "print('Train Score : %.2f RMSE' % trainScore)\n",
    "testScore = math.sqrt(mean_squared_error(testY[0], testPredcit[:, 0]))\n",
    "print('Test Score : %.2f RMSE' % testScore)"
   ]
  },
  {
   "cell_type": "code",
   "execution_count": 33,
   "metadata": {
    "collapsed": false
   },
   "outputs": [
    {
     "data": {
      "text/plain": [
       "array([[          nan],\n",
       "       [ 116.95441437],\n",
       "       [ 122.07521057],\n",
       "       [ 134.34231567],\n",
       "       [ 131.67790222],\n",
       "       [ 124.66726685],\n",
       "       [ 137.02522278],\n",
       "       [ 148.8506012 ],\n",
       "       [ 148.8506012 ],\n",
       "       [ 137.92353821],\n",
       "       [ 122.9369278 ],\n",
       "       [ 110.26357269],\n",
       "       [ 122.07521057],\n",
       "       [ 119.50410461],\n",
       "       [ 129.03251648],\n",
       "       [ 142.44416809],\n",
       "       [ 137.02522278],\n",
       "       [ 128.15504456],\n",
       "       [ 149.77281189],\n",
       "       [ 169.4919281 ],\n",
       "       [ 169.4919281 ],\n",
       "       [ 158.14561462],\n",
       "       [ 135.23458862],\n",
       "       [ 118.65180206],\n",
       "       [ 141.53622437],\n",
       "       [ 146.09431458],\n",
       "       [ 150.69670105],\n",
       "       [ 177.15354919],\n",
       "       [ 162.849823  ],\n",
       "       [ 171.40071106],\n",
       "       [ 177.15354919],\n",
       "       [ 197.53427124],\n",
       "       [ 197.53427124],\n",
       "       [ 182.9420166 ],\n",
       "       [ 161.90618896],\n",
       "       [ 147.01133728],\n",
       "       [ 165.688797  ],\n",
       "       [ 170.44573975],\n",
       "       [ 179.0793457 ],\n",
       "       [ 191.67993164],\n",
       "       [ 180.04367065],\n",
       "       [ 181.97502136],\n",
       "       [ 216.16142273],\n",
       "       [ 227.94129944],\n",
       "       [ 239.68692017],\n",
       "       [ 207.32701111],\n",
       "       [ 189.73316956],\n",
       "       [ 171.40071106],\n",
       "       [ 192.65423584],\n",
       "       [ 194.60461426],\n",
       "       [ 194.60461426],\n",
       "       [ 233.82072449],\n",
       "       [ 232.84159851],\n",
       "       [ 226.96044922],\n",
       "       [ 240.66304016],\n",
       "       [ 261.01443481],\n",
       "       [ 268.67260742],\n",
       "       [ 234.79943848],\n",
       "       [ 209.28916931],\n",
       "       [ 179.0793457 ],\n",
       "       [ 199.48979187],\n",
       "       [ 202.42619324],\n",
       "       [ 186.81817627],\n",
       "       [ 232.84159851],\n",
       "       [ 224.99807739],\n",
       "       [ 231.86213684],\n",
       "       [ 261.01443481],\n",
       "       [ 296.74993896],\n",
       "       [ 288.44543457],\n",
       "       [ 256.19848633],\n",
       "       [ 226.96044922],\n",
       "       [ 201.44702148],\n",
       "       [ 226.96044922],\n",
       "       [ 239.68692017],\n",
       "       [ 230.88237   ],\n",
       "       [ 263.89337158],\n",
       "       [ 265.8079834 ],\n",
       "       [ 266.7638855 ],\n",
       "       [ 308.54205322],\n",
       "       [ 350.54159546],\n",
       "       [ 336.43341064],\n",
       "       [ 305.8430481 ],\n",
       "       [ 270.57727051],\n",
       "       [ 234.79943848],\n",
       "       [ 274.37380981],\n",
       "       [ 280.03503418],\n",
       "       [ 273.42633057],\n",
       "       [ 310.3336792 ],\n",
       "       [ 306.7442627 ],\n",
       "       [ 311.22720337],\n",
       "       [ 358.60076904],\n",
       "       [ 388.3092041 ],\n",
       "       [ 382.43847656],\n",
       "       [ 343.13592529],\n",
       "       [ 300.40463257],\n",
       "       [          nan],\n",
       "       [          nan],\n",
       "       [          nan],\n",
       "       [          nan],\n",
       "       [          nan],\n",
       "       [          nan],\n",
       "       [          nan],\n",
       "       [          nan],\n",
       "       [          nan],\n",
       "       [          nan],\n",
       "       [          nan],\n",
       "       [          nan],\n",
       "       [          nan],\n",
       "       [          nan],\n",
       "       [          nan],\n",
       "       [          nan],\n",
       "       [          nan],\n",
       "       [          nan],\n",
       "       [          nan],\n",
       "       [          nan],\n",
       "       [          nan],\n",
       "       [          nan],\n",
       "       [          nan],\n",
       "       [          nan],\n",
       "       [          nan],\n",
       "       [          nan],\n",
       "       [          nan],\n",
       "       [          nan],\n",
       "       [          nan],\n",
       "       [          nan],\n",
       "       [          nan],\n",
       "       [          nan],\n",
       "       [          nan],\n",
       "       [          nan],\n",
       "       [          nan],\n",
       "       [          nan],\n",
       "       [          nan],\n",
       "       [          nan],\n",
       "       [          nan],\n",
       "       [          nan],\n",
       "       [          nan],\n",
       "       [          nan],\n",
       "       [          nan],\n",
       "       [          nan],\n",
       "       [          nan],\n",
       "       [          nan],\n",
       "       [          nan],\n",
       "       [          nan],\n",
       "       [          nan]], dtype=float32)"
      ]
     },
     "execution_count": 33,
     "metadata": {},
     "output_type": "execute_result"
    }
   ],
   "source": [
    "# train predictions for plotting\n",
    "trainPredictPlot = np.empty_like(dataset)\n",
    "trainPredictPlot[:, :] = np.nan\n",
    "trainPredictPlot[look_back:len(trainPredict)+look_back, :] = trainPredict\n",
    "trainPredictPlot"
   ]
  },
  {
   "cell_type": "code",
   "execution_count": 34,
   "metadata": {
    "collapsed": false
   },
   "outputs": [
    {
     "data": {
      "text/plain": [
       "array([[          nan],\n",
       "       [          nan],\n",
       "       [          nan],\n",
       "       [          nan],\n",
       "       [          nan],\n",
       "       [          nan],\n",
       "       [          nan],\n",
       "       [          nan],\n",
       "       [          nan],\n",
       "       [          nan],\n",
       "       [          nan],\n",
       "       [          nan],\n",
       "       [          nan],\n",
       "       [          nan],\n",
       "       [          nan],\n",
       "       [          nan],\n",
       "       [          nan],\n",
       "       [          nan],\n",
       "       [          nan],\n",
       "       [          nan],\n",
       "       [          nan],\n",
       "       [          nan],\n",
       "       [          nan],\n",
       "       [          nan],\n",
       "       [          nan],\n",
       "       [          nan],\n",
       "       [          nan],\n",
       "       [          nan],\n",
       "       [          nan],\n",
       "       [          nan],\n",
       "       [          nan],\n",
       "       [          nan],\n",
       "       [          nan],\n",
       "       [          nan],\n",
       "       [          nan],\n",
       "       [          nan],\n",
       "       [          nan],\n",
       "       [          nan],\n",
       "       [          nan],\n",
       "       [          nan],\n",
       "       [          nan],\n",
       "       [          nan],\n",
       "       [          nan],\n",
       "       [          nan],\n",
       "       [          nan],\n",
       "       [          nan],\n",
       "       [          nan],\n",
       "       [          nan],\n",
       "       [          nan],\n",
       "       [          nan],\n",
       "       [          nan],\n",
       "       [          nan],\n",
       "       [          nan],\n",
       "       [          nan],\n",
       "       [          nan],\n",
       "       [          nan],\n",
       "       [          nan],\n",
       "       [          nan],\n",
       "       [          nan],\n",
       "       [          nan],\n",
       "       [          nan],\n",
       "       [          nan],\n",
       "       [          nan],\n",
       "       [          nan],\n",
       "       [          nan],\n",
       "       [          nan],\n",
       "       [          nan],\n",
       "       [          nan],\n",
       "       [          nan],\n",
       "       [          nan],\n",
       "       [          nan],\n",
       "       [          nan],\n",
       "       [          nan],\n",
       "       [          nan],\n",
       "       [          nan],\n",
       "       [          nan],\n",
       "       [          nan],\n",
       "       [          nan],\n",
       "       [          nan],\n",
       "       [          nan],\n",
       "       [          nan],\n",
       "       [          nan],\n",
       "       [          nan],\n",
       "       [          nan],\n",
       "       [          nan],\n",
       "       [          nan],\n",
       "       [          nan],\n",
       "       [          nan],\n",
       "       [          nan],\n",
       "       [          nan],\n",
       "       [          nan],\n",
       "       [          nan],\n",
       "       [          nan],\n",
       "       [          nan],\n",
       "       [          nan],\n",
       "       [          nan],\n",
       "       [          nan],\n",
       "       [ 308.54205322],\n",
       "       [ 295.83270264],\n",
       "       [ 343.96585083],\n",
       "       [ 337.27734375],\n",
       "       [ 343.13592529],\n",
       "       [ 394.77755737],\n",
       "       [ 423.74560547],\n",
       "       [ 425.01760864],\n",
       "       [ 381.6965332 ],\n",
       "       [ 336.43341064],\n",
       "       [ 299.49307251],\n",
       "       [ 327.03704834],\n",
       "       [ 330.4777832 ],\n",
       "       [ 311.22720337],\n",
       "       [ 348.90835571],\n",
       "       [ 337.27734375],\n",
       "       [ 349.7258606 ],\n",
       "       [ 403.86901855],\n",
       "       [ 439.78552246],\n",
       "       [ 447.99246216],\n",
       "       [ 381.6965332 ],\n",
       "       [ 346.44509888],\n",
       "       [ 304.03619385],\n",
       "       [ 327.89981079],\n",
       "       [ 347.26797485],\n",
       "       [ 332.18795776],\n",
       "       [ 383.17852783],\n",
       "       [ 375.69650269],\n",
       "       [ 393.35253906],\n",
       "       [ 428.16921997],\n",
       "       [ 471.46792603],\n",
       "       [ 477.084198  ],\n",
       "       [ 422.46713257],\n",
       "       [ 383.91690063],\n",
       "       [ 348.90835571],\n",
       "       [ 382.43847656],\n",
       "       [ 391.20178223],\n",
       "       [ 371.8878479 ],\n",
       "       [ 392.63735962],\n",
       "       [ 421.18215942],\n",
       "       [ 428.16921997],\n",
       "       [ 464.63327026],\n",
       "       [ 506.60101318],\n",
       "       [ 499.50082397],\n",
       "       [ 449.71350098],\n",
       "       [ 421.18215942],\n",
       "       [          nan]], dtype=float32)"
      ]
     },
     "execution_count": 34,
     "metadata": {},
     "output_type": "execute_result"
    }
   ],
   "source": [
    "# test predictions for plotting\n",
    "testPredictPlot = np.empty_like(dataset)\n",
    "testPredictPlot[:,:] = np.nan\n",
    "testPredictPlot[len(trainPredict)+(look_back*2)+1 : len(dataset)-1, :] = testPredcit\n",
    "testPredictPlot"
   ]
  },
  {
   "cell_type": "code",
   "execution_count": 35,
   "metadata": {
    "collapsed": false
   },
   "outputs": [
    {
     "data": {
      "image/png": "[encoded data removed]",
      "text/plain": [
       "<matplotlib.figure.Figure at 0x10f854eb8>"
      ]
     },
     "metadata": {},
     "output_type": "display_data"
    }
   ],
   "source": [
    "plt.plot(scaler.inverse_transform(dataset))\n",
    "plt.plot(trainPredictPlot)\n",
    "plt.plot(testPredictPlot)\n",
    "plt.show()"
   ]
  },
  {
   "cell_type": "code",
   "execution_count": null,
   "metadata": {
    "collapsed": true
   },
   "outputs": [],
   "source": []
  }
 ],
 "metadata": {
  "kernelspec": {
   "display_name": "Python 3",
   "language": "python",
   "name": "python3"
  },
  "language_info": {
   "codemirror_mode": {
    "name": "ipython",
    "version": 3
   },
   "file_extension": ".py",
   "mimetype": "text/x-python",
   "name": "python",
   "nbconvert_exporter": "python",
   "pygments_lexer": "ipython3",
   "version": "3.5.1"
  }
 },
 "nbformat": 4,
 "nbformat_minor": 0
}
