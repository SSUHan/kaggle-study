{
 "cells": [
  {
   "cell_type": "markdown",
   "metadata": {},
   "source": [
    "# GDG DevCamp Study 수요조사 한눈에 보기"
   ]
  },
  {
   "cell_type": "code",
   "execution_count": 1,
   "metadata": {
    "collapsed": true
   },
   "outputs": [],
   "source": [
    "import pandas as pd\n",
    "import numpy as np"
   ]
  },
  {
   "cell_type": "code",
   "execution_count": 2,
   "metadata": {
    "collapsed": false
   },
   "outputs": [],
   "source": [
    "study_df = pd.read_csv('gdg-devcamp-study.csv')"
   ]
  },
  {
   "cell_type": "code",
   "execution_count": 3,
   "metadata": {
    "collapsed": false
   },
   "outputs": [
    {
     "name": "stdout",
     "output_type": "stream",
     "text": [
      "<class 'pandas.core.frame.DataFrame'>\n",
      "RangeIndex: 55 entries, 0 to 54\n",
      "Data columns (total 4 columns):\n",
      "타임스탬프                     55 non-null object\n",
      "이름                        55 non-null object\n",
      "이메일 주소                    55 non-null object\n",
      "참여하고자하는 스터디 혹은 원하는 스터디    55 non-null object\n",
      "dtypes: object(4)\n",
      "memory usage: 1.8+ KB\n"
     ]
    }
   ],
   "source": [
    "study_df.info()"
   ]
  },
  {
   "cell_type": "code",
   "execution_count": 4,
   "metadata": {
    "collapsed": false
   },
   "outputs": [
    {
     "data": {
      "text/plain": [
       "pandas.core.series.Series"
      ]
     },
     "execution_count": 4,
     "metadata": {},
     "output_type": "execute_result"
    }
   ],
   "source": [
    "type(study_df['참여하고자하는 스터디 혹은 원하는 스터디'])"
   ]
  },
  {
   "cell_type": "code",
   "execution_count": 5,
   "metadata": {
    "collapsed": false
   },
   "outputs": [
    {
     "data": {
      "text/html": [
       "<div>\n",
       "<table border=\"1\" class=\"dataframe\">\n",
       "  <thead>\n",
       "    <tr style=\"text-align: right;\">\n",
       "      <th></th>\n",
       "      <th>타임스탬프</th>\n",
       "      <th>이름</th>\n",
       "      <th>이메일 주소</th>\n",
       "      <th>참여하고자하는 스터디 혹은 원하는 스터디</th>\n",
       "    </tr>\n",
       "  </thead>\n",
       "  <tbody>\n",
       "    <tr>\n",
       "      <th>6</th>\n",
       "      <td>2016/09/01 12:01:08 오전 GMT+9</td>\n",
       "      <td>김혜민</td>\n",
       "      <td>1117hyemin@gmail.com</td>\n",
       "      <td>Android 개발 (개발 기초 혹은 발전적인 Unit Testing 등에 대한 주제)</td>\n",
       "    </tr>\n",
       "    <tr>\n",
       "      <th>45</th>\n",
       "      <td>2016/09/01 8:51:39 오후 GMT+9</td>\n",
       "      <td>정혜린</td>\n",
       "      <td>ltnc2846@gmail.com</td>\n",
       "      <td>Android 개발 (개발 기초 혹은 발전적인 Unit Testing 등에 대한 주제)</td>\n",
       "    </tr>\n",
       "  </tbody>\n",
       "</table>\n",
       "</div>"
      ],
      "text/plain": [
       "                           타임스탬프   이름                이메일 주소  \\\n",
       "6   2016/09/01 12:01:08 오전 GMT+9  김혜민  1117hyemin@gmail.com   \n",
       "45   2016/09/01 8:51:39 오후 GMT+9  정혜린    ltnc2846@gmail.com   \n",
       "\n",
       "                              참여하고자하는 스터디 혹은 원하는 스터디  \n",
       "6   Android 개발 (개발 기초 혹은 발전적인 Unit Testing 등에 대한 주제)  \n",
       "45  Android 개발 (개발 기초 혹은 발전적인 Unit Testing 등에 대한 주제)  "
      ]
     },
     "execution_count": 5,
     "metadata": {},
     "output_type": "execute_result"
    }
   ],
   "source": [
    "study_df[study_df['참여하고자하는 스터디 혹은 원하는 스터디'] == 'Android 개발 (개발 기초 혹은 발전적인 Unit Testing 등에 대한 주제)']"
   ]
  },
  {
   "cell_type": "code",
   "execution_count": 6,
   "metadata": {
    "collapsed": false
   },
   "outputs": [],
   "source": [
    "study_hope_list = study_df['참여하고자하는 스터디 혹은 원하는 스터디'].tolist()"
   ]
  },
  {
   "cell_type": "code",
   "execution_count": 7,
   "metadata": {
    "collapsed": false
   },
   "outputs": [
    {
     "data": {
      "text/html": [
       "<div>\n",
       "<table border=\"1\" class=\"dataframe\">\n",
       "  <thead>\n",
       "    <tr style=\"text-align: right;\">\n",
       "      <th></th>\n",
       "      <th>타임스탬프</th>\n",
       "      <th>이름</th>\n",
       "      <th>이메일 주소</th>\n",
       "      <th>참여하고자하는 스터디 혹은 원하는 스터디</th>\n",
       "    </tr>\n",
       "  </thead>\n",
       "  <tbody>\n",
       "    <tr>\n",
       "      <th>0</th>\n",
       "      <td>2016/08/31 11:45:37 오후 GMT+9</td>\n",
       "      <td>손창우</td>\n",
       "      <td>scw422@korea.ac.kr</td>\n",
       "      <td>Android 개발 (개발 기초 혹은 발전적인 Unit Testing 등에 대한 주...</td>\n",
       "    </tr>\n",
       "  </tbody>\n",
       "</table>\n",
       "</div>"
      ],
      "text/plain": [
       "                          타임스탬프   이름              이메일 주소  \\\n",
       "0  2016/08/31 11:45:37 오후 GMT+9  손창우  scw422@korea.ac.kr   \n",
       "\n",
       "                              참여하고자하는 스터디 혹은 원하는 스터디  \n",
       "0  Android 개발 (개발 기초 혹은 발전적인 Unit Testing 등에 대한 주...  "
      ]
     },
     "execution_count": 7,
     "metadata": {},
     "output_type": "execute_result"
    }
   ],
   "source": [
    "study_df.iloc[[0]]"
   ]
  },
  {
   "cell_type": "code",
   "execution_count": 8,
   "metadata": {
    "collapsed": false
   },
   "outputs": [
    {
     "data": {
      "text/plain": [
       "False"
      ]
     },
     "execution_count": 8,
     "metadata": {},
     "output_type": "execute_result"
    }
   ],
   "source": [
    "'Android 개발 (개발 기초 혹은 발전적인 Unit Testing 등에 대한 주제)' in study_df['참여하고자하는 스터디 혹은 원하는 스터디']"
   ]
  },
  {
   "cell_type": "code",
   "execution_count": 9,
   "metadata": {
    "collapsed": true
   },
   "outputs": [],
   "source": [
    "def search_topic_people(data_frame, topic_name):\n",
    "    people_list = []\n",
    "    i = 0\n",
    "    for each in study_hope_list:\n",
    "        if topic_name in each:\n",
    "            people_list.append(True)\n",
    "        else:\n",
    "            people_list.append(False)\n",
    "        i = i+1\n",
    "    \n",
    "    return data_frame[people_list]"
   ]
  },
  {
   "cell_type": "code",
   "execution_count": 10,
   "metadata": {
    "collapsed": true
   },
   "outputs": [],
   "source": [
    "android_study_df = search_topic_people(study_df, 'Android 개발 (개발 기초 혹은 발전적인 Unit Testing 등에 대한 주제)')\n",
    "django_study_df = search_topic_people(study_df, 'Python 및 Django (Backend)')\n",
    "tensorflow_study_df = search_topic_people(study_df, 'Python을 이용한 TensorFlow')\n",
    "frontend_study_df = search_topic_people(study_df, '프론트엔드 (HTML5, CSS, JS, React, JQuary 등)')\n",
    "uiux_study_df = search_topic_people(study_df, 'UI/UX(Material Design) 및 프로토타이핑 툴')\n",
    "algo_study_df = search_topic_people(study_df, '알고리즘 및 코딩 인터뷰 스터디')\n",
    "design_study_df = search_topic_people(study_df, '디자이너 구직 및 인터뷰 스터디')"
   ]
  },
  {
   "cell_type": "markdown",
   "metadata": {},
   "source": [
    "### 안드로이드 스터디 수요자 정보"
   ]
  },
  {
   "cell_type": "code",
   "execution_count": 11,
   "metadata": {
    "collapsed": false
   },
   "outputs": [
    {
     "data": {
      "text/html": [
       "<div>\n",
       "<table border=\"1\" class=\"dataframe\">\n",
       "  <thead>\n",
       "    <tr style=\"text-align: right;\">\n",
       "      <th></th>\n",
       "      <th>타임스탬프</th>\n",
       "      <th>이름</th>\n",
       "      <th>이메일 주소</th>\n",
       "      <th>참여하고자하는 스터디 혹은 원하는 스터디</th>\n",
       "    </tr>\n",
       "  </thead>\n",
       "  <tbody>\n",
       "    <tr>\n",
       "      <th>0</th>\n",
       "      <td>2016/08/31 11:45:37 오후 GMT+9</td>\n",
       "      <td>손창우</td>\n",
       "      <td>scw422@korea.ac.kr</td>\n",
       "      <td>Android 개발 (개발 기초 혹은 발전적인 Unit Testing 등에 대한 주...</td>\n",
       "    </tr>\n",
       "    <tr>\n",
       "      <th>6</th>\n",
       "      <td>2016/09/01 12:01:08 오전 GMT+9</td>\n",
       "      <td>김혜민</td>\n",
       "      <td>1117hyemin@gmail.com</td>\n",
       "      <td>Android 개발 (개발 기초 혹은 발전적인 Unit Testing 등에 대한 주제)</td>\n",
       "    </tr>\n",
       "    <tr>\n",
       "      <th>11</th>\n",
       "      <td>2016/09/01 12:19:57 오전 GMT+9</td>\n",
       "      <td>임정아</td>\n",
       "      <td>wjddkdml1124@naver.com</td>\n",
       "      <td>Android 개발 (개발 기초 혹은 발전적인 Unit Testing 등에 대한 주...</td>\n",
       "    </tr>\n",
       "    <tr>\n",
       "      <th>14</th>\n",
       "      <td>2016/09/01 12:41:15 오전 GMT+9</td>\n",
       "      <td>박혜림</td>\n",
       "      <td>phl2898@gmail.com</td>\n",
       "      <td>Android 개발 (개발 기초 혹은 발전적인 Unit Testing 등에 대한 주...</td>\n",
       "    </tr>\n",
       "    <tr>\n",
       "      <th>15</th>\n",
       "      <td>2016/09/01 1:25:10 오전 GMT+9</td>\n",
       "      <td>왕소정</td>\n",
       "      <td>redthink90@gmail.com</td>\n",
       "      <td>Android 개발 (개발 기초 혹은 발전적인 Unit Testing 등에 대한 주...</td>\n",
       "    </tr>\n",
       "    <tr>\n",
       "      <th>16</th>\n",
       "      <td>2016/09/01 2:11:31 오전 GMT+9</td>\n",
       "      <td>김보운</td>\n",
       "      <td>haioer@naver.com</td>\n",
       "      <td>Android 개발 (개발 기초 혹은 발전적인 Unit Testing 등에 대한 주...</td>\n",
       "    </tr>\n",
       "    <tr>\n",
       "      <th>17</th>\n",
       "      <td>2016/09/01 3:13:56 오전 GMT+9</td>\n",
       "      <td>이수정</td>\n",
       "      <td>cubeclock94@gmail.com</td>\n",
       "      <td>Android 개발 (개발 기초 혹은 발전적인 Unit Testing 등에 대한 주...</td>\n",
       "    </tr>\n",
       "    <tr>\n",
       "      <th>22</th>\n",
       "      <td>2016/09/01 9:26:18 오전 GMT+9</td>\n",
       "      <td>박민숙</td>\n",
       "      <td>giyami0425@gmail.com</td>\n",
       "      <td>Android 개발 (개발 기초 혹은 발전적인 Unit Testing 등에 대한 주...</td>\n",
       "    </tr>\n",
       "    <tr>\n",
       "      <th>26</th>\n",
       "      <td>2016/09/01 10:46:14 오전 GMT+9</td>\n",
       "      <td>한명수</td>\n",
       "      <td>the.audacia@gmail.com</td>\n",
       "      <td>Android 개발 (개발 기초 혹은 발전적인 Unit Testing 등에 대한 주...</td>\n",
       "    </tr>\n",
       "    <tr>\n",
       "      <th>30</th>\n",
       "      <td>2016/09/01 12:46:10 오후 GMT+9</td>\n",
       "      <td>김현우</td>\n",
       "      <td>skywalker2316@gmail.com</td>\n",
       "      <td>Android 개발 (개발 기초 혹은 발전적인 Unit Testing 등에 대한 주...</td>\n",
       "    </tr>\n",
       "    <tr>\n",
       "      <th>33</th>\n",
       "      <td>2016/09/01 1:56:55 오후 GMT+9</td>\n",
       "      <td>김혜지</td>\n",
       "      <td>yucaroll@naver.com</td>\n",
       "      <td>Android 개발 (개발 기초 혹은 발전적인 Unit Testing 등에 대한 주...</td>\n",
       "    </tr>\n",
       "    <tr>\n",
       "      <th>35</th>\n",
       "      <td>2016/09/01 3:32:57 오후 GMT+9</td>\n",
       "      <td>최효원</td>\n",
       "      <td>popopowon@naver.com</td>\n",
       "      <td>Android 개발 (개발 기초 혹은 발전적인 Unit Testing 등에 대한 주...</td>\n",
       "    </tr>\n",
       "    <tr>\n",
       "      <th>43</th>\n",
       "      <td>2016/09/01 6:45:32 오후 GMT+9</td>\n",
       "      <td>김민지</td>\n",
       "      <td>mjalswl626@gmail.com</td>\n",
       "      <td>Android 개발 (개발 기초 혹은 발전적인 Unit Testing 등에 대한 주...</td>\n",
       "    </tr>\n",
       "    <tr>\n",
       "      <th>45</th>\n",
       "      <td>2016/09/01 8:51:39 오후 GMT+9</td>\n",
       "      <td>정혜린</td>\n",
       "      <td>ltnc2846@gmail.com</td>\n",
       "      <td>Android 개발 (개발 기초 혹은 발전적인 Unit Testing 등에 대한 주제)</td>\n",
       "    </tr>\n",
       "  </tbody>\n",
       "</table>\n",
       "</div>"
      ],
      "text/plain": [
       "                           타임스탬프    이름                   이메일 주소  \\\n",
       "0   2016/08/31 11:45:37 오후 GMT+9   손창우       scw422@korea.ac.kr   \n",
       "6   2016/09/01 12:01:08 오전 GMT+9   김혜민     1117hyemin@gmail.com   \n",
       "11  2016/09/01 12:19:57 오전 GMT+9   임정아   wjddkdml1124@naver.com   \n",
       "14  2016/09/01 12:41:15 오전 GMT+9   박혜림        phl2898@gmail.com   \n",
       "15   2016/09/01 1:25:10 오전 GMT+9   왕소정     redthink90@gmail.com   \n",
       "16   2016/09/01 2:11:31 오전 GMT+9   김보운         haioer@naver.com   \n",
       "17   2016/09/01 3:13:56 오전 GMT+9   이수정    cubeclock94@gmail.com   \n",
       "22   2016/09/01 9:26:18 오전 GMT+9  박민숙      giyami0425@gmail.com   \n",
       "26  2016/09/01 10:46:14 오전 GMT+9   한명수    the.audacia@gmail.com   \n",
       "30  2016/09/01 12:46:10 오후 GMT+9   김현우  skywalker2316@gmail.com   \n",
       "33   2016/09/01 1:56:55 오후 GMT+9   김혜지       yucaroll@naver.com   \n",
       "35   2016/09/01 3:32:57 오후 GMT+9   최효원      popopowon@naver.com   \n",
       "43   2016/09/01 6:45:32 오후 GMT+9   김민지     mjalswl626@gmail.com   \n",
       "45   2016/09/01 8:51:39 오후 GMT+9   정혜린       ltnc2846@gmail.com   \n",
       "\n",
       "                               참여하고자하는 스터디 혹은 원하는 스터디  \n",
       "0   Android 개발 (개발 기초 혹은 발전적인 Unit Testing 등에 대한 주...  \n",
       "6    Android 개발 (개발 기초 혹은 발전적인 Unit Testing 등에 대한 주제)  \n",
       "11  Android 개발 (개발 기초 혹은 발전적인 Unit Testing 등에 대한 주...  \n",
       "14  Android 개발 (개발 기초 혹은 발전적인 Unit Testing 등에 대한 주...  \n",
       "15  Android 개발 (개발 기초 혹은 발전적인 Unit Testing 등에 대한 주...  \n",
       "16  Android 개발 (개발 기초 혹은 발전적인 Unit Testing 등에 대한 주...  \n",
       "17  Android 개발 (개발 기초 혹은 발전적인 Unit Testing 등에 대한 주...  \n",
       "22  Android 개발 (개발 기초 혹은 발전적인 Unit Testing 등에 대한 주...  \n",
       "26  Android 개발 (개발 기초 혹은 발전적인 Unit Testing 등에 대한 주...  \n",
       "30  Android 개발 (개발 기초 혹은 발전적인 Unit Testing 등에 대한 주...  \n",
       "33  Android 개발 (개발 기초 혹은 발전적인 Unit Testing 등에 대한 주...  \n",
       "35  Android 개발 (개발 기초 혹은 발전적인 Unit Testing 등에 대한 주...  \n",
       "43  Android 개발 (개발 기초 혹은 발전적인 Unit Testing 등에 대한 주...  \n",
       "45   Android 개발 (개발 기초 혹은 발전적인 Unit Testing 등에 대한 주제)  "
      ]
     },
     "execution_count": 11,
     "metadata": {},
     "output_type": "execute_result"
    }
   ],
   "source": [
    "android_study_df"
   ]
  },
  {
   "cell_type": "markdown",
   "metadata": {},
   "source": [
    "### 장고 스터디 수요자 정보"
   ]
  },
  {
   "cell_type": "code",
   "execution_count": 12,
   "metadata": {
    "collapsed": false
   },
   "outputs": [
    {
     "data": {
      "text/html": [
       "<div>\n",
       "<table border=\"1\" class=\"dataframe\">\n",
       "  <thead>\n",
       "    <tr style=\"text-align: right;\">\n",
       "      <th></th>\n",
       "      <th>타임스탬프</th>\n",
       "      <th>이름</th>\n",
       "      <th>이메일 주소</th>\n",
       "      <th>참여하고자하는 스터디 혹은 원하는 스터디</th>\n",
       "    </tr>\n",
       "  </thead>\n",
       "  <tbody>\n",
       "    <tr>\n",
       "      <th>0</th>\n",
       "      <td>2016/08/31 11:45:37 오후 GMT+9</td>\n",
       "      <td>손창우</td>\n",
       "      <td>scw422@korea.ac.kr</td>\n",
       "      <td>Android 개발 (개발 기초 혹은 발전적인 Unit Testing 등에 대한 주...</td>\n",
       "    </tr>\n",
       "    <tr>\n",
       "      <th>2</th>\n",
       "      <td>2016/08/31 11:47:30 오후 GMT+9</td>\n",
       "      <td>조승완</td>\n",
       "      <td>wh7923@gmail.com</td>\n",
       "      <td>Python 및 Django (Backend);Python을 이용한 TensorFlow</td>\n",
       "    </tr>\n",
       "    <tr>\n",
       "      <th>4</th>\n",
       "      <td>2016/08/31 11:54:38 오후 GMT+9</td>\n",
       "      <td>윤도일</td>\n",
       "      <td>ttotto3080@gmail.com</td>\n",
       "      <td>Python 및 Django (Backend);Python을 이용한 TensorFlow</td>\n",
       "    </tr>\n",
       "    <tr>\n",
       "      <th>12</th>\n",
       "      <td>2016/09/01 12:21:59 오전 GMT+9</td>\n",
       "      <td>주승환</td>\n",
       "      <td>tmdghks584@gmail.com</td>\n",
       "      <td>Python 및 Django (Backend)</td>\n",
       "    </tr>\n",
       "    <tr>\n",
       "      <th>16</th>\n",
       "      <td>2016/09/01 2:11:31 오전 GMT+9</td>\n",
       "      <td>김보운</td>\n",
       "      <td>haioer@naver.com</td>\n",
       "      <td>Android 개발 (개발 기초 혹은 발전적인 Unit Testing 등에 대한 주...</td>\n",
       "    </tr>\n",
       "    <tr>\n",
       "      <th>17</th>\n",
       "      <td>2016/09/01 3:13:56 오전 GMT+9</td>\n",
       "      <td>이수정</td>\n",
       "      <td>cubeclock94@gmail.com</td>\n",
       "      <td>Android 개발 (개발 기초 혹은 발전적인 Unit Testing 등에 대한 주...</td>\n",
       "    </tr>\n",
       "    <tr>\n",
       "      <th>20</th>\n",
       "      <td>2016/09/01 7:40:19 오전 GMT+9</td>\n",
       "      <td>소윤상</td>\n",
       "      <td>yooncobra@gmail.com</td>\n",
       "      <td>Python 및 Django (Backend);프론트엔드 (HTML5, CSS, J...</td>\n",
       "    </tr>\n",
       "    <tr>\n",
       "      <th>24</th>\n",
       "      <td>2016/09/01 9:48:37 오전 GMT+9</td>\n",
       "      <td>김동희</td>\n",
       "      <td>opklnm102@gmail.com</td>\n",
       "      <td>Python 및 Django (Backend);알고리즘 및 코딩 인터뷰 스터디</td>\n",
       "    </tr>\n",
       "    <tr>\n",
       "      <th>30</th>\n",
       "      <td>2016/09/01 12:46:10 오후 GMT+9</td>\n",
       "      <td>김현우</td>\n",
       "      <td>skywalker2316@gmail.com</td>\n",
       "      <td>Android 개발 (개발 기초 혹은 발전적인 Unit Testing 등에 대한 주...</td>\n",
       "    </tr>\n",
       "    <tr>\n",
       "      <th>34</th>\n",
       "      <td>2016/09/01 1:58:17 오후 GMT+9</td>\n",
       "      <td>이의령</td>\n",
       "      <td>urleee@naver.com</td>\n",
       "      <td>Python 및 Django (Backend);Python을 이용한 TensorFl...</td>\n",
       "    </tr>\n",
       "    <tr>\n",
       "      <th>35</th>\n",
       "      <td>2016/09/01 3:32:57 오후 GMT+9</td>\n",
       "      <td>최효원</td>\n",
       "      <td>popopowon@naver.com</td>\n",
       "      <td>Android 개발 (개발 기초 혹은 발전적인 Unit Testing 등에 대한 주...</td>\n",
       "    </tr>\n",
       "    <tr>\n",
       "      <th>36</th>\n",
       "      <td>2016/09/01 4:13:07 오후 GMT+9</td>\n",
       "      <td>조용장</td>\n",
       "      <td>jyj3312@gmail.com</td>\n",
       "      <td>Python 및 Django (Backend);Python을 이용한 TensorFl...</td>\n",
       "    </tr>\n",
       "    <tr>\n",
       "      <th>40</th>\n",
       "      <td>2016/09/01 6:25:08 오후 GMT+9</td>\n",
       "      <td>김다혜</td>\n",
       "      <td>dahyek24@gmail.com</td>\n",
       "      <td>Python 및 Django (Backend);알고리즘 및 코딩 인터뷰 스터디</td>\n",
       "    </tr>\n",
       "    <tr>\n",
       "      <th>41</th>\n",
       "      <td>2016/09/01 6:39:44 오후 GMT+9</td>\n",
       "      <td>서혜준</td>\n",
       "      <td>hjsuh01@gmail.com</td>\n",
       "      <td>Python 및 Django (Backend);알고리즘 및 코딩 인터뷰 스터디;머신...</td>\n",
       "    </tr>\n",
       "    <tr>\n",
       "      <th>42</th>\n",
       "      <td>2016/09/01 6:40:05 오후 GMT+9</td>\n",
       "      <td>김현으</td>\n",
       "      <td>kimhyunwoo8888@gmail.com</td>\n",
       "      <td>Python 및 Django (Backend);Python을 이용한 TensorFl...</td>\n",
       "    </tr>\n",
       "    <tr>\n",
       "      <th>48</th>\n",
       "      <td>2016/09/01 10:23:34 오후 GMT+9</td>\n",
       "      <td>모준서</td>\n",
       "      <td>mojunseo49@naver.com</td>\n",
       "      <td>Python 및 Django (Backend);Python을 이용한 TensorFl...</td>\n",
       "    </tr>\n",
       "    <tr>\n",
       "      <th>49</th>\n",
       "      <td>2016/09/01 11:07:50 오후 GMT+9</td>\n",
       "      <td>황나윤</td>\n",
       "      <td>matilda38@naver.com</td>\n",
       "      <td>Python 및 Django (Backend);알고리즘 및 코딩 인터뷰 스터디</td>\n",
       "    </tr>\n",
       "    <tr>\n",
       "      <th>50</th>\n",
       "      <td>2016/09/01 11:57:51 오후 GMT+9</td>\n",
       "      <td>박일권</td>\n",
       "      <td>dlfrnjs0915@gmail.com</td>\n",
       "      <td>Python 및 Django (Backend);Python을 이용한 TensorFlow</td>\n",
       "    </tr>\n",
       "    <tr>\n",
       "      <th>53</th>\n",
       "      <td>2016/09/02 12:43:30 오전 GMT+9</td>\n",
       "      <td>이재영</td>\n",
       "      <td>w22ee1@naver.com</td>\n",
       "      <td>Python 및 Django (Backend);알고리즘 및 코딩 인터뷰 스터디</td>\n",
       "    </tr>\n",
       "  </tbody>\n",
       "</table>\n",
       "</div>"
      ],
      "text/plain": [
       "                           타임스탬프   이름                    이메일 주소  \\\n",
       "0   2016/08/31 11:45:37 오후 GMT+9  손창우        scw422@korea.ac.kr   \n",
       "2   2016/08/31 11:47:30 오후 GMT+9  조승완          wh7923@gmail.com   \n",
       "4   2016/08/31 11:54:38 오후 GMT+9  윤도일      ttotto3080@gmail.com   \n",
       "12  2016/09/01 12:21:59 오전 GMT+9  주승환      tmdghks584@gmail.com   \n",
       "16   2016/09/01 2:11:31 오전 GMT+9  김보운          haioer@naver.com   \n",
       "17   2016/09/01 3:13:56 오전 GMT+9  이수정     cubeclock94@gmail.com   \n",
       "20   2016/09/01 7:40:19 오전 GMT+9  소윤상       yooncobra@gmail.com   \n",
       "24   2016/09/01 9:48:37 오전 GMT+9  김동희       opklnm102@gmail.com   \n",
       "30  2016/09/01 12:46:10 오후 GMT+9  김현우   skywalker2316@gmail.com   \n",
       "34   2016/09/01 1:58:17 오후 GMT+9  이의령          urleee@naver.com   \n",
       "35   2016/09/01 3:32:57 오후 GMT+9  최효원       popopowon@naver.com   \n",
       "36   2016/09/01 4:13:07 오후 GMT+9  조용장         jyj3312@gmail.com   \n",
       "40   2016/09/01 6:25:08 오후 GMT+9  김다혜        dahyek24@gmail.com   \n",
       "41   2016/09/01 6:39:44 오후 GMT+9  서혜준         hjsuh01@gmail.com   \n",
       "42   2016/09/01 6:40:05 오후 GMT+9  김현으  kimhyunwoo8888@gmail.com   \n",
       "48  2016/09/01 10:23:34 오후 GMT+9  모준서      mojunseo49@naver.com   \n",
       "49  2016/09/01 11:07:50 오후 GMT+9  황나윤       matilda38@naver.com   \n",
       "50  2016/09/01 11:57:51 오후 GMT+9  박일권     dlfrnjs0915@gmail.com   \n",
       "53  2016/09/02 12:43:30 오전 GMT+9  이재영          w22ee1@naver.com   \n",
       "\n",
       "                               참여하고자하는 스터디 혹은 원하는 스터디  \n",
       "0   Android 개발 (개발 기초 혹은 발전적인 Unit Testing 등에 대한 주...  \n",
       "2    Python 및 Django (Backend);Python을 이용한 TensorFlow  \n",
       "4    Python 및 Django (Backend);Python을 이용한 TensorFlow  \n",
       "12                          Python 및 Django (Backend)  \n",
       "16  Android 개발 (개발 기초 혹은 발전적인 Unit Testing 등에 대한 주...  \n",
       "17  Android 개발 (개발 기초 혹은 발전적인 Unit Testing 등에 대한 주...  \n",
       "20  Python 및 Django (Backend);프론트엔드 (HTML5, CSS, J...  \n",
       "24        Python 및 Django (Backend);알고리즘 및 코딩 인터뷰 스터디  \n",
       "30  Android 개발 (개발 기초 혹은 발전적인 Unit Testing 등에 대한 주...  \n",
       "34  Python 및 Django (Backend);Python을 이용한 TensorFl...  \n",
       "35  Android 개발 (개발 기초 혹은 발전적인 Unit Testing 등에 대한 주...  \n",
       "36  Python 및 Django (Backend);Python을 이용한 TensorFl...  \n",
       "40        Python 및 Django (Backend);알고리즘 및 코딩 인터뷰 스터디  \n",
       "41  Python 및 Django (Backend);알고리즘 및 코딩 인터뷰 스터디;머신...  \n",
       "42  Python 및 Django (Backend);Python을 이용한 TensorFl...  \n",
       "48  Python 및 Django (Backend);Python을 이용한 TensorFl...  \n",
       "49        Python 및 Django (Backend);알고리즘 및 코딩 인터뷰 스터디  \n",
       "50   Python 및 Django (Backend);Python을 이용한 TensorFlow  \n",
       "53        Python 및 Django (Backend);알고리즘 및 코딩 인터뷰 스터디  "
      ]
     },
     "execution_count": 12,
     "metadata": {},
     "output_type": "execute_result"
    }
   ],
   "source": [
    "django_study_df"
   ]
  },
  {
   "cell_type": "markdown",
   "metadata": {},
   "source": [
    "### TensorFlow 스터디 수요자 정보"
   ]
  },
  {
   "cell_type": "code",
   "execution_count": 13,
   "metadata": {
    "collapsed": false
   },
   "outputs": [
    {
     "data": {
      "text/html": [
       "<div>\n",
       "<table border=\"1\" class=\"dataframe\">\n",
       "  <thead>\n",
       "    <tr style=\"text-align: right;\">\n",
       "      <th></th>\n",
       "      <th>타임스탬프</th>\n",
       "      <th>이름</th>\n",
       "      <th>이메일 주소</th>\n",
       "      <th>참여하고자하는 스터디 혹은 원하는 스터디</th>\n",
       "    </tr>\n",
       "  </thead>\n",
       "  <tbody>\n",
       "    <tr>\n",
       "      <th>1</th>\n",
       "      <td>2016/08/31 11:46:52 오후 GMT+9</td>\n",
       "      <td>김명준</td>\n",
       "      <td>kimmj8409@gmail.com</td>\n",
       "      <td>Python을 이용한 TensorFlow</td>\n",
       "    </tr>\n",
       "    <tr>\n",
       "      <th>2</th>\n",
       "      <td>2016/08/31 11:47:30 오후 GMT+9</td>\n",
       "      <td>조승완</td>\n",
       "      <td>wh7923@gmail.com</td>\n",
       "      <td>Python 및 Django (Backend);Python을 이용한 TensorFlow</td>\n",
       "    </tr>\n",
       "    <tr>\n",
       "      <th>4</th>\n",
       "      <td>2016/08/31 11:54:38 오후 GMT+9</td>\n",
       "      <td>윤도일</td>\n",
       "      <td>ttotto3080@gmail.com</td>\n",
       "      <td>Python 및 Django (Backend);Python을 이용한 TensorFlow</td>\n",
       "    </tr>\n",
       "    <tr>\n",
       "      <th>7</th>\n",
       "      <td>2016/09/01 12:01:26 오전 GMT+9</td>\n",
       "      <td>오정민</td>\n",
       "      <td>sgm02186@naver.com</td>\n",
       "      <td>Python을 이용한 TensorFlow</td>\n",
       "    </tr>\n",
       "    <tr>\n",
       "      <th>10</th>\n",
       "      <td>2016/09/01 12:05:49 오전 GMT+9</td>\n",
       "      <td>한바환</td>\n",
       "      <td>beingbook@gmail.com</td>\n",
       "      <td>Python을 이용한 TensorFlow;알고리즘 및 코딩 인터뷰 스터디</td>\n",
       "    </tr>\n",
       "    <tr>\n",
       "      <th>11</th>\n",
       "      <td>2016/09/01 12:19:57 오전 GMT+9</td>\n",
       "      <td>임정아</td>\n",
       "      <td>wjddkdml1124@naver.com</td>\n",
       "      <td>Android 개발 (개발 기초 혹은 발전적인 Unit Testing 등에 대한 주...</td>\n",
       "    </tr>\n",
       "    <tr>\n",
       "      <th>27</th>\n",
       "      <td>2016/09/01 11:11:28 오전 GMT+9</td>\n",
       "      <td>김태현</td>\n",
       "      <td>kgyoo8232@gmail.com</td>\n",
       "      <td>Python을 이용한 TensorFlow;알고리즘 및 코딩 인터뷰 스터디</td>\n",
       "    </tr>\n",
       "    <tr>\n",
       "      <th>30</th>\n",
       "      <td>2016/09/01 12:46:10 오후 GMT+9</td>\n",
       "      <td>김현우</td>\n",
       "      <td>skywalker2316@gmail.com</td>\n",
       "      <td>Android 개발 (개발 기초 혹은 발전적인 Unit Testing 등에 대한 주...</td>\n",
       "    </tr>\n",
       "    <tr>\n",
       "      <th>34</th>\n",
       "      <td>2016/09/01 1:58:17 오후 GMT+9</td>\n",
       "      <td>이의령</td>\n",
       "      <td>urleee@naver.com</td>\n",
       "      <td>Python 및 Django (Backend);Python을 이용한 TensorFl...</td>\n",
       "    </tr>\n",
       "    <tr>\n",
       "      <th>36</th>\n",
       "      <td>2016/09/01 4:13:07 오후 GMT+9</td>\n",
       "      <td>조용장</td>\n",
       "      <td>jyj3312@gmail.com</td>\n",
       "      <td>Python 및 Django (Backend);Python을 이용한 TensorFl...</td>\n",
       "    </tr>\n",
       "    <tr>\n",
       "      <th>38</th>\n",
       "      <td>2016/09/01 6:09:32 오후 GMT+9</td>\n",
       "      <td>정광수</td>\n",
       "      <td>clax1412@outlook.com</td>\n",
       "      <td>Python을 이용한 TensorFlow;알고리즘 및 코딩 인터뷰 스터디</td>\n",
       "    </tr>\n",
       "    <tr>\n",
       "      <th>42</th>\n",
       "      <td>2016/09/01 6:40:05 오후 GMT+9</td>\n",
       "      <td>김현으</td>\n",
       "      <td>kimhyunwoo8888@gmail.com</td>\n",
       "      <td>Python 및 Django (Backend);Python을 이용한 TensorFl...</td>\n",
       "    </tr>\n",
       "    <tr>\n",
       "      <th>48</th>\n",
       "      <td>2016/09/01 10:23:34 오후 GMT+9</td>\n",
       "      <td>모준서</td>\n",
       "      <td>mojunseo49@naver.com</td>\n",
       "      <td>Python 및 Django (Backend);Python을 이용한 TensorFl...</td>\n",
       "    </tr>\n",
       "    <tr>\n",
       "      <th>50</th>\n",
       "      <td>2016/09/01 11:57:51 오후 GMT+9</td>\n",
       "      <td>박일권</td>\n",
       "      <td>dlfrnjs0915@gmail.com</td>\n",
       "      <td>Python 및 Django (Backend);Python을 이용한 TensorFlow</td>\n",
       "    </tr>\n",
       "    <tr>\n",
       "      <th>54</th>\n",
       "      <td>2016/09/02 10:10:28 오전 GMT+9</td>\n",
       "      <td>진겸</td>\n",
       "      <td>tost8295@gmail.om</td>\n",
       "      <td>Python을 이용한 TensorFlow;프론트엔드 (HTML5, CSS, JS, ...</td>\n",
       "    </tr>\n",
       "  </tbody>\n",
       "</table>\n",
       "</div>"
      ],
      "text/plain": [
       "                           타임스탬프   이름                    이메일 주소  \\\n",
       "1   2016/08/31 11:46:52 오후 GMT+9  김명준       kimmj8409@gmail.com   \n",
       "2   2016/08/31 11:47:30 오후 GMT+9  조승완          wh7923@gmail.com   \n",
       "4   2016/08/31 11:54:38 오후 GMT+9  윤도일      ttotto3080@gmail.com   \n",
       "7   2016/09/01 12:01:26 오전 GMT+9  오정민        sgm02186@naver.com   \n",
       "10  2016/09/01 12:05:49 오전 GMT+9  한바환       beingbook@gmail.com   \n",
       "11  2016/09/01 12:19:57 오전 GMT+9  임정아    wjddkdml1124@naver.com   \n",
       "27  2016/09/01 11:11:28 오전 GMT+9  김태현       kgyoo8232@gmail.com   \n",
       "30  2016/09/01 12:46:10 오후 GMT+9  김현우   skywalker2316@gmail.com   \n",
       "34   2016/09/01 1:58:17 오후 GMT+9  이의령          urleee@naver.com   \n",
       "36   2016/09/01 4:13:07 오후 GMT+9  조용장         jyj3312@gmail.com   \n",
       "38   2016/09/01 6:09:32 오후 GMT+9  정광수      clax1412@outlook.com   \n",
       "42   2016/09/01 6:40:05 오후 GMT+9  김현으  kimhyunwoo8888@gmail.com   \n",
       "48  2016/09/01 10:23:34 오후 GMT+9  모준서      mojunseo49@naver.com   \n",
       "50  2016/09/01 11:57:51 오후 GMT+9  박일권     dlfrnjs0915@gmail.com   \n",
       "54  2016/09/02 10:10:28 오전 GMT+9   진겸         tost8295@gmail.om   \n",
       "\n",
       "                               참여하고자하는 스터디 혹은 원하는 스터디  \n",
       "1                              Python을 이용한 TensorFlow  \n",
       "2    Python 및 Django (Backend);Python을 이용한 TensorFlow  \n",
       "4    Python 및 Django (Backend);Python을 이용한 TensorFlow  \n",
       "7                              Python을 이용한 TensorFlow  \n",
       "10           Python을 이용한 TensorFlow;알고리즘 및 코딩 인터뷰 스터디  \n",
       "11  Android 개발 (개발 기초 혹은 발전적인 Unit Testing 등에 대한 주...  \n",
       "27           Python을 이용한 TensorFlow;알고리즘 및 코딩 인터뷰 스터디  \n",
       "30  Android 개발 (개발 기초 혹은 발전적인 Unit Testing 등에 대한 주...  \n",
       "34  Python 및 Django (Backend);Python을 이용한 TensorFl...  \n",
       "36  Python 및 Django (Backend);Python을 이용한 TensorFl...  \n",
       "38           Python을 이용한 TensorFlow;알고리즘 및 코딩 인터뷰 스터디  \n",
       "42  Python 및 Django (Backend);Python을 이용한 TensorFl...  \n",
       "48  Python 및 Django (Backend);Python을 이용한 TensorFl...  \n",
       "50   Python 및 Django (Backend);Python을 이용한 TensorFlow  \n",
       "54  Python을 이용한 TensorFlow;프론트엔드 (HTML5, CSS, JS, ...  "
      ]
     },
     "execution_count": 13,
     "metadata": {},
     "output_type": "execute_result"
    }
   ],
   "source": [
    "tensorflow_study_df"
   ]
  },
  {
   "cell_type": "code",
   "execution_count": 14,
   "metadata": {
    "collapsed": true
   },
   "outputs": [],
   "source": [
    "import matplotlib.pyplot as plt\n",
    "%matplotlib inline\n",
    "plt.rc('font', family='AppleGothic')"
   ]
  },
  {
   "cell_type": "code",
   "execution_count": 15,
   "metadata": {
    "collapsed": false
   },
   "outputs": [
    {
     "data": {
      "text/plain": [
       "15"
      ]
     },
     "execution_count": 15,
     "metadata": {},
     "output_type": "execute_result"
    }
   ],
   "source": [
    "tensorflow_study_df.shape[0]"
   ]
  },
  {
   "cell_type": "code",
   "execution_count": 16,
   "metadata": {
    "collapsed": true
   },
   "outputs": [],
   "source": [
    "study_df_list = [android_study_df, django_study_df, tensorflow_study_df, frontend_study_df ,uiux_study_df ,algo_study_df,design_study_df]"
   ]
  },
  {
   "cell_type": "code",
   "execution_count": 17,
   "metadata": {
    "collapsed": false
   },
   "outputs": [],
   "source": [
    "name_list = study_df['이름'].tolist()"
   ]
  },
  {
   "cell_type": "code",
   "execution_count": 18,
   "metadata": {
    "collapsed": false
   },
   "outputs": [],
   "source": [
    "name_dict = dict(zip(name_list, np.zeros(len(name_list), dtype=int)))"
   ]
  },
  {
   "cell_type": "code",
   "execution_count": 19,
   "metadata": {
    "collapsed": false
   },
   "outputs": [
    {
     "data": {
      "text/plain": [
       "True"
      ]
     },
     "execution_count": 19,
     "metadata": {},
     "output_type": "execute_result"
    }
   ],
   "source": [
    "'임정아' in tensorflow_study_df['이름'].tolist()"
   ]
  },
  {
   "cell_type": "code",
   "execution_count": 20,
   "metadata": {
    "collapsed": false
   },
   "outputs": [],
   "source": [
    "def fill_name_topic_num_dict(n_dict, n_list, s_df_list):\n",
    "    for each_df in s_df_list:\n",
    "        for each_name in n_list:\n",
    "            if each_name in each_df['이름'].tolist():\n",
    "                n_dict[each_name] = n_dict[each_name] + 1\n",
    "    \n",
    "    return n_dict"
   ]
  },
  {
   "cell_type": "code",
   "execution_count": 21,
   "metadata": {
    "collapsed": false
   },
   "outputs": [],
   "source": [
    "name_dict = fill_name_topic_num_dict(name_dict, name_list, study_df_list)"
   ]
  },
  {
   "cell_type": "code",
   "execution_count": 22,
   "metadata": {
    "collapsed": true
   },
   "outputs": [],
   "source": [
    "name_value_list = [name_dict[x] for x in name_dict.keys()]"
   ]
  },
  {
   "cell_type": "code",
   "execution_count": 23,
   "metadata": {
    "collapsed": false
   },
   "outputs": [
    {
     "name": "stdout",
     "output_type": "stream",
     "text": [
      "54\n"
     ]
    }
   ],
   "source": [
    "name_key_list = []\n",
    "for x in name_dict.keys():\n",
    "    name_key_list.append(x)\n",
    "\n",
    "print(len(name_key_list))"
   ]
  },
  {
   "cell_type": "code",
   "execution_count": 24,
   "metadata": {
    "collapsed": false
   },
   "outputs": [],
   "source": [
    "data = {'name':name_key_list, 'count':name_value_list}"
   ]
  },
  {
   "cell_type": "code",
   "execution_count": 25,
   "metadata": {
    "collapsed": false
   },
   "outputs": [],
   "source": [
    "name_df = pd.DataFrame(data)"
   ]
  },
  {
   "cell_type": "code",
   "execution_count": 26,
   "metadata": {
    "collapsed": false
   },
   "outputs": [
    {
     "data": {
      "text/html": [
       "<div>\n",
       "<table border=\"1\" class=\"dataframe\">\n",
       "  <thead>\n",
       "    <tr style=\"text-align: right;\">\n",
       "      <th></th>\n",
       "      <th>count</th>\n",
       "      <th>name</th>\n",
       "    </tr>\n",
       "  </thead>\n",
       "  <tbody>\n",
       "    <tr>\n",
       "      <th>0</th>\n",
       "      <td>2</td>\n",
       "      <td>윤도일</td>\n",
       "    </tr>\n",
       "    <tr>\n",
       "      <th>1</th>\n",
       "      <td>2</td>\n",
       "      <td>김혜지</td>\n",
       "    </tr>\n",
       "    <tr>\n",
       "      <th>2</th>\n",
       "      <td>2</td>\n",
       "      <td>최다은</td>\n",
       "    </tr>\n",
       "    <tr>\n",
       "      <th>3</th>\n",
       "      <td>2</td>\n",
       "      <td>김동희</td>\n",
       "    </tr>\n",
       "    <tr>\n",
       "      <th>4</th>\n",
       "      <td>3</td>\n",
       "      <td>조용장</td>\n",
       "    </tr>\n",
       "  </tbody>\n",
       "</table>\n",
       "</div>"
      ],
      "text/plain": [
       "   count name\n",
       "0      2  윤도일\n",
       "1      2  김혜지\n",
       "2      2  최다은\n",
       "3      2  김동희\n",
       "4      3  조용장"
      ]
     },
     "execution_count": 26,
     "metadata": {},
     "output_type": "execute_result"
    }
   ],
   "source": [
    "name_df.head(5)"
   ]
  },
  {
   "cell_type": "code",
   "execution_count": 27,
   "metadata": {
    "collapsed": false
   },
   "outputs": [
    {
     "data": {
      "text/plain": [
       "[<matplotlib.text.Text at 0x114f05f98>,\n",
       " <matplotlib.text.Text at 0x114f080f0>,\n",
       " <matplotlib.text.Text at 0x114ff9940>,\n",
       " <matplotlib.text.Text at 0x114ffb390>,\n",
       " <matplotlib.text.Text at 0x114ffbda0>,\n",
       " <matplotlib.text.Text at 0x1150017f0>,\n",
       " <matplotlib.text.Text at 0x115003240>,\n",
       " <matplotlib.text.Text at 0x115003c50>,\n",
       " <matplotlib.text.Text at 0x114eea518>,\n",
       " <matplotlib.text.Text at 0x115013208>,\n",
       " <matplotlib.text.Text at 0x11501a8d0>,\n",
       " <matplotlib.text.Text at 0x11501d320>,\n",
       " <matplotlib.text.Text at 0x11501dd30>,\n",
       " <matplotlib.text.Text at 0x1150201d0>,\n",
       " <matplotlib.text.Text at 0x115020be0>,\n",
       " <matplotlib.text.Text at 0x115026630>,\n",
       " <matplotlib.text.Text at 0x115029080>,\n",
       " <matplotlib.text.Text at 0x115029a90>,\n",
       " <matplotlib.text.Text at 0x11502b4e0>,\n",
       " <matplotlib.text.Text at 0x11502bef0>,\n",
       " <matplotlib.text.Text at 0x115030940>,\n",
       " <matplotlib.text.Text at 0x115033390>,\n",
       " <matplotlib.text.Text at 0x115033da0>,\n",
       " <matplotlib.text.Text at 0x1150387f0>,\n",
       " <matplotlib.text.Text at 0x11503c240>,\n",
       " <matplotlib.text.Text at 0x11503cc50>,\n",
       " <matplotlib.text.Text at 0x1150406a0>,\n",
       " <matplotlib.text.Text at 0x1150450f0>,\n",
       " <matplotlib.text.Text at 0x115045b00>,\n",
       " <matplotlib.text.Text at 0x115048550>,\n",
       " <matplotlib.text.Text at 0x115048f60>,\n",
       " <matplotlib.text.Text at 0x11504d9b0>,\n",
       " <matplotlib.text.Text at 0x11500c780>,\n",
       " <matplotlib.text.Text at 0x114ffbb70>,\n",
       " <matplotlib.text.Text at 0x11504df98>,\n",
       " <matplotlib.text.Text at 0x115051898>,\n",
       " <matplotlib.text.Text at 0x1150532e8>,\n",
       " <matplotlib.text.Text at 0x115053cf8>,\n",
       " <matplotlib.text.Text at 0x115057748>,\n",
       " <matplotlib.text.Text at 0x11505c198>,\n",
       " <matplotlib.text.Text at 0x11505cba8>,\n",
       " <matplotlib.text.Text at 0x11505f5f8>,\n",
       " <matplotlib.text.Text at 0x115062048>,\n",
       " <matplotlib.text.Text at 0x115062a58>,\n",
       " <matplotlib.text.Text at 0x1150674a8>,\n",
       " <matplotlib.text.Text at 0x115067eb8>,\n",
       " <matplotlib.text.Text at 0x11506c908>,\n",
       " <matplotlib.text.Text at 0x11506f358>,\n",
       " <matplotlib.text.Text at 0x11506fd68>,\n",
       " <matplotlib.text.Text at 0x1150747b8>,\n",
       " <matplotlib.text.Text at 0x115077208>,\n",
       " <matplotlib.text.Text at 0x115077c18>,\n",
       " <matplotlib.text.Text at 0x11507b668>,\n",
       " <matplotlib.text.Text at 0x1150820b8>]"
      ]
     },
     "execution_count": 27,
     "metadata": {},
     "output_type": "execute_result"
    },
    {
     "data": {
      "image/png": "[encoded data removed]",
      "text/plain": [
       "<matplotlib.figure.Figure at 0x114eca828>"
      ]
     },
     "metadata": {},
     "output_type": "display_data"
    }
   ],
   "source": [
    "name_df.plot(kind='bar', color='blue', figsize=(15,10)).set_xticklabels(name_df.name)"
   ]
  },
  {
   "cell_type": "code",
   "execution_count": null,
   "metadata": {
    "collapsed": true
   },
   "outputs": [],
   "source": []
  }
 ],
 "metadata": {
  "kernelspec": {
   "display_name": "Python 3",
   "language": "python",
   "name": "python3"
  },
  "language_info": {
   "codemirror_mode": {
    "name": "ipython",
    "version": 3
   },
   "file_extension": ".py",
   "mimetype": "text/x-python",
   "name": "python",
   "nbconvert_exporter": "python",
   "pygments_lexer": "ipython3",
   "version": "3.5.1"
  }
 },
 "nbformat": 4,
 "nbformat_minor": 0
}
