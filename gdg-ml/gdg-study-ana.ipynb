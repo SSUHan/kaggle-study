{
 "cells": [
  {
   "cell_type": "markdown",
   "metadata": {},
   "source": [
    "# GDG DevCamp Study 수요조사 한눈에 보기"
   ]
  },
  {
   "cell_type": "code",
   "execution_count": 104,
   "metadata": {
    "collapsed": true
   },
   "outputs": [],
   "source": [
    "import pandas as pd\n",
    "import numpy as np"
   ]
  },
  {
   "cell_type": "code",
   "execution_count": 44,
   "metadata": {
    "collapsed": false
   },
   "outputs": [],
   "source": [
    "study_df = pd.read_csv('gdg-devcamp-study.csv')"
   ]
  },
  {
   "cell_type": "code",
   "execution_count": 75,
   "metadata": {
    "collapsed": false
   },
   "outputs": [
    {
     "name": "stdout",
     "output_type": "stream",
     "text": [
      "<class 'pandas.core.frame.DataFrame'>\n",
      "RangeIndex: 55 entries, 0 to 54\n",
      "Data columns (total 4 columns):\n",
      "타임스탬프                     55 non-null object\n",
      "이름                        55 non-null object\n",
      "이메일 주소                    55 non-null object\n",
      "참여하고자하는 스터디 혹은 원하는 스터디    55 non-null object\n",
      "dtypes: object(4)\n",
      "memory usage: 1.8+ KB\n"
     ]
    }
   ],
   "source": [
    "study_df.info()"
   ]
  },
  {
   "cell_type": "code",
   "execution_count": 11,
   "metadata": {
    "collapsed": false
   },
   "outputs": [
    {
     "data": {
      "text/plain": [
       "pandas.core.series.Series"
      ]
     },
     "execution_count": 11,
     "metadata": {},
     "output_type": "execute_result"
    }
   ],
   "source": [
    "type(study_df['참여하고자하는 스터디 혹은 원하는 스터디'])"
   ]
  },
  {
   "cell_type": "code",
   "execution_count": 5,
   "metadata": {
    "collapsed": false
   },
   "outputs": [
    {
     "data": {
      "text/html": [
       "<div>\n",
       "<table border=\"1\" class=\"dataframe\">\n",
       "  <thead>\n",
       "    <tr style=\"text-align: right;\">\n",
       "      <th></th>\n",
       "      <th>타임스탬프</th>\n",
       "      <th>이름</th>\n",
       "      <th>이메일 주소</th>\n",
       "      <th>참여하고자하는 스터디 혹은 원하는 스터디</th>\n",
       "    </tr>\n",
       "  </thead>\n",
       "  <tbody>\n",
       "    <tr>\n",
       "      <th>6</th>\n",
       "      <td>2016/09/01 12:01:08 오전 GMT+9</td>\n",
       "      <td>김혜민</td>\n",
       "      <td>1117hyemin@gmail.com</td>\n",
       "      <td>Android 개발 (개발 기초 혹은 발전적인 Unit Testing 등에 대한 주제)</td>\n",
       "    </tr>\n",
       "    <tr>\n",
       "      <th>45</th>\n",
       "      <td>2016/09/01 8:51:39 오후 GMT+9</td>\n",
       "      <td>정혜린</td>\n",
       "      <td>ltnc2846@gmail.com</td>\n",
       "      <td>Android 개발 (개발 기초 혹은 발전적인 Unit Testing 등에 대한 주제)</td>\n",
       "    </tr>\n",
       "  </tbody>\n",
       "</table>\n",
       "</div>"
      ],
      "text/plain": [
       "                           타임스탬프   이름                이메일 주소  \\\n",
       "6   2016/09/01 12:01:08 오전 GMT+9  김혜민  1117hyemin@gmail.com   \n",
       "45   2016/09/01 8:51:39 오후 GMT+9  정혜린    ltnc2846@gmail.com   \n",
       "\n",
       "                              참여하고자하는 스터디 혹은 원하는 스터디  \n",
       "6   Android 개발 (개발 기초 혹은 발전적인 Unit Testing 등에 대한 주제)  \n",
       "45  Android 개발 (개발 기초 혹은 발전적인 Unit Testing 등에 대한 주제)  "
      ]
     },
     "execution_count": 5,
     "metadata": {},
     "output_type": "execute_result"
    }
   ],
   "source": [
    "study_df[study_df['참여하고자하는 스터디 혹은 원하는 스터디'] == 'Android 개발 (개발 기초 혹은 발전적인 Unit Testing 등에 대한 주제)']"
   ]
  },
  {
   "cell_type": "code",
   "execution_count": 13,
   "metadata": {
    "collapsed": false
   },
   "outputs": [],
   "source": [
    "study_hope_list = study_df['참여하고자하는 스터디 혹은 원하는 스터디'].tolist()"
   ]
  },
  {
   "cell_type": "code",
   "execution_count": 46,
   "metadata": {
    "collapsed": false
   },
   "outputs": [
    {
     "data": {
      "text/html": [
       "<div>\n",
       "<table border=\"1\" class=\"dataframe\">\n",
       "  <thead>\n",
       "    <tr style=\"text-align: right;\">\n",
       "      <th></th>\n",
       "      <th>타임스탬프</th>\n",
       "      <th>이름</th>\n",
       "      <th>이메일 주소</th>\n",
       "      <th>참여하고자하는 스터디 혹은 원하는 스터디</th>\n",
       "    </tr>\n",
       "  </thead>\n",
       "  <tbody>\n",
       "    <tr>\n",
       "      <th>0</th>\n",
       "      <td>2016/08/31 11:45:37 오후 GMT+9</td>\n",
       "      <td>손창우</td>\n",
       "      <td>scw422@korea.ac.kr</td>\n",
       "      <td>Android 개발 (개발 기초 혹은 발전적인 Unit Testing 등에 대한 주...</td>\n",
       "    </tr>\n",
       "  </tbody>\n",
       "</table>\n",
       "</div>"
      ],
      "text/plain": [
       "                          타임스탬프   이름              이메일 주소  \\\n",
       "0  2016/08/31 11:45:37 오후 GMT+9  손창우  scw422@korea.ac.kr   \n",
       "\n",
       "                              참여하고자하는 스터디 혹은 원하는 스터디  \n",
       "0  Android 개발 (개발 기초 혹은 발전적인 Unit Testing 등에 대한 주...  "
      ]
     },
     "execution_count": 46,
     "metadata": {},
     "output_type": "execute_result"
    }
   ],
   "source": [
    "study_df.iloc[[0]]"
   ]
  },
  {
   "cell_type": "code",
   "execution_count": 33,
   "metadata": {
    "collapsed": false
   },
   "outputs": [
    {
     "data": {
      "text/plain": [
       "False"
      ]
     },
     "execution_count": 33,
     "metadata": {},
     "output_type": "execute_result"
    }
   ],
   "source": [
    "'Android 개발 (개발 기초 혹은 발전적인 Unit Testing 등에 대한 주제)' in study_df['참여하고자하는 스터디 혹은 원하는 스터디']"
   ]
  },
  {
   "cell_type": "code",
   "execution_count": 68,
   "metadata": {
    "collapsed": true
   },
   "outputs": [],
   "source": [
    "def search_topic_people(data_frame, topic_name):\n",
    "    people_list = []\n",
    "    i = 0\n",
    "    for each in study_hope_list:\n",
    "        if topic_name in each:\n",
    "            people_list.append(True)\n",
    "        else:\n",
    "            people_list.append(False)\n",
    "        i = i+1\n",
    "    \n",
    "    return data_frame[people_list]"
   ]
  },
  {
   "cell_type": "code",
   "execution_count": 78,
   "metadata": {
    "collapsed": true
   },
   "outputs": [],
   "source": [
    "android_study_df = search_topic_people(study_df, 'Android 개발 (개발 기초 혹은 발전적인 Unit Testing 등에 대한 주제)')\n",
    "django_study_df = search_topic_people(study_df, 'Python 및 Django (Backend)')\n",
    "tensorflow_study_df = search_topic_people(study_df, 'Python을 이용한 TensorFlow')\n",
    "frontend_study_df = search_topic_people(study_df, '프론트엔드 (HTML5, CSS, JS, React, JQuary 등)')\n",
    "uiux_study_df = search_topic_people(study_df, 'UI/UX(Material Design) 및 프로토타이핑 툴')\n",
    "algo_study_df = search_topic_people(study_df, '알고리즘 및 코딩 인터뷰 스터디')\n",
    "design_study_df = search_topic_people(study_df, '디자이너 구직 및 인터뷰 스터디')"
   ]
  },
  {
   "cell_type": "markdown",
   "metadata": {},
   "source": [
    "### 안드로이드 스터디 수요자 정보"
   ]
  },
  {
   "cell_type": "code",
   "execution_count": 72,
   "metadata": {
    "collapsed": false
   },
   "outputs": [
    {
     "data": {
      "text/html": [
       "<div>\n",
       "<table border=\"1\" class=\"dataframe\">\n",
       "  <thead>\n",
       "    <tr style=\"text-align: right;\">\n",
       "      <th></th>\n",
       "      <th>타임스탬프</th>\n",
       "      <th>이름</th>\n",
       "      <th>이메일 주소</th>\n",
       "      <th>참여하고자하는 스터디 혹은 원하는 스터디</th>\n",
       "    </tr>\n",
       "  </thead>\n",
       "  <tbody>\n",
       "    <tr>\n",
       "      <th>0</th>\n",
       "      <td>2016/08/31 11:45:37 오후 GMT+9</td>\n",
       "      <td>손창우</td>\n",
       "      <td>scw422@korea.ac.kr</td>\n",
       "      <td>Android 개발 (개발 기초 혹은 발전적인 Unit Testing 등에 대한 주...</td>\n",
       "    </tr>\n",
       "    <tr>\n",
       "      <th>6</th>\n",
       "      <td>2016/09/01 12:01:08 오전 GMT+9</td>\n",
       "      <td>김혜민</td>\n",
       "      <td>1117hyemin@gmail.com</td>\n",
       "      <td>Android 개발 (개발 기초 혹은 발전적인 Unit Testing 등에 대한 주제)</td>\n",
       "    </tr>\n",
       "    <tr>\n",
       "      <th>11</th>\n",
       "      <td>2016/09/01 12:19:57 오전 GMT+9</td>\n",
       "      <td>임정아</td>\n",
       "      <td>wjddkdml1124@naver.com</td>\n",
       "      <td>Android 개발 (개발 기초 혹은 발전적인 Unit Testing 등에 대한 주...</td>\n",
       "    </tr>\n",
       "    <tr>\n",
       "      <th>14</th>\n",
       "      <td>2016/09/01 12:41:15 오전 GMT+9</td>\n",
       "      <td>박혜림</td>\n",
       "      <td>phl2898@gmail.com</td>\n",
       "      <td>Android 개발 (개발 기초 혹은 발전적인 Unit Testing 등에 대한 주...</td>\n",
       "    </tr>\n",
       "    <tr>\n",
       "      <th>15</th>\n",
       "      <td>2016/09/01 1:25:10 오전 GMT+9</td>\n",
       "      <td>왕소정</td>\n",
       "      <td>redthink90@gmail.com</td>\n",
       "      <td>Android 개발 (개발 기초 혹은 발전적인 Unit Testing 등에 대한 주...</td>\n",
       "    </tr>\n",
       "    <tr>\n",
       "      <th>16</th>\n",
       "      <td>2016/09/01 2:11:31 오전 GMT+9</td>\n",
       "      <td>김보운</td>\n",
       "      <td>haioer@naver.com</td>\n",
       "      <td>Android 개발 (개발 기초 혹은 발전적인 Unit Testing 등에 대한 주...</td>\n",
       "    </tr>\n",
       "    <tr>\n",
       "      <th>17</th>\n",
       "      <td>2016/09/01 3:13:56 오전 GMT+9</td>\n",
       "      <td>이수정</td>\n",
       "      <td>cubeclock94@gmail.com</td>\n",
       "      <td>Android 개발 (개발 기초 혹은 발전적인 Unit Testing 등에 대한 주...</td>\n",
       "    </tr>\n",
       "    <tr>\n",
       "      <th>22</th>\n",
       "      <td>2016/09/01 9:26:18 오전 GMT+9</td>\n",
       "      <td>박민숙</td>\n",
       "      <td>giyami0425@gmail.com</td>\n",
       "      <td>Android 개발 (개발 기초 혹은 발전적인 Unit Testing 등에 대한 주...</td>\n",
       "    </tr>\n",
       "    <tr>\n",
       "      <th>26</th>\n",
       "      <td>2016/09/01 10:46:14 오전 GMT+9</td>\n",
       "      <td>한명수</td>\n",
       "      <td>the.audacia@gmail.com</td>\n",
       "      <td>Android 개발 (개발 기초 혹은 발전적인 Unit Testing 등에 대한 주...</td>\n",
       "    </tr>\n",
       "    <tr>\n",
       "      <th>30</th>\n",
       "      <td>2016/09/01 12:46:10 오후 GMT+9</td>\n",
       "      <td>김현우</td>\n",
       "      <td>skywalker2316@gmail.com</td>\n",
       "      <td>Android 개발 (개발 기초 혹은 발전적인 Unit Testing 등에 대한 주...</td>\n",
       "    </tr>\n",
       "    <tr>\n",
       "      <th>33</th>\n",
       "      <td>2016/09/01 1:56:55 오후 GMT+9</td>\n",
       "      <td>김혜지</td>\n",
       "      <td>yucaroll@naver.com</td>\n",
       "      <td>Android 개발 (개발 기초 혹은 발전적인 Unit Testing 등에 대한 주...</td>\n",
       "    </tr>\n",
       "    <tr>\n",
       "      <th>35</th>\n",
       "      <td>2016/09/01 3:32:57 오후 GMT+9</td>\n",
       "      <td>최효원</td>\n",
       "      <td>popopowon@naver.com</td>\n",
       "      <td>Android 개발 (개발 기초 혹은 발전적인 Unit Testing 등에 대한 주...</td>\n",
       "    </tr>\n",
       "    <tr>\n",
       "      <th>43</th>\n",
       "      <td>2016/09/01 6:45:32 오후 GMT+9</td>\n",
       "      <td>김민지</td>\n",
       "      <td>mjalswl626@gmail.com</td>\n",
       "      <td>Android 개발 (개발 기초 혹은 발전적인 Unit Testing 등에 대한 주...</td>\n",
       "    </tr>\n",
       "    <tr>\n",
       "      <th>45</th>\n",
       "      <td>2016/09/01 8:51:39 오후 GMT+9</td>\n",
       "      <td>정혜린</td>\n",
       "      <td>ltnc2846@gmail.com</td>\n",
       "      <td>Android 개발 (개발 기초 혹은 발전적인 Unit Testing 등에 대한 주제)</td>\n",
       "    </tr>\n",
       "  </tbody>\n",
       "</table>\n",
       "</div>"
      ],
      "text/plain": [
       "                           타임스탬프    이름                   이메일 주소  \\\n",
       "0   2016/08/31 11:45:37 오후 GMT+9   손창우       scw422@korea.ac.kr   \n",
       "6   2016/09/01 12:01:08 오전 GMT+9   김혜민     1117hyemin@gmail.com   \n",
       "11  2016/09/01 12:19:57 오전 GMT+9   임정아   wjddkdml1124@naver.com   \n",
       "14  2016/09/01 12:41:15 오전 GMT+9   박혜림        phl2898@gmail.com   \n",
       "15   2016/09/01 1:25:10 오전 GMT+9   왕소정     redthink90@gmail.com   \n",
       "16   2016/09/01 2:11:31 오전 GMT+9   김보운         haioer@naver.com   \n",
       "17   2016/09/01 3:13:56 오전 GMT+9   이수정    cubeclock94@gmail.com   \n",
       "22   2016/09/01 9:26:18 오전 GMT+9  박민숙      giyami0425@gmail.com   \n",
       "26  2016/09/01 10:46:14 오전 GMT+9   한명수    the.audacia@gmail.com   \n",
       "30  2016/09/01 12:46:10 오후 GMT+9   김현우  skywalker2316@gmail.com   \n",
       "33   2016/09/01 1:56:55 오후 GMT+9   김혜지       yucaroll@naver.com   \n",
       "35   2016/09/01 3:32:57 오후 GMT+9   최효원      popopowon@naver.com   \n",
       "43   2016/09/01 6:45:32 오후 GMT+9   김민지     mjalswl626@gmail.com   \n",
       "45   2016/09/01 8:51:39 오후 GMT+9   정혜린       ltnc2846@gmail.com   \n",
       "\n",
       "                               참여하고자하는 스터디 혹은 원하는 스터디  \n",
       "0   Android 개발 (개발 기초 혹은 발전적인 Unit Testing 등에 대한 주...  \n",
       "6    Android 개발 (개발 기초 혹은 발전적인 Unit Testing 등에 대한 주제)  \n",
       "11  Android 개발 (개발 기초 혹은 발전적인 Unit Testing 등에 대한 주...  \n",
       "14  Android 개발 (개발 기초 혹은 발전적인 Unit Testing 등에 대한 주...  \n",
       "15  Android 개발 (개발 기초 혹은 발전적인 Unit Testing 등에 대한 주...  \n",
       "16  Android 개발 (개발 기초 혹은 발전적인 Unit Testing 등에 대한 주...  \n",
       "17  Android 개발 (개발 기초 혹은 발전적인 Unit Testing 등에 대한 주...  \n",
       "22  Android 개발 (개발 기초 혹은 발전적인 Unit Testing 등에 대한 주...  \n",
       "26  Android 개발 (개발 기초 혹은 발전적인 Unit Testing 등에 대한 주...  \n",
       "30  Android 개발 (개발 기초 혹은 발전적인 Unit Testing 등에 대한 주...  \n",
       "33  Android 개발 (개발 기초 혹은 발전적인 Unit Testing 등에 대한 주...  \n",
       "35  Android 개발 (개발 기초 혹은 발전적인 Unit Testing 등에 대한 주...  \n",
       "43  Android 개발 (개발 기초 혹은 발전적인 Unit Testing 등에 대한 주...  \n",
       "45   Android 개발 (개발 기초 혹은 발전적인 Unit Testing 등에 대한 주제)  "
      ]
     },
     "execution_count": 72,
     "metadata": {},
     "output_type": "execute_result"
    }
   ],
   "source": [
    "android_study_df"
   ]
  },
  {
   "cell_type": "markdown",
   "metadata": {},
   "source": [
    "### 장고 스터디 수요자 정보"
   ]
  },
  {
   "cell_type": "code",
   "execution_count": 73,
   "metadata": {
    "collapsed": false
   },
   "outputs": [
    {
     "data": {
      "text/html": [
       "<div>\n",
       "<table border=\"1\" class=\"dataframe\">\n",
       "  <thead>\n",
       "    <tr style=\"text-align: right;\">\n",
       "      <th></th>\n",
       "      <th>타임스탬프</th>\n",
       "      <th>이름</th>\n",
       "      <th>이메일 주소</th>\n",
       "      <th>참여하고자하는 스터디 혹은 원하는 스터디</th>\n",
       "    </tr>\n",
       "  </thead>\n",
       "  <tbody>\n",
       "    <tr>\n",
       "      <th>0</th>\n",
       "      <td>2016/08/31 11:45:37 오후 GMT+9</td>\n",
       "      <td>손창우</td>\n",
       "      <td>scw422@korea.ac.kr</td>\n",
       "      <td>Android 개발 (개발 기초 혹은 발전적인 Unit Testing 등에 대한 주...</td>\n",
       "    </tr>\n",
       "    <tr>\n",
       "      <th>2</th>\n",
       "      <td>2016/08/31 11:47:30 오후 GMT+9</td>\n",
       "      <td>조승완</td>\n",
       "      <td>wh7923@gmail.com</td>\n",
       "      <td>Python 및 Django (Backend);Python을 이용한 TensorFlow</td>\n",
       "    </tr>\n",
       "    <tr>\n",
       "      <th>4</th>\n",
       "      <td>2016/08/31 11:54:38 오후 GMT+9</td>\n",
       "      <td>윤도일</td>\n",
       "      <td>ttotto3080@gmail.com</td>\n",
       "      <td>Python 및 Django (Backend);Python을 이용한 TensorFlow</td>\n",
       "    </tr>\n",
       "    <tr>\n",
       "      <th>12</th>\n",
       "      <td>2016/09/01 12:21:59 오전 GMT+9</td>\n",
       "      <td>주승환</td>\n",
       "      <td>tmdghks584@gmail.com</td>\n",
       "      <td>Python 및 Django (Backend)</td>\n",
       "    </tr>\n",
       "    <tr>\n",
       "      <th>16</th>\n",
       "      <td>2016/09/01 2:11:31 오전 GMT+9</td>\n",
       "      <td>김보운</td>\n",
       "      <td>haioer@naver.com</td>\n",
       "      <td>Android 개발 (개발 기초 혹은 발전적인 Unit Testing 등에 대한 주...</td>\n",
       "    </tr>\n",
       "    <tr>\n",
       "      <th>17</th>\n",
       "      <td>2016/09/01 3:13:56 오전 GMT+9</td>\n",
       "      <td>이수정</td>\n",
       "      <td>cubeclock94@gmail.com</td>\n",
       "      <td>Android 개발 (개발 기초 혹은 발전적인 Unit Testing 등에 대한 주...</td>\n",
       "    </tr>\n",
       "    <tr>\n",
       "      <th>20</th>\n",
       "      <td>2016/09/01 7:40:19 오전 GMT+9</td>\n",
       "      <td>소윤상</td>\n",
       "      <td>yooncobra@gmail.com</td>\n",
       "      <td>Python 및 Django (Backend);프론트엔드 (HTML5, CSS, J...</td>\n",
       "    </tr>\n",
       "    <tr>\n",
       "      <th>24</th>\n",
       "      <td>2016/09/01 9:48:37 오전 GMT+9</td>\n",
       "      <td>김동희</td>\n",
       "      <td>opklnm102@gmail.com</td>\n",
       "      <td>Python 및 Django (Backend);알고리즘 및 코딩 인터뷰 스터디</td>\n",
       "    </tr>\n",
       "    <tr>\n",
       "      <th>30</th>\n",
       "      <td>2016/09/01 12:46:10 오후 GMT+9</td>\n",
       "      <td>김현우</td>\n",
       "      <td>skywalker2316@gmail.com</td>\n",
       "      <td>Android 개발 (개발 기초 혹은 발전적인 Unit Testing 등에 대한 주...</td>\n",
       "    </tr>\n",
       "    <tr>\n",
       "      <th>34</th>\n",
       "      <td>2016/09/01 1:58:17 오후 GMT+9</td>\n",
       "      <td>이의령</td>\n",
       "      <td>urleee@naver.com</td>\n",
       "      <td>Python 및 Django (Backend);Python을 이용한 TensorFl...</td>\n",
       "    </tr>\n",
       "    <tr>\n",
       "      <th>35</th>\n",
       "      <td>2016/09/01 3:32:57 오후 GMT+9</td>\n",
       "      <td>최효원</td>\n",
       "      <td>popopowon@naver.com</td>\n",
       "      <td>Android 개발 (개발 기초 혹은 발전적인 Unit Testing 등에 대한 주...</td>\n",
       "    </tr>\n",
       "    <tr>\n",
       "      <th>36</th>\n",
       "      <td>2016/09/01 4:13:07 오후 GMT+9</td>\n",
       "      <td>조용장</td>\n",
       "      <td>jyj3312@gmail.com</td>\n",
       "      <td>Python 및 Django (Backend);Python을 이용한 TensorFl...</td>\n",
       "    </tr>\n",
       "    <tr>\n",
       "      <th>40</th>\n",
       "      <td>2016/09/01 6:25:08 오후 GMT+9</td>\n",
       "      <td>김다혜</td>\n",
       "      <td>dahyek24@gmail.com</td>\n",
       "      <td>Python 및 Django (Backend);알고리즘 및 코딩 인터뷰 스터디</td>\n",
       "    </tr>\n",
       "    <tr>\n",
       "      <th>41</th>\n",
       "      <td>2016/09/01 6:39:44 오후 GMT+9</td>\n",
       "      <td>서혜준</td>\n",
       "      <td>hjsuh01@gmail.com</td>\n",
       "      <td>Python 및 Django (Backend);알고리즘 및 코딩 인터뷰 스터디;머신...</td>\n",
       "    </tr>\n",
       "    <tr>\n",
       "      <th>42</th>\n",
       "      <td>2016/09/01 6:40:05 오후 GMT+9</td>\n",
       "      <td>김현으</td>\n",
       "      <td>kimhyunwoo8888@gmail.com</td>\n",
       "      <td>Python 및 Django (Backend);Python을 이용한 TensorFl...</td>\n",
       "    </tr>\n",
       "    <tr>\n",
       "      <th>48</th>\n",
       "      <td>2016/09/01 10:23:34 오후 GMT+9</td>\n",
       "      <td>모준서</td>\n",
       "      <td>mojunseo49@naver.com</td>\n",
       "      <td>Python 및 Django (Backend);Python을 이용한 TensorFl...</td>\n",
       "    </tr>\n",
       "    <tr>\n",
       "      <th>49</th>\n",
       "      <td>2016/09/01 11:07:50 오후 GMT+9</td>\n",
       "      <td>황나윤</td>\n",
       "      <td>matilda38@naver.com</td>\n",
       "      <td>Python 및 Django (Backend);알고리즘 및 코딩 인터뷰 스터디</td>\n",
       "    </tr>\n",
       "    <tr>\n",
       "      <th>50</th>\n",
       "      <td>2016/09/01 11:57:51 오후 GMT+9</td>\n",
       "      <td>박일권</td>\n",
       "      <td>dlfrnjs0915@gmail.com</td>\n",
       "      <td>Python 및 Django (Backend);Python을 이용한 TensorFlow</td>\n",
       "    </tr>\n",
       "    <tr>\n",
       "      <th>53</th>\n",
       "      <td>2016/09/02 12:43:30 오전 GMT+9</td>\n",
       "      <td>이재영</td>\n",
       "      <td>w22ee1@naver.com</td>\n",
       "      <td>Python 및 Django (Backend);알고리즘 및 코딩 인터뷰 스터디</td>\n",
       "    </tr>\n",
       "  </tbody>\n",
       "</table>\n",
       "</div>"
      ],
      "text/plain": [
       "                           타임스탬프   이름                    이메일 주소  \\\n",
       "0   2016/08/31 11:45:37 오후 GMT+9  손창우        scw422@korea.ac.kr   \n",
       "2   2016/08/31 11:47:30 오후 GMT+9  조승완          wh7923@gmail.com   \n",
       "4   2016/08/31 11:54:38 오후 GMT+9  윤도일      ttotto3080@gmail.com   \n",
       "12  2016/09/01 12:21:59 오전 GMT+9  주승환      tmdghks584@gmail.com   \n",
       "16   2016/09/01 2:11:31 오전 GMT+9  김보운          haioer@naver.com   \n",
       "17   2016/09/01 3:13:56 오전 GMT+9  이수정     cubeclock94@gmail.com   \n",
       "20   2016/09/01 7:40:19 오전 GMT+9  소윤상       yooncobra@gmail.com   \n",
       "24   2016/09/01 9:48:37 오전 GMT+9  김동희       opklnm102@gmail.com   \n",
       "30  2016/09/01 12:46:10 오후 GMT+9  김현우   skywalker2316@gmail.com   \n",
       "34   2016/09/01 1:58:17 오후 GMT+9  이의령          urleee@naver.com   \n",
       "35   2016/09/01 3:32:57 오후 GMT+9  최효원       popopowon@naver.com   \n",
       "36   2016/09/01 4:13:07 오후 GMT+9  조용장         jyj3312@gmail.com   \n",
       "40   2016/09/01 6:25:08 오후 GMT+9  김다혜        dahyek24@gmail.com   \n",
       "41   2016/09/01 6:39:44 오후 GMT+9  서혜준         hjsuh01@gmail.com   \n",
       "42   2016/09/01 6:40:05 오후 GMT+9  김현으  kimhyunwoo8888@gmail.com   \n",
       "48  2016/09/01 10:23:34 오후 GMT+9  모준서      mojunseo49@naver.com   \n",
       "49  2016/09/01 11:07:50 오후 GMT+9  황나윤       matilda38@naver.com   \n",
       "50  2016/09/01 11:57:51 오후 GMT+9  박일권     dlfrnjs0915@gmail.com   \n",
       "53  2016/09/02 12:43:30 오전 GMT+9  이재영          w22ee1@naver.com   \n",
       "\n",
       "                               참여하고자하는 스터디 혹은 원하는 스터디  \n",
       "0   Android 개발 (개발 기초 혹은 발전적인 Unit Testing 등에 대한 주...  \n",
       "2    Python 및 Django (Backend);Python을 이용한 TensorFlow  \n",
       "4    Python 및 Django (Backend);Python을 이용한 TensorFlow  \n",
       "12                          Python 및 Django (Backend)  \n",
       "16  Android 개발 (개발 기초 혹은 발전적인 Unit Testing 등에 대한 주...  \n",
       "17  Android 개발 (개발 기초 혹은 발전적인 Unit Testing 등에 대한 주...  \n",
       "20  Python 및 Django (Backend);프론트엔드 (HTML5, CSS, J...  \n",
       "24        Python 및 Django (Backend);알고리즘 및 코딩 인터뷰 스터디  \n",
       "30  Android 개발 (개발 기초 혹은 발전적인 Unit Testing 등에 대한 주...  \n",
       "34  Python 및 Django (Backend);Python을 이용한 TensorFl...  \n",
       "35  Android 개발 (개발 기초 혹은 발전적인 Unit Testing 등에 대한 주...  \n",
       "36  Python 및 Django (Backend);Python을 이용한 TensorFl...  \n",
       "40        Python 및 Django (Backend);알고리즘 및 코딩 인터뷰 스터디  \n",
       "41  Python 및 Django (Backend);알고리즘 및 코딩 인터뷰 스터디;머신...  \n",
       "42  Python 및 Django (Backend);Python을 이용한 TensorFl...  \n",
       "48  Python 및 Django (Backend);Python을 이용한 TensorFl...  \n",
       "49        Python 및 Django (Backend);알고리즘 및 코딩 인터뷰 스터디  \n",
       "50   Python 및 Django (Backend);Python을 이용한 TensorFlow  \n",
       "53        Python 및 Django (Backend);알고리즘 및 코딩 인터뷰 스터디  "
      ]
     },
     "execution_count": 73,
     "metadata": {},
     "output_type": "execute_result"
    }
   ],
   "source": [
    "django_study_df"
   ]
  },
  {
   "cell_type": "markdown",
   "metadata": {},
   "source": [
    "### TensorFlow 스터디 수요자 정보"
   ]
  },
  {
   "cell_type": "code",
   "execution_count": 74,
   "metadata": {
    "collapsed": false
   },
   "outputs": [
    {
     "data": {
      "text/html": [
       "<div>\n",
       "<table border=\"1\" class=\"dataframe\">\n",
       "  <thead>\n",
       "    <tr style=\"text-align: right;\">\n",
       "      <th></th>\n",
       "      <th>타임스탬프</th>\n",
       "      <th>이름</th>\n",
       "      <th>이메일 주소</th>\n",
       "      <th>참여하고자하는 스터디 혹은 원하는 스터디</th>\n",
       "    </tr>\n",
       "  </thead>\n",
       "  <tbody>\n",
       "    <tr>\n",
       "      <th>1</th>\n",
       "      <td>2016/08/31 11:46:52 오후 GMT+9</td>\n",
       "      <td>김명준</td>\n",
       "      <td>kimmj8409@gmail.com</td>\n",
       "      <td>Python을 이용한 TensorFlow</td>\n",
       "    </tr>\n",
       "    <tr>\n",
       "      <th>2</th>\n",
       "      <td>2016/08/31 11:47:30 오후 GMT+9</td>\n",
       "      <td>조승완</td>\n",
       "      <td>wh7923@gmail.com</td>\n",
       "      <td>Python 및 Django (Backend);Python을 이용한 TensorFlow</td>\n",
       "    </tr>\n",
       "    <tr>\n",
       "      <th>4</th>\n",
       "      <td>2016/08/31 11:54:38 오후 GMT+9</td>\n",
       "      <td>윤도일</td>\n",
       "      <td>ttotto3080@gmail.com</td>\n",
       "      <td>Python 및 Django (Backend);Python을 이용한 TensorFlow</td>\n",
       "    </tr>\n",
       "    <tr>\n",
       "      <th>7</th>\n",
       "      <td>2016/09/01 12:01:26 오전 GMT+9</td>\n",
       "      <td>오정민</td>\n",
       "      <td>sgm02186@naver.com</td>\n",
       "      <td>Python을 이용한 TensorFlow</td>\n",
       "    </tr>\n",
       "    <tr>\n",
       "      <th>10</th>\n",
       "      <td>2016/09/01 12:05:49 오전 GMT+9</td>\n",
       "      <td>한바환</td>\n",
       "      <td>beingbook@gmail.com</td>\n",
       "      <td>Python을 이용한 TensorFlow;알고리즘 및 코딩 인터뷰 스터디</td>\n",
       "    </tr>\n",
       "    <tr>\n",
       "      <th>11</th>\n",
       "      <td>2016/09/01 12:19:57 오전 GMT+9</td>\n",
       "      <td>임정아</td>\n",
       "      <td>wjddkdml1124@naver.com</td>\n",
       "      <td>Android 개발 (개발 기초 혹은 발전적인 Unit Testing 등에 대한 주...</td>\n",
       "    </tr>\n",
       "    <tr>\n",
       "      <th>27</th>\n",
       "      <td>2016/09/01 11:11:28 오전 GMT+9</td>\n",
       "      <td>김태현</td>\n",
       "      <td>kgyoo8232@gmail.com</td>\n",
       "      <td>Python을 이용한 TensorFlow;알고리즘 및 코딩 인터뷰 스터디</td>\n",
       "    </tr>\n",
       "    <tr>\n",
       "      <th>30</th>\n",
       "      <td>2016/09/01 12:46:10 오후 GMT+9</td>\n",
       "      <td>김현우</td>\n",
       "      <td>skywalker2316@gmail.com</td>\n",
       "      <td>Android 개발 (개발 기초 혹은 발전적인 Unit Testing 등에 대한 주...</td>\n",
       "    </tr>\n",
       "    <tr>\n",
       "      <th>34</th>\n",
       "      <td>2016/09/01 1:58:17 오후 GMT+9</td>\n",
       "      <td>이의령</td>\n",
       "      <td>urleee@naver.com</td>\n",
       "      <td>Python 및 Django (Backend);Python을 이용한 TensorFl...</td>\n",
       "    </tr>\n",
       "    <tr>\n",
       "      <th>36</th>\n",
       "      <td>2016/09/01 4:13:07 오후 GMT+9</td>\n",
       "      <td>조용장</td>\n",
       "      <td>jyj3312@gmail.com</td>\n",
       "      <td>Python 및 Django (Backend);Python을 이용한 TensorFl...</td>\n",
       "    </tr>\n",
       "    <tr>\n",
       "      <th>38</th>\n",
       "      <td>2016/09/01 6:09:32 오후 GMT+9</td>\n",
       "      <td>정광수</td>\n",
       "      <td>clax1412@outlook.com</td>\n",
       "      <td>Python을 이용한 TensorFlow;알고리즘 및 코딩 인터뷰 스터디</td>\n",
       "    </tr>\n",
       "    <tr>\n",
       "      <th>42</th>\n",
       "      <td>2016/09/01 6:40:05 오후 GMT+9</td>\n",
       "      <td>김현으</td>\n",
       "      <td>kimhyunwoo8888@gmail.com</td>\n",
       "      <td>Python 및 Django (Backend);Python을 이용한 TensorFl...</td>\n",
       "    </tr>\n",
       "    <tr>\n",
       "      <th>48</th>\n",
       "      <td>2016/09/01 10:23:34 오후 GMT+9</td>\n",
       "      <td>모준서</td>\n",
       "      <td>mojunseo49@naver.com</td>\n",
       "      <td>Python 및 Django (Backend);Python을 이용한 TensorFl...</td>\n",
       "    </tr>\n",
       "    <tr>\n",
       "      <th>50</th>\n",
       "      <td>2016/09/01 11:57:51 오후 GMT+9</td>\n",
       "      <td>박일권</td>\n",
       "      <td>dlfrnjs0915@gmail.com</td>\n",
       "      <td>Python 및 Django (Backend);Python을 이용한 TensorFlow</td>\n",
       "    </tr>\n",
       "    <tr>\n",
       "      <th>54</th>\n",
       "      <td>2016/09/02 10:10:28 오전 GMT+9</td>\n",
       "      <td>진겸</td>\n",
       "      <td>tost8295@gmail.om</td>\n",
       "      <td>Python을 이용한 TensorFlow;프론트엔드 (HTML5, CSS, JS, ...</td>\n",
       "    </tr>\n",
       "  </tbody>\n",
       "</table>\n",
       "</div>"
      ],
      "text/plain": [
       "                           타임스탬프   이름                    이메일 주소  \\\n",
       "1   2016/08/31 11:46:52 오후 GMT+9  김명준       kimmj8409@gmail.com   \n",
       "2   2016/08/31 11:47:30 오후 GMT+9  조승완          wh7923@gmail.com   \n",
       "4   2016/08/31 11:54:38 오후 GMT+9  윤도일      ttotto3080@gmail.com   \n",
       "7   2016/09/01 12:01:26 오전 GMT+9  오정민        sgm02186@naver.com   \n",
       "10  2016/09/01 12:05:49 오전 GMT+9  한바환       beingbook@gmail.com   \n",
       "11  2016/09/01 12:19:57 오전 GMT+9  임정아    wjddkdml1124@naver.com   \n",
       "27  2016/09/01 11:11:28 오전 GMT+9  김태현       kgyoo8232@gmail.com   \n",
       "30  2016/09/01 12:46:10 오후 GMT+9  김현우   skywalker2316@gmail.com   \n",
       "34   2016/09/01 1:58:17 오후 GMT+9  이의령          urleee@naver.com   \n",
       "36   2016/09/01 4:13:07 오후 GMT+9  조용장         jyj3312@gmail.com   \n",
       "38   2016/09/01 6:09:32 오후 GMT+9  정광수      clax1412@outlook.com   \n",
       "42   2016/09/01 6:40:05 오후 GMT+9  김현으  kimhyunwoo8888@gmail.com   \n",
       "48  2016/09/01 10:23:34 오후 GMT+9  모준서      mojunseo49@naver.com   \n",
       "50  2016/09/01 11:57:51 오후 GMT+9  박일권     dlfrnjs0915@gmail.com   \n",
       "54  2016/09/02 10:10:28 오전 GMT+9   진겸         tost8295@gmail.om   \n",
       "\n",
       "                               참여하고자하는 스터디 혹은 원하는 스터디  \n",
       "1                              Python을 이용한 TensorFlow  \n",
       "2    Python 및 Django (Backend);Python을 이용한 TensorFlow  \n",
       "4    Python 및 Django (Backend);Python을 이용한 TensorFlow  \n",
       "7                              Python을 이용한 TensorFlow  \n",
       "10           Python을 이용한 TensorFlow;알고리즘 및 코딩 인터뷰 스터디  \n",
       "11  Android 개발 (개발 기초 혹은 발전적인 Unit Testing 등에 대한 주...  \n",
       "27           Python을 이용한 TensorFlow;알고리즘 및 코딩 인터뷰 스터디  \n",
       "30  Android 개발 (개발 기초 혹은 발전적인 Unit Testing 등에 대한 주...  \n",
       "34  Python 및 Django (Backend);Python을 이용한 TensorFl...  \n",
       "36  Python 및 Django (Backend);Python을 이용한 TensorFl...  \n",
       "38           Python을 이용한 TensorFlow;알고리즘 및 코딩 인터뷰 스터디  \n",
       "42  Python 및 Django (Backend);Python을 이용한 TensorFl...  \n",
       "48  Python 및 Django (Backend);Python을 이용한 TensorFl...  \n",
       "50   Python 및 Django (Backend);Python을 이용한 TensorFlow  \n",
       "54  Python을 이용한 TensorFlow;프론트엔드 (HTML5, CSS, JS, ...  "
      ]
     },
     "execution_count": 74,
     "metadata": {},
     "output_type": "execute_result"
    }
   ],
   "source": [
    "tensorflow_study_df"
   ]
  },
  {
   "cell_type": "code",
   "execution_count": 217,
   "metadata": {
    "collapsed": true
   },
   "outputs": [],
   "source": [
    "import matplotlib.pyplot as plt\n",
    "%matplotlib inline\n",
    "plt.rc('font', family='AppleGothic')"
   ]
  },
  {
   "cell_type": "code",
   "execution_count": 82,
   "metadata": {
    "collapsed": false
   },
   "outputs": [
    {
     "data": {
      "text/plain": [
       "15"
      ]
     },
     "execution_count": 82,
     "metadata": {},
     "output_type": "execute_result"
    }
   ],
   "source": [
    "tensorflow_study_df.shape[0]"
   ]
  },
  {
   "cell_type": "code",
   "execution_count": 91,
   "metadata": {
    "collapsed": true
   },
   "outputs": [],
   "source": [
    "study_df_list = [android_study_df, django_study_df, tensorflow_study_df, frontend_study_df ,uiux_study_df ,algo_study_df,design_study_df]"
   ]
  },
  {
   "cell_type": "code",
   "execution_count": 93,
   "metadata": {
    "collapsed": false
   },
   "outputs": [],
   "source": [
    "name_list = study_df['이름'].tolist()"
   ]
  },
  {
   "cell_type": "code",
   "execution_count": 132,
   "metadata": {
    "collapsed": false
   },
   "outputs": [],
   "source": [
    "name_dict = dict(zip(name_list, np.zeros(len(name_list), dtype=int)))"
   ]
  },
  {
   "cell_type": "code",
   "execution_count": 133,
   "metadata": {
    "collapsed": false
   },
   "outputs": [
    {
     "data": {
      "text/plain": [
       "True"
      ]
     },
     "execution_count": 133,
     "metadata": {},
     "output_type": "execute_result"
    }
   ],
   "source": [
    "'임정아' in tensorflow_study_df['이름'].tolist()"
   ]
  },
  {
   "cell_type": "code",
   "execution_count": 134,
   "metadata": {
    "collapsed": false
   },
   "outputs": [],
   "source": [
    "def fill_name_topic_num_dict(n_dict, n_list, s_df_list):\n",
    "    for each_df in s_df_list:\n",
    "        for each_name in n_list:\n",
    "            if each_name in each_df['이름'].tolist():\n",
    "                n_dict[each_name] = n_dict[each_name] + 1\n",
    "    \n",
    "    return n_dict"
   ]
  },
  {
   "cell_type": "code",
   "execution_count": 135,
   "metadata": {
    "collapsed": false
   },
   "outputs": [],
   "source": [
    "name_dict = fill_name_topic_num_dict(name_dict, name_list, study_df_list)"
   ]
  },
  {
   "cell_type": "code",
   "execution_count": 136,
   "metadata": {
    "collapsed": false
   },
   "outputs": [
    {
     "data": {
      "text/plain": [
       "{'강형석': 1,\n",
       " '김기연': 2,\n",
       " '김나연': 1,\n",
       " '김다혜': 2,\n",
       " '김대규': 1,\n",
       " '김대호': 3,\n",
       " '김동희': 2,\n",
       " '김명준': 1,\n",
       " '김민지': 2,\n",
       " '김보운': 3,\n",
       " '김영준': 1,\n",
       " '김지윤': 1,\n",
       " '김지현': 2,\n",
       " '김진현': 2,\n",
       " '김태현': 2,\n",
       " '김현우': 3,\n",
       " '김현으': 3,\n",
       " '김혜민': 1,\n",
       " '김혜지': 2,\n",
       " '나하나': 1,\n",
       " '모준서': 4,\n",
       " '박민숙 ': 2,\n",
       " '박일권': 2,\n",
       " '박혜림': 3,\n",
       " '서계원': 1,\n",
       " '서혜준': 2,\n",
       " '소윤상': 3,\n",
       " '소재은': 2,\n",
       " '손창우': 3,\n",
       " '신수연': 2,\n",
       " '오정민': 1,\n",
       " '왕소정': 4,\n",
       " '윤도일': 2,\n",
       " '윤민지': 2,\n",
       " '이동규': 8,\n",
       " '이수정': 3,\n",
       " '이의령': 3,\n",
       " '이재영': 2,\n",
       " '이지윤': 3,\n",
       " '임수진': 1,\n",
       " '임정아': 2,\n",
       " '정광수': 2,\n",
       " '정혜린': 1,\n",
       " '정호일': 2,\n",
       " '조민서': 2,\n",
       " '조승완': 2,\n",
       " '조용장': 3,\n",
       " '주승환': 1,\n",
       " '진겸': 3,\n",
       " '최다은': 2,\n",
       " '최효원': 3,\n",
       " '한명수': 2,\n",
       " '한바환': 2,\n",
       " '황나윤': 2}"
      ]
     },
     "execution_count": 136,
     "metadata": {},
     "output_type": "execute_result"
    }
   ],
   "source": [
    "name_dict"
   ]
  },
  {
   "cell_type": "code",
   "execution_count": 186,
   "metadata": {
    "collapsed": true
   },
   "outputs": [],
   "source": [
    "name_value_list = [name_dict[x] for x in name_dict.keys()]"
   ]
  },
  {
   "cell_type": "code",
   "execution_count": 192,
   "metadata": {
    "collapsed": false
   },
   "outputs": [
    {
     "name": "stdout",
     "output_type": "stream",
     "text": [
      "54\n"
     ]
    }
   ],
   "source": [
    "name_key_list = []\n",
    "for x in name_dict.keys():\n",
    "    name_key_list.append(x)\n",
    "\n",
    "print(len(name_key_list))"
   ]
  },
  {
   "cell_type": "code",
   "execution_count": 219,
   "metadata": {
    "collapsed": false
   },
   "outputs": [],
   "source": [
    "data = {'name':name_key_list, 'count':name_value_list}"
   ]
  },
  {
   "cell_type": "code",
   "execution_count": 220,
   "metadata": {
    "collapsed": false
   },
   "outputs": [],
   "source": [
    "name_df = pd.DataFrame(data)"
   ]
  },
  {
   "cell_type": "code",
   "execution_count": 221,
   "metadata": {
    "collapsed": false
   },
   "outputs": [
    {
     "data": {
      "text/html": [
       "<div>\n",
       "<table border=\"1\" class=\"dataframe\">\n",
       "  <thead>\n",
       "    <tr style=\"text-align: right;\">\n",
       "      <th></th>\n",
       "      <th>count</th>\n",
       "      <th>name</th>\n",
       "    </tr>\n",
       "  </thead>\n",
       "  <tbody>\n",
       "    <tr>\n",
       "      <th>0</th>\n",
       "      <td>2</td>\n",
       "      <td>김혜지</td>\n",
       "    </tr>\n",
       "    <tr>\n",
       "      <th>1</th>\n",
       "      <td>2</td>\n",
       "      <td>윤도일</td>\n",
       "    </tr>\n",
       "    <tr>\n",
       "      <th>2</th>\n",
       "      <td>1</td>\n",
       "      <td>김대규</td>\n",
       "    </tr>\n",
       "    <tr>\n",
       "      <th>3</th>\n",
       "      <td>3</td>\n",
       "      <td>이의령</td>\n",
       "    </tr>\n",
       "    <tr>\n",
       "      <th>4</th>\n",
       "      <td>2</td>\n",
       "      <td>박일권</td>\n",
       "    </tr>\n",
       "  </tbody>\n",
       "</table>\n",
       "</div>"
      ],
      "text/plain": [
       "   count name\n",
       "0      2  김혜지\n",
       "1      2  윤도일\n",
       "2      1  김대규\n",
       "3      3  이의령\n",
       "4      2  박일권"
      ]
     },
     "execution_count": 221,
     "metadata": {},
     "output_type": "execute_result"
    }
   ],
   "source": [
    "name_df.head(5)"
   ]
  },
  {
   "cell_type": "code",
   "execution_count": 222,
   "metadata": {
    "collapsed": false
   },
   "outputs": [
    {
     "data": {
      "text/plain": [
       "[<matplotlib.text.Text at 0x1111a9748>,\n",
       " <matplotlib.text.Text at 0x110d58a58>,\n",
       " <matplotlib.text.Text at 0x111637470>,\n",
       " <matplotlib.text.Text at 0x111637e80>,\n",
       " <matplotlib.text.Text at 0x11163c8d0>,\n",
       " <matplotlib.text.Text at 0x11163f320>,\n",
       " <matplotlib.text.Text at 0x11163fd30>,\n",
       " <matplotlib.text.Text at 0x111643780>,\n",
       " <matplotlib.text.Text at 0x111569828>,\n",
       " <matplotlib.text.Text at 0x11164e2e8>,\n",
       " <matplotlib.text.Text at 0x11164eef0>,\n",
       " <matplotlib.text.Text at 0x111653940>,\n",
       " <matplotlib.text.Text at 0x11163f1d0>,\n",
       " <matplotlib.text.Text at 0x111656518>,\n",
       " <matplotlib.text.Text at 0x111656f28>,\n",
       " <matplotlib.text.Text at 0x11165a978>,\n",
       " <matplotlib.text.Text at 0x11165f3c8>,\n",
       " <matplotlib.text.Text at 0x11165fdd8>,\n",
       " <matplotlib.text.Text at 0x111662828>,\n",
       " <matplotlib.text.Text at 0x111666278>,\n",
       " <matplotlib.text.Text at 0x111666c88>,\n",
       " <matplotlib.text.Text at 0x11166a6d8>,\n",
       " <matplotlib.text.Text at 0x11166d128>,\n",
       " <matplotlib.text.Text at 0x11166db38>,\n",
       " <matplotlib.text.Text at 0x111672588>,\n",
       " <matplotlib.text.Text at 0x111672f98>,\n",
       " <matplotlib.text.Text at 0x1116769e8>,\n",
       " <matplotlib.text.Text at 0x111679438>,\n",
       " <matplotlib.text.Text at 0x111679e48>,\n",
       " <matplotlib.text.Text at 0x11167e898>,\n",
       " <matplotlib.text.Text at 0x1116812e8>,\n",
       " <matplotlib.text.Text at 0x111681cf8>,\n",
       " <matplotlib.text.Text at 0x111685748>,\n",
       " <matplotlib.text.Text at 0x11168a198>,\n",
       " <matplotlib.text.Text at 0x11168aba8>,\n",
       " <matplotlib.text.Text at 0x11168e5f8>,\n",
       " <matplotlib.text.Text at 0x111693048>,\n",
       " <matplotlib.text.Text at 0x111693a58>,\n",
       " <matplotlib.text.Text at 0x1116974a8>,\n",
       " <matplotlib.text.Text at 0x111697eb8>,\n",
       " <matplotlib.text.Text at 0x11169c908>,\n",
       " <matplotlib.text.Text at 0x11169f358>,\n",
       " <matplotlib.text.Text at 0x11169fd68>,\n",
       " <matplotlib.text.Text at 0x111647be0>,\n",
       " <matplotlib.text.Text at 0x111637e48>,\n",
       " <matplotlib.text.Text at 0x1116a3a20>,\n",
       " <matplotlib.text.Text at 0x1116a6438>,\n",
       " <matplotlib.text.Text at 0x1116a6e48>,\n",
       " <matplotlib.text.Text at 0x1116ab898>,\n",
       " <matplotlib.text.Text at 0x1116ae2e8>,\n",
       " <matplotlib.text.Text at 0x1116aecf8>,\n",
       " <matplotlib.text.Text at 0x1116b2748>,\n",
       " <matplotlib.text.Text at 0x1116b6198>,\n",
       " <matplotlib.text.Text at 0x1116b6ba8>]"
      ]
     },
     "execution_count": 222,
     "metadata": {},
     "output_type": "execute_result"
    },
    {
     "data": {
      "image/png": "[encoded data removed]",
      "text/plain": [
       "<matplotlib.figure.Figure at 0x11117b400>"
      ]
     },
     "metadata": {},
     "output_type": "display_data"
    }
   ],
   "source": [
    "name_df.plot(kind='bar', color='blue', figsize=(15,10)).set_xticklabels(name_df.name)"
   ]
  },
  {
   "cell_type": "code",
   "execution_count": 167,
   "metadata": {
    "collapsed": false
   },
   "outputs": [
    {
     "name": "stdout",
     "output_type": "stream",
     "text": [
      "55\n",
      "54\n"
     ]
    }
   ],
   "source": [
    "n_groups = len(name_list)\n",
    "y_pos = np.arange(len(name_dict))\n",
    "print(len(name_list))\n",
    "print(len(name_dict))"
   ]
  },
  {
   "cell_type": "code",
   "execution_count": 176,
   "metadata": {
    "collapsed": false
   },
   "outputs": [
    {
     "ename": "ValueError",
     "evalue": "x and y must have same first dimension",
     "output_type": "error",
     "traceback": [
      "\u001b[0;31m---------------------------------------------------------------------------\u001b[0m",
      "\u001b[0;31mValueError\u001b[0m                                Traceback (most recent call last)",
      "\u001b[0;32m<ipython-input-176-1c3380a8e371>\u001b[0m in \u001b[0;36m<module>\u001b[0;34m()\u001b[0m\n\u001b[1;32m      1\u001b[0m \u001b[0my_pos\u001b[0m \u001b[0;34m=\u001b[0m \u001b[0mnp\u001b[0m\u001b[0;34m.\u001b[0m\u001b[0marange\u001b[0m\u001b[0;34m(\u001b[0m\u001b[0mlen\u001b[0m\u001b[0;34m(\u001b[0m\u001b[0mname_dict\u001b[0m\u001b[0;34m)\u001b[0m\u001b[0;34m)\u001b[0m\u001b[0;34m\u001b[0m\u001b[0m\n\u001b[0;32m----> 2\u001b[0;31m \u001b[0mplt\u001b[0m\u001b[0;34m.\u001b[0m\u001b[0mplot\u001b[0m\u001b[0;34m(\u001b[0m\u001b[0my_pos\u001b[0m\u001b[0;34m,\u001b[0m \u001b[0mname_dict\u001b[0m\u001b[0;34m.\u001b[0m\u001b[0mvalues\u001b[0m\u001b[0;34m(\u001b[0m\u001b[0;34m)\u001b[0m\u001b[0;34m,\u001b[0m \u001b[0;34m'r+'\u001b[0m\u001b[0;34m)\u001b[0m\u001b[0;34m\u001b[0m\u001b[0m\n\u001b[0m\u001b[1;32m      3\u001b[0m \u001b[0mplt\u001b[0m\u001b[0;34m.\u001b[0m\u001b[0mxticks\u001b[0m\u001b[0;34m(\u001b[0m\u001b[0my_pos\u001b[0m\u001b[0;34m,\u001b[0m \u001b[0mname_dict\u001b[0m\u001b[0;34m.\u001b[0m\u001b[0mkeys\u001b[0m\u001b[0;34m(\u001b[0m\u001b[0;34m)\u001b[0m\u001b[0;34m)\u001b[0m\u001b[0;34m\u001b[0m\u001b[0m\n\u001b[1;32m      4\u001b[0m \u001b[0mplt\u001b[0m\u001b[0;34m.\u001b[0m\u001b[0mshow\u001b[0m\u001b[0;34m(\u001b[0m\u001b[0;34m)\u001b[0m\u001b[0;34m\u001b[0m\u001b[0m\n",
      "\u001b[0;32m/Users/myZZUNG/myworkspace/kaggle-study/jupyter/lib/python3.5/site-packages/matplotlib/pyplot.py\u001b[0m in \u001b[0;36mplot\u001b[0;34m(*args, **kwargs)\u001b[0m\n\u001b[1;32m   3152\u001b[0m         \u001b[0max\u001b[0m\u001b[0;34m.\u001b[0m\u001b[0mhold\u001b[0m\u001b[0;34m(\u001b[0m\u001b[0mhold\u001b[0m\u001b[0;34m)\u001b[0m\u001b[0;34m\u001b[0m\u001b[0m\n\u001b[1;32m   3153\u001b[0m     \u001b[0;32mtry\u001b[0m\u001b[0;34m:\u001b[0m\u001b[0;34m\u001b[0m\u001b[0m\n\u001b[0;32m-> 3154\u001b[0;31m         \u001b[0mret\u001b[0m \u001b[0;34m=\u001b[0m \u001b[0max\u001b[0m\u001b[0;34m.\u001b[0m\u001b[0mplot\u001b[0m\u001b[0;34m(\u001b[0m\u001b[0;34m*\u001b[0m\u001b[0margs\u001b[0m\u001b[0;34m,\u001b[0m \u001b[0;34m**\u001b[0m\u001b[0mkwargs\u001b[0m\u001b[0;34m)\u001b[0m\u001b[0;34m\u001b[0m\u001b[0m\n\u001b[0m\u001b[1;32m   3155\u001b[0m     \u001b[0;32mfinally\u001b[0m\u001b[0;34m:\u001b[0m\u001b[0;34m\u001b[0m\u001b[0m\n\u001b[1;32m   3156\u001b[0m         \u001b[0max\u001b[0m\u001b[0;34m.\u001b[0m\u001b[0mhold\u001b[0m\u001b[0;34m(\u001b[0m\u001b[0mwashold\u001b[0m\u001b[0;34m)\u001b[0m\u001b[0;34m\u001b[0m\u001b[0m\n",
      "\u001b[0;32m/Users/myZZUNG/myworkspace/kaggle-study/jupyter/lib/python3.5/site-packages/matplotlib/__init__.py\u001b[0m in \u001b[0;36minner\u001b[0;34m(ax, *args, **kwargs)\u001b[0m\n\u001b[1;32m   1810\u001b[0m                     warnings.warn(msg % (label_namer, func.__name__),\n\u001b[1;32m   1811\u001b[0m                                   RuntimeWarning, stacklevel=2)\n\u001b[0;32m-> 1812\u001b[0;31m             \u001b[0;32mreturn\u001b[0m \u001b[0mfunc\u001b[0m\u001b[0;34m(\u001b[0m\u001b[0max\u001b[0m\u001b[0;34m,\u001b[0m \u001b[0;34m*\u001b[0m\u001b[0margs\u001b[0m\u001b[0;34m,\u001b[0m \u001b[0;34m**\u001b[0m\u001b[0mkwargs\u001b[0m\u001b[0;34m)\u001b[0m\u001b[0;34m\u001b[0m\u001b[0m\n\u001b[0m\u001b[1;32m   1813\u001b[0m         \u001b[0mpre_doc\u001b[0m \u001b[0;34m=\u001b[0m \u001b[0minner\u001b[0m\u001b[0;34m.\u001b[0m\u001b[0m__doc__\u001b[0m\u001b[0;34m\u001b[0m\u001b[0m\n\u001b[1;32m   1814\u001b[0m         \u001b[0;32mif\u001b[0m \u001b[0mpre_doc\u001b[0m \u001b[0;32mis\u001b[0m \u001b[0;32mNone\u001b[0m\u001b[0;34m:\u001b[0m\u001b[0;34m\u001b[0m\u001b[0m\n",
      "\u001b[0;32m/Users/myZZUNG/myworkspace/kaggle-study/jupyter/lib/python3.5/site-packages/matplotlib/axes/_axes.py\u001b[0m in \u001b[0;36mplot\u001b[0;34m(self, *args, **kwargs)\u001b[0m\n\u001b[1;32m   1422\u001b[0m             \u001b[0mkwargs\u001b[0m\u001b[0;34m[\u001b[0m\u001b[0;34m'color'\u001b[0m\u001b[0;34m]\u001b[0m \u001b[0;34m=\u001b[0m \u001b[0mc\u001b[0m\u001b[0;34m\u001b[0m\u001b[0m\n\u001b[1;32m   1423\u001b[0m \u001b[0;34m\u001b[0m\u001b[0m\n\u001b[0;32m-> 1424\u001b[0;31m         \u001b[0;32mfor\u001b[0m \u001b[0mline\u001b[0m \u001b[0;32min\u001b[0m \u001b[0mself\u001b[0m\u001b[0;34m.\u001b[0m\u001b[0m_get_lines\u001b[0m\u001b[0;34m(\u001b[0m\u001b[0;34m*\u001b[0m\u001b[0margs\u001b[0m\u001b[0;34m,\u001b[0m \u001b[0;34m**\u001b[0m\u001b[0mkwargs\u001b[0m\u001b[0;34m)\u001b[0m\u001b[0;34m:\u001b[0m\u001b[0;34m\u001b[0m\u001b[0m\n\u001b[0m\u001b[1;32m   1425\u001b[0m             \u001b[0mself\u001b[0m\u001b[0;34m.\u001b[0m\u001b[0madd_line\u001b[0m\u001b[0;34m(\u001b[0m\u001b[0mline\u001b[0m\u001b[0;34m)\u001b[0m\u001b[0;34m\u001b[0m\u001b[0m\n\u001b[1;32m   1426\u001b[0m             \u001b[0mlines\u001b[0m\u001b[0;34m.\u001b[0m\u001b[0mappend\u001b[0m\u001b[0;34m(\u001b[0m\u001b[0mline\u001b[0m\u001b[0;34m)\u001b[0m\u001b[0;34m\u001b[0m\u001b[0m\n",
      "\u001b[0;32m/Users/myZZUNG/myworkspace/kaggle-study/jupyter/lib/python3.5/site-packages/matplotlib/axes/_base.py\u001b[0m in \u001b[0;36m_grab_next_args\u001b[0;34m(self, *args, **kwargs)\u001b[0m\n\u001b[1;32m    384\u001b[0m                 \u001b[0;32mreturn\u001b[0m\u001b[0;34m\u001b[0m\u001b[0m\n\u001b[1;32m    385\u001b[0m             \u001b[0;32mif\u001b[0m \u001b[0mlen\u001b[0m\u001b[0;34m(\u001b[0m\u001b[0mremaining\u001b[0m\u001b[0;34m)\u001b[0m \u001b[0;34m<=\u001b[0m \u001b[0;36m3\u001b[0m\u001b[0;34m:\u001b[0m\u001b[0;34m\u001b[0m\u001b[0m\n\u001b[0;32m--> 386\u001b[0;31m                 \u001b[0;32mfor\u001b[0m \u001b[0mseg\u001b[0m \u001b[0;32min\u001b[0m \u001b[0mself\u001b[0m\u001b[0;34m.\u001b[0m\u001b[0m_plot_args\u001b[0m\u001b[0;34m(\u001b[0m\u001b[0mremaining\u001b[0m\u001b[0;34m,\u001b[0m \u001b[0mkwargs\u001b[0m\u001b[0;34m)\u001b[0m\u001b[0;34m:\u001b[0m\u001b[0;34m\u001b[0m\u001b[0m\n\u001b[0m\u001b[1;32m    387\u001b[0m                     \u001b[0;32myield\u001b[0m \u001b[0mseg\u001b[0m\u001b[0;34m\u001b[0m\u001b[0m\n\u001b[1;32m    388\u001b[0m                 \u001b[0;32mreturn\u001b[0m\u001b[0;34m\u001b[0m\u001b[0m\n",
      "\u001b[0;32m/Users/myZZUNG/myworkspace/kaggle-study/jupyter/lib/python3.5/site-packages/matplotlib/axes/_base.py\u001b[0m in \u001b[0;36m_plot_args\u001b[0;34m(self, tup, kwargs)\u001b[0m\n\u001b[1;32m    362\u001b[0m             \u001b[0mx\u001b[0m\u001b[0;34m,\u001b[0m \u001b[0my\u001b[0m \u001b[0;34m=\u001b[0m \u001b[0mindex_of\u001b[0m\u001b[0;34m(\u001b[0m\u001b[0mtup\u001b[0m\u001b[0;34m[\u001b[0m\u001b[0;34m-\u001b[0m\u001b[0;36m1\u001b[0m\u001b[0;34m]\u001b[0m\u001b[0;34m)\u001b[0m\u001b[0;34m\u001b[0m\u001b[0m\n\u001b[1;32m    363\u001b[0m \u001b[0;34m\u001b[0m\u001b[0m\n\u001b[0;32m--> 364\u001b[0;31m         \u001b[0mx\u001b[0m\u001b[0;34m,\u001b[0m \u001b[0my\u001b[0m \u001b[0;34m=\u001b[0m \u001b[0mself\u001b[0m\u001b[0;34m.\u001b[0m\u001b[0m_xy_from_xy\u001b[0m\u001b[0;34m(\u001b[0m\u001b[0mx\u001b[0m\u001b[0;34m,\u001b[0m \u001b[0my\u001b[0m\u001b[0;34m)\u001b[0m\u001b[0;34m\u001b[0m\u001b[0m\n\u001b[0m\u001b[1;32m    365\u001b[0m \u001b[0;34m\u001b[0m\u001b[0m\n\u001b[1;32m    366\u001b[0m         \u001b[0;32mif\u001b[0m \u001b[0mself\u001b[0m\u001b[0;34m.\u001b[0m\u001b[0mcommand\u001b[0m \u001b[0;34m==\u001b[0m \u001b[0;34m'plot'\u001b[0m\u001b[0;34m:\u001b[0m\u001b[0;34m\u001b[0m\u001b[0m\n",
      "\u001b[0;32m/Users/myZZUNG/myworkspace/kaggle-study/jupyter/lib/python3.5/site-packages/matplotlib/axes/_base.py\u001b[0m in \u001b[0;36m_xy_from_xy\u001b[0;34m(self, x, y)\u001b[0m\n\u001b[1;32m    221\u001b[0m         \u001b[0my\u001b[0m \u001b[0;34m=\u001b[0m \u001b[0m_check_1d\u001b[0m\u001b[0;34m(\u001b[0m\u001b[0my\u001b[0m\u001b[0;34m)\u001b[0m\u001b[0;34m\u001b[0m\u001b[0m\n\u001b[1;32m    222\u001b[0m         \u001b[0;32mif\u001b[0m \u001b[0mx\u001b[0m\u001b[0;34m.\u001b[0m\u001b[0mshape\u001b[0m\u001b[0;34m[\u001b[0m\u001b[0;36m0\u001b[0m\u001b[0;34m]\u001b[0m \u001b[0;34m!=\u001b[0m \u001b[0my\u001b[0m\u001b[0;34m.\u001b[0m\u001b[0mshape\u001b[0m\u001b[0;34m[\u001b[0m\u001b[0;36m0\u001b[0m\u001b[0;34m]\u001b[0m\u001b[0;34m:\u001b[0m\u001b[0;34m\u001b[0m\u001b[0m\n\u001b[0;32m--> 223\u001b[0;31m             \u001b[0;32mraise\u001b[0m \u001b[0mValueError\u001b[0m\u001b[0;34m(\u001b[0m\u001b[0;34m\"x and y must have same first dimension\"\u001b[0m\u001b[0;34m)\u001b[0m\u001b[0;34m\u001b[0m\u001b[0m\n\u001b[0m\u001b[1;32m    224\u001b[0m         \u001b[0;32mif\u001b[0m \u001b[0mx\u001b[0m\u001b[0;34m.\u001b[0m\u001b[0mndim\u001b[0m \u001b[0;34m>\u001b[0m \u001b[0;36m2\u001b[0m \u001b[0;32mor\u001b[0m \u001b[0my\u001b[0m\u001b[0;34m.\u001b[0m\u001b[0mndim\u001b[0m \u001b[0;34m>\u001b[0m \u001b[0;36m2\u001b[0m\u001b[0;34m:\u001b[0m\u001b[0;34m\u001b[0m\u001b[0m\n\u001b[1;32m    225\u001b[0m             \u001b[0;32mraise\u001b[0m \u001b[0mValueError\u001b[0m\u001b[0;34m(\u001b[0m\u001b[0;34m\"x and y can be no greater than 2-D\"\u001b[0m\u001b[0;34m)\u001b[0m\u001b[0;34m\u001b[0m\u001b[0m\n",
      "\u001b[0;31mValueError\u001b[0m: x and y must have same first dimension"
     ]
    },
    {
     "data": {
      "image/png": "[encoded data removed]",
      "text/plain": [
       "<matplotlib.figure.Figure at 0x10ed316a0>"
      ]
     },
     "metadata": {},
     "output_type": "display_data"
    }
   ],
   "source": [
    "y_pos = np.arange(len(name_dict))\n",
    "plt.plot(y_pos, name_dict.values(), 'r+')\n",
    "plt.xticks(y_pos, name_dict.keys())\n",
    "plt.show()"
   ]
  },
  {
   "cell_type": "code",
   "execution_count": 145,
   "metadata": {
    "collapsed": false
   },
   "outputs": [
    {
     "data": {
      "text/html": [
       "<div>\n",
       "<table border=\"1\" class=\"dataframe\">\n",
       "  <thead>\n",
       "    <tr style=\"text-align: right;\">\n",
       "      <th></th>\n",
       "      <th>count</th>\n",
       "      <th>name</th>\n",
       "    </tr>\n",
       "  </thead>\n",
       "  <tbody>\n",
       "    <tr>\n",
       "      <th>0</th>\n",
       "      <td>(2, 2, 1, 3, 2, 2, 2, 3, 1, 2, 2, 2, 2, 3, 1, ...</td>\n",
       "      <td>(김혜지, 윤도일, 김대규, 이의령, 박일권, 조승완, 최다은, 손창우, 오정민, ...</td>\n",
       "    </tr>\n",
       "    <tr>\n",
       "      <th>1</th>\n",
       "      <td>(2, 2, 1, 3, 2, 2, 2, 3, 1, 2, 2, 2, 2, 3, 1, ...</td>\n",
       "      <td>(김혜지, 윤도일, 김대규, 이의령, 박일권, 조승완, 최다은, 손창우, 오정민, ...</td>\n",
       "    </tr>\n",
       "    <tr>\n",
       "      <th>2</th>\n",
       "      <td>(2, 2, 1, 3, 2, 2, 2, 3, 1, 2, 2, 2, 2, 3, 1, ...</td>\n",
       "      <td>(김혜지, 윤도일, 김대규, 이의령, 박일권, 조승완, 최다은, 손창우, 오정민, ...</td>\n",
       "    </tr>\n",
       "    <tr>\n",
       "      <th>3</th>\n",
       "      <td>(2, 2, 1, 3, 2, 2, 2, 3, 1, 2, 2, 2, 2, 3, 1, ...</td>\n",
       "      <td>(김혜지, 윤도일, 김대규, 이의령, 박일권, 조승완, 최다은, 손창우, 오정민, ...</td>\n",
       "    </tr>\n",
       "    <tr>\n",
       "      <th>4</th>\n",
       "      <td>(2, 2, 1, 3, 2, 2, 2, 3, 1, 2, 2, 2, 2, 3, 1, ...</td>\n",
       "      <td>(김혜지, 윤도일, 김대규, 이의령, 박일권, 조승완, 최다은, 손창우, 오정민, ...</td>\n",
       "    </tr>\n",
       "    <tr>\n",
       "      <th>5</th>\n",
       "      <td>(2, 2, 1, 3, 2, 2, 2, 3, 1, 2, 2, 2, 2, 3, 1, ...</td>\n",
       "      <td>(김혜지, 윤도일, 김대규, 이의령, 박일권, 조승완, 최다은, 손창우, 오정민, ...</td>\n",
       "    </tr>\n",
       "    <tr>\n",
       "      <th>6</th>\n",
       "      <td>(2, 2, 1, 3, 2, 2, 2, 3, 1, 2, 2, 2, 2, 3, 1, ...</td>\n",
       "      <td>(김혜지, 윤도일, 김대규, 이의령, 박일권, 조승완, 최다은, 손창우, 오정민, ...</td>\n",
       "    </tr>\n",
       "    <tr>\n",
       "      <th>7</th>\n",
       "      <td>(2, 2, 1, 3, 2, 2, 2, 3, 1, 2, 2, 2, 2, 3, 1, ...</td>\n",
       "      <td>(김혜지, 윤도일, 김대규, 이의령, 박일권, 조승완, 최다은, 손창우, 오정민, ...</td>\n",
       "    </tr>\n",
       "    <tr>\n",
       "      <th>8</th>\n",
       "      <td>(2, 2, 1, 3, 2, 2, 2, 3, 1, 2, 2, 2, 2, 3, 1, ...</td>\n",
       "      <td>(김혜지, 윤도일, 김대규, 이의령, 박일권, 조승완, 최다은, 손창우, 오정민, ...</td>\n",
       "    </tr>\n",
       "    <tr>\n",
       "      <th>9</th>\n",
       "      <td>(2, 2, 1, 3, 2, 2, 2, 3, 1, 2, 2, 2, 2, 3, 1, ...</td>\n",
       "      <td>(김혜지, 윤도일, 김대규, 이의령, 박일권, 조승완, 최다은, 손창우, 오정민, ...</td>\n",
       "    </tr>\n",
       "    <tr>\n",
       "      <th>10</th>\n",
       "      <td>(2, 2, 1, 3, 2, 2, 2, 3, 1, 2, 2, 2, 2, 3, 1, ...</td>\n",
       "      <td>(김혜지, 윤도일, 김대규, 이의령, 박일권, 조승완, 최다은, 손창우, 오정민, ...</td>\n",
       "    </tr>\n",
       "    <tr>\n",
       "      <th>11</th>\n",
       "      <td>(2, 2, 1, 3, 2, 2, 2, 3, 1, 2, 2, 2, 2, 3, 1, ...</td>\n",
       "      <td>(김혜지, 윤도일, 김대규, 이의령, 박일권, 조승완, 최다은, 손창우, 오정민, ...</td>\n",
       "    </tr>\n",
       "    <tr>\n",
       "      <th>12</th>\n",
       "      <td>(2, 2, 1, 3, 2, 2, 2, 3, 1, 2, 2, 2, 2, 3, 1, ...</td>\n",
       "      <td>(김혜지, 윤도일, 김대규, 이의령, 박일권, 조승완, 최다은, 손창우, 오정민, ...</td>\n",
       "    </tr>\n",
       "    <tr>\n",
       "      <th>13</th>\n",
       "      <td>(2, 2, 1, 3, 2, 2, 2, 3, 1, 2, 2, 2, 2, 3, 1, ...</td>\n",
       "      <td>(김혜지, 윤도일, 김대규, 이의령, 박일권, 조승완, 최다은, 손창우, 오정민, ...</td>\n",
       "    </tr>\n",
       "    <tr>\n",
       "      <th>14</th>\n",
       "      <td>(2, 2, 1, 3, 2, 2, 2, 3, 1, 2, 2, 2, 2, 3, 1, ...</td>\n",
       "      <td>(김혜지, 윤도일, 김대규, 이의령, 박일권, 조승완, 최다은, 손창우, 오정민, ...</td>\n",
       "    </tr>\n",
       "    <tr>\n",
       "      <th>15</th>\n",
       "      <td>(2, 2, 1, 3, 2, 2, 2, 3, 1, 2, 2, 2, 2, 3, 1, ...</td>\n",
       "      <td>(김혜지, 윤도일, 김대규, 이의령, 박일권, 조승완, 최다은, 손창우, 오정민, ...</td>\n",
       "    </tr>\n",
       "    <tr>\n",
       "      <th>16</th>\n",
       "      <td>(2, 2, 1, 3, 2, 2, 2, 3, 1, 2, 2, 2, 2, 3, 1, ...</td>\n",
       "      <td>(김혜지, 윤도일, 김대규, 이의령, 박일권, 조승완, 최다은, 손창우, 오정민, ...</td>\n",
       "    </tr>\n",
       "    <tr>\n",
       "      <th>17</th>\n",
       "      <td>(2, 2, 1, 3, 2, 2, 2, 3, 1, 2, 2, 2, 2, 3, 1, ...</td>\n",
       "      <td>(김혜지, 윤도일, 김대규, 이의령, 박일권, 조승완, 최다은, 손창우, 오정민, ...</td>\n",
       "    </tr>\n",
       "    <tr>\n",
       "      <th>18</th>\n",
       "      <td>(2, 2, 1, 3, 2, 2, 2, 3, 1, 2, 2, 2, 2, 3, 1, ...</td>\n",
       "      <td>(김혜지, 윤도일, 김대규, 이의령, 박일권, 조승완, 최다은, 손창우, 오정민, ...</td>\n",
       "    </tr>\n",
       "    <tr>\n",
       "      <th>19</th>\n",
       "      <td>(2, 2, 1, 3, 2, 2, 2, 3, 1, 2, 2, 2, 2, 3, 1, ...</td>\n",
       "      <td>(김혜지, 윤도일, 김대규, 이의령, 박일권, 조승완, 최다은, 손창우, 오정민, ...</td>\n",
       "    </tr>\n",
       "    <tr>\n",
       "      <th>20</th>\n",
       "      <td>(2, 2, 1, 3, 2, 2, 2, 3, 1, 2, 2, 2, 2, 3, 1, ...</td>\n",
       "      <td>(김혜지, 윤도일, 김대규, 이의령, 박일권, 조승완, 최다은, 손창우, 오정민, ...</td>\n",
       "    </tr>\n",
       "    <tr>\n",
       "      <th>21</th>\n",
       "      <td>(2, 2, 1, 3, 2, 2, 2, 3, 1, 2, 2, 2, 2, 3, 1, ...</td>\n",
       "      <td>(김혜지, 윤도일, 김대규, 이의령, 박일권, 조승완, 최다은, 손창우, 오정민, ...</td>\n",
       "    </tr>\n",
       "    <tr>\n",
       "      <th>22</th>\n",
       "      <td>(2, 2, 1, 3, 2, 2, 2, 3, 1, 2, 2, 2, 2, 3, 1, ...</td>\n",
       "      <td>(김혜지, 윤도일, 김대규, 이의령, 박일권, 조승완, 최다은, 손창우, 오정민, ...</td>\n",
       "    </tr>\n",
       "    <tr>\n",
       "      <th>23</th>\n",
       "      <td>(2, 2, 1, 3, 2, 2, 2, 3, 1, 2, 2, 2, 2, 3, 1, ...</td>\n",
       "      <td>(김혜지, 윤도일, 김대규, 이의령, 박일권, 조승완, 최다은, 손창우, 오정민, ...</td>\n",
       "    </tr>\n",
       "    <tr>\n",
       "      <th>24</th>\n",
       "      <td>(2, 2, 1, 3, 2, 2, 2, 3, 1, 2, 2, 2, 2, 3, 1, ...</td>\n",
       "      <td>(김혜지, 윤도일, 김대규, 이의령, 박일권, 조승완, 최다은, 손창우, 오정민, ...</td>\n",
       "    </tr>\n",
       "    <tr>\n",
       "      <th>25</th>\n",
       "      <td>(2, 2, 1, 3, 2, 2, 2, 3, 1, 2, 2, 2, 2, 3, 1, ...</td>\n",
       "      <td>(김혜지, 윤도일, 김대규, 이의령, 박일권, 조승완, 최다은, 손창우, 오정민, ...</td>\n",
       "    </tr>\n",
       "    <tr>\n",
       "      <th>26</th>\n",
       "      <td>(2, 2, 1, 3, 2, 2, 2, 3, 1, 2, 2, 2, 2, 3, 1, ...</td>\n",
       "      <td>(김혜지, 윤도일, 김대규, 이의령, 박일권, 조승완, 최다은, 손창우, 오정민, ...</td>\n",
       "    </tr>\n",
       "    <tr>\n",
       "      <th>27</th>\n",
       "      <td>(2, 2, 1, 3, 2, 2, 2, 3, 1, 2, 2, 2, 2, 3, 1, ...</td>\n",
       "      <td>(김혜지, 윤도일, 김대규, 이의령, 박일권, 조승완, 최다은, 손창우, 오정민, ...</td>\n",
       "    </tr>\n",
       "    <tr>\n",
       "      <th>28</th>\n",
       "      <td>(2, 2, 1, 3, 2, 2, 2, 3, 1, 2, 2, 2, 2, 3, 1, ...</td>\n",
       "      <td>(김혜지, 윤도일, 김대규, 이의령, 박일권, 조승완, 최다은, 손창우, 오정민, ...</td>\n",
       "    </tr>\n",
       "    <tr>\n",
       "      <th>29</th>\n",
       "      <td>(2, 2, 1, 3, 2, 2, 2, 3, 1, 2, 2, 2, 2, 3, 1, ...</td>\n",
       "      <td>(김혜지, 윤도일, 김대규, 이의령, 박일권, 조승완, 최다은, 손창우, 오정민, ...</td>\n",
       "    </tr>\n",
       "    <tr>\n",
       "      <th>30</th>\n",
       "      <td>(2, 2, 1, 3, 2, 2, 2, 3, 1, 2, 2, 2, 2, 3, 1, ...</td>\n",
       "      <td>(김혜지, 윤도일, 김대규, 이의령, 박일권, 조승완, 최다은, 손창우, 오정민, ...</td>\n",
       "    </tr>\n",
       "    <tr>\n",
       "      <th>31</th>\n",
       "      <td>(2, 2, 1, 3, 2, 2, 2, 3, 1, 2, 2, 2, 2, 3, 1, ...</td>\n",
       "      <td>(김혜지, 윤도일, 김대규, 이의령, 박일권, 조승완, 최다은, 손창우, 오정민, ...</td>\n",
       "    </tr>\n",
       "    <tr>\n",
       "      <th>32</th>\n",
       "      <td>(2, 2, 1, 3, 2, 2, 2, 3, 1, 2, 2, 2, 2, 3, 1, ...</td>\n",
       "      <td>(김혜지, 윤도일, 김대규, 이의령, 박일권, 조승완, 최다은, 손창우, 오정민, ...</td>\n",
       "    </tr>\n",
       "    <tr>\n",
       "      <th>33</th>\n",
       "      <td>(2, 2, 1, 3, 2, 2, 2, 3, 1, 2, 2, 2, 2, 3, 1, ...</td>\n",
       "      <td>(김혜지, 윤도일, 김대규, 이의령, 박일권, 조승완, 최다은, 손창우, 오정민, ...</td>\n",
       "    </tr>\n",
       "    <tr>\n",
       "      <th>34</th>\n",
       "      <td>(2, 2, 1, 3, 2, 2, 2, 3, 1, 2, 2, 2, 2, 3, 1, ...</td>\n",
       "      <td>(김혜지, 윤도일, 김대규, 이의령, 박일권, 조승완, 최다은, 손창우, 오정민, ...</td>\n",
       "    </tr>\n",
       "    <tr>\n",
       "      <th>35</th>\n",
       "      <td>(2, 2, 1, 3, 2, 2, 2, 3, 1, 2, 2, 2, 2, 3, 1, ...</td>\n",
       "      <td>(김혜지, 윤도일, 김대규, 이의령, 박일권, 조승완, 최다은, 손창우, 오정민, ...</td>\n",
       "    </tr>\n",
       "    <tr>\n",
       "      <th>36</th>\n",
       "      <td>(2, 2, 1, 3, 2, 2, 2, 3, 1, 2, 2, 2, 2, 3, 1, ...</td>\n",
       "      <td>(김혜지, 윤도일, 김대규, 이의령, 박일권, 조승완, 최다은, 손창우, 오정민, ...</td>\n",
       "    </tr>\n",
       "    <tr>\n",
       "      <th>37</th>\n",
       "      <td>(2, 2, 1, 3, 2, 2, 2, 3, 1, 2, 2, 2, 2, 3, 1, ...</td>\n",
       "      <td>(김혜지, 윤도일, 김대규, 이의령, 박일권, 조승완, 최다은, 손창우, 오정민, ...</td>\n",
       "    </tr>\n",
       "    <tr>\n",
       "      <th>38</th>\n",
       "      <td>(2, 2, 1, 3, 2, 2, 2, 3, 1, 2, 2, 2, 2, 3, 1, ...</td>\n",
       "      <td>(김혜지, 윤도일, 김대규, 이의령, 박일권, 조승완, 최다은, 손창우, 오정민, ...</td>\n",
       "    </tr>\n",
       "    <tr>\n",
       "      <th>39</th>\n",
       "      <td>(2, 2, 1, 3, 2, 2, 2, 3, 1, 2, 2, 2, 2, 3, 1, ...</td>\n",
       "      <td>(김혜지, 윤도일, 김대규, 이의령, 박일권, 조승완, 최다은, 손창우, 오정민, ...</td>\n",
       "    </tr>\n",
       "    <tr>\n",
       "      <th>40</th>\n",
       "      <td>(2, 2, 1, 3, 2, 2, 2, 3, 1, 2, 2, 2, 2, 3, 1, ...</td>\n",
       "      <td>(김혜지, 윤도일, 김대규, 이의령, 박일권, 조승완, 최다은, 손창우, 오정민, ...</td>\n",
       "    </tr>\n",
       "    <tr>\n",
       "      <th>41</th>\n",
       "      <td>(2, 2, 1, 3, 2, 2, 2, 3, 1, 2, 2, 2, 2, 3, 1, ...</td>\n",
       "      <td>(김혜지, 윤도일, 김대규, 이의령, 박일권, 조승완, 최다은, 손창우, 오정민, ...</td>\n",
       "    </tr>\n",
       "    <tr>\n",
       "      <th>42</th>\n",
       "      <td>(2, 2, 1, 3, 2, 2, 2, 3, 1, 2, 2, 2, 2, 3, 1, ...</td>\n",
       "      <td>(김혜지, 윤도일, 김대규, 이의령, 박일권, 조승완, 최다은, 손창우, 오정민, ...</td>\n",
       "    </tr>\n",
       "    <tr>\n",
       "      <th>43</th>\n",
       "      <td>(2, 2, 1, 3, 2, 2, 2, 3, 1, 2, 2, 2, 2, 3, 1, ...</td>\n",
       "      <td>(김혜지, 윤도일, 김대규, 이의령, 박일권, 조승완, 최다은, 손창우, 오정민, ...</td>\n",
       "    </tr>\n",
       "    <tr>\n",
       "      <th>44</th>\n",
       "      <td>(2, 2, 1, 3, 2, 2, 2, 3, 1, 2, 2, 2, 2, 3, 1, ...</td>\n",
       "      <td>(김혜지, 윤도일, 김대규, 이의령, 박일권, 조승완, 최다은, 손창우, 오정민, ...</td>\n",
       "    </tr>\n",
       "    <tr>\n",
       "      <th>45</th>\n",
       "      <td>(2, 2, 1, 3, 2, 2, 2, 3, 1, 2, 2, 2, 2, 3, 1, ...</td>\n",
       "      <td>(김혜지, 윤도일, 김대규, 이의령, 박일권, 조승완, 최다은, 손창우, 오정민, ...</td>\n",
       "    </tr>\n",
       "    <tr>\n",
       "      <th>46</th>\n",
       "      <td>(2, 2, 1, 3, 2, 2, 2, 3, 1, 2, 2, 2, 2, 3, 1, ...</td>\n",
       "      <td>(김혜지, 윤도일, 김대규, 이의령, 박일권, 조승완, 최다은, 손창우, 오정민, ...</td>\n",
       "    </tr>\n",
       "    <tr>\n",
       "      <th>47</th>\n",
       "      <td>(2, 2, 1, 3, 2, 2, 2, 3, 1, 2, 2, 2, 2, 3, 1, ...</td>\n",
       "      <td>(김혜지, 윤도일, 김대규, 이의령, 박일권, 조승완, 최다은, 손창우, 오정민, ...</td>\n",
       "    </tr>\n",
       "    <tr>\n",
       "      <th>48</th>\n",
       "      <td>(2, 2, 1, 3, 2, 2, 2, 3, 1, 2, 2, 2, 2, 3, 1, ...</td>\n",
       "      <td>(김혜지, 윤도일, 김대규, 이의령, 박일권, 조승완, 최다은, 손창우, 오정민, ...</td>\n",
       "    </tr>\n",
       "    <tr>\n",
       "      <th>49</th>\n",
       "      <td>(2, 2, 1, 3, 2, 2, 2, 3, 1, 2, 2, 2, 2, 3, 1, ...</td>\n",
       "      <td>(김혜지, 윤도일, 김대규, 이의령, 박일권, 조승완, 최다은, 손창우, 오정민, ...</td>\n",
       "    </tr>\n",
       "    <tr>\n",
       "      <th>50</th>\n",
       "      <td>(2, 2, 1, 3, 2, 2, 2, 3, 1, 2, 2, 2, 2, 3, 1, ...</td>\n",
       "      <td>(김혜지, 윤도일, 김대규, 이의령, 박일권, 조승완, 최다은, 손창우, 오정민, ...</td>\n",
       "    </tr>\n",
       "    <tr>\n",
       "      <th>51</th>\n",
       "      <td>(2, 2, 1, 3, 2, 2, 2, 3, 1, 2, 2, 2, 2, 3, 1, ...</td>\n",
       "      <td>(김혜지, 윤도일, 김대규, 이의령, 박일권, 조승완, 최다은, 손창우, 오정민, ...</td>\n",
       "    </tr>\n",
       "    <tr>\n",
       "      <th>52</th>\n",
       "      <td>(2, 2, 1, 3, 2, 2, 2, 3, 1, 2, 2, 2, 2, 3, 1, ...</td>\n",
       "      <td>(김혜지, 윤도일, 김대규, 이의령, 박일권, 조승완, 최다은, 손창우, 오정민, ...</td>\n",
       "    </tr>\n",
       "    <tr>\n",
       "      <th>53</th>\n",
       "      <td>(2, 2, 1, 3, 2, 2, 2, 3, 1, 2, 2, 2, 2, 3, 1, ...</td>\n",
       "      <td>(김혜지, 윤도일, 김대규, 이의령, 박일권, 조승완, 최다은, 손창우, 오정민, ...</td>\n",
       "    </tr>\n",
       "  </tbody>\n",
       "</table>\n",
       "</div>"
      ],
      "text/plain": [
       "                                                count  \\\n",
       "0   (2, 2, 1, 3, 2, 2, 2, 3, 1, 2, 2, 2, 2, 3, 1, ...   \n",
       "1   (2, 2, 1, 3, 2, 2, 2, 3, 1, 2, 2, 2, 2, 3, 1, ...   \n",
       "2   (2, 2, 1, 3, 2, 2, 2, 3, 1, 2, 2, 2, 2, 3, 1, ...   \n",
       "3   (2, 2, 1, 3, 2, 2, 2, 3, 1, 2, 2, 2, 2, 3, 1, ...   \n",
       "4   (2, 2, 1, 3, 2, 2, 2, 3, 1, 2, 2, 2, 2, 3, 1, ...   \n",
       "5   (2, 2, 1, 3, 2, 2, 2, 3, 1, 2, 2, 2, 2, 3, 1, ...   \n",
       "6   (2, 2, 1, 3, 2, 2, 2, 3, 1, 2, 2, 2, 2, 3, 1, ...   \n",
       "7   (2, 2, 1, 3, 2, 2, 2, 3, 1, 2, 2, 2, 2, 3, 1, ...   \n",
       "8   (2, 2, 1, 3, 2, 2, 2, 3, 1, 2, 2, 2, 2, 3, 1, ...   \n",
       "9   (2, 2, 1, 3, 2, 2, 2, 3, 1, 2, 2, 2, 2, 3, 1, ...   \n",
       "10  (2, 2, 1, 3, 2, 2, 2, 3, 1, 2, 2, 2, 2, 3, 1, ...   \n",
       "11  (2, 2, 1, 3, 2, 2, 2, 3, 1, 2, 2, 2, 2, 3, 1, ...   \n",
       "12  (2, 2, 1, 3, 2, 2, 2, 3, 1, 2, 2, 2, 2, 3, 1, ...   \n",
       "13  (2, 2, 1, 3, 2, 2, 2, 3, 1, 2, 2, 2, 2, 3, 1, ...   \n",
       "14  (2, 2, 1, 3, 2, 2, 2, 3, 1, 2, 2, 2, 2, 3, 1, ...   \n",
       "15  (2, 2, 1, 3, 2, 2, 2, 3, 1, 2, 2, 2, 2, 3, 1, ...   \n",
       "16  (2, 2, 1, 3, 2, 2, 2, 3, 1, 2, 2, 2, 2, 3, 1, ...   \n",
       "17  (2, 2, 1, 3, 2, 2, 2, 3, 1, 2, 2, 2, 2, 3, 1, ...   \n",
       "18  (2, 2, 1, 3, 2, 2, 2, 3, 1, 2, 2, 2, 2, 3, 1, ...   \n",
       "19  (2, 2, 1, 3, 2, 2, 2, 3, 1, 2, 2, 2, 2, 3, 1, ...   \n",
       "20  (2, 2, 1, 3, 2, 2, 2, 3, 1, 2, 2, 2, 2, 3, 1, ...   \n",
       "21  (2, 2, 1, 3, 2, 2, 2, 3, 1, 2, 2, 2, 2, 3, 1, ...   \n",
       "22  (2, 2, 1, 3, 2, 2, 2, 3, 1, 2, 2, 2, 2, 3, 1, ...   \n",
       "23  (2, 2, 1, 3, 2, 2, 2, 3, 1, 2, 2, 2, 2, 3, 1, ...   \n",
       "24  (2, 2, 1, 3, 2, 2, 2, 3, 1, 2, 2, 2, 2, 3, 1, ...   \n",
       "25  (2, 2, 1, 3, 2, 2, 2, 3, 1, 2, 2, 2, 2, 3, 1, ...   \n",
       "26  (2, 2, 1, 3, 2, 2, 2, 3, 1, 2, 2, 2, 2, 3, 1, ...   \n",
       "27  (2, 2, 1, 3, 2, 2, 2, 3, 1, 2, 2, 2, 2, 3, 1, ...   \n",
       "28  (2, 2, 1, 3, 2, 2, 2, 3, 1, 2, 2, 2, 2, 3, 1, ...   \n",
       "29  (2, 2, 1, 3, 2, 2, 2, 3, 1, 2, 2, 2, 2, 3, 1, ...   \n",
       "30  (2, 2, 1, 3, 2, 2, 2, 3, 1, 2, 2, 2, 2, 3, 1, ...   \n",
       "31  (2, 2, 1, 3, 2, 2, 2, 3, 1, 2, 2, 2, 2, 3, 1, ...   \n",
       "32  (2, 2, 1, 3, 2, 2, 2, 3, 1, 2, 2, 2, 2, 3, 1, ...   \n",
       "33  (2, 2, 1, 3, 2, 2, 2, 3, 1, 2, 2, 2, 2, 3, 1, ...   \n",
       "34  (2, 2, 1, 3, 2, 2, 2, 3, 1, 2, 2, 2, 2, 3, 1, ...   \n",
       "35  (2, 2, 1, 3, 2, 2, 2, 3, 1, 2, 2, 2, 2, 3, 1, ...   \n",
       "36  (2, 2, 1, 3, 2, 2, 2, 3, 1, 2, 2, 2, 2, 3, 1, ...   \n",
       "37  (2, 2, 1, 3, 2, 2, 2, 3, 1, 2, 2, 2, 2, 3, 1, ...   \n",
       "38  (2, 2, 1, 3, 2, 2, 2, 3, 1, 2, 2, 2, 2, 3, 1, ...   \n",
       "39  (2, 2, 1, 3, 2, 2, 2, 3, 1, 2, 2, 2, 2, 3, 1, ...   \n",
       "40  (2, 2, 1, 3, 2, 2, 2, 3, 1, 2, 2, 2, 2, 3, 1, ...   \n",
       "41  (2, 2, 1, 3, 2, 2, 2, 3, 1, 2, 2, 2, 2, 3, 1, ...   \n",
       "42  (2, 2, 1, 3, 2, 2, 2, 3, 1, 2, 2, 2, 2, 3, 1, ...   \n",
       "43  (2, 2, 1, 3, 2, 2, 2, 3, 1, 2, 2, 2, 2, 3, 1, ...   \n",
       "44  (2, 2, 1, 3, 2, 2, 2, 3, 1, 2, 2, 2, 2, 3, 1, ...   \n",
       "45  (2, 2, 1, 3, 2, 2, 2, 3, 1, 2, 2, 2, 2, 3, 1, ...   \n",
       "46  (2, 2, 1, 3, 2, 2, 2, 3, 1, 2, 2, 2, 2, 3, 1, ...   \n",
       "47  (2, 2, 1, 3, 2, 2, 2, 3, 1, 2, 2, 2, 2, 3, 1, ...   \n",
       "48  (2, 2, 1, 3, 2, 2, 2, 3, 1, 2, 2, 2, 2, 3, 1, ...   \n",
       "49  (2, 2, 1, 3, 2, 2, 2, 3, 1, 2, 2, 2, 2, 3, 1, ...   \n",
       "50  (2, 2, 1, 3, 2, 2, 2, 3, 1, 2, 2, 2, 2, 3, 1, ...   \n",
       "51  (2, 2, 1, 3, 2, 2, 2, 3, 1, 2, 2, 2, 2, 3, 1, ...   \n",
       "52  (2, 2, 1, 3, 2, 2, 2, 3, 1, 2, 2, 2, 2, 3, 1, ...   \n",
       "53  (2, 2, 1, 3, 2, 2, 2, 3, 1, 2, 2, 2, 2, 3, 1, ...   \n",
       "\n",
       "                                                 name  \n",
       "0   (김혜지, 윤도일, 김대규, 이의령, 박일권, 조승완, 최다은, 손창우, 오정민, ...  \n",
       "1   (김혜지, 윤도일, 김대규, 이의령, 박일권, 조승완, 최다은, 손창우, 오정민, ...  \n",
       "2   (김혜지, 윤도일, 김대규, 이의령, 박일권, 조승완, 최다은, 손창우, 오정민, ...  \n",
       "3   (김혜지, 윤도일, 김대규, 이의령, 박일권, 조승완, 최다은, 손창우, 오정민, ...  \n",
       "4   (김혜지, 윤도일, 김대규, 이의령, 박일권, 조승완, 최다은, 손창우, 오정민, ...  \n",
       "5   (김혜지, 윤도일, 김대규, 이의령, 박일권, 조승완, 최다은, 손창우, 오정민, ...  \n",
       "6   (김혜지, 윤도일, 김대규, 이의령, 박일권, 조승완, 최다은, 손창우, 오정민, ...  \n",
       "7   (김혜지, 윤도일, 김대규, 이의령, 박일권, 조승완, 최다은, 손창우, 오정민, ...  \n",
       "8   (김혜지, 윤도일, 김대규, 이의령, 박일권, 조승완, 최다은, 손창우, 오정민, ...  \n",
       "9   (김혜지, 윤도일, 김대규, 이의령, 박일권, 조승완, 최다은, 손창우, 오정민, ...  \n",
       "10  (김혜지, 윤도일, 김대규, 이의령, 박일권, 조승완, 최다은, 손창우, 오정민, ...  \n",
       "11  (김혜지, 윤도일, 김대규, 이의령, 박일권, 조승완, 최다은, 손창우, 오정민, ...  \n",
       "12  (김혜지, 윤도일, 김대규, 이의령, 박일권, 조승완, 최다은, 손창우, 오정민, ...  \n",
       "13  (김혜지, 윤도일, 김대규, 이의령, 박일권, 조승완, 최다은, 손창우, 오정민, ...  \n",
       "14  (김혜지, 윤도일, 김대규, 이의령, 박일권, 조승완, 최다은, 손창우, 오정민, ...  \n",
       "15  (김혜지, 윤도일, 김대규, 이의령, 박일권, 조승완, 최다은, 손창우, 오정민, ...  \n",
       "16  (김혜지, 윤도일, 김대규, 이의령, 박일권, 조승완, 최다은, 손창우, 오정민, ...  \n",
       "17  (김혜지, 윤도일, 김대규, 이의령, 박일권, 조승완, 최다은, 손창우, 오정민, ...  \n",
       "18  (김혜지, 윤도일, 김대규, 이의령, 박일권, 조승완, 최다은, 손창우, 오정민, ...  \n",
       "19  (김혜지, 윤도일, 김대규, 이의령, 박일권, 조승완, 최다은, 손창우, 오정민, ...  \n",
       "20  (김혜지, 윤도일, 김대규, 이의령, 박일권, 조승완, 최다은, 손창우, 오정민, ...  \n",
       "21  (김혜지, 윤도일, 김대규, 이의령, 박일권, 조승완, 최다은, 손창우, 오정민, ...  \n",
       "22  (김혜지, 윤도일, 김대규, 이의령, 박일권, 조승완, 최다은, 손창우, 오정민, ...  \n",
       "23  (김혜지, 윤도일, 김대규, 이의령, 박일권, 조승완, 최다은, 손창우, 오정민, ...  \n",
       "24  (김혜지, 윤도일, 김대규, 이의령, 박일권, 조승완, 최다은, 손창우, 오정민, ...  \n",
       "25  (김혜지, 윤도일, 김대규, 이의령, 박일권, 조승완, 최다은, 손창우, 오정민, ...  \n",
       "26  (김혜지, 윤도일, 김대규, 이의령, 박일권, 조승완, 최다은, 손창우, 오정민, ...  \n",
       "27  (김혜지, 윤도일, 김대규, 이의령, 박일권, 조승완, 최다은, 손창우, 오정민, ...  \n",
       "28  (김혜지, 윤도일, 김대규, 이의령, 박일권, 조승완, 최다은, 손창우, 오정민, ...  \n",
       "29  (김혜지, 윤도일, 김대규, 이의령, 박일권, 조승완, 최다은, 손창우, 오정민, ...  \n",
       "30  (김혜지, 윤도일, 김대규, 이의령, 박일권, 조승완, 최다은, 손창우, 오정민, ...  \n",
       "31  (김혜지, 윤도일, 김대규, 이의령, 박일권, 조승완, 최다은, 손창우, 오정민, ...  \n",
       "32  (김혜지, 윤도일, 김대규, 이의령, 박일권, 조승완, 최다은, 손창우, 오정민, ...  \n",
       "33  (김혜지, 윤도일, 김대규, 이의령, 박일권, 조승완, 최다은, 손창우, 오정민, ...  \n",
       "34  (김혜지, 윤도일, 김대규, 이의령, 박일권, 조승완, 최다은, 손창우, 오정민, ...  \n",
       "35  (김혜지, 윤도일, 김대규, 이의령, 박일권, 조승완, 최다은, 손창우, 오정민, ...  \n",
       "36  (김혜지, 윤도일, 김대규, 이의령, 박일권, 조승완, 최다은, 손창우, 오정민, ...  \n",
       "37  (김혜지, 윤도일, 김대규, 이의령, 박일권, 조승완, 최다은, 손창우, 오정민, ...  \n",
       "38  (김혜지, 윤도일, 김대규, 이의령, 박일권, 조승완, 최다은, 손창우, 오정민, ...  \n",
       "39  (김혜지, 윤도일, 김대규, 이의령, 박일권, 조승완, 최다은, 손창우, 오정민, ...  \n",
       "40  (김혜지, 윤도일, 김대규, 이의령, 박일권, 조승완, 최다은, 손창우, 오정민, ...  \n",
       "41  (김혜지, 윤도일, 김대규, 이의령, 박일권, 조승완, 최다은, 손창우, 오정민, ...  \n",
       "42  (김혜지, 윤도일, 김대규, 이의령, 박일권, 조승완, 최다은, 손창우, 오정민, ...  \n",
       "43  (김혜지, 윤도일, 김대규, 이의령, 박일권, 조승완, 최다은, 손창우, 오정민, ...  \n",
       "44  (김혜지, 윤도일, 김대규, 이의령, 박일권, 조승완, 최다은, 손창우, 오정민, ...  \n",
       "45  (김혜지, 윤도일, 김대규, 이의령, 박일권, 조승완, 최다은, 손창우, 오정민, ...  \n",
       "46  (김혜지, 윤도일, 김대규, 이의령, 박일권, 조승완, 최다은, 손창우, 오정민, ...  \n",
       "47  (김혜지, 윤도일, 김대규, 이의령, 박일권, 조승완, 최다은, 손창우, 오정민, ...  \n",
       "48  (김혜지, 윤도일, 김대규, 이의령, 박일권, 조승완, 최다은, 손창우, 오정민, ...  \n",
       "49  (김혜지, 윤도일, 김대규, 이의령, 박일권, 조승완, 최다은, 손창우, 오정민, ...  \n",
       "50  (김혜지, 윤도일, 김대규, 이의령, 박일권, 조승완, 최다은, 손창우, 오정민, ...  \n",
       "51  (김혜지, 윤도일, 김대규, 이의령, 박일권, 조승완, 최다은, 손창우, 오정민, ...  \n",
       "52  (김혜지, 윤도일, 김대규, 이의령, 박일권, 조승완, 최다은, 손창우, 오정민, ...  \n",
       "53  (김혜지, 윤도일, 김대규, 이의령, 박일권, 조승완, 최다은, 손창우, 오정민, ...  "
      ]
     },
     "execution_count": 145,
     "metadata": {},
     "output_type": "execute_result"
    }
   ],
   "source": [
    "name_df"
   ]
  },
  {
   "cell_type": "code",
   "execution_count": null,
   "metadata": {
    "collapsed": true
   },
   "outputs": [],
   "source": []
  }
 ],
 "metadata": {
  "kernelspec": {
   "display_name": "Python 3",
   "language": "python",
   "name": "python3"
  },
  "language_info": {
   "codemirror_mode": {
    "name": "ipython",
    "version": 3
   },
   "file_extension": ".py",
   "mimetype": "text/x-python",
   "name": "python",
   "nbconvert_exporter": "python",
   "pygments_lexer": "ipython3",
   "version": "3.5.1"
  }
 },
 "nbformat": 4,
 "nbformat_minor": 0
}
